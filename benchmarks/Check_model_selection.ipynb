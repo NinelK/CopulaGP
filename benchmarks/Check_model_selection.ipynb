{
 "cells": [
  {
   "cell_type": "code",
   "execution_count": 5,
   "metadata": {},
   "outputs": [],
   "source": [
    "# This notebook checks that the copula mixtures in the benchmark were selected properly\n",
    "# Because model selection is a computationally expensive process,\n",
    "# we fix a pre-selected model mixture for all experiments\n",
    "\n",
    "import pickle as pkl\n",
    "import numpy as np\n",
    "from copulagp.train import train_small_vine\n",
    "from copulagp import select_copula\n",
    "\n",
    "device = 'cuda:0'"
   ]
  },
  {
   "cell_type": "code",
   "execution_count": 6,
   "metadata": {},
   "outputs": [
    {
     "data": {
      "text/plain": [
       "(10000, 6)"
      ]
     },
     "execution_count": 6,
     "metadata": {},
     "output_type": "execute_result"
    }
   ],
   "source": [
    "with open(\"./old/StudentH.pkl\",'rb') as f:\n",
    "    results = pkl.load(f)\n",
    "NSamp = results[20]['y0'].shape[0]\n",
    "X = np.linspace(0.,1.,NSamp)\n",
    "Y = results[20]['y0']\n",
    "Y.shape"
   ]
  },
  {
   "cell_type": "code",
   "execution_count": 7,
   "metadata": {},
   "outputs": [
    {
     "name": "stderr",
     "output_type": "stream",
     "text": [
      "/home/nina/.envs/GPyTorch_new/lib/python3.6/site-packages/torch/distributions/distribution.py:46: UserWarning: <class 'copulagp.bvcopula.distributions.IndependenceCopula'> does not define `arg_constraints`. Please set `arg_constraints = {}` or initialize the distribution with `validate_args=False` to turn off validation.\n",
      "  'with `validate_args=False` to turn off validation.')\n",
      "/home/nina/.envs/GPyTorch_new/lib/python3.6/site-packages/torch/distributions/distribution.py:46: UserWarning: <class 'copulagp.bvcopula.distributions.IndependenceCopula'> does not define `arg_constraints`. Please set `arg_constraints = {}` or initialize the distribution with `validate_args=False` to turn off validation.\n",
      "  'with `validate_args=False` to turn off validation.')\n",
      "/home/nina/.envs/GPyTorch_new/lib/python3.6/site-packages/torch/distributions/distribution.py:46: UserWarning: <class 'copulagp.bvcopula.distributions.IndependenceCopula'> does not define `arg_constraints`. Please set `arg_constraints = {}` or initialize the distribution with `validate_args=False` to turn off validation.\n",
      "  'with `validate_args=False` to turn off validation.')\n",
      "/home/nina/.envs/GPyTorch_new/lib/python3.6/site-packages/torch/distributions/distribution.py:46: UserWarning: <class 'copulagp.bvcopula.distributions.IndependenceCopula'> does not define `arg_constraints`. Please set `arg_constraints = {}` or initialize the distribution with `validate_args=False` to turn off validation.\n",
      "  'with `validate_args=False` to turn off validation.')\n",
      "/home/nina/.envs/GPyTorch_new/lib/python3.6/site-packages/torch/distributions/distribution.py:46: UserWarning: <class 'copulagp.bvcopula.distributions.IndependenceCopula'> does not define `arg_constraints`. Please set `arg_constraints = {}` or initialize the distribution with `validate_args=False` to turn off validation.\n",
      "  'with `validate_args=False` to turn off validation.')\n"
     ]
    },
    {
     "name": "stdout",
     "output_type": "stream",
     "text": [
      "Model reduced to Gumbel180°Gaussian\n",
      "History:\n",
      "Gaussian with WAIC = -0.3385\n",
      "IndependenceGaussian with WAIC = -0.3551\n",
      "Gumbel180°IndependenceGaussian with WAIC = -0.3558\n",
      "Clayton180°Gumbel180°IndependenceGaussian with WAIC = -0.3562\n",
      "Gumbel180°Gaussian with WAIC = -0.3526\n"
     ]
    },
    {
     "data": {
      "text/plain": [
       "[GumbelCopula_Likelihood(\n",
       "   (quadrature): GaussHermiteQuadrature1D()\n",
       " ),\n",
       " GaussianCopula_Likelihood(\n",
       "   (quadrature): GaussHermiteQuadrature1D()\n",
       " )]"
      ]
     },
     "execution_count": 7,
     "metadata": {},
     "output_type": "execute_result"
    }
   ],
   "source": [
    "\n",
    "(model,waic) = select_copula.select_copula_model(X,Y[:,:2],device,'cond','../results/',0,1)\n",
    "model"
   ]
  },
  {
   "cell_type": "code",
   "execution_count": 8,
   "metadata": {},
   "outputs": [
    {
     "name": "stderr",
     "output_type": "stream",
     "text": [
      "/home/nina/.envs/GPyTorch_new/lib/python3.6/site-packages/torch/distributions/distribution.py:46: UserWarning: <class 'copulagp.bvcopula.distributions.IndependenceCopula'> does not define `arg_constraints`. Please set `arg_constraints = {}` or initialize the distribution with `validate_args=False` to turn off validation.\n",
      "  'with `validate_args=False` to turn off validation.')\n",
      "/home/nina/.envs/GPyTorch_new/lib/python3.6/site-packages/torch/distributions/distribution.py:46: UserWarning: <class 'copulagp.bvcopula.distributions.IndependenceCopula'> does not define `arg_constraints`. Please set `arg_constraints = {}` or initialize the distribution with `validate_args=False` to turn off validation.\n",
      "  'with `validate_args=False` to turn off validation.')\n",
      "/home/nina/.envs/GPyTorch_new/lib/python3.6/site-packages/torch/distributions/distribution.py:46: UserWarning: <class 'copulagp.bvcopula.distributions.IndependenceCopula'> does not define `arg_constraints`. Please set `arg_constraints = {}` or initialize the distribution with `validate_args=False` to turn off validation.\n",
      "  'with `validate_args=False` to turn off validation.')\n",
      "/home/nina/.envs/GPyTorch_new/lib/python3.6/site-packages/torch/distributions/distribution.py:46: UserWarning: <class 'copulagp.bvcopula.distributions.IndependenceCopula'> does not define `arg_constraints`. Please set `arg_constraints = {}` or initialize the distribution with `validate_args=False` to turn off validation.\n",
      "  'with `validate_args=False` to turn off validation.')\n",
      "/home/nina/.envs/GPyTorch_new/lib/python3.6/site-packages/torch/distributions/distribution.py:46: UserWarning: <class 'copulagp.bvcopula.distributions.IndependenceCopula'> does not define `arg_constraints`. Please set `arg_constraints = {}` or initialize the distribution with `validate_args=False` to turn off validation.\n",
      "  'with `validate_args=False` to turn off validation.')\n"
     ]
    },
    {
     "name": "stdout",
     "output_type": "stream",
     "text": [
      "Model reduced to Clayton180°Gumbel180°Gaussian\n",
      "History:\n",
      "Gaussian with WAIC = -0.3384\n",
      "IndependenceGaussian with WAIC = -0.3502\n",
      "Gumbel180°IndependenceGaussian with WAIC = -0.3508\n",
      "Clayton180°Gumbel180°IndependenceGaussian with WAIC = -0.3512\n",
      "Clayton270°Clayton180°Gumbel180°IndependenceGaussian with WAIC = -0.3515\n",
      "Clayton180°Gumbel180°Gaussian with WAIC = -0.3497\n"
     ]
    },
    {
     "data": {
      "text/plain": [
       "[ClaytonCopula_Likelihood(\n",
       "   (quadrature): GaussHermiteQuadrature1D()\n",
       " ),\n",
       " GumbelCopula_Likelihood(\n",
       "   (quadrature): GaussHermiteQuadrature1D()\n",
       " ),\n",
       " GaussianCopula_Likelihood(\n",
       "   (quadrature): GaussHermiteQuadrature1D()\n",
       " )]"
      ]
     },
     "execution_count": 8,
     "metadata": {},
     "output_type": "execute_result"
    }
   ],
   "source": [
    "np.random.shuffle(X)\n",
    "(model,waic) = select_copula.select_copula_model(X,Y[:,:2],device,'cond','../results/',0,1)\n",
    "model"
   ]
  },
  {
   "cell_type": "code",
   "execution_count": 6,
   "metadata": {},
   "outputs": [
    {
     "data": {
      "text/plain": [
       "(10000, 10)"
      ]
     },
     "execution_count": 6,
     "metadata": {},
     "output_type": "execute_result"
    }
   ],
   "source": [
    "with open(\"./old/rtGaussH.pkl\",'rb') as f:\n",
    "    results = pkl.load(f)\n",
    "NSamp = results[38]['transformed_y'].shape[0]\n",
    "X = np.linspace(0.,1.,NSamp)\n",
    "Y = results[38]['transformed_y']*0.998+0.001\n",
    "Y.shape"
   ]
  },
  {
   "cell_type": "code",
   "execution_count": 7,
   "metadata": {},
   "outputs": [
    {
     "name": "stdout",
     "output_type": "stream",
     "text": [
      "Model reduced to Gaussian\n",
      "History:\n",
      "Gaussian with WAIC = -0.6689\n",
      "Gaussian with WAIC = -0.6687\n"
     ]
    },
    {
     "data": {
      "text/plain": [
       "[GaussianCopula_Likelihood(\n",
       "   (quadrature): GaussHermiteQuadrature1D()\n",
       " )]"
      ]
     },
     "execution_count": 7,
     "metadata": {},
     "output_type": "execute_result"
    }
   ],
   "source": [
    "(model,waic) = select_copula.select_copula_model(X,Y[:,:2],device,'cond','../results/',0,1)\n",
    "model"
   ]
  },
  {
   "cell_type": "code",
   "execution_count": 8,
   "metadata": {},
   "outputs": [
    {
     "name": "stdout",
     "output_type": "stream",
     "text": [
      "Model reduced to Gumbel180°Gumbel0°\n",
      "History:\n",
      "Gumbel0° with WAIC = -0.5469\n",
      "Gumbel180°Gumbel0° with WAIC = -0.5553\n",
      "GaussianGumbel180°Gumbel0° with WAIC = -0.5578\n",
      "Clayton180°GaussianGumbel180°Gumbel0° with WAIC = -0.5594\n",
      "Clayton270°Clayton180°GaussianGumbel180°Gumbel0° with WAIC = -0.5597\n",
      "Gumbel180°Gumbel0° with WAIC = -0.5553\n"
     ]
    },
    {
     "data": {
      "text/plain": [
       "[GumbelCopula_Likelihood(\n",
       "   (quadrature): GaussHermiteQuadrature1D()\n",
       " ),\n",
       " GumbelCopula_Likelihood(\n",
       "   (quadrature): GaussHermiteQuadrature1D()\n",
       " )]"
      ]
     },
     "execution_count": 8,
     "metadata": {},
     "output_type": "execute_result"
    }
   ],
   "source": [
    "# Best overall: Gumbel180°Gumbel0°\n",
    "np.random.shuffle(X)\n",
    "(model,waic) = select_copula.select_copula_model(X,Y[:,:2],device,'cond','../results/',0,1)\n",
    "model"
   ]
  },
  {
   "cell_type": "code",
   "execution_count": null,
   "metadata": {},
   "outputs": [],
   "source": []
  }
 ],
 "metadata": {
  "kernelspec": {
   "display_name": "GPyTorch_new",
   "language": "python",
   "name": "gpytorch_new"
  },
  "language_info": {
   "codemirror_mode": {
    "name": "ipython",
    "version": 3
   },
   "file_extension": ".py",
   "mimetype": "text/x-python",
   "name": "python",
   "nbconvert_exporter": "python",
   "pygments_lexer": "ipython3",
   "version": "3.6.9"
  }
 },
 "nbformat": 4,
 "nbformat_minor": 2
}
