{
 "cells": [
  {
   "cell_type": "code",
   "execution_count": 1,
   "metadata": {},
   "outputs": [],
   "source": [
    "# This notebook checks that the copula mixtures in the benchmark were selected properly\n",
    "# Because model selection is a computationally expensive process,\n",
    "# we fix a pre-selected model mixture for all experiments\n",
    "\n",
    "import pickle as pkl\n",
    "import numpy as np\n",
    "from copulagp.train import train_small_vine\n",
    "\n",
    "device = 'cuda:1'"
   ]
  },
  {
   "cell_type": "code",
   "execution_count": 2,
   "metadata": {},
   "outputs": [
    {
     "data": {
      "text/plain": [
       "(10000, 6)"
      ]
     },
     "execution_count": 2,
     "metadata": {},
     "output_type": "execute_result"
    }
   ],
   "source": [
    "with open(\"./StudentH.pkl\",'rb') as f:\n",
    "    results = pkl.load(f)\n",
    "NSamp = results[20]['y0'].shape[0]\n",
    "X = np.linspace(0.,1.,NSamp)\n",
    "Y = results[20]['y0']\n",
    "Y.shape"
   ]
  },
  {
   "cell_type": "code",
   "execution_count": 4,
   "metadata": {},
   "outputs": [
    {
     "name": "stdout",
     "output_type": "stream",
     "text": [
      "Starting layer 0/1\n",
      "0-1 GaussianGumbel180°Gumbel0° -0.3546 took 8 min\n",
      "0-2 GaussianGumbel180° -0.3541 took 6 min\n",
      "0-3 GaussianGumbel180°Gumbel0° -0.3586 took 7 min\n",
      "0-4 GaussianGumbel180°Gumbel0° -0.3482 took 7 min\n",
      "0-5 GaussianClayton180° -0.352 took 5 min\n",
      "Layer 0 completed\n",
      "CPU times: user 1.07 s, sys: 392 ms, total: 1.47 s\n",
      "Wall time: 35min 55s\n"
     ]
    }
   ],
   "source": [
    "# Best overall: GaussianGumbel180°Gumbel0°\n",
    "%time result = train_small_vine(X,Y,layers_max=1,device_list=[device])"
   ]
  },
  {
   "cell_type": "code",
   "execution_count": 6,
   "metadata": {},
   "outputs": [
    {
     "name": "stdout",
     "output_type": "stream",
     "text": [
      "Starting layer 0/1\n",
      "0-1 GaussianGumbel180°Gumbel0° -0.3501 took 4 min\n",
      "0-2 GaussianGumbel180°Gumbel0° -0.3505 took 5 min\n",
      "0-3 GaussianGumbel180°Gumbel0° -0.3536 took 5 min\n",
      "0-4 Gumbel180°Gumbel0° -0.3409 took 6 min\n",
      "0-5 GaussianClayton180° -0.3462 took 5 min\n",
      "Layer 0 completed\n",
      "CPU times: user 538 ms, sys: 222 ms, total: 760 ms\n",
      "Wall time: 28min 9s\n"
     ]
    }
   ],
   "source": [
    "# Best overall: GaussianGumbel180°Gumbel0°\n",
    "np.random.shuffle(X)\n",
    "%time result = train_small_vine(X,Y,layers_max=1,device_list=[device])"
   ]
  },
  {
   "cell_type": "code",
   "execution_count": 16,
   "metadata": {},
   "outputs": [
    {
     "data": {
      "text/plain": [
       "(10000, 6)"
      ]
     },
     "execution_count": 16,
     "metadata": {},
     "output_type": "execute_result"
    }
   ],
   "source": [
    "with open(\"./rtGaussH.pkl\",'rb') as f:\n",
    "    results = pkl.load(f)\n",
    "NSamp = results[20]['transformed_y'].shape[0]\n",
    "X = np.linspace(0.,1.,NSamp)\n",
    "Y = results[20]['transformed_y']*0.998+0.001\n",
    "Y.shape"
   ]
  },
  {
   "cell_type": "code",
   "execution_count": null,
   "metadata": {},
   "outputs": [
    {
     "name": "stdout",
     "output_type": "stream",
     "text": [
      "Starting layer 0/1\n"
     ]
    }
   ],
   "source": [
    "# Best overall: GaussianGumbel180°Gumbel0°\n",
    "%time result = train_small_vine(X,Y,layers_max=1,device_list=[device])"
   ]
  },
  {
   "cell_type": "code",
   "execution_count": null,
   "metadata": {},
   "outputs": [],
   "source": [
    "# Best overall: GaussianGumbel180°Gumbel0°\n",
    "np.random.shuffle(X)\n",
    "%time result = train_small_vine(X,Y,layers_max=1,device_list=[device])"
   ]
  },
  {
   "cell_type": "code",
   "execution_count": null,
   "metadata": {},
   "outputs": [],
   "source": []
  }
 ],
 "metadata": {
  "kernelspec": {
   "display_name": "GPyTorch_new",
   "language": "python",
   "name": "gpytorch_new"
  },
  "language_info": {
   "codemirror_mode": {
    "name": "ipython",
    "version": 3
   },
   "file_extension": ".py",
   "mimetype": "text/x-python",
   "name": "python",
   "nbconvert_exporter": "python",
   "pygments_lexer": "ipython3",
   "version": "3.6.9"
  }
 },
 "nbformat": 4,
 "nbformat_minor": 2
}
