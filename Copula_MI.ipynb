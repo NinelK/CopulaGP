{
 "cells": [
  {
   "cell_type": "code",
   "execution_count": 7,
   "metadata": {},
   "outputs": [
    {
     "name": "stdout",
     "output_type": "stream",
     "text": [
      "The autoreload extension is already loaded. To reload it, use:\n",
      "  %reload_ext autoreload\n"
     ]
    }
   ],
   "source": [
    "import numpy as np\n",
    "import pickle as pkl\n",
    "import matplotlib.pyplot as plt\n",
    "import torch\n",
    "\n",
    "import bvcopula\n",
    "import utils\n",
    "\n",
    "%matplotlib inline\n",
    "%load_ext autoreload\n",
    "%autoreload 2"
   ]
  },
  {
   "cell_type": "code",
   "execution_count": 8,
   "metadata": {},
   "outputs": [],
   "source": [
    "path_models = '/home/nina/models'\n",
    "path_exp = '/home/nina/VRData/Processing/pkls'\n",
    "beh = 5"
   ]
  },
  {
   "cell_type": "code",
   "execution_count": 9,
   "metadata": {},
   "outputs": [],
   "source": [
    "animal = 'ST263'\n",
    "N_max = 23\n",
    "dayN = 4\n",
    "day_name = f\"Day{dayN}\"\n",
    "exp_pref = f\"{animal}_{day_name}\"\n",
    "device = torch.device('cuda:0')"
   ]
  },
  {
   "cell_type": "code",
   "execution_count": 10,
   "metadata": {},
   "outputs": [],
   "source": [
    "X,_ = utils.load_experimental_data(path_exp, animal, day_name, 0, 1)\n",
    "S = torch.tensor(X).float().squeeze().to(device)"
   ]
  },
  {
   "cell_type": "code",
   "execution_count": 11,
   "metadata": {
    "scrolled": true
   },
   "outputs": [],
   "source": [
    "# points = torch.linspace(0,1,20)\n",
    "# likelihoods = utils.get_likelihoods(f\"{path_models}/{exp_pref}/summary.pkl\",n1,n2)\n",
    "# weights_file = f\"{path_models}/{exp_pref}/model_{n1}-{n2}.pth\"\n",
    "# %time model = utils.get_model(weights_file, likelihoods, torch.device('cpu')) \n",
    "# %time (ym, y, dy) = model.MI(points)\n",
    "# plt.plot(np.linspace(0,160,len(y)),y)\n",
    "# plt.fill_between(np.linspace(0,160,len(y)),y-dy,y+dy, alpha=0.3)\n",
    "# plt.plot(np.linspace(0,160,len(ym)),ym)\n",
    "# plt.ylim(-.5,0)"
   ]
  },
  {
   "cell_type": "code",
   "execution_count": 14,
   "metadata": {},
   "outputs": [
    {
     "name": "stdout",
     "output_type": "stream",
     "text": [
      "0.00307±0.000952 -- 2.86\n",
      "0.000168±7.36e-05 -- 37.1\n",
      "0.00843±0.00211 -- 1.16\n",
      "2.1647934913635254  s\n",
      "0.00333±0.000545 -- 5.05\n",
      "0.0129±0.000864 -- 2.82\n",
      "0.00679±0.00259 -- 0.745\n",
      "0.00761±0.00462 -- 0.442\n",
      "0.0121±0.00404 -- 0.523\n",
      "0.00682±0.00157 -- 1.58\n",
      "0.00394±0.00254 -- 0.74\n",
      "5.6797666890280585  s\n",
      "0.0054±0.000992 -- 2.82\n",
      "0.017±0.00224 -- 1.07\n",
      "0.0223±0.0042 -- 0.516\n",
      "15.778471310933432  s\n",
      "0.00932±0.00417 -- 0.519\n",
      "0.0122±0.00254 -- 0.532\n",
      "0.00288±0.00126 -- 1.43\n",
      "0.0157±0.00316 -- 0.704\n",
      "0.000896±0.000781 -- 2.42\n",
      "0.0114±0.00309 -- 0.525\n",
      "4.182692964871724  s\n",
      "0.021±0.00828 -- 0.297\n",
      "0.025±0.00128 -- 1.42\n",
      "0.0117±0.00588 -- 0.48\n",
      "0.0167±0.00449 -- 0.469\n",
      "0.00527±0.00117 -- 1.5\n",
      "0.0163±0.00296 -- 0.55\n",
      "22.182960669199627  s\n",
      "0.0113±0.00104 -- 2.72\n",
      "0.0111±0.00248 -- 0.715\n",
      "0.00273±0.00089 -- 2.92\n",
      "0.00433±0.0015 -- 1.65\n",
      "0.000662±0.000604 -- 3.65\n",
      "0.00318±0.00251 -- 0.92\n",
      "0.0013±0.000869 -- 3.05\n",
      "0.0047±0.000965 -- 3.09\n",
      "18.631142377853394  s\n",
      "0.0115±0.00292 -- 0.878\n",
      "0.00109±0.000773 -- 3.89\n",
      "0.0183±0.00215 -- 1.39\n",
      "0.0141±0.00104 -- 2.63\n",
      "0.0301±0.00302 -- 0.751\n",
      "0.000483±0.000277 -- 7.1\n",
      "0.000534±0.000407 -- 5.68\n",
      "0.00388±0.00145 -- 1.79\n",
      "0.00393±0.00117 -- 2.17\n",
      "0.0196±0.00105 -- 3.13\n",
      "0.000943±0.00139 -- 1.57\n",
      "0.016±0.00406 -- 0.63\n",
      "0.00634±0.00284 -- 0.77\n",
      "45.49991548978365  s\n",
      "0.00318±0.000329 -- 9.39\n",
      "0.0328±0.00354 -- 0.846\n",
      "26.453932762145996  s\n",
      "0.00416±0.00145 -- 1.86\n",
      "0.0189±0.00214 -- 0.834\n",
      "0.00755±0.00157 -- 1.36\n",
      "0.000885±0.000993 -- 2.25\n",
      "0.00351±0.0023 -- 1.11\n",
      "0.00451±0.0026 -- 0.648\n",
      "13.989620327949524  s\n",
      "0.0141±0.00397 -- 0.583\n",
      "0.0132±0.00417 -- 0.607\n",
      "0.00521±0.000892 -- 2.8\n",
      "0.00289±0.00176 -- 1.28\n",
      "0.00581±0.000819 -- 3.84\n",
      "0.000998±0.00134 -- 1.66\n",
      "13.746979633967081  s\n",
      "0.00852±0.00113 -- 1.3\n",
      "0.00157±0.000764 -- 3.07\n",
      "0.0196±0.00251 -- 0.802\n",
      "0.00726±0.00254 -- 0.88\n",
      "5.655099034309387  s\n",
      "0.00127±0.000694 -- 3.41\n",
      "0.00191±0.00211 -- 0.984\n",
      "6.968671679496765  s\n",
      "0.0117±0.00326 -- 0.677\n",
      "29.62621760368347  s\n",
      "0.00778±0.00096 -- 2.83\n",
      "1.1632843017578125  s\n",
      "0.00679±0.000697 -- 3.86\n",
      "0.00294±0.00116 -- 1.82\n",
      "1.9039384126663208  s\n",
      "Took 2e+01 min overall\n"
     ]
    }
   ],
   "source": [
    "import time\n",
    "\n",
    "f_mc_size = 5\n",
    "\n",
    "def get_MI(n1,n2):\n",
    "    likelihoods = utils.get_likelihoods(f\"{path_models}/{exp_pref}/summary.pkl\",n1,n2)\n",
    "    if (len(likelihoods)==1) & (likelihoods[0].name=='Independence'):\n",
    "        return (0,0)\n",
    "    else:\n",
    "        weights_file = f\"{path_models}/{exp_pref}/model_{n1}-{n2}.pth\"\n",
    "\n",
    "        model = utils.get_model(weights_file, likelihoods, device) \n",
    "        with torch.no_grad():\n",
    "            Fs = model(S).rsample(torch.Size([f_mc_size])) \n",
    "            #[samples_f, copulas, stimuli(positions)]\n",
    "            MI,sem=model.likelihood.stimMI(S,Fs,s_mc_size=200,r_mc_size=20,sR_mc_size=3000,sem_tol=5*1e-3)\n",
    "            #print(f\"{MI.mean().item():.3}±{MI.std().item():.3} -- {(sem.max()/(MI.max()-MI.min())).item():.3}\")\n",
    "\n",
    "        return (MI.mean(),MI.std())\n",
    "\n",
    "MI = np.zeros((N_max+beh,N_max+beh,2))\n",
    "\n",
    "start_time = time.time()\n",
    "for n1 in range(-5,N_max-1):\n",
    "    t1 = time.time()\n",
    "    k=0\n",
    "    for n2 in range(n1+1,N_max):\n",
    "        MI[n1+beh,n2+beh,:] = get_MI(n1,n2)\n",
    "        if MI[n1+beh,n2+beh,0]!=0:\n",
    "            k+=1\n",
    "    if k!=0:\n",
    "        print(n1,' ',(time.time()-t1)/k,' s')\n",
    "    \n",
    "total_time = (time.time() - start_time)/60\n",
    "print(f\"Took {total_time:.1f} min overall\")"
   ]
  },
  {
   "cell_type": "code",
   "execution_count": 15,
   "metadata": {},
   "outputs": [],
   "source": [
    "with open(f\"{path_models}/MI_measures/{exp_pref}_copulaMI.pkl\",'wb') as f:\n",
    "    pkl.dump(MI,f)"
   ]
  }
 ],
 "metadata": {
  "kernelspec": {
   "display_name": "GPyTorch_new",
   "language": "python",
   "name": "gpytorch_new"
  }
 },
 "nbformat": 4,
 "nbformat_minor": 2
}
