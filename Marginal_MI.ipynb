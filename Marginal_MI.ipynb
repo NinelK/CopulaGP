{
 "cells": [
  {
   "cell_type": "code",
   "execution_count": 47,
   "metadata": {},
   "outputs": [],
   "source": [
    "import marginal as mg\n",
    "import pickle as pkl\n",
    "import numpy as np\n",
    "import time"
   ]
  },
  {
   "cell_type": "code",
   "execution_count": 6,
   "metadata": {},
   "outputs": [],
   "source": [
    "animal = 'ST263'\n",
    "dayN = 4\n",
    "day_name = f\"Day{dayN}\"\n",
    "exp_pref = f\"{animal}_{day_name}\""
   ]
  },
  {
   "cell_type": "code",
   "execution_count": 48,
   "metadata": {},
   "outputs": [],
   "source": [
    "path = '/home/nina/VRData/Processing/pkls'\n",
    "path_models = '/home/nina/models'\n",
    "\n",
    "with open(\"{}/{}_{}_signals.pkl\".format(path,animal,day_name),'rb') as f:\n",
    "    signal_pkl = pkl.load(f)\n",
    "with open(\"{}/{}_{}_behaviour.pkl\".format(path,animal,day_name),'rb') as f:\n",
    "    behaviour_pkl = pkl.load(f)\n",
    "for s in ['ROIsN','trialStart','maxTrialNum','trials']:\n",
    "    assert(np.allclose(signal_pkl[s],behaviour_pkl[s]))\n",
    "stimulus = (behaviour_pkl['position']/160)%1"
   ]
  },
  {
   "cell_type": "code",
   "execution_count": 52,
   "metadata": {},
   "outputs": [
    {
     "name": "stdout",
     "output_type": "stream",
     "text": [
      "Took 0.3 min\n"
     ]
    }
   ],
   "source": [
    "repeats = 10\n",
    "start_time = time.time()\n",
    "gao_MIs = np.zeros((signal_pkl['signals_fissa'].shape[0]+5,repeats))\n",
    "for rep in range(repeats):\n",
    "    order = np.random.choice(len(stimulus), int(len(stimulus)/2), replace=False)\n",
    "    gao_MIs[0,rep] = mg.revised_mi(stimulus[order].reshape(-1,1).tolist(),\\\n",
    "                                   behaviour_pkl['transformed_late_reward'][order].reshape(-1,1).tolist())\n",
    "    gao_MIs[1,rep] = mg.revised_mi(stimulus[order].reshape(-1,1).tolist(),\\\n",
    "                                   behaviour_pkl['transformed_early_reward'][order].reshape(-1,1).tolist())\n",
    "    gao_MIs[2,rep] = mg.revised_mi(stimulus[order].reshape(-1,1).tolist(),\\\n",
    "                                  (behaviour_pkl['transformed_late_reward']+\\\n",
    "                                   behaviour_pkl['transformed_early_reward'])[order].reshape(-1,1).tolist())\n",
    "    gao_MIs[3,rep] = mg.revised_mi(stimulus[order].reshape(-1,1).tolist(),\\\n",
    "                                   behaviour_pkl['transformed_licks'][order].reshape(-1,1).tolist())\n",
    "    gao_MIs[4,rep] = mg.revised_mi(stimulus[order].reshape(-1,1).tolist(),\\\n",
    "                                   behaviour_pkl['transformed_velocity'][order].reshape(-1,1).tolist())\n",
    "    for i, r in enumerate(signal_pkl['signals_fissa']):\n",
    "        gao_MIs[i+5,rep] = mg.revised_mi(stimulus[order].reshape(-1,1).tolist(),r[order].reshape(-1,1).tolist())\n",
    "        \n",
    "all_time = (time.time()-start_time)/60\n",
    "print(f\"Took {all_time:.1} min\")"
   ]
  },
  {
   "cell_type": "code",
   "execution_count": 53,
   "metadata": {},
   "outputs": [
    {
     "data": {
      "text/plain": [
       "array([[0.1351212 , 0.05978634, 0.0282939 , 0.0722603 , 0.00585692,\n",
       "        0.24078453, 0.32550475, 0.24802311, 0.03709913, 0.20325639,\n",
       "        0.31282488, 0.16734497, 0.07906634, 0.02254928, 0.10280138,\n",
       "        0.08845294, 0.18616081, 0.09105952, 0.03696088, 0.08520887,\n",
       "        0.03462584, 0.02520268, 0.01983244, 0.04765825, 0.03046044,\n",
       "        0.12042179, 0.05463376, 0.02865411],\n",
       "       [0.        , 0.        , 0.        , 0.        , 0.        ,\n",
       "        0.        , 0.        , 0.        , 0.        , 0.        ,\n",
       "        0.        , 0.        , 0.        , 0.        , 0.        ,\n",
       "        0.        , 0.        , 0.        , 0.        , 0.        ,\n",
       "        0.        , 0.        , 0.        , 0.        , 0.        ,\n",
       "        0.        , 0.        , 0.        ]])"
      ]
     },
     "execution_count": 53,
     "metadata": {},
     "output_type": "execute_result"
    }
   ],
   "source": [
    "result = np.stack([gao_MIs.mean(axis=-1),gao_MIs.std(axis=-1)])\n",
    "result"
   ]
  },
  {
   "cell_type": "code",
   "execution_count": 44,
   "metadata": {},
   "outputs": [],
   "source": [
    "with open(f\"{path_models}/MI_measures/{exp_pref}_marginalMI.pkl\",'wb') as f:\n",
    "    pkl.dump(result,f)"
   ]
  }
 ],
 "metadata": {
  "kernelspec": {
   "display_name": "Processing",
   "language": "python",
   "name": "processing"
  },
  "language_info": {
   "codemirror_mode": {
    "name": "ipython",
    "version": 3
   },
   "file_extension": ".py",
   "mimetype": "text/x-python",
   "name": "python",
   "nbconvert_exporter": "python",
   "pygments_lexer": "ipython3",
   "version": "3.6.7"
  }
 },
 "nbformat": 4,
 "nbformat_minor": 2
}
