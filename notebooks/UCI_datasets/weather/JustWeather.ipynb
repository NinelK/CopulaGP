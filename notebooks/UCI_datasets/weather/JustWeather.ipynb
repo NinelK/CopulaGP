{
 "cells": [
  {
   "cell_type": "code",
   "execution_count": 215,
   "metadata": {},
   "outputs": [],
   "source": [
    "import numpy as np\n",
    "import torch\n",
    "import matplotlib.pyplot as plt\n",
    "import pickle as pkl"
   ]
  },
  {
   "cell_type": "code",
   "execution_count": 509,
   "metadata": {},
   "outputs": [],
   "source": [
    "with open(\"weather.txt\",\"r\") as f:\n",
    "    all_lines = f.read()\n",
    "    \n",
    "lines = all_lines.split('\\n')\n",
    "numbers = np.array([[float(n) for n in l.split(' ')] for l in lines[:-1]])\n",
    "NR = numbers.shape[0]\n",
    "seed=42\n",
    "np.random.seed(seed)\n",
    "np.random.shuffle(numbers)\n",
    "# Numbers = np.zeros_like(numbers)\n",
    "# for i, y in enumerate(numbers.T):\n",
    "#     Numbers[:,i] = (np.argsort(y.flatten()).argsort()/y.size).reshape(y.shape)"
   ]
  },
  {
   "cell_type": "code",
   "execution_count": 550,
   "metadata": {},
   "outputs": [],
   "source": [
    "c = 0\n",
    "numbers[:,c] = (np.argsort(numbers[:,c].flatten()).argsort()/numbers[:,c].size).reshape(numbers[:,c].shape) \n",
    "train = numbers[:NR//2]\n",
    "test = numbers[NR//2:]\n",
    "# train = Numbers[:NR//2]\n",
    "# test = Numbers[NR//2:]"
   ]
  },
  {
   "cell_type": "code",
   "execution_count": 556,
   "metadata": {},
   "outputs": [],
   "source": [
    "with open(\"shuttle.trn\",\"r\") as f:\n",
    "    all_lines = f.read()\n",
    "    \n",
    "lines = all_lines.split('\\n')\n",
    "train = np.array([[float(n) for n in l.split(' ')] for l in lines[:-1]])\n",
    "size = train.shape[0]\n",
    "\n",
    "with open(\"shuttle.tst\",\"r\") as f:\n",
    "    all_lines = f.read()\n",
    "    \n",
    "lines = all_lines.split('\\n')\n",
    "test = np.array([[float(n) for n in l.split(' ')] for l in lines[:-1]])\n",
    "\n",
    "numbers = np.concatenate([train,test])"
   ]
  },
  {
   "cell_type": "code",
   "execution_count": 557,
   "metadata": {},
   "outputs": [
    {
     "data": {
      "text/plain": [
       "array([7, 4, 9, 8, 0, 6, 2, 5, 1, 3])"
      ]
     },
     "execution_count": 557,
     "metadata": {},
     "output_type": "execute_result"
    }
   ],
   "source": [
    "import sys\n",
    "sys.path.insert(0, '/home/nina/CopulaGP/')\n",
    "from marginal import heuristic_element_order\n",
    "order = heuristic_element_order(numbers) # different for test, but we follow the vine.R by Hernandez-Lobato\n",
    "order"
   ]
  },
  {
   "cell_type": "code",
   "execution_count": null,
   "metadata": {},
   "outputs": [],
   "source": [
    "import marginal as mg\n",
    "X = train[:,c]\n",
    "Xt = test[:,c]\n",
    "Y_raw = train[:,order[order!=c]]\n",
    "Yt_raw = test[:,order[order!=c]]\n",
    "Y = np.zeros_like(Y_raw)\n",
    "Yt = np.zeros_like(Yt_raw)\n",
    "for i, (y,yt) in enumerate(zip(Y_raw.T,Yt_raw.T)):\n",
    "    Y[:,i] = mg.fast_signal2uniform(y,X)\n",
    "    Yt[:,i] = mg.fast_signal2uniform(y,X,Y_=yt,X_=Xt)\n",
    "# Y = Y_raw\n",
    "# Yt = Yt_raw"
   ]
  },
  {
   "cell_type": "code",
   "execution_count": null,
   "metadata": {},
   "outputs": [],
   "source": [
    "import matplotlib.cm as cm\n",
    "\n",
    "plt.figure(figsize=(3,3))\n",
    "plt.scatter(*Yt[::10,[1,4]].T,color=cm.rainbow(Xt))"
   ]
  },
  {
   "cell_type": "code",
   "execution_count": 514,
   "metadata": {},
   "outputs": [],
   "source": [
    "def normalize_Y(Y_all,min,max):\n",
    "    return (Y_all - min)/(max-min)*0.998+0.001\n",
    "d = {}\n",
    "d['X'] = X\n",
    "d['Xt'] = Xt\n",
    "min = np.concatenate([Y,Yt]).min(0)\n",
    "max = np.concatenate([Y,Yt]).max(0)\n",
    "d['Y'] = normalize_Y(Y,min,max)\n",
    "d['Yt'] = normalize_Y(Yt,min,max)\n",
    "d['X_label'] = 'latitude'\n",
    "d['Y_labels'] = ['time','licks','neuropil'] \n",
    "d['comment'] = 'All variables were sorted together (emp. kendalls tau), \\\n",
    "                    thenlatitude moved to the first position'\n",
    "\n",
    "with open(f\"/home/nina/CopulaGP/benchmarks/weather{seed}.pkl\",'wb') as f:\n",
    "    pkl.dump(d,f)"
   ]
  },
  {
   "cell_type": "code",
   "execution_count": 515,
   "metadata": {},
   "outputs": [
    {
     "data": {
      "text/plain": [
       "<matplotlib.collections.PathCollection at 0x7f1974ef7278>"
      ]
     },
     "execution_count": 515,
     "metadata": {},
     "output_type": "execute_result"
    },
    {
     "data": {
      "image/png": "[encoded data removed]",
      "text/plain": [
       "<Figure size 216x216 with 1 Axes>"
      ]
     },
     "metadata": {
      "needs_background": "light"
     },
     "output_type": "display_data"
    }
   ],
   "source": [
    "plt.figure(figsize=(3,3))\n",
    "plt.scatter(*d['Y'][:,[1,4]].T)\n",
    "# d['Y'].shape"
   ]
  },
  {
   "cell_type": "code",
   "execution_count": 457,
   "metadata": {},
   "outputs": [],
   "source": [
    "# import select_copula\n",
    "# device='cuda:0'\n",
    "# train_x = torch.tensor(X).float().to(device)\n",
    "# train_y = torch.tensor(Y[:,[0,1]]).clamp(0.001,0.999).float().to(device)\n",
    "# out = '/home/nina/CopulaGP/synthetic_data/outputs'\n",
    "# (likelihoods, waic) = select_copula.select_with_heuristics(X,Y[:,[0,1]],device,'weather',out,0,1,\n",
    "#                                     train_x=train_x, train_y=train_y) #[torch.randperm(NSamp)]"
   ]
  },
  {
   "cell_type": "code",
   "execution_count": 518,
   "metadata": {},
   "outputs": [
    {
     "data": {
      "text/plain": [
       "'/home/nina/outputs/weather'"
      ]
     },
     "execution_count": 518,
     "metadata": {},
     "output_type": "execute_result"
    }
   ],
   "source": [
    "from train import conf\n",
    "import glob\n",
    "import tqdm\n",
    "import utils\n",
    "import bvcopula\n",
    "from vine import CVine\n",
    "\n",
    "exp_pref = 'weather'\n",
    "path_models = f\"{conf.path2outputs}/{exp_pref}\"\n",
    "path_models"
   ]
  },
  {
   "cell_type": "code",
   "execution_count": 519,
   "metadata": {},
   "outputs": [
    {
     "data": {
      "text/plain": [
       "<matplotlib.image.AxesImage at 0x7f1974e5a1d0>"
      ]
     },
     "execution_count": 519,
     "metadata": {},
     "output_type": "execute_result"
    },
    {
     "data": {
      "image/png": "[encoded data removed]",
      "text/plain": [
       "<Figure size 432x288 with 1 Axes>"
      ]
     },
     "metadata": {
      "needs_background": "light"
     },
     "output_type": "display_data"
    }
   ],
   "source": [
    "list_files = glob.glob(f\"{path_models}/models_*.pkl\")\n",
    "with open(f\"{path_models}/models_layer0.pkl\",\"rb\") as f:\n",
    "    results = pkl.load(f)\n",
    "NN = len(results)+1\n",
    "WAICs = np.zeros((NN,NN))\n",
    "WAICs[0,1:] = [a[3] for a in results]\n",
    "for layer in range(1,len(results)):\n",
    "    with open(f\"{path_models}/models_layer{layer}.pkl\",\"rb\") as f:\n",
    "        res = pkl.load(f)\n",
    "    WAICs[layer,(layer+1):] = [a[3] for a in res]\n",
    "plt.imshow(WAICs[:])"
   ]
  },
  {
   "cell_type": "code",
   "execution_count": 520,
   "metadata": {},
   "outputs": [],
   "source": [
    "device = \"cuda:0\"\n",
    "\n",
    "# create linspace\n",
    "# N_points = 50\n",
    "# train_x = torch.linspace(0,1,N_points).to(device)\n",
    "\n",
    "# with open(\"weather44.pkl\",\"rb\") as f:\n",
    "#     d = pkl.load(f)\n",
    "\n",
    "#real\n",
    "X,Y = d['X'], d['Y']\n",
    "#utils.standard_loader(f\"{conf.path2data}/{exp_pref}_layer0.pkl\")\n",
    "N_points=X.shape[0]\n",
    "# N_points = 200\n",
    "train_x = torch.tensor(X, device=device).float()\n",
    "train_y = torch.tensor(Y, device=device).float()\n",
    "test_x = torch.tensor(d['Xt'], device=device).float()\n",
    "test_y = torch.tensor(d['Yt'], device=device).float()\n",
    "# train_x = train_x[torch.randperm(train_x.numel())[:N_points]]\n",
    "\n",
    "x = test_x\n",
    "y = test_y"
   ]
  },
  {
   "cell_type": "code",
   "execution_count": 521,
   "metadata": {},
   "outputs": [
    {
     "name": "stderr",
     "output_type": "stream",
     "text": [
      "100%|██████████| 7/7 [00:00<00:00, 36.32it/s]\n"
     ]
    }
   ],
   "source": [
    "copula_layers, likelihood_layers, fs_layers = [], [], []\n",
    "for layer in tqdm.tqdm(range(0,NN-1)):\n",
    "    copulas, liks, fs = [], [], []\n",
    "    with open(f\"{path_models}/models_layer{layer}.pkl\",\"rb\") as f:\n",
    "        results = pkl.load(f)\n",
    "    out_dir = f'{path_models}/layer{layer}'\n",
    "    for n,res in enumerate(results):\n",
    "        if res[1]!='Independence':\n",
    "            likelihoods = res[0]\n",
    "            weights_file = f\"{out_dir}/model_{exp_pref}_{layer}-{layer+n+1}.pth\"\n",
    "            model = utils.get_model(weights_file, likelihoods, device)\n",
    "            liks.append(model.likelihood)\n",
    "            with torch.no_grad():\n",
    "                f = model(x).mean\n",
    "                copula = model.likelihood.get_copula(f)\n",
    "                copulas.append(copula)\n",
    "                fs.append(f)\n",
    "        else:\n",
    "            copulas.append(bvcopula.MixtureCopula(torch.empty(1,0,device=device),\n",
    "                    torch.ones(1,N_points,device=device),\n",
    "                    [bvcopula.IndependenceCopula]))\n",
    "            fs.append(None)\n",
    "            liks.append([bvcopula.IndependenceCopula_Likelihood()])\n",
    "#     else:\n",
    "#         for n in range(NN-1-layer):\n",
    "#             copulas.append(bvcopula.MixtureCopula(torch.empty(1,0,device=device),\n",
    "#                         torch.ones(1,N_points,device=device),\n",
    "#                         [bvcopula.IndependenceCopula]))\n",
    "#             fs.append(None)\n",
    "#             liks.append([bvcopula.IndependenceCopula_Likelihood()])\n",
    "    copula_layers.append(copulas)\n",
    "    likelihood_layers.append(liks)\n",
    "    fs_layers.append(fs)"
   ]
  },
  {
   "cell_type": "code",
   "execution_count": 522,
   "metadata": {},
   "outputs": [
    {
     "data": {
      "text/plain": [
       "tensor(3.1495, device='cuda:0')"
      ]
     },
     "execution_count": 522,
     "metadata": {},
     "output_type": "execute_result"
    }
   ],
   "source": [
    "vine = CVine(copula_layers,x,device=device).truncate(0)\n",
    "copgp = vine.log_prob(y).mean()\n",
    "copgp"
   ]
  },
  {
   "cell_type": "code",
   "execution_count": 488,
   "metadata": {},
   "outputs": [],
   "source": [
    "#redirect logging here\n",
    "def train4entropy(x,y,xt,likelihood,shuffle=False):\n",
    "    Nvar = y.shape[-1]\n",
    "    data_layers = [torch.tensor(y).clamp(0.001,0.999).float().to(device)]\n",
    "    copula_layers, model_layers = [], []\n",
    "    for m in range(0,Nvar-1):\n",
    "        copulas, layer, models = [], [], []\n",
    "        for n in range(1,Nvar-m):\n",
    "            print(m,n+m)\n",
    "            if shuffle:\n",
    "                x = x[torch.randperm(NSamp)]\n",
    "            samples = data_layers[-1][...,[n,0]]\n",
    "            waic, model = bvcopula.infer(likelihood,x,samples,device=device) \n",
    "            print(f'WAIC: {waic}')\n",
    "            if shuffle:\n",
    "                x = x[torch.randperm(NSamp)]\n",
    "            with torch.no_grad():\n",
    "                f = model(x).mean\n",
    "                copula = model.likelihood.get_copula(f)\n",
    "                layer.append(copula.ccdf(samples))\n",
    "                models.append(model)\n",
    "                \n",
    "                ft = model(xt).mean\n",
    "                copulat = model.likelihood.get_copula(ft)\n",
    "                copulas.append(copulat)\n",
    "        data_layers.append(torch.stack(layer,dim=-1))\n",
    "        copula_layers.append(copulas)\n",
    "        model_layers.append(models)\n",
    "    print('Trained')\n",
    "    vine_trained = CVine(copula_layers,x,device=device)\n",
    "#     entropies = vine_trained.entropy(sem_tol=0.1, mc_size=1000, v=True)\n",
    "    return copula_layers, model_layers, vine_trained#, entropies"
   ]
  },
  {
   "cell_type": "code",
   "execution_count": 489,
   "metadata": {},
   "outputs": [
    {
     "name": "stderr",
     "output_type": "stream",
     "text": [
      "/home/nina/.envs/GPyTorch_new/lib/python3.6/site-packages/ipykernel_launcher.py:4: UserWarning: To copy construct from a tensor, it is recommended to use sourceTensor.clone().detach() or sourceTensor.clone().detach().requires_grad_(True), rather than torch.tensor(sourceTensor).\n",
      "  after removing the cwd from sys.path.\n"
     ]
    },
    {
     "name": "stdout",
     "output_type": "stream",
     "text": [
      "0 1\n",
      "WAIC: -0.3699894845485687\n",
      "0 2\n",
      "WAIC: -0.02576686628162861\n",
      "0 3\n",
      "WAIC: -0.511616051197052\n",
      "0 4\n",
      "WAIC: -0.2229074239730835\n",
      "0 5\n",
      "WAIC: -0.02181323803961277\n",
      "0 6\n",
      "WAIC: -0.1796145886182785\n",
      "0 7\n",
      "WAIC: -0.20852254331111908\n",
      "1 2\n",
      "WAIC: -0.06932162493467331\n",
      "1 3\n",
      "WAIC: -0.06905533373355865\n",
      "1 4\n",
      "WAIC: 0.0015980794560164213\n",
      "1 5\n",
      "WAIC: -0.0927964374423027\n",
      "1 6\n",
      "WAIC: -0.054750945419073105\n",
      "1 7\n",
      "WAIC: -0.07851968705654144\n",
      "2 3\n",
      "WAIC: -0.021471284329891205\n",
      "2 4\n",
      "WAIC: -0.04236508905887604\n",
      "2 5\n",
      "WAIC: -0.2590869963169098\n",
      "2 6\n",
      "WAIC: -0.047639742493629456\n",
      "2 7\n",
      "WAIC: -0.06809686124324799\n",
      "3 4\n",
      "WAIC: -0.018425799906253815\n",
      "3 5\n",
      "WAIC: -0.011397610418498516\n",
      "3 6\n",
      "WAIC: -0.0035190812777727842\n",
      "3 7\n",
      "WAIC: -0.008054923266172409\n",
      "4 5\n",
      "WAIC: -0.0027142383623868227\n",
      "4 6\n",
      "WAIC: -0.002165114274248481\n",
      "4 7\n",
      "WAIC: -0.02375134266912937\n",
      "5 6\n",
      "WAIC: -0.030803674831986427\n",
      "5 7\n",
      "WAIC: -0.033022113144397736\n",
      "6 7\n",
      "WAIC: -0.11324869096279144\n",
      "Trained\n",
      "CPU times: user 14min 36s, sys: 23.4 s, total: 14min 59s\n",
      "Wall time: 14min 59s\n"
     ]
    }
   ],
   "source": [
    "likelihood = [bvcopula.GaussianCopula_Likelihood()]\n",
    "%time copula_layers, models, vine = train4entropy(train_x,train_y,test_x,likelihood, shuffle=False)"
   ]
  },
  {
   "cell_type": "code",
   "execution_count": 491,
   "metadata": {},
   "outputs": [
    {
     "data": {
      "text/plain": [
       "tensor(1.2761, device='cuda:0')"
      ]
     },
     "execution_count": 491,
     "metadata": {},
     "output_type": "execute_result"
    }
   ],
   "source": [
    "vine = CVine(copula_layers,test_x,device=device).truncate(1)\n",
    "logprob = vine.log_prob(test_y).mean()\n",
    "logprob"
   ]
  },
  {
   "cell_type": "code",
   "execution_count": 492,
   "metadata": {},
   "outputs": [],
   "source": [
    "d['copula_layers'] = copula_layers\n",
    "d['vine'] = vine \n",
    "d['copgp_logprob'] = copgp.item()\n",
    "d['logprob'] = logprob.item()\n",
    "with open(f\"gauss_weather{seed}.pkl\",\"wb\") as f:\n",
    "    pkl.dump(d,f)"
   ]
  },
  {
   "cell_type": "code",
   "execution_count": 493,
   "metadata": {},
   "outputs": [
    {
     "data": {
      "text/plain": [
       "0.17878642752364246"
      ]
     },
     "execution_count": 493,
     "metadata": {},
     "output_type": "execute_result"
    }
   ],
   "source": [
    "np.array([3.1495,2.7663,2.7743]).std()"
   ]
  },
  {
   "cell_type": "code",
   "execution_count": 480,
   "metadata": {},
   "outputs": [
    {
     "data": {
      "text/plain": [
       "1.3733333333333333"
      ]
     },
     "execution_count": 480,
     "metadata": {},
     "output_type": "execute_result"
    }
   ],
   "source": [
    "np.array([1.28,1.61,1.23]).mean()"
   ]
  },
  {
   "cell_type": "code",
   "execution_count": null,
   "metadata": {},
   "outputs": [],
   "source": []
  }
 ],
 "metadata": {
  "kernelspec": {
   "display_name": "GPyTorch_new",
   "language": "python",
   "name": "gpytorch_new"
  },
  "language_info": {
   "codemirror_mode": {
    "name": "ipython",
    "version": 3
   },
   "file_extension": ".py",
   "mimetype": "text/x-python",
   "name": "python",
   "nbconvert_exporter": "python",
   "pygments_lexer": "ipython3",
   "version": "3.6.9"
  }
 },
 "nbformat": 4,
 "nbformat_minor": 2
}
