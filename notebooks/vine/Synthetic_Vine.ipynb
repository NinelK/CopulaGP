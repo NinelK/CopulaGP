{
 "cells": [
  {
   "cell_type": "code",
   "execution_count": 1,
   "metadata": {},
   "outputs": [],
   "source": [
    "# configure train/conf.py before running this notebook\n",
    "# path2code = path to the Copula-GP main dir\n",
    "# path2data = path to the data dir\n",
    "# path2outputs = path to the output dir, were resuls and models will be stored"
   ]
  },
  {
   "cell_type": "code",
   "execution_count": 1,
   "metadata": {},
   "outputs": [],
   "source": [
    "import pickle as pkl\n",
    "import matplotlib.pyplot as plt\n",
    "import matplotlib.cm as cm\n",
    "import numpy as np\n",
    "\n",
    "import sys\n",
    "home = '/home/nina/CopulaGP/'\n",
    "sys.path.insert(0, home)\n",
    "\n",
    "import torch\n",
    "import bvcopula\n",
    "import select_copula\n",
    "import utils\n",
    "import train\n",
    "from vine import CVine\n",
    "from train import conf"
   ]
  },
  {
   "cell_type": "code",
   "execution_count": 8,
   "metadata": {},
   "outputs": [
    {
     "ename": "RuntimeError",
     "evalue": "CUDA error: device-side assert triggered",
     "output_type": "error",
     "traceback": [
      "\u001b[0;31m---------------------------------------------------------------------------\u001b[0m",
      "\u001b[0;31mRuntimeError\u001b[0m                              Traceback (most recent call last)",
      "\u001b[0;32m<ipython-input-8-738e8359053a>\u001b[0m in \u001b[0;36m<module>\u001b[0;34m\u001b[0m\n\u001b[1;32m      2\u001b[0m \u001b[0mdevice\u001b[0m \u001b[0;34m=\u001b[0m \u001b[0mtorch\u001b[0m\u001b[0;34m.\u001b[0m\u001b[0mdevice\u001b[0m\u001b[0;34m(\u001b[0m\u001b[0;34m'cuda:0'\u001b[0m\u001b[0;34m)\u001b[0m\u001b[0;34m\u001b[0m\u001b[0;34m\u001b[0m\u001b[0m\n\u001b[1;32m      3\u001b[0m \u001b[0mx\u001b[0m \u001b[0;34m=\u001b[0m \u001b[0mtorch\u001b[0m\u001b[0;34m.\u001b[0m\u001b[0mlinspace\u001b[0m\u001b[0;34m(\u001b[0m\u001b[0;36m0.\u001b[0m\u001b[0;34m,\u001b[0m\u001b[0;36m1.\u001b[0m\u001b[0;34m,\u001b[0m\u001b[0mNSamp\u001b[0m\u001b[0;34m)\u001b[0m\u001b[0;34m.\u001b[0m\u001b[0mnumpy\u001b[0m\u001b[0;34m(\u001b[0m\u001b[0;34m)\u001b[0m\u001b[0;34m\u001b[0m\u001b[0;34m\u001b[0m\u001b[0m\n\u001b[0;32m----> 4\u001b[0;31m \u001b[0mtest_x\u001b[0m \u001b[0;34m=\u001b[0m \u001b[0mtorch\u001b[0m\u001b[0;34m.\u001b[0m\u001b[0mtensor\u001b[0m\u001b[0;34m(\u001b[0m\u001b[0mx\u001b[0m\u001b[0;34m)\u001b[0m\u001b[0;34m.\u001b[0m\u001b[0mfloat\u001b[0m\u001b[0;34m(\u001b[0m\u001b[0;34m)\u001b[0m\u001b[0;34m.\u001b[0m\u001b[0mto\u001b[0m\u001b[0;34m(\u001b[0m\u001b[0mdevice\u001b[0m\u001b[0;34m=\u001b[0m\u001b[0mdevice\u001b[0m\u001b[0;34m)\u001b[0m\u001b[0;34m\u001b[0m\u001b[0;34m\u001b[0m\u001b[0m\n\u001b[0m",
      "\u001b[0;31mRuntimeError\u001b[0m: CUDA error: device-side assert triggered"
     ]
    }
   ],
   "source": [
    "NSamp=10000\n",
    "device = torch.device('cuda:0')\n",
    "x = torch.linspace(0.,1.,NSamp).numpy()\n",
    "test_x = torch.tensor(x).float().to(device=device)"
   ]
  },
  {
   "cell_type": "code",
   "execution_count": 9,
   "metadata": {},
   "outputs": [
    {
     "ename": "RuntimeError",
     "evalue": "CUDA error: device-side assert triggered",
     "output_type": "error",
     "traceback": [
      "\u001b[0;31m---------------------------------------------------------------------------\u001b[0m",
      "\u001b[0;31mRuntimeError\u001b[0m                              Traceback (most recent call last)",
      "\u001b[0;32m<ipython-input-9-4c88f5d68c3d>\u001b[0m in \u001b[0;36m<module>\u001b[0;34m\u001b[0m\n\u001b[0;32m----> 1\u001b[0;31m \u001b[0mcopula_model01\u001b[0m \u001b[0;34m=\u001b[0m \u001b[0mutils\u001b[0m\u001b[0;34m.\u001b[0m\u001b[0mcreate_model\u001b[0m\u001b[0;34m(\u001b[0m\u001b[0;34m'mixes'\u001b[0m\u001b[0;34m,\u001b[0m\u001b[0;34m[\u001b[0m\u001b[0mbvcopula\u001b[0m\u001b[0;34m.\u001b[0m\u001b[0mClaytonCopula_Likelihood\u001b[0m\u001b[0;34m(\u001b[0m\u001b[0mrotation\u001b[0m\u001b[0;34m=\u001b[0m\u001b[0;34m'90°'\u001b[0m\u001b[0;34m)\u001b[0m\u001b[0;34m,\u001b[0m \u001b[0mbvcopula\u001b[0m\u001b[0;34m.\u001b[0m\u001b[0mClaytonCopula_Likelihood\u001b[0m\u001b[0;34m(\u001b[0m\u001b[0mrotation\u001b[0m\u001b[0;34m=\u001b[0m\u001b[0;34m'0°'\u001b[0m\u001b[0;34m)\u001b[0m\u001b[0;34m]\u001b[0m\u001b[0;34m,\u001b[0m\u001b[0mx\u001b[0m\u001b[0;34m.\u001b[0m\u001b[0mshape\u001b[0m\u001b[0;34m[\u001b[0m\u001b[0;36m0\u001b[0m\u001b[0;34m]\u001b[0m\u001b[0;34m,\u001b[0m\u001b[0mdevice\u001b[0m\u001b[0;34m=\u001b[0m\u001b[0mdevice\u001b[0m\u001b[0;34m)\u001b[0m\u001b[0;34m\u001b[0m\u001b[0;34m\u001b[0m\u001b[0m\n\u001b[0m\u001b[1;32m      2\u001b[0m \u001b[0mcopula_model02\u001b[0m \u001b[0;34m=\u001b[0m \u001b[0mutils\u001b[0m\u001b[0;34m.\u001b[0m\u001b[0mcreate_model\u001b[0m\u001b[0;34m(\u001b[0m\u001b[0;34m'thetas'\u001b[0m\u001b[0;34m,\u001b[0m\u001b[0;34m[\u001b[0m\u001b[0mbvcopula\u001b[0m\u001b[0;34m.\u001b[0m\u001b[0mFrankCopula_Likelihood\u001b[0m\u001b[0;34m(\u001b[0m\u001b[0;34m)\u001b[0m\u001b[0;34m]\u001b[0m\u001b[0;34m,\u001b[0m\u001b[0mx\u001b[0m\u001b[0;34m.\u001b[0m\u001b[0mshape\u001b[0m\u001b[0;34m[\u001b[0m\u001b[0;36m0\u001b[0m\u001b[0;34m]\u001b[0m\u001b[0;34m,\u001b[0m\u001b[0mdevice\u001b[0m\u001b[0;34m=\u001b[0m\u001b[0mdevice\u001b[0m\u001b[0;34m)\u001b[0m\u001b[0;34m\u001b[0m\u001b[0;34m\u001b[0m\u001b[0m\n\u001b[1;32m      3\u001b[0m \u001b[0;31m# copula_model03 = utils.create_model('thetas',[bvcopula.GumbelCopula_Likelihood(rotation='90°')],x.shape[0],device=device)\u001b[0m\u001b[0;34m\u001b[0m\u001b[0;34m\u001b[0m\u001b[0;34m\u001b[0m\u001b[0m\n\u001b[1;32m      4\u001b[0m \u001b[0;31m# copula_model12 = utils.create_model('thetas',[bvcopula.GaussianCopula_Likelihood()],x.shape[0],device=device)\u001b[0m\u001b[0;34m\u001b[0m\u001b[0;34m\u001b[0m\u001b[0;34m\u001b[0m\u001b[0m\n\u001b[1;32m      5\u001b[0m \u001b[0;31m# copula_model13 = utils.create_model('thetas',[bvcopula.GumbelCopula_Likelihood(rotation='180°')],x.shape[0],device=device)\u001b[0m\u001b[0;34m\u001b[0m\u001b[0;34m\u001b[0m\u001b[0;34m\u001b[0m\u001b[0m\n",
      "\u001b[0;32m~/CopulaGP/utils/synthetic_data.py\u001b[0m in \u001b[0;36mcreate_model\u001b[0;34m(mode, likelihoods, n, device)\u001b[0m\n\u001b[1;32m     64\u001b[0m                     rotations=rotations)\n\u001b[1;32m     65\u001b[0m     \u001b[0;32melif\u001b[0m \u001b[0mmode\u001b[0m\u001b[0;34m==\u001b[0m\u001b[0;34m'mixes'\u001b[0m\u001b[0;34m:\u001b[0m\u001b[0;34m\u001b[0m\u001b[0;34m\u001b[0m\u001b[0m\n\u001b[0;32m---> 66\u001b[0;31m         copula_model = MixtureCopula(basic_thetas(likelihoods,n,device=device),\n\u001b[0m\u001b[1;32m     67\u001b[0m                     \u001b[0mgenerate_mixes\u001b[0m\u001b[0;34m(\u001b[0m\u001b[0mlikelihoods\u001b[0m\u001b[0;34m,\u001b[0m\u001b[0mn\u001b[0m\u001b[0;34m,\u001b[0m\u001b[0mdevice\u001b[0m\u001b[0;34m=\u001b[0m\u001b[0mdevice\u001b[0m\u001b[0;34m)\u001b[0m\u001b[0;34m,\u001b[0m\u001b[0;34m\u001b[0m\u001b[0;34m\u001b[0m\u001b[0m\n\u001b[1;32m     68\u001b[0m                     \u001b[0mcopulas\u001b[0m\u001b[0;34m,\u001b[0m\u001b[0;34m\u001b[0m\u001b[0;34m\u001b[0m\u001b[0m\n",
      "\u001b[0;32m~/CopulaGP/utils/synthetic_data.py\u001b[0m in \u001b[0;36mbasic_thetas\u001b[0;34m(likelihoods, n, device)\u001b[0m\n\u001b[1;32m     38\u001b[0m \u001b[0;32mdef\u001b[0m \u001b[0mbasic_thetas\u001b[0m\u001b[0;34m(\u001b[0m\u001b[0mlikelihoods\u001b[0m\u001b[0;34m,\u001b[0m\u001b[0mn\u001b[0m\u001b[0;34m,\u001b[0m\u001b[0mdevice\u001b[0m\u001b[0;34m=\u001b[0m\u001b[0mtorch\u001b[0m\u001b[0;34m.\u001b[0m\u001b[0mdevice\u001b[0m\u001b[0;34m(\u001b[0m\u001b[0;34m'cpu'\u001b[0m\u001b[0;34m)\u001b[0m\u001b[0;34m)\u001b[0m\u001b[0;34m:\u001b[0m\u001b[0;34m\u001b[0m\u001b[0;34m\u001b[0m\u001b[0m\n\u001b[1;32m     39\u001b[0m     \u001b[0mm\u001b[0m \u001b[0;34m=\u001b[0m \u001b[0mlen\u001b[0m\u001b[0;34m(\u001b[0m\u001b[0mlikelihoods\u001b[0m\u001b[0;34m)\u001b[0m\u001b[0;34m\u001b[0m\u001b[0;34m\u001b[0m\u001b[0m\n\u001b[0;32m---> 40\u001b[0;31m     \u001b[0mthetas\u001b[0m \u001b[0;34m=\u001b[0m \u001b[0mtorch\u001b[0m\u001b[0;34m.\u001b[0m\u001b[0mzeros\u001b[0m\u001b[0;34m(\u001b[0m\u001b[0mm\u001b[0m\u001b[0;34m,\u001b[0m\u001b[0mn\u001b[0m\u001b[0;34m,\u001b[0m\u001b[0mdevice\u001b[0m\u001b[0;34m=\u001b[0m\u001b[0mdevice\u001b[0m\u001b[0;34m)\u001b[0m\u001b[0;34m\u001b[0m\u001b[0;34m\u001b[0m\u001b[0m\n\u001b[0m\u001b[1;32m     41\u001b[0m     \u001b[0;32mfor\u001b[0m \u001b[0mi\u001b[0m\u001b[0;34m,\u001b[0m \u001b[0mlik\u001b[0m \u001b[0;32min\u001b[0m \u001b[0menumerate\u001b[0m\u001b[0;34m(\u001b[0m\u001b[0mlikelihoods\u001b[0m\u001b[0;34m)\u001b[0m\u001b[0;34m:\u001b[0m\u001b[0;34m\u001b[0m\u001b[0;34m\u001b[0m\u001b[0m\n\u001b[1;32m     42\u001b[0m         \u001b[0mbase\u001b[0m \u001b[0;34m=\u001b[0m \u001b[0mtorch\u001b[0m\u001b[0;34m.\u001b[0m\u001b[0mones\u001b[0m\u001b[0;34m(\u001b[0m\u001b[0mn\u001b[0m\u001b[0;34m,\u001b[0m\u001b[0mdevice\u001b[0m\u001b[0;34m=\u001b[0m\u001b[0mdevice\u001b[0m\u001b[0;34m)\u001b[0m\u001b[0;34m\u001b[0m\u001b[0;34m\u001b[0m\u001b[0m\n",
      "\u001b[0;31mRuntimeError\u001b[0m: CUDA error: device-side assert triggered"
     ]
    }
   ],
   "source": [
    "copula_model01 = utils.create_model('mixes',[bvcopula.ClaytonCopula_Likelihood(rotation='90°'), bvcopula.ClaytonCopula_Likelihood(rotation='0°')],x.shape[0],device=device)\n",
    "copula_model02 = utils.create_model('thetas',[bvcopula.FrankCopula_Likelihood()],x.shape[0],device=device)\n",
    "# copula_model03 = utils.create_model('thetas',[bvcopula.GumbelCopula_Likelihood(rotation='90°')],x.shape[0],device=device)\n",
    "# copula_model12 = utils.create_model('thetas',[bvcopula.GaussianCopula_Likelihood()],x.shape[0],device=device)\n",
    "# copula_model13 = utils.create_model('thetas',[bvcopula.GumbelCopula_Likelihood(rotation='180°')],x.shape[0],device=device)\n",
    "copula_model23 = utils.create_model('thetas',[bvcopula.GumbelCopula_Likelihood(rotation='270°')],x.shape[0],device=device)\n",
    "layers = [[copula_model01, copula_model02],[copula_model23]]"
   ]
  },
  {
   "cell_type": "code",
   "execution_count": 4,
   "metadata": {},
   "outputs": [],
   "source": [
    "vine = CVine(layers,test_x,device=device)\n",
    "V = vine.sample()"
   ]
  },
  {
   "cell_type": "code",
   "execution_count": 5,
   "metadata": {},
   "outputs": [
    {
     "data": {
      "text/plain": [
       "tensor(0.9273, device='cuda:0')"
      ]
     },
     "execution_count": 5,
     "metadata": {},
     "output_type": "execute_result"
    }
   ],
   "source": [
    "vine.log_prob(V[0]).mean()"
   ]
  },
  {
   "cell_type": "code",
   "execution_count": 6,
   "metadata": {},
   "outputs": [],
   "source": [
    "def stimMI(vine, alpha=0.05, sem_tol=1e-3, mc_size=20):\n",
    "    # Gaussian confidence interval for sem_tol and level alpha\n",
    "    conf = torch.erfinv(torch.tensor([1. - alpha])).to(device)\n",
    "    sem = torch.ones(2).to(device)*float('inf')\n",
    "    Hrs = torch.zeros(1).to(device) # sum of conditional entropies \n",
    "    Hr = torch.zeros(1).to(device) # entropy of p(r)\n",
    "    var_sum = torch.zeros_like(sem)\n",
    "    log2 = torch.tensor([2.]).log().to(device)\n",
    "    k = 0\n",
    "    inputs = vine.inputs.numel()\n",
    "    N = mc_size*inputs\n",
    "    with torch.no_grad():\n",
    "        while torch.any(sem >= sem_tol):\n",
    "            # Generate samples from p(r|s)*p(s)\n",
    "            samples = vine.sample(torch.Size([mc_size]))[0]\n",
    "            subset = torch.randperm(torch.numel(samples[...,0]))[:100]\n",
    "            samples = samples[subset]\n",
    "            samples = torch.einsum(\"ij...->ji...\",samples) # samples(1D MC) x inputs (1D) x variables (1D)\n",
    "\n",
    "            print(samples.shape)\n",
    "            logpRgS = vine.log_prob(samples) / log2\n",
    "            assert torch.all(logpRgS==logpRgS)\n",
    "            assert torch.all(logpRgS.abs()!=float(\"inf\"))\n",
    "\n",
    "            # now find E[p(r|s)] under p(s) with MC\n",
    "            rR = torch.ones(mc_size).to(device)*float('inf')\n",
    "            pR = torch.zeros(mc_size).to(device)\n",
    "            var_sumR = torch.zeros(mc_size).to(device)\n",
    "            kR = 0\n",
    "            # print(f\"Start calculating p(r) {k}\")\n",
    "            while torch.any(rR >= sem_tol): #relative error of p(r) = absolute error of log p(r)\n",
    "                new_order = torch.randperm(torch.numel(samples[...,0])) # permute samples & inputs\n",
    "                new_subset = samples.reshape(-1,samples.shape[-1])[new_order]\n",
    "                print(new_order.shape,new_subset.shape)\n",
    "                pRs = vine.log_prob(samples).exp()\n",
    "                kR += 1\n",
    "                # Monte-Carlo estimate of p(r)\n",
    "                pR += (pRs.mean(dim=-1) - pR) / kR\n",
    "                # Estimate standard error\n",
    "                var_sumR += ((pRs - pR.unsqueeze(-1)) ** 2).sum(dim=-1)\n",
    "                semR = conf * (var_sumR / (kR * inputs * (kR * inputs - 1))).pow(.5) \n",
    "                rR = semR/pR #relative error\n",
    "                if kR%20==0:\n",
    "                    print(rR.max()/sem_tol)\n",
    "            # print(f\"Finished in {kR} steps\")\n",
    "\n",
    "            logpR = pR.log() / log2 #[N,f]\n",
    "            k += 1\n",
    "            if k>100:\n",
    "                print('MC integral failed to converge')\n",
    "                break\n",
    "            # Monte-Carlo estimate of MI\n",
    "            #MI += (log2p.mean(dim=0) - MI) / k # mean over sample dimensions -> [f]\n",
    "            Hrs += (logpRgS.mean(dim=0) - Hrs) / k # negative sum H(r|s) * p(s)\n",
    "            Hr += (logpR.mean(dim=0) - Hr) / k # negative entropy H(r)\n",
    "            # Estimate standard error\n",
    "            var_sum[0] += ((logpRgS - Hrs) ** 2).sum(dim=0)\n",
    "            var_sum[1] += ((logpR - Hr) ** 2).sum(dim=0)\n",
    "            sem = conf * (var_sum / (k * N * (k * N - 1))).pow(.5)\n",
    "            # print(f\"{Hrs.mean().item():.3},{Hr.mean().item():.3},{(Hrs.mean()-Hr.mean()).item():.3},\\\n",
    "            #     {sem[0].max().item()/sem_tol:.3},{sem[1].max().item()/sem_tol:.3}\") #balance convergence rates\n",
    "    return (Hrs-Hr), (sem[0]**2+sem[1]**2).pow(.5), Hr, sem[1] #2nd arg is an error of sum\n",
    "    "
   ]
  },
  {
   "cell_type": "code",
   "execution_count": 7,
   "metadata": {},
   "outputs": [
    {
     "name": "stdout",
     "output_type": "stream",
     "text": [
      "torch.Size([200, 20000, 3])\n"
     ]
    },
    {
     "ename": "RuntimeError",
     "evalue": "CUDA error: device-side assert triggered",
     "output_type": "error",
     "traceback": [
      "\u001b[0;31m---------------------------------------------------------------------------\u001b[0m",
      "\u001b[0;31mRuntimeError\u001b[0m                              Traceback (most recent call last)",
      "\u001b[0;32m<ipython-input-7-c277f85ef22b>\u001b[0m in \u001b[0;36m<module>\u001b[0;34m\u001b[0m\n\u001b[0;32m----> 1\u001b[0;31m \u001b[0mstimMI\u001b[0m\u001b[0;34m(\u001b[0m\u001b[0mvine\u001b[0m\u001b[0;34m,\u001b[0m \u001b[0mmc_size\u001b[0m\u001b[0;34m=\u001b[0m\u001b[0;36m200\u001b[0m\u001b[0;34m)\u001b[0m\u001b[0;34m\u001b[0m\u001b[0;34m\u001b[0m\u001b[0m\n\u001b[0m",
      "\u001b[0;32m<ipython-input-6-80bbf61c32d6>\u001b[0m in \u001b[0;36mstimMI\u001b[0;34m(vine, alpha, sem_tol, mc_size)\u001b[0m\n\u001b[1;32m     25\u001b[0m \u001b[0;34m\u001b[0m\u001b[0m\n\u001b[1;32m     26\u001b[0m             \u001b[0;31m# now find E[p(r|s)] under p(s) with MC\u001b[0m\u001b[0;34m\u001b[0m\u001b[0;34m\u001b[0m\u001b[0;34m\u001b[0m\u001b[0m\n\u001b[0;32m---> 27\u001b[0;31m             \u001b[0mrR\u001b[0m \u001b[0;34m=\u001b[0m \u001b[0mtorch\u001b[0m\u001b[0;34m.\u001b[0m\u001b[0mones\u001b[0m\u001b[0;34m(\u001b[0m\u001b[0mmc_size\u001b[0m\u001b[0;34m)\u001b[0m\u001b[0;34m.\u001b[0m\u001b[0mto\u001b[0m\u001b[0;34m(\u001b[0m\u001b[0mdevice\u001b[0m\u001b[0;34m)\u001b[0m\u001b[0;34m*\u001b[0m\u001b[0mfloat\u001b[0m\u001b[0;34m(\u001b[0m\u001b[0;34m'inf'\u001b[0m\u001b[0;34m)\u001b[0m\u001b[0;34m\u001b[0m\u001b[0;34m\u001b[0m\u001b[0m\n\u001b[0m\u001b[1;32m     28\u001b[0m             \u001b[0mpR\u001b[0m \u001b[0;34m=\u001b[0m \u001b[0mtorch\u001b[0m\u001b[0;34m.\u001b[0m\u001b[0mzeros\u001b[0m\u001b[0;34m(\u001b[0m\u001b[0mmc_size\u001b[0m\u001b[0;34m)\u001b[0m\u001b[0;34m.\u001b[0m\u001b[0mto\u001b[0m\u001b[0;34m(\u001b[0m\u001b[0mdevice\u001b[0m\u001b[0;34m)\u001b[0m\u001b[0;34m\u001b[0m\u001b[0;34m\u001b[0m\u001b[0m\n\u001b[1;32m     29\u001b[0m             \u001b[0mvar_sumR\u001b[0m \u001b[0;34m=\u001b[0m \u001b[0mtorch\u001b[0m\u001b[0;34m.\u001b[0m\u001b[0mzeros\u001b[0m\u001b[0;34m(\u001b[0m\u001b[0mmc_size\u001b[0m\u001b[0;34m)\u001b[0m\u001b[0;34m.\u001b[0m\u001b[0mto\u001b[0m\u001b[0;34m(\u001b[0m\u001b[0mdevice\u001b[0m\u001b[0;34m)\u001b[0m\u001b[0;34m\u001b[0m\u001b[0;34m\u001b[0m\u001b[0m\n",
      "\u001b[0;31mRuntimeError\u001b[0m: CUDA error: device-side assert triggered"
     ]
    }
   ],
   "source": [
    "stimMI(vine, mc_size=200)"
   ]
  },
  {
   "cell_type": "code",
   "execution_count": 13,
   "metadata": {},
   "outputs": [],
   "source": [
    "path = '/home/nina/CopulaGP/synthetic_data'\n",
    "exp_pref='SCVine'\n",
    "data = {}\n",
    "y = V[0].cpu().numpy()\n",
    "assert np.all(y>0) & np.all(y<1)\n",
    "data['X'] = x\n",
    "data['Y'] = y\n",
    "\n",
    "with open(f\"{path}/{exp_pref}_layer0.pkl\",'wb') as f:\n",
    "    pkl.dump(data,f)"
   ]
  },
  {
   "cell_type": "code",
   "execution_count": null,
   "metadata": {},
   "outputs": [
    {
     "name": "stdout",
     "output_type": "stream",
     "text": [
      "Starting SCVine layer 0\n",
      "[Errno 17] File exists: '/home/nina/CopulaGP/synthetic_data/outputs/SCVine'\n",
      "[Errno 17] File exists: '/home/nina/CopulaGP/synthetic_data/outputs/SCVine/layer0'\n",
      "Selecting 0-1 on cpu\n"
     ]
    }
   ],
   "source": [
    "all_results = []\n",
    "for layer in range(len(layers)):\n",
    "\n",
    "    print(f'Starting {exp_pref} layer {layer}')\n",
    "\n",
    "    results = train.train_next_layer(exp_pref, layer, device=device)\n",
    "    all_results.append(results)\n",
    "    with open(f\"{conf.path2outputs}/{exp_pref}/models_layer{layer}.pkl\",\"wb\") as f:\n",
    "        pkl.dump(results,f)\n",
    "    NN = train.transform2next_layer(exp_pref,layer, device)\n",
    "    print(f\"NN = {NN}\")"
   ]
  },
  {
   "cell_type": "code",
   "execution_count": null,
   "metadata": {},
   "outputs": [],
   "source": [
    "with open(f\"{path}/{exp_pref}_layer1.pkl\",'rb') as f:\n",
    "    layer1=pkl.load(f)"
   ]
  },
  {
   "cell_type": "code",
   "execution_count": null,
   "metadata": {},
   "outputs": [],
   "source": [
    "plt.figure(figsize=(3,3))\n",
    "colors = cm.rainbow(x)\n",
    "plt.scatter(layer1['Y'][::10,0],layer1['Y'][::10,1], color=colors[::10])"
   ]
  },
  {
   "cell_type": "code",
   "execution_count": null,
   "metadata": {},
   "outputs": [],
   "source": [
    "Y_new = np.array([V[1][...,0].cpu().numpy(),layer1['Y'][:,0]]).T\n",
    "\n",
    "plt.figure(figsize=(3,3))\n",
    "colors = cm.rainbow(x)\n",
    "plt.scatter(*Y_new.T, color=colors)"
   ]
  },
  {
   "cell_type": "code",
   "execution_count": null,
   "metadata": {},
   "outputs": [],
   "source": [
    "layers = [V[0]]\n",
    "log_prob = 0\n",
    "for layer, copulas in enumerate(vine.layers):\n",
    "    next_layer = []\n",
    "    for n, copula in enumerate(copulas):\n",
    "        print(layer,layer+n+1, copula.copulas)\n",
    "        log_prob += copula.log_prob(layers[-1][:,[n+1,0]])\n",
    "        next_layer.append(copula.ccdf(layers[-1][:,[n+1,0]]))\n",
    "    layers.append(torch.stack(next_layer,dim=-1))\n",
    "print(log_prob.mean())\n",
    "#         samples = torch.tensor(Y[:,[n,0]]).float().squeeze().to(device) # order!"
   ]
  },
  {
   "cell_type": "code",
   "execution_count": null,
   "metadata": {},
   "outputs": [],
   "source": []
  },
  {
   "cell_type": "code",
   "execution_count": null,
   "metadata": {},
   "outputs": [],
   "source": [
    "print(V[0][:,0].shape)\n",
    "\n",
    "plt.figure(figsize=(3,3))\n",
    "colors = cm.rainbow(x)\n",
    "plt.scatter(V[0][:,1].cpu().numpy(),layers[2][:,0].cpu().numpy(), color=colors)"
   ]
  },
  {
   "cell_type": "code",
   "execution_count": null,
   "metadata": {},
   "outputs": [],
   "source": [
    "V[0][...,0].shape"
   ]
  },
  {
   "cell_type": "code",
   "execution_count": null,
   "metadata": {},
   "outputs": [],
   "source": []
  }
 ],
 "metadata": {
  "kernelspec": {
   "display_name": "GPyTorch_new",
   "language": "python",
   "name": "gpytorch_new"
  },
  "language_info": {
   "codemirror_mode": {
    "name": "ipython",
    "version": 3
   },
   "file_extension": ".py",
   "mimetype": "text/x-python",
   "name": "python",
   "nbconvert_exporter": "python",
   "pygments_lexer": "ipython3",
   "version": "3.6.8"
  }
 },
 "nbformat": 4,
 "nbformat_minor": 2
}
