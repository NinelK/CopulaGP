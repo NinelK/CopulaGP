{
 "cells": [
  {
   "cell_type": "code",
   "execution_count": 1,
   "metadata": {},
   "outputs": [],
   "source": [
    "# configure train/conf.py before running this notebook\n",
    "# path2code = path to the Copula-GP main dir\n",
    "# path2data = path to the data dir\n",
    "# path2outputs = path to the output dir, were resuls and models will be stored"
   ]
  },
  {
   "cell_type": "code",
   "execution_count": 2,
   "metadata": {},
   "outputs": [],
   "source": [
    "import pickle as pkl\n",
    "import matplotlib.pyplot as plt\n",
    "import matplotlib.cm as cm\n",
    "import numpy as np\n",
    "\n",
    "import sys\n",
    "home = '/home/nina/CopulaGP/'\n",
    "sys.path.insert(0, home)\n",
    "\n",
    "import torch\n",
    "import bvcopula\n",
    "import select_copula\n",
    "import utils\n",
    "import train\n",
    "from vine import CVine\n",
    "from train import conf"
   ]
  },
  {
   "cell_type": "code",
   "execution_count": 3,
   "metadata": {},
   "outputs": [],
   "source": [
    "NSamp=10000\n",
    "device = torch.device('cuda:1')\n",
    "x = torch.linspace(0.,1.,NSamp).numpy()\n",
    "test_x = torch.tensor(x).float().to(device=device)"
   ]
  },
  {
   "cell_type": "code",
   "execution_count": 4,
   "metadata": {},
   "outputs": [],
   "source": [
    "copula_model = bvcopula.MixtureCopula(torch.linspace(0,0.99,NSamp,device=device).unsqueeze(dim=0),\n",
    "                    torch.ones(1,NSamp,device=device),\n",
    "                    [bvcopula.GaussianCopula_Likelihood().copula],\n",
    "                    rotations=[])"
   ]
  },
  {
   "cell_type": "code",
   "execution_count": 5,
   "metadata": {},
   "outputs": [],
   "source": [
    "vine = utils.get_random_vine(3,test_x,device=device)"
   ]
  },
  {
   "cell_type": "code",
   "execution_count": 15,
   "metadata": {},
   "outputs": [],
   "source": [
    "copula_model01 = utils.create_model('thetas',[bvcopula.GumbelCopula_Likelihood(rotation='90°')],x.shape[0],device=device)\n",
    "# copula_model02 = utils.create_model('thetas',[bvcopula.GaussianCopula_Likelihood()],x.shape[0],device=device)\n",
    "# copula_model23 = utils.create_model('thetas',[bvcopula.GaussianCopula_Likelihood()],x.shape[0],device=device)\n",
    "layers = [[copula_model]]#, copula_model02],[copula_model23]] # (rotation='0°'"
   ]
  },
  {
   "cell_type": "code",
   "execution_count": 16,
   "metadata": {},
   "outputs": [],
   "source": [
    "vine = CVine(layers,test_x,device=device)\n",
    "V = vine.sample()"
   ]
  },
  {
   "cell_type": "code",
   "execution_count": 17,
   "metadata": {},
   "outputs": [
    {
     "data": {
      "text/plain": [
       "(array([ 0.24461768, -0.28271219]), array([0.02466255, 0.02004706]))"
      ]
     },
     "execution_count": 17,
     "metadata": {},
     "output_type": "execute_result"
    }
   ],
   "source": [
    "import marginal as mg\n",
    "res = np.zeros((10,2))\n",
    "for i in range(10):\n",
    "    V = vine.sample()\n",
    "    y = V.cpu().numpy()\n",
    "    res[i] = mg.revised_mi(x.reshape((*x.shape,1)),y,k=3)/np.log(2)\n",
    "(res.mean(axis=0),res.std(axis=0))"
   ]
  },
  {
   "cell_type": "code",
   "execution_count": 18,
   "metadata": {},
   "outputs": [
    {
     "data": {
      "text/plain": [
       "(tensor([0.1831], device='cuda:1'),\n",
       " tensor(0.0125, device='cuda:1'),\n",
       " tensor([0.2316], device='cuda:1'),\n",
       " tensor(0.0082, device='cuda:1'))"
      ]
     },
     "execution_count": 18,
     "metadata": {},
     "output_type": "execute_result"
    }
   ],
   "source": [
    "vine.stimMI(sem_tol=0.01)"
   ]
  },
  {
   "cell_type": "code",
   "execution_count": 13,
   "metadata": {},
   "outputs": [],
   "source": [
    "path = '/home/nina/CopulaGP/synthetic_data'\n",
    "exp_pref='SCVine'\n",
    "data = {}\n",
    "y = V[0].cpu().numpy()\n",
    "assert np.all(y>0) & np.all(y<1)\n",
    "data['X'] = x\n",
    "data['Y'] = y\n",
    "\n",
    "with open(f\"{path}/{exp_pref}_layer0.pkl\",'wb') as f:\n",
    "    pkl.dump(data,f)"
   ]
  },
  {
   "cell_type": "code",
   "execution_count": null,
   "metadata": {},
   "outputs": [
    {
     "name": "stdout",
     "output_type": "stream",
     "text": [
      "Starting SCVine layer 0\n",
      "[Errno 17] File exists: '/home/nina/CopulaGP/synthetic_data/outputs/SCVine'\n",
      "[Errno 17] File exists: '/home/nina/CopulaGP/synthetic_data/outputs/SCVine/layer0'\n",
      "Selecting 0-1 on cpu\n"
     ]
    }
   ],
   "source": [
    "all_results = []\n",
    "for layer in range(len(layers)):\n",
    "\n",
    "    print(f'Starting {exp_pref} layer {layer}')\n",
    "\n",
    "    results = train.train_next_layer(exp_pref, layer, device=device)\n",
    "    all_results.append(results)\n",
    "    with open(f\"{conf.path2outputs}/{exp_pref}/models_layer{layer}.pkl\",\"wb\") as f:\n",
    "        pkl.dump(results,f)\n",
    "    NN = train.transform2next_layer(exp_pref,layer, device)\n",
    "    print(f\"NN = {NN}\")"
   ]
  },
  {
   "cell_type": "code",
   "execution_count": null,
   "metadata": {},
   "outputs": [],
   "source": [
    "with open(f\"{path}/{exp_pref}_layer1.pkl\",'rb') as f:\n",
    "    layer1=pkl.load(f)"
   ]
  },
  {
   "cell_type": "code",
   "execution_count": null,
   "metadata": {},
   "outputs": [],
   "source": [
    "plt.figure(figsize=(3,3))\n",
    "colors = cm.rainbow(x)\n",
    "plt.scatter(layer1['Y'][::10,0],layer1['Y'][::10,1], color=colors[::10])"
   ]
  },
  {
   "cell_type": "code",
   "execution_count": null,
   "metadata": {},
   "outputs": [],
   "source": [
    "Y_new = np.array([V[1][...,0].cpu().numpy(),layer1['Y'][:,0]]).T\n",
    "\n",
    "plt.figure(figsize=(3,3))\n",
    "colors = cm.rainbow(x)\n",
    "plt.scatter(*Y_new.T, color=colors)"
   ]
  },
  {
   "cell_type": "code",
   "execution_count": null,
   "metadata": {},
   "outputs": [],
   "source": [
    "layers = [V[0]]\n",
    "log_prob = 0\n",
    "for layer, copulas in enumerate(vine.layers):\n",
    "    next_layer = []\n",
    "    for n, copula in enumerate(copulas):\n",
    "        print(layer,layer+n+1, copula.copulas)\n",
    "        log_prob += copula.log_prob(layers[-1][:,[n+1,0]])\n",
    "        next_layer.append(copula.ccdf(layers[-1][:,[n+1,0]]))\n",
    "    layers.append(torch.stack(next_layer,dim=-1))\n",
    "print(log_prob.mean())\n",
    "#         samples = torch.tensor(Y[:,[n,0]]).float().squeeze().to(device) # order!"
   ]
  },
  {
   "cell_type": "code",
   "execution_count": null,
   "metadata": {},
   "outputs": [],
   "source": []
  },
  {
   "cell_type": "code",
   "execution_count": null,
   "metadata": {},
   "outputs": [],
   "source": [
    "print(V[0][:,0].shape)\n",
    "\n",
    "plt.figure(figsize=(3,3))\n",
    "colors = cm.rainbow(x)\n",
    "plt.scatter(V[0][:,1].cpu().numpy(),layers[2][:,0].cpu().numpy(), color=colors)"
   ]
  },
  {
   "cell_type": "code",
   "execution_count": null,
   "metadata": {},
   "outputs": [],
   "source": [
    "V[0][...,0].shape"
   ]
  },
  {
   "cell_type": "code",
   "execution_count": null,
   "metadata": {},
   "outputs": [],
   "source": []
  }
 ],
 "metadata": {
  "kernelspec": {
   "display_name": "GPyTorch_new",
   "language": "python",
   "name": "gpytorch_new"
  },
  "language_info": {
   "codemirror_mode": {
    "name": "ipython",
    "version": 3
   },
   "file_extension": ".py",
   "mimetype": "text/x-python",
   "name": "python",
   "nbconvert_exporter": "python",
   "pygments_lexer": "ipython3",
   "version": "3.6.8"
  }
 },
 "nbformat": 4,
 "nbformat_minor": 2
}
