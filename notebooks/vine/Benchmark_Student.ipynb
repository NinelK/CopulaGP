{
 "cells": [
  {
   "cell_type": "code",
   "execution_count": 1,
   "metadata": {},
   "outputs": [],
   "source": [
    "import sys\n",
    "home = '/home/nina/CopulaGP/'\n",
    "sys.path.insert(0, home)"
   ]
  },
  {
   "cell_type": "code",
   "execution_count": 2,
   "metadata": {},
   "outputs": [],
   "source": [
    "from scipy.stats import norm, t\n",
    "import torch\n",
    "import MI\n",
    "import marginal as mg\n",
    "import bvcopula\n",
    "from vine import CVine\n",
    "import pickle as pkl\n",
    "from train import conf\n",
    "import select_copula\n",
    "import utils\n",
    "\n",
    "import matplotlib.pyplot as plt\n",
    "import numpy as np\n",
    "\n",
    "NSamp=10000\n",
    "device = torch.device('cuda:1')\n",
    "x = torch.linspace(0.,1.,NSamp).numpy()\n",
    "train_x = torch.tensor(x).float().to(device=device)"
   ]
  },
  {
   "cell_type": "code",
   "execution_count": 46,
   "metadata": {},
   "outputs": [
    {
     "data": {
      "text/plain": [
       "0.5067255537165143"
      ]
     },
     "execution_count": 46,
     "metadata": {},
     "output_type": "execute_result"
    }
   ],
   "source": [
    "Nvar=2\n",
    "rhos = np.ones(NSamp)*0.7\n",
    "dfs = np.exp(5*np.linspace(0,1,NSamp))+1\n",
    "\n",
    "HRgS = utils.student_H(rhos,dfs,Nvar)/np.log(2)\n",
    "HRgS.mean()"
   ]
  },
  {
   "cell_type": "code",
   "execution_count": 41,
   "metadata": {},
   "outputs": [
    {
     "data": {
      "text/plain": [
       "2.5109975203922317"
      ]
     },
     "execution_count": 41,
     "metadata": {},
     "output_type": "execute_result"
    }
   ],
   "source": [
    "utils.student_H(rhos[0],1e10,Nvar)/np.log(2)"
   ]
  },
  {
   "cell_type": "code",
   "execution_count": 42,
   "metadata": {},
   "outputs": [],
   "source": [
    "from scipy.stats import sem as SEM"
   ]
  },
  {
   "cell_type": "code",
   "execution_count": 55,
   "metadata": {},
   "outputs": [
    {
     "name": "stdout",
     "output_type": "stream",
     "text": [
      "-2.777525721382857 -2.8035855011058697\n",
      "0.026059779723012877 inf\n"
     ]
    },
    {
     "name": "stderr",
     "output_type": "stream",
     "text": [
      "/home/nina/.envs/GPyTorch_new/lib/python3.6/site-packages/ipykernel_launcher.py:22: RuntimeWarning: divide by zero encountered in double_scalars\n"
     ]
    },
    {
     "name": "stdout",
     "output_type": "stream",
     "text": [
      "-2.7686392397164408 -2.79714514012067\n",
      "0.02728284006362136 0.007022649273546878\n"
     ]
    }
   ],
   "source": [
    "sem = float(\"inf\")\n",
    "HRS,HR, var_sum, k = 0,0,0,0\n",
    "N = 1\n",
    "while sem>0.01:\n",
    "    samples = utils.student_rvs(Nvar,rhos,dfs,N)\n",
    "    samples = np.einsum(\"ij...->ji...\",samples)\n",
    "    log_probs = utils.student_logprob(samples,rhos,dfs)\n",
    "    Hrs = log_probs.mean(axis=-1)\n",
    "    Hr = np.zeros((10000,N,NSamp))\n",
    "    for l in range(10000):\n",
    "        perm = np.random.permutation(np.arange(len(rhos)))\n",
    "        Hr[l] = np.exp(utils.student_logprob(samples,rhos[perm],dfs[perm]))\n",
    "    err = SEM(Hr,axis=0).max(axis=-1)\n",
    "    Hr = np.log(Hr.mean(axis=0)).mean(axis=-1)\n",
    "    \n",
    "    print(Hrs.mean(),Hr.mean())\n",
    "    \n",
    "    k+=1\n",
    "    HR += (Hr.mean()-HR)/k\n",
    "    HRS += (Hrs.mean()-HRS)/k\n",
    "    var_sum += ((Hr-HR)**2).sum() + ((Hrs-HRS)**2).sum() + ((err/np.exp(Hr))**2).sum()\n",
    "    sem = norm.ppf(1 - 0.05) * (var_sum / (k * N * (k * N - 1)))**(.5)\n",
    "    print(HRS-HR,sem)"
   ]
  },
  {
   "cell_type": "code",
   "execution_count": 31,
   "metadata": {},
   "outputs": [],
   "source": [
    "y = utils.student_rvs(Nvar,rhos,dfs,1).squeeze()\n",
    "y0 = np.zeros_like(y)\n",
    "for i in range(y.shape[0]):\n",
    "    y0[i] = t.cdf(y[i],df=dfs[i])"
   ]
  },
  {
   "cell_type": "code",
   "execution_count": 32,
   "metadata": {},
   "outputs": [
    {
     "data": {
      "text/plain": [
       "(0.009120063293994713, -2.590284314602333)"
      ]
     },
     "execution_count": 32,
     "metadata": {},
     "output_type": "execute_result"
    }
   ],
   "source": [
    "KSG = mg.revised_mi(x.reshape((*x.shape,1)),y0,)\n",
    "KSG"
   ]
  },
  {
   "cell_type": "code",
   "execution_count": 33,
   "metadata": {},
   "outputs": [
    {
     "name": "stdout",
     "output_type": "stream",
     "text": [
      "0 1\n",
      "0 2\n",
      "1 2\n"
     ]
    }
   ],
   "source": [
    "N = Nvar\n",
    "#redirect logging here\n",
    "exp_pref='benchmark'\n",
    "data_layers = [torch.tensor(y0).float().to(device)]\n",
    "copula_layers = []\n",
    "for m in range(0,N-1):\n",
    "    out_dir = f'{conf.path2outputs}/{exp_pref}/layer{m}'\n",
    "    copulas, layer = [], []\n",
    "    for n in range(1,N-m):\n",
    "        print(m,n+m)\n",
    "        samples = data_layers[-1][...,[n,0]]\n",
    "        waic, model = bvcopula.infer([bvcopula.GaussianCopula_Likelihood(),\n",
    "                                      bvcopula.GumbelCopula_Likelihood(rotation='0°'),\n",
    "                                      bvcopula.GumbelCopula_Likelihood(rotation='180°')],\n",
    "                                     train_x,samples,device=device)\n",
    "#         (likelihoods, waic) = select_copula.select_with_heuristics(x,samples.cpu().numpy(),device,exp_pref,out_dir,m,n+m,\n",
    "#                                                                   train_x=train_x, train_y=samples)\n",
    "#         weights_file = f\"{out_dir}/model_{exp_pref}_{m}-{m+n}.pth\"\n",
    "#         model = utils.get_model(weights_file, likelihoods, device) \n",
    "        with torch.no_grad():\n",
    "            f = model(train_x).mean\n",
    "            copula = model.likelihood.get_copula(f)\n",
    "            copulas.append(copula)\n",
    "            layer.append(copula.ccdf(samples))\n",
    "    data_layers.append(torch.stack(layer,dim=-1))\n",
    "    copula_layers.append(copulas)"
   ]
  },
  {
   "cell_type": "code",
   "execution_count": 34,
   "metadata": {},
   "outputs": [],
   "source": [
    "vine_trained = CVine(copula_layers,train_x,device=device)\n",
    "# with open(f\"{home}vine.pkl\",\"wb\") as f:\n",
    "#     pkl.dump([y,vine_trained],f)"
   ]
  },
  {
   "cell_type": "code",
   "execution_count": 35,
   "metadata": {},
   "outputs": [],
   "source": [
    "# with open(f\"{home}vine.pkl\",\"rb\") as f:\n",
    "#     [y0,vine_trained] = pkl.load(f)"
   ]
  },
  {
   "cell_type": "code",
   "execution_count": 36,
   "metadata": {},
   "outputs": [
    {
     "name": "stdout",
     "output_type": "stream",
     "text": [
      "CPU times: user 7.56 s, sys: 6.93 s, total: 14.5 s\n",
      "Wall time: 2.89 s\n"
     ]
    },
    {
     "data": {
      "text/plain": [
       "(tensor([0.0198], device='cuda:1'),\n",
       " tensor(0.0139, device='cuda:1'),\n",
       " tensor([2.5988], device='cuda:1'),\n",
       " tensor(0.0098, device='cuda:1'))"
      ]
     },
     "execution_count": 36,
     "metadata": {},
     "output_type": "execute_result"
    }
   ],
   "source": [
    "subvine = vine_trained.create_subvine(torch.arange(0,NSamp,50))\n",
    "%time CopulaGP = subvine.stimMI(sem_tol=0.01)\n",
    "\n",
    "CopulaGP"
   ]
  },
  {
   "cell_type": "code",
   "execution_count": 58,
   "metadata": {},
   "outputs": [
    {
     "data": {
      "text/plain": [
       "[[2, 10000],\n",
       " [0.5067255537165143, 0.4864134192466736, 0.42834700404217757],\n",
       " [0.04297121571048656,\n",
       "  0.011314034461975098,\n",
       "  -0.012989229121354083,\n",
       "  -0.00630323777436247],\n",
       " [array([[0.82482911, 0.50218122],\n",
       "         [0.44185201, 0.54418388],\n",
       "         [0.22750769, 0.13326953],\n",
       "         ...,\n",
       "         [0.03646357, 0.02781185],\n",
       "         [0.44690433, 0.06313422],\n",
       "         [0.03237183, 0.11144026]]),\n",
       "  array([0.7, 0.7, 0.7, ..., 0.7, 0.7, 0.7]),\n",
       "  array([  2.        ,   2.00050018,   2.0010006 , ..., 149.2648053 ,\n",
       "         149.33896365, 149.4131591 ])]]"
      ]
     },
     "execution_count": 58,
     "metadata": {},
     "output_type": "execute_result"
    }
   ],
   "source": [
    "results_file = f\"{home}/MI_dump.pkl\"\n",
    "with open(results_file,'rb') as f:\n",
    "    results = pkl.load(f)  \n",
    "i = list(range(len(results)))\n",
    "for k in range(3):\n",
    "    i[3+k]=6+k\n",
    "    i[6+k]=3+k\n",
    "results = [results[j] for j in i]\n",
    "results[0]"
   ]
  },
  {
   "cell_type": "code",
   "execution_count": 59,
   "metadata": {},
   "outputs": [
    {
     "data": {
      "text/plain": [
       "array([ 2,  2,  2,  2,  2,  2,  3,  3,  3,  3,  3,  3,  4,  4,  4,  5,  5,\n",
       "        5,  6,  6,  6,  7,  7,  7,  8,  8,  8,  9,  9,  9, 10, 10, 10])"
      ]
     },
     "execution_count": 59,
     "metadata": {},
     "output_type": "execute_result"
    }
   ],
   "source": [
    "Ns = np.array([res[0][0] for res in results])\n",
    "Ns"
   ]
  },
  {
   "cell_type": "code",
   "execution_count": 60,
   "metadata": {},
   "outputs": [
    {
     "data": {
      "image/png": "[encoded data removed]",
      "text/plain": [
       "<Figure size 288x288 with 1 Axes>"
      ]
     },
     "metadata": {
      "needs_background": "light"
     },
     "output_type": "display_data"
    }
   ],
   "source": [
    "plt.figure(figsize=(4,4))\n",
    "def line(H,label,cut=Ns.max()):\n",
    "    NN = cut+1-Ns.min()\n",
    "    A = np.empty((3,NN))\n",
    "    for i in range(NN):\n",
    "        n = Ns.min()+i\n",
    "        A[0,i] = n\n",
    "        A[1,i] = H[Ns==n].mean()\n",
    "        A[2,i] = H[Ns==n].std()\n",
    "    plt.plot(A[0],A[1],label=label)\n",
    "    plt.fill_between(A[0],A[1]-A[2],A[1]+A[2],color='grey',alpha=0.2)\n",
    "for i,label in enumerate([\"True\",\"CopulaGP\",\"KSG\"]):\n",
    "    line(np.array([res[1][i] for res in results]),label)\n",
    "plt.title(\"StudenT with corr=0.7, df=2↗150\")\n",
    "plt.xlabel(\"#variables (dim Y)\")\n",
    "plt.ylabel(\"$\\int H(Y|X)p(X)dX$\")\n",
    "plt.legend();"
   ]
  },
  {
   "cell_type": "code",
   "execution_count": 25,
   "metadata": {},
   "outputs": [],
   "source": [
    "import torch\n",
    "from torch.autograd import Variable\n",
    "import torch.nn as nn\n",
    "import torch.nn.functional as F\n",
    "\n",
    "def train_MINE(train, H=100, lr=0.01, rep=10, n_epoch=2000, device = torch.device(\"cuda:1\")):\n",
    "\n",
    "    data_size = train.shape[0]\n",
    "    \n",
    "    class Net(nn.Module):\n",
    "        def __init__(self):\n",
    "            super(Net, self).__init__()\n",
    "            self.fc1 = nn.Linear(1, H)\n",
    "            self.fc2 = nn.Linear(train.shape[-1], H)\n",
    "            self.fc3 = nn.Linear(H, 1)\n",
    "\n",
    "        def forward(self, x, y):\n",
    "            h1 = F.relu(self.fc1(x)+self.fc2(y))\n",
    "            h2 = self.fc3(h1)\n",
    "            return h2  \n",
    "    \n",
    "    model = Net().to(device)\n",
    "    optimizer = torch.optim.Adam(model.parameters(), lr=lr)\n",
    "    plot_loss, plot_test = [], []\n",
    "    x_sample = Variable(torch.cat(rep*[torch.linspace(0.,1.,data_size).unsqueeze(-1).to(device)]), \n",
    "                        requires_grad = True)   \n",
    "    y_train = Variable(torch.cat(rep*[torch.from_numpy(train).type(torch.FloatTensor).to(device)]), \n",
    "                       requires_grad = True)\n",
    "    for epoch in range(n_epoch):\n",
    "        y_shuffle = y_train[torch.cat([torch.randperm(data_size) for _ in range(rep)])]\n",
    "\n",
    "        pred_xy = model(x_sample, y_train)\n",
    "        pred_x_y = model(x_sample, y_shuffle)\n",
    "\n",
    "        ret = torch.mean(pred_xy) - torch.log(torch.mean(torch.exp(pred_x_y)))\n",
    "        loss = - ret  # maximize\n",
    "        plot_loss.append(-loss.data.cpu().numpy())\n",
    "        model.zero_grad()\n",
    "        loss.backward()\n",
    "        optimizer.step()\n",
    "    return plot_loss"
   ]
  },
  {
   "cell_type": "code",
   "execution_count": 34,
   "metadata": {},
   "outputs": [
    {
     "name": "stdout",
     "output_type": "stream",
     "text": [
      "CPU times: user 8.43 s, sys: 8.25 s, total: 16.7 s\n",
      "Wall time: 16.5 s\n"
     ]
    },
    {
     "ename": "TypeError",
     "evalue": "bad operand type for unary -: 'list'",
     "output_type": "error",
     "traceback": [
      "\u001b[0;31m---------------------------------------------------------------------------\u001b[0m",
      "\u001b[0;31mTypeError\u001b[0m                                 Traceback (most recent call last)",
      "\u001b[0;32m<ipython-input-34-2bf33c0a39a8>\u001b[0m in \u001b[0;36m<module>\u001b[0;34m\u001b[0m\n\u001b[1;32m      1\u001b[0m \u001b[0mget_ipython\u001b[0m\u001b[0;34m(\u001b[0m\u001b[0;34m)\u001b[0m\u001b[0;34m.\u001b[0m\u001b[0mrun_line_magic\u001b[0m\u001b[0;34m(\u001b[0m\u001b[0;34m'time'\u001b[0m\u001b[0;34m,\u001b[0m \u001b[0;34m'plot_loss = train_MINE(results[-1][-1][0])'\u001b[0m\u001b[0;34m)\u001b[0m\u001b[0;34m\u001b[0m\u001b[0;34m\u001b[0m\u001b[0m\n\u001b[0;32m----> 2\u001b[0;31m \u001b[0mplt\u001b[0m\u001b[0;34m.\u001b[0m\u001b[0mplot\u001b[0m\u001b[0;34m(\u001b[0m\u001b[0;34m-\u001b[0m\u001b[0mplot_loss\u001b[0m\u001b[0;34m)\u001b[0m\u001b[0;34m\u001b[0m\u001b[0;34m\u001b[0m\u001b[0m\n\u001b[0m\u001b[1;32m      3\u001b[0m \u001b[0mprint\u001b[0m\u001b[0;34m(\u001b[0m\u001b[0mnp\u001b[0m\u001b[0;34m.\u001b[0m\u001b[0mmean\u001b[0m\u001b[0;34m(\u001b[0m\u001b[0mplot_loss\u001b[0m\u001b[0;34m[\u001b[0m\u001b[0;34m-\u001b[0m\u001b[0;36m50\u001b[0m\u001b[0;34m:\u001b[0m\u001b[0;34m]\u001b[0m\u001b[0;34m)\u001b[0m\u001b[0;34m,\u001b[0m\u001b[0mnp\u001b[0m\u001b[0;34m.\u001b[0m\u001b[0mstd\u001b[0m\u001b[0;34m(\u001b[0m\u001b[0mplot_loss\u001b[0m\u001b[0;34m[\u001b[0m\u001b[0;34m-\u001b[0m\u001b[0;36m50\u001b[0m\u001b[0;34m:\u001b[0m\u001b[0;34m]\u001b[0m\u001b[0;34m)\u001b[0m\u001b[0;34m)\u001b[0m\u001b[0;34m\u001b[0m\u001b[0;34m\u001b[0m\u001b[0m\n",
      "\u001b[0;31mTypeError\u001b[0m: bad operand type for unary -: 'list'"
     ]
    }
   ],
   "source": [
    "%time plot_loss = train_MINE(results[-1][-1][0])\n",
    "plt.plot(-plot_loss)\n",
    "print(np.mean(plot_loss[-50:]),np.std(plot_loss[-50:]))"
   ]
  },
  {
   "cell_type": "code",
   "execution_count": 62,
   "metadata": {},
   "outputs": [
    {
     "name": "stderr",
     "output_type": "stream",
     "text": [
      "100%|██████████| 33/33 [11:45<00:00, 21.39s/it]\n"
     ]
    }
   ],
   "source": [
    "import tqdm\n",
    "import MI\n",
    "MINEs = []\n",
    "for res in tqdm.tqdm(results):\n",
    "    MINEs.append(MI.train_MINE(res[-1][0],H=100,lr=0.01))\n",
    "MINE100 = MINEs"
   ]
  },
  {
   "cell_type": "code",
   "execution_count": 193,
   "metadata": {},
   "outputs": [
    {
     "data": {
      "image/png": "[encoded data removed]",
      "text/plain": [
       "<Figure size 288x288 with 1 Axes>"
      ]
     },
     "metadata": {
      "needs_background": "light"
     },
     "output_type": "display_data"
    }
   ],
   "source": [
    "plt.figure(figsize=(4,4))\n",
    "\n",
    "plt.plot(true[0],true[1][:,0],label=\"True (MC integral)\")\n",
    "plt.fill_between(true[0],true[1][:,0]-true[1][:,1]/2,true[1][:,0]+true[1][:,1]/2,color='grey',alpha=0.2)\n",
    "\n",
    "for i,label in enumerate([\"Direct MC\",\"CopulaGP\",\"KSG\",\"Mixed KSG\"]):\n",
    "    if i>0:\n",
    "        k=1\n",
    "        if i==3:\n",
    "            k=np.log(2)\n",
    "        line(np.array([res[2][i]/k for res in results]),label)\n",
    "# line(np.array(MINEs20)/np.log(2),\"MINE (H=20)\")\n",
    "# line(np.array(MINEs50)/np.log(2),\"MINE (H=50)\")\n",
    "line(np.array(MINE100)/np.log(2),\"MINE (H=100)\")\n",
    "# line(np.array(MINE1000)/np.log(2),\"MINE (H=1000)\")\n",
    "plt.axhline(0,linestyle='dashed')\n",
    "plt.title(\"StudenT with corr=0.7, df=2↗150\")\n",
    "plt.xlabel(\"#variables (dim Y)\")\n",
    "plt.ylabel(\"MI(X,Y)\")\n",
    "plt.legend(loc=2);"
   ]
  },
  {
   "cell_type": "code",
   "execution_count": 174,
   "metadata": {},
   "outputs": [],
   "source": [
    "\n",
    "# %time plot_loss=train()"
   ]
  },
  {
   "cell_type": "code",
   "execution_count": 188,
   "metadata": {},
   "outputs": [],
   "source": [
    "true = [[2,3,4,6,8,10],\\\n",
    "        np.array([[0.02728,0.00702],[0.04005,0.00984],[0.04672,0.01081],\\\n",
    "                  [0.06067,0.03751],[0.07172, 0.02266],[0.08226,0.04006]])/np.log(2)]"
   ]
  },
  {
   "cell_type": "code",
   "execution_count": 132,
   "metadata": {},
   "outputs": [],
   "source": [
    "samples = utils.student_rvs(6,np.array([0.7]),np.array([2]),1000).squeeze()"
   ]
  },
  {
   "cell_type": "code",
   "execution_count": 104,
   "metadata": {},
   "outputs": [
    {
     "data": {
      "text/plain": [
       "(array([-21.97171935, -20.21348566]), array([36.57134085, 35.62023133]))"
      ]
     },
     "execution_count": 104,
     "metadata": {},
     "output_type": "execute_result"
    }
   ],
   "source": [
    "(samples.min(axis=0),samples.max(axis=0))"
   ]
  },
  {
   "cell_type": "code",
   "execution_count": 174,
   "metadata": {},
   "outputs": [],
   "source": [
    "from scipy.special import beta, gamma, digamma\n",
    "def det(rho,n):\n",
    "    return ((n-1)*rho + 1)*(1-rho)**(n-1)\n",
    "\n",
    "def student_logprob(t,rho,df):\n",
    "    n = t.shape[-1]\n",
    "    D = det(rho,n)\n",
    "    cov = np.ones(n)*rho + (1-rho)*np.identity(n)\n",
    "    tSt = np.dot(np.dot(t.T,np.linalg.inv(cov)),t)\n",
    "    print(n,tSt)\n",
    "    tSt = (rho * (t.sum(axis=-1))**2 - (1+(n-1)*rho)*(t**2).sum(axis=-1) )/ ((n-1)*rho**2 - (n-2)*rho-1)\n",
    "    print(rho,tSt)\n",
    "    #devide by almost D, except that (1-rho)**1, not (1-rho)**(n-1)\n",
    "    C = np.log(gamma(n/2)) - np.log(beta(df/2,n/2)) - 0.5*(n*np.log(np.pi*df)+np.log(np.abs(D)))\n",
    "    return C - ((df+n)/2) * np.log(1 + tSt/df)"
   ]
  },
  {
   "cell_type": "code",
   "execution_count": 179,
   "metadata": {},
   "outputs": [
    {
     "name": "stdout",
     "output_type": "stream",
     "text": [
      "6 -0.2780649374971466\n",
      "-0.7 -0.27806493749714595\n"
     ]
    },
    {
     "data": {
      "text/plain": [
       "-6.553950088755908"
      ]
     },
     "execution_count": 179,
     "metadata": {},
     "output_type": "execute_result"
    }
   ],
   "source": [
    "student_logprob(samples[10],-0.7,10)"
   ]
  },
  {
   "cell_type": "code",
   "execution_count": 135,
   "metadata": {},
   "outputs": [
    {
     "data": {
      "text/plain": [
       "array([0.35798917, 0.68929811, 0.65505537, 0.12992413, 0.17532224,\n",
       "       0.92346463])"
      ]
     },
     "execution_count": 135,
     "metadata": {},
     "output_type": "execute_result"
    }
   ],
   "source": [
    "samples[10]"
   ]
  },
  {
   "cell_type": "code",
   "execution_count": 162,
   "metadata": {},
   "outputs": [
    {
     "data": {
      "text/plain": [
       "6.966666666666667"
      ]
     },
     "execution_count": 162,
     "metadata": {},
     "output_type": "execute_result"
    }
   ],
   "source": [
    "418/60"
   ]
  },
  {
   "cell_type": "code",
   "execution_count": null,
   "metadata": {},
   "outputs": [],
   "source": []
  }
 ],
 "metadata": {
  "kernelspec": {
   "display_name": "GPyTorch_new",
   "language": "python",
   "name": "gpytorch_new"
  },
  "language_info": {
   "codemirror_mode": {
    "name": "ipython",
    "version": 3
   },
   "file_extension": ".py",
   "mimetype": "text/x-python",
   "name": "python",
   "nbconvert_exporter": "python",
   "pygments_lexer": "ipython3",
   "version": "3.6.8"
  }
 },
 "nbformat": 4,
 "nbformat_minor": 2
}
