{
 "cells": [
  {
   "cell_type": "code",
   "execution_count": 12,
   "metadata": {},
   "outputs": [],
   "source": [
    "import pickle as pkl\n",
    "import torch\n",
    "import numpy as np\n",
    "import matplotlib.pyplot as plt\n",
    "from tqdm.notebook import tqdm\n",
    "\n",
    "import sys\n",
    "home = '/home/nina/CopulaGP/'\n",
    "sys.path.insert(0, home)\n",
    "import bvcopula\n",
    "from vine import CVine\n",
    "\n",
    "\n",
    "i=1\n",
    "with open(f'/home/nina/CopulaGP/trained_models/ST260_Day1_Dataset_trained.pkl',\"rb\") as f:\n",
    "    trained_all = pkl.load(f)\n",
    "\n",
    "with open(f'/home/nina/CopulaGP/trained_models/ST260_Day1_Dataset_G_trained.pkl',\"rb\") as f:\n",
    "    trained_gauss = pkl.load(f)\n",
    "\n",
    "device = 'cuda:0'"
   ]
  },
  {
   "cell_type": "code",
   "execution_count": 19,
   "metadata": {
    "scrolled": true
   },
   "outputs": [
    {
     "data": {
      "application/vnd.jupyter.widget-view+json": {
       "model_id": "74d7ea2b0c4747f4a3a8a0a2f9d79bbe",
       "version_major": 2,
       "version_minor": 0
      },
      "text/plain": [
       "HBox(children=(FloatProgress(value=0.0, max=10.0), HTML(value='')))"
      ]
     },
     "metadata": {},
     "output_type": "display_data"
    },
    {
     "name": "stdout",
     "output_type": "stream",
     "text": [
      "CPU times: user 18.3 s, sys: 48 ms, total: 18.4 s\n",
      "Wall time: 18.4 s\n",
      "tensor(1.7582, device='cuda:0')\n",
      "tensor(1.2440, device='cuda:0')\n",
      "tensor(1.0136, device='cuda:0')\n",
      "CPU times: user 4min 19s, sys: 166 ms, total: 4min 20s\n",
      "Wall time: 3min 2s\n",
      "CPU times: user 18.1 s, sys: 64 ms, total: 18.1 s\n",
      "Wall time: 18.1 s\n",
      "tensor(1.7848, device='cuda:0')\n",
      "tensor(1.2324, device='cuda:0')\n",
      "tensor(1.0093, device='cuda:0')\n",
      "CPU times: user 4min 20s, sys: 176 ms, total: 4min 20s\n",
      "Wall time: 3min 2s\n",
      "CPU times: user 18 s, sys: 96 ms, total: 18.1 s\n",
      "Wall time: 18.1 s\n",
      "tensor(1.7521, device='cuda:0')\n",
      "tensor(1.2340, device='cuda:0')\n",
      "tensor(1.0108, device='cuda:0')\n",
      "CPU times: user 4min 21s, sys: 322 ms, total: 4min 21s\n",
      "Wall time: 3min 3s\n",
      "CPU times: user 18.4 s, sys: 92 ms, total: 18.5 s\n",
      "Wall time: 18.5 s\n",
      "tensor(1.7885, device='cuda:0')\n",
      "tensor(1.2515, device='cuda:0')\n",
      "tensor(1.0170, device='cuda:0')\n",
      "CPU times: user 4min 29s, sys: 268 ms, total: 4min 29s\n",
      "Wall time: 3min 8s\n",
      "CPU times: user 17.8 s, sys: 92 ms, total: 17.9 s\n",
      "Wall time: 17.9 s\n",
      "tensor(1.7556, device='cuda:0')\n",
      "tensor(1.2355, device='cuda:0')\n",
      "tensor(1.0168, device='cuda:0')\n",
      "CPU times: user 4min 21s, sys: 242 ms, total: 4min 21s\n",
      "Wall time: 3min 2s\n",
      "CPU times: user 18.2 s, sys: 36 ms, total: 18.2 s\n",
      "Wall time: 18.2 s\n",
      "tensor(1.7629, device='cuda:0')\n",
      "tensor(1.2546, device='cuda:0')\n",
      "tensor(1.0199, device='cuda:0')\n",
      "CPU times: user 4min 28s, sys: 185 ms, total: 4min 28s\n",
      "Wall time: 3min 8s\n",
      "CPU times: user 18.2 s, sys: 88 ms, total: 18.3 s\n",
      "Wall time: 18.3 s\n",
      "tensor(1.8072, device='cuda:0')\n",
      "tensor(1.2538, device='cuda:0')\n",
      "tensor(1.0189, device='cuda:0')\n",
      "CPU times: user 4min 28s, sys: 243 ms, total: 4min 28s\n",
      "Wall time: 3min 8s\n",
      "CPU times: user 18.1 s, sys: 68 ms, total: 18.1 s\n",
      "Wall time: 18.1 s\n",
      "tensor(1.7864, device='cuda:0')\n",
      "tensor(1.2417, device='cuda:0')\n",
      "tensor(1.7502, device='cuda:0')\n",
      "tensor(1.2547, device='cuda:0')\n",
      "tensor(1.0275, device='cuda:0')\n",
      "CPU times: user 4min 39s, sys: 424 ms, total: 4min 40s\n",
      "Wall time: 3min 21s\n",
      "CPU times: user 21.8 s, sys: 64 ms, total: 21.9 s\n",
      "Wall time: 21.9 s\n",
      "tensor(1.8048, device='cuda:0')\n",
      "tensor(1.2503, device='cuda:0')\n",
      "tensor(1.0260, device='cuda:0')\n",
      "CPU times: user 4min 50s, sys: 208 ms, total: 4min 50s\n",
      "Wall time: 3min 30s\n",
      "\n"
     ]
    }
   ],
   "source": [
    "# calculate H(y,v|x)\n",
    "\n",
    "N_points = 200\n",
    "inputs = torch.linspace(0,1,N_points,device=device).float()\n",
    "\n",
    "trained= trained_all\n",
    "\n",
    "Hs = []\n",
    "\n",
    "for reps in tqdm(range(10)):\n",
    "    %time vine = CVine.marginalize(trained['models'],inputs)\n",
    "    sem_tol = 0.1\n",
    "    %time H20 = vine.entropy(sem_tol=sem_tol,mc_size=2000,v=True).cpu().numpy()\n",
    "\n",
    "    Hs.append([H20])"
   ]
  },
  {
   "cell_type": "code",
   "execution_count": null,
   "metadata": {},
   "outputs": [],
   "source": [
    "for h in Hs:\n",
    "    plt.plot(h[0])"
   ]
  },
  {
   "cell_type": "code",
   "execution_count": 8,
   "metadata": {},
   "outputs": [
    {
     "data": {
      "image/png": "[encoded data removed]",
      "text/plain": [
       "<Figure size 432x288 with 1 Axes>"
      ]
     },
     "metadata": {
      "needs_background": "light"
     },
     "output_type": "display_data"
    }
   ],
   "source": [
    "for h in Hs:\n",
    "    plt.plot(h[0])"
   ]
  },
  {
   "cell_type": "code",
   "execution_count": null,
   "metadata": {},
   "outputs": [],
   "source": [
    "with open(f\"{home}/results_redo/HYgX_109V_all.pkl\",\"wb\") as f:\n",
    "    pkl.dump([20,inputs.cpu().numpy(),Hs],f)"
   ]
  },
  {
   "cell_type": "code",
   "execution_count": 9,
   "metadata": {},
   "outputs": [
    {
     "name": "stdout",
     "output_type": "stream",
     "text": [
      "CPU times: user 37.5 s, sys: 104 ms, total: 37.6 s\n",
      "Wall time: 37.5 s\n",
      "Start calculating p(r) 0\n",
      "Finished in 5 steps\n",
      "15.0,12.8,2.14,                        5.62,5.15\n",
      "Start calculating p(r) 1\n",
      "Finished in 5 steps\n",
      "15.5,13.5,2.04,                        4.16,3.81\n",
      "Start calculating p(r) 2\n",
      "Finished in 9 steps\n",
      "15.5,13.3,2.16,                        3.38,3.06\n",
      "Start calculating p(r) 3\n",
      "Finished in 6 steps\n",
      "15.6,13.4,2.15,                        2.91,2.64\n",
      "Start calculating p(r) 4\n",
      "Finished in 3 steps\n",
      "15.7,13.5,2.12,                        2.61,2.36\n",
      "Start calculating p(r) 5\n",
      "Finished in 2 steps\n",
      "15.7,13.6,2.11,                        2.38,2.16\n",
      "Start calculating p(r) 6\n",
      "Finished in 4 steps\n",
      "15.7,13.6,2.1,                        2.19,1.99\n",
      "Start calculating p(r) 7\n",
      "Finished in 5 steps\n",
      "15.6,13.5,2.08,                        2.04,1.86\n",
      "Start calculating p(r) 8\n",
      "Finished in 4 steps\n",
      "15.6,13.6,2.08,                        1.94,1.76\n",
      "Start calculating p(r) 9\n",
      "Finished in 3 steps\n",
      "15.8,13.7,2.08,                        1.86,1.7\n",
      "Start calculating p(r) 10\n",
      "Finished in 35 steps\n",
      "15.7,13.7,2.07,                        1.77,1.61\n",
      "Start calculating p(r) 11\n",
      "Finished in 4 steps\n",
      "15.7,13.6,2.08,                        1.7,1.54\n",
      "Start calculating p(r) 12\n",
      "Finished in 5 steps\n",
      "15.7,13.6,2.07,                        1.62,1.47\n",
      "Start calculating p(r) 13\n",
      "Finished in 6 steps\n",
      "15.7,13.6,2.06,                        1.56,1.42\n",
      "Start calculating p(r) 14\n",
      "Finished in 3 steps\n",
      "15.7,13.7,2.05,                        1.51,1.38\n",
      "Start calculating p(r) 15\n",
      "Finished in 3 steps\n",
      "15.7,13.6,2.05,                        1.45,1.33\n",
      "Start calculating p(r) 16\n",
      "Finished in 4 steps\n",
      "15.7,13.7,2.05,                        1.42,1.3\n",
      "Start calculating p(r) 17\n",
      "Finished in 5 steps\n",
      "15.7,13.6,2.05,                        1.37,1.26\n",
      "Start calculating p(r) 18\n",
      "Finished in 4 steps\n",
      "15.7,13.7,2.05,                        1.34,1.23\n",
      "Start calculating p(r) 19\n",
      "Finished in 9 steps\n",
      "15.8,13.7,2.05,                        1.31,1.2\n",
      "Start calculating p(r) 20\n",
      "Finished in 2 steps\n",
      "15.8,13.8,2.05,                        1.29,1.18\n",
      "Start calculating p(r) 21\n",
      "Finished in 6 steps\n",
      "15.9,13.8,2.04,                        1.26,1.15\n",
      "Start calculating p(r) 22\n",
      "Finished in 8 steps\n",
      "15.8,13.8,2.04,                        1.23,1.13\n",
      "Start calculating p(r) 23\n",
      "Finished in 4 steps\n",
      "15.9,13.8,2.04,                        1.2,1.1\n",
      "Start calculating p(r) 24\n",
      "Finished in 5 steps\n",
      "15.8,13.8,2.03,                        1.17,1.08\n",
      "Start calculating p(r) 25\n",
      "Finished in 5 steps\n",
      "15.8,13.8,2.03,                        1.15,1.06\n",
      "Start calculating p(r) 26\n",
      "Finished in 4 steps\n",
      "15.8,13.8,2.03,                        1.13,1.04\n",
      "Start calculating p(r) 27\n",
      "Finished in 7 steps\n",
      "15.8,13.8,2.03,                        1.11,1.02\n",
      "Start calculating p(r) 28\n",
      "Finished in 2 steps\n",
      "15.9,13.8,2.03,                        1.09,1.0\n",
      "Start calculating p(r) 29\n",
      "Finished in 6 steps\n",
      "15.9,13.8,2.03,                        1.07,0.986\n",
      "Start calculating p(r) 30\n",
      "Finished in 4 steps\n",
      "15.9,13.8,2.03,                        1.06,0.969\n",
      "Start calculating p(r) 31\n",
      "Finished in 8 steps\n",
      "15.9,13.8,2.03,                        1.04,0.954\n",
      "Start calculating p(r) 32\n",
      "Finished in 4 steps\n",
      "15.9,13.8,2.03,                        1.02,0.939\n",
      "Start calculating p(r) 33\n",
      "Finished in 7 steps\n",
      "15.9,13.8,2.03,                        1.01,0.927\n",
      "Start calculating p(r) 34\n",
      "Finished in 6 steps\n",
      "15.9,13.9,2.04,                        0.999,0.915\n",
      "CPU times: user 18min 7s, sys: 1.14 s, total: 18min 8s\n",
      "Wall time: 18min 8s\n"
     ]
    }
   ],
   "source": [
    "# calculate I(u^x,x)\n",
    "MIs = []\n",
    "\n",
    "for trained in [trained_gauss]: #day-1\n",
    "\n",
    "    sem_tol = 0.1\n",
    "    %time vine = CVine.marginalize(trained['models'],torch.tensor(trained['X'],device=device).float())\n",
    "    %time MI = vine.truncate(19).inputMI(sem_tol=sem_tol, s_mc_size=50, r_mc_size=20, sR_mc_size=1000, v=True)\n",
    "    \n",
    "    MIs.append(MI)"
   ]
  },
  {
   "cell_type": "code",
   "execution_count": null,
   "metadata": {},
   "outputs": [],
   "source": []
  }
 ],
 "metadata": {
  "kernelspec": {
   "display_name": "GPyTorch_new",
   "language": "python",
   "name": "gpytorch_new"
  },
  "language_info": {
   "codemirror_mode": {
    "name": "ipython",
    "version": 3
   },
   "file_extension": ".py",
   "mimetype": "text/x-python",
   "name": "python",
   "nbconvert_exporter": "python",
   "pygments_lexer": "ipython3",
   "version": "3.6.9"
  }
 },
 "nbformat": 4,
 "nbformat_minor": 2
}
