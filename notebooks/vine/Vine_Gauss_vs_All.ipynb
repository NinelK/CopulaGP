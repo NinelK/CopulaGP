{
 "cells": [
  {
   "cell_type": "code",
   "execution_count": 10,
   "metadata": {},
   "outputs": [],
   "source": [
    "import pickle as pkl\n",
    "import torch\n",
    "import numpy as np\n",
    "import matplotlib.pyplot as plt\n",
    "from tqdm.notebook import tqdm\n",
    "\n",
    "import sys\n",
    "home = '/home/nina/CopulaGP/'\n",
    "sys.path.insert(0, home)\n",
    "import bvcopula\n",
    "from vine import CVine\n",
    "\n",
    "\n",
    "i=1\n",
    "with open(f'/home/nina/CopulaGP/out/ST260_Day1_trained.pkl',\"rb\") as f:\n",
    "    trained_all = pkl.load(f)\n",
    "\n",
    "with open(f'/home/nina/CopulaGP/out/ST260_Day1_G_trained.pkl',\"rb\") as f:\n",
    "    trained_gauss = pkl.load(f)\n",
    "\n",
    "device = 'cuda:0'"
   ]
  },
  {
   "cell_type": "code",
   "execution_count": 28,
   "metadata": {},
   "outputs": [
    {
     "name": "stdout",
     "output_type": "stream",
     "text": [
      "CPU times: user 11min 50s, sys: 1.17 s, total: 11min 52s\n",
      "Wall time: 13min 2s\n",
      "Start calculating p(r) 0\n"
     ]
    },
    {
     "ename": "RuntimeError",
     "evalue": "CUDA out of memory. Tried to allocate 360.00 MiB (GPU 0; 10.76 GiB total capacity; 6.74 GiB already allocated; 18.12 MiB free; 6.84 GiB reserved in total by PyTorch)",
     "output_type": "error",
     "traceback": [
      "\u001b[0;31m---------------------------------------------------------------------------\u001b[0m",
      "\u001b[0;31mRuntimeError\u001b[0m                              Traceback (most recent call last)",
      "\u001b[0;32m<timed exec>\u001b[0m in \u001b[0;36m<module>\u001b[0;34m\u001b[0m\n",
      "\u001b[0;32m~/CopulaGP/vine/vine.py\u001b[0m in \u001b[0;36minputMI\u001b[0;34m(self, alpha, sem_tol, s_mc_size, r_mc_size, sR_mc_size, v)\u001b[0m\n\u001b[1;32m    362\u001b[0m                     \u001b[0mnew_subset\u001b[0m \u001b[0;34m=\u001b[0m \u001b[0mtorch\u001b[0m\u001b[0;34m.\u001b[0m\u001b[0mrandperm\u001b[0m\u001b[0;34m(\u001b[0m\u001b[0minputs\u001b[0m\u001b[0;34m)\u001b[0m\u001b[0;34m[\u001b[0m\u001b[0;34m:\u001b[0m\u001b[0msR_mc_size\u001b[0m\u001b[0;34m]\u001b[0m \u001b[0;31m# permute samples & inputs\u001b[0m\u001b[0;34m\u001b[0m\u001b[0;34m\u001b[0m\u001b[0m\n\u001b[1;32m    363\u001b[0m                     \u001b[0mnew_subvine\u001b[0m \u001b[0;34m=\u001b[0m \u001b[0mself\u001b[0m\u001b[0;34m.\u001b[0m\u001b[0mcreate_subvine\u001b[0m\u001b[0;34m(\u001b[0m\u001b[0mnew_subset\u001b[0m\u001b[0;34m)\u001b[0m\u001b[0;34m\u001b[0m\u001b[0;34m\u001b[0m\u001b[0m\n\u001b[0;32m--> 364\u001b[0;31m                     \u001b[0mpRs\u001b[0m \u001b[0;34m=\u001b[0m \u001b[0mnew_subvine\u001b[0m\u001b[0;34m.\u001b[0m\u001b[0mlog_prob\u001b[0m\u001b[0;34m(\u001b[0m\u001b[0msamples\u001b[0m\u001b[0;34m)\u001b[0m\u001b[0;34m.\u001b[0m\u001b[0mclamp\u001b[0m\u001b[0;34m(\u001b[0m\u001b[0;34m-\u001b[0m\u001b[0mfloat\u001b[0m\u001b[0;34m(\u001b[0m\u001b[0;34m\"inf\"\u001b[0m\u001b[0;34m)\u001b[0m\u001b[0;34m,\u001b[0m\u001b[0mmax_log\u001b[0m\u001b[0;34m)\u001b[0m\u001b[0;34m.\u001b[0m\u001b[0mexp\u001b[0m\u001b[0;34m(\u001b[0m\u001b[0;34m)\u001b[0m\u001b[0;34m\u001b[0m\u001b[0;34m\u001b[0m\u001b[0m\n\u001b[0m\u001b[1;32m    365\u001b[0m                     \u001b[0;32massert\u001b[0m \u001b[0mtorch\u001b[0m\u001b[0;34m.\u001b[0m\u001b[0mall\u001b[0m\u001b[0;34m(\u001b[0m\u001b[0mpRs\u001b[0m\u001b[0;34m==\u001b[0m\u001b[0mpRs\u001b[0m\u001b[0;34m)\u001b[0m\u001b[0;34m\u001b[0m\u001b[0;34m\u001b[0m\u001b[0m\n\u001b[1;32m    366\u001b[0m                     \u001b[0mkR\u001b[0m \u001b[0;34m+=\u001b[0m \u001b[0;36m1\u001b[0m\u001b[0;34m\u001b[0m\u001b[0;34m\u001b[0m\u001b[0m\n",
      "\u001b[0;32m~/CopulaGP/vine/vine.py\u001b[0m in \u001b[0;36mlog_prob\u001b[0;34m(self, Y)\u001b[0m\n\u001b[1;32m    222\u001b[0m                 \u001b[0mlog_prob\u001b[0m \u001b[0;34m+=\u001b[0m \u001b[0mcopula\u001b[0m\u001b[0;34m.\u001b[0m\u001b[0mlog_prob\u001b[0m\u001b[0;34m(\u001b[0m\u001b[0mlayers\u001b[0m\u001b[0;34m[\u001b[0m\u001b[0;34m-\u001b[0m\u001b[0;36m1\u001b[0m\u001b[0;34m]\u001b[0m\u001b[0;34m[\u001b[0m\u001b[0;34m...\u001b[0m\u001b[0;34m,\u001b[0m\u001b[0;34m[\u001b[0m\u001b[0mn\u001b[0m\u001b[0;34m+\u001b[0m\u001b[0;36m1\u001b[0m\u001b[0;34m,\u001b[0m\u001b[0;36m0\u001b[0m\u001b[0;34m]\u001b[0m\u001b[0;34m]\u001b[0m\u001b[0;34m)\u001b[0m\u001b[0;34m\u001b[0m\u001b[0;34m\u001b[0m\u001b[0m\n\u001b[1;32m    223\u001b[0m                 \u001b[0mnext_layer\u001b[0m\u001b[0;34m.\u001b[0m\u001b[0mappend\u001b[0m\u001b[0;34m(\u001b[0m\u001b[0mcopula\u001b[0m\u001b[0;34m.\u001b[0m\u001b[0mccdf\u001b[0m\u001b[0;34m(\u001b[0m\u001b[0mlayers\u001b[0m\u001b[0;34m[\u001b[0m\u001b[0;34m-\u001b[0m\u001b[0;36m1\u001b[0m\u001b[0;34m]\u001b[0m\u001b[0;34m[\u001b[0m\u001b[0;34m...\u001b[0m\u001b[0;34m,\u001b[0m\u001b[0;34m[\u001b[0m\u001b[0mn\u001b[0m\u001b[0;34m+\u001b[0m\u001b[0;36m1\u001b[0m\u001b[0;34m,\u001b[0m\u001b[0;36m0\u001b[0m\u001b[0;34m]\u001b[0m\u001b[0;34m]\u001b[0m\u001b[0;34m)\u001b[0m\u001b[0;34m)\u001b[0m\u001b[0;34m\u001b[0m\u001b[0;34m\u001b[0m\u001b[0m\n\u001b[0;32m--> 224\u001b[0;31m             \u001b[0mlayers\u001b[0m\u001b[0;34m.\u001b[0m\u001b[0mappend\u001b[0m\u001b[0;34m(\u001b[0m\u001b[0mtorch\u001b[0m\u001b[0;34m.\u001b[0m\u001b[0mstack\u001b[0m\u001b[0;34m(\u001b[0m\u001b[0mnext_layer\u001b[0m\u001b[0;34m,\u001b[0m\u001b[0mdim\u001b[0m\u001b[0;34m=\u001b[0m\u001b[0;34m-\u001b[0m\u001b[0;36m1\u001b[0m\u001b[0;34m)\u001b[0m\u001b[0;34m)\u001b[0m\u001b[0;34m\u001b[0m\u001b[0;34m\u001b[0m\u001b[0m\n\u001b[0m\u001b[1;32m    225\u001b[0m \u001b[0;34m\u001b[0m\u001b[0m\n\u001b[1;32m    226\u001b[0m         \u001b[0;32mreturn\u001b[0m \u001b[0mlog_prob\u001b[0m\u001b[0;34m\u001b[0m\u001b[0;34m\u001b[0m\u001b[0m\n",
      "\u001b[0;31mRuntimeError\u001b[0m: CUDA out of memory. Tried to allocate 360.00 MiB (GPU 0; 10.76 GiB total capacity; 6.74 GiB already allocated; 18.12 MiB free; 6.84 GiB reserved in total by PyTorch)"
     ]
    },
    {
     "data": {
      "text/plain": [
       "(tensor([0.0905], device='cuda:0'),\n",
       " tensor(0.1079, device='cuda:0'),\n",
       " tensor([1.1156], device='cuda:0'),\n",
       " tensor(0.0776, device='cuda:0'))"
      ]
     },
     "execution_count": 28,
     "metadata": {},
     "output_type": "execute_result"
    }
   ],
   "source": [
    "M = 109\n",
    "trained = trained_all\n",
    "# print(len(trained['models']))\n",
    "models = [[trained['models'][i][j] for j in range(M-1-i)] for i in range(min(104,M-1))]\n",
    "\n",
    "sem_tol = 0.1\n",
    "%time vine = CVine.marginalize(models,torch.tensor(trained['X'],device=device).float())\n",
    "%time MI = vine.inputMI(sem_tol=sem_tol, s_mc_size=50, r_mc_size=20, sR_mc_size=1000, v=True)\n",
    "MI"
   ]
  },
  {
   "cell_type": "code",
   "execution_count": 2,
   "metadata": {},
   "outputs": [
    {
     "data": {
      "application/vnd.jupyter.widget-view+json": {
       "model_id": "00d70a40a23744e0b005fa6abdb76437",
       "version_major": 2,
       "version_minor": 0
      },
      "text/plain": [
       "HBox(children=(FloatProgress(value=0.0, max=10.0), HTML(value='')))"
      ]
     },
     "metadata": {},
     "output_type": "display_data"
    },
    {
     "name": "stdout",
     "output_type": "stream",
     "text": [
      "CPU times: user 33.6 s, sys: 47.1 ms, total: 33.7 s\n",
      "Wall time: 33.7 s\n",
      "tensor(2.1292, device='cuda:0')\n",
      "tensor(1.5077, device='cuda:0')\n",
      "tensor(1.2316, device='cuda:0')\n",
      "tensor(1.0665, device='cuda:0')\n",
      "CPU times: user 5min 19s, sys: 243 ms, total: 5min 19s\n",
      "Wall time: 5min 19s\n",
      "CPU times: user 34 s, sys: 104 ms, total: 34.1 s\n",
      "Wall time: 34.1 s\n",
      "tensor(2.0969, device='cuda:0')\n",
      "tensor(1.4812, device='cuda:0')\n",
      "tensor(1.2144, device='cuda:0')\n",
      "tensor(1.0513, device='cuda:0')\n",
      "CPU times: user 5min 13s, sys: 255 ms, total: 5min 14s\n",
      "Wall time: 5min 14s\n",
      "CPU times: user 33.9 s, sys: 71.9 ms, total: 33.9 s\n",
      "Wall time: 33.9 s\n",
      "tensor(2.0854, device='cuda:0')\n",
      "tensor(1.4811, device='cuda:0')\n",
      "tensor(1.2077, device='cuda:0')\n",
      "tensor(1.0463, device='cuda:0')\n",
      "CPU times: user 5min 6s, sys: 188 ms, total: 5min 6s\n",
      "Wall time: 5min 6s\n",
      "CPU times: user 33.9 s, sys: 120 ms, total: 34.1 s\n",
      "Wall time: 34 s\n",
      "tensor(2.0713, device='cuda:0')\n",
      "tensor(1.4670, device='cuda:0')\n",
      "tensor(1.1959, device='cuda:0')\n",
      "tensor(1.0364, device='cuda:0')\n",
      "CPU times: user 5min, sys: 216 ms, total: 5min\n",
      "Wall time: 5min\n",
      "CPU times: user 34.2 s, sys: 80 ms, total: 34.2 s\n",
      "Wall time: 34.2 s\n",
      "tensor(2.1197, device='cuda:0')\n",
      "tensor(1.5039, device='cuda:0')\n",
      "tensor(1.2203, device='cuda:0')\n",
      "tensor(1.0581, device='cuda:0')\n",
      "CPU times: user 5min 14s, sys: 240 ms, total: 5min 14s\n",
      "Wall time: 5min 14s\n",
      "CPU times: user 34.2 s, sys: 96 ms, total: 34.3 s\n",
      "Wall time: 34.3 s\n",
      "tensor(2.0753, device='cuda:0')\n",
      "tensor(1.4683, device='cuda:0')\n",
      "tensor(1.2045, device='cuda:0')\n",
      "tensor(1.0411, device='cuda:0')\n",
      "CPU times: user 5min 6s, sys: 208 ms, total: 5min 6s\n",
      "Wall time: 5min 6s\n",
      "CPU times: user 34 s, sys: 76 ms, total: 34.1 s\n",
      "Wall time: 34.1 s\n",
      "tensor(2.1014, device='cuda:0')\n",
      "tensor(1.4898, device='cuda:0')\n",
      "tensor(1.2151, device='cuda:0')\n",
      "tensor(1.0438, device='cuda:0')\n",
      "CPU times: user 5min 6s, sys: 248 ms, total: 5min 6s\n",
      "Wall time: 5min 6s\n",
      "CPU times: user 34 s, sys: 84 ms, total: 34.1 s\n",
      "Wall time: 34.1 s\n",
      "tensor(2.1310, device='cuda:0')\n",
      "tensor(1.4960, device='cuda:0')\n",
      "tensor(1.2183, device='cuda:0')\n",
      "tensor(1.0531, device='cuda:0')\n",
      "CPU times: user 5min 13s, sys: 280 ms, total: 5min 13s\n",
      "Wall time: 5min 13s\n",
      "CPU times: user 33.9 s, sys: 84 ms, total: 34 s\n",
      "Wall time: 34 s\n",
      "tensor(2.1013, device='cuda:0')\n",
      "tensor(1.4888, device='cuda:0')\n",
      "tensor(1.2216, device='cuda:0')\n",
      "tensor(1.0581, device='cuda:0')\n",
      "CPU times: user 5min 13s, sys: 188 ms, total: 5min 13s\n",
      "Wall time: 5min 13s\n",
      "CPU times: user 33.9 s, sys: 64 ms, total: 34 s\n",
      "Wall time: 33.9 s\n",
      "tensor(2.1075, device='cuda:0')\n",
      "tensor(1.4868, device='cuda:0')\n",
      "tensor(1.2070, device='cuda:0')\n",
      "tensor(1.0443, device='cuda:0')\n",
      "CPU times: user 5min 7s, sys: 192 ms, total: 5min 7s\n",
      "Wall time: 5min 7s\n",
      "\n"
     ]
    }
   ],
   "source": [
    "# calculate H(y,v|x)\n",
    "\n",
    "N_points = 200\n",
    "inputs = torch.linspace(0,1,N_points,device=device).float()\n",
    "\n",
    "trained= trained_gauss\n",
    "\n",
    "Hs = []\n",
    "\n",
    "for reps in tqdm(range(10)):\n",
    "    %time vine = CVine.marginalize(trained['models'],inputs)\n",
    "    sem_tol = 0.1\n",
    "    %time H20 = vine.entropy(sem_tol=sem_tol,mc_size=1500,v=True).cpu().numpy()\n",
    "\n",
    "    Hs.append([H20])"
   ]
  },
  {
   "cell_type": "code",
   "execution_count": 3,
   "metadata": {},
   "outputs": [],
   "source": [
    "with open(f\"{home}/results/HYgX_subpop_Csmall_onlygauss.pkl\",\"wb\") as f:\n",
    "    pkl.dump([20,inputs.cpu().numpy(),Hs],f)"
   ]
  },
  {
   "cell_type": "code",
   "execution_count": 3,
   "metadata": {},
   "outputs": [
    {
     "name": "stdout",
     "output_type": "stream",
     "text": [
      "CPU times: user 11.8 s, sys: 32.7 ms, total: 11.9 s\n",
      "Wall time: 11.9 s\n",
      "CPU times: user 11.1 s, sys: 8.9 ms, total: 11.1 s\n",
      "Wall time: 11.1 s\n",
      "tensor(1.3094, device='cuda:0')\n",
      "CPU times: user 1min 35s, sys: 35.3 ms, total: 1min 35s\n",
      "Wall time: 1min 35s\n",
      "-16.062029\n",
      "CPU times: user 10.9 s, sys: 39.9 ms, total: 11 s\n",
      "Wall time: 11 s\n",
      "CPU times: user 7.1 s, sys: 3.77 ms, total: 7.1 s\n",
      "Wall time: 7.09 s\n",
      "tensor(1.2708, device='cuda:0')\n",
      "CPU times: user 1min 13s, sys: 27.7 ms, total: 1min 13s\n",
      "Wall time: 1min 13s\n",
      "-16.225332\n"
     ]
    }
   ],
   "source": [
    "# calculate H(y,v|x)\n",
    "\n",
    "N_points = 100\n",
    "inputs = torch.linspace(0,1,N_points,device=device).float()\n",
    "\n",
    "vines, Hs = [],[]\n",
    "\n",
    "for trained in [trained_all,trained_gauss]: #day-1\n",
    "\n",
    "    %time vine = CVine.marginalize(trained['models'],inputs)\n",
    "\n",
    "    sem_tol = 0.1\n",
    "    %time H1 = vine.truncate(1).entropy(sem_tol=sem_tol,mc_size=10000,v=True).cpu().numpy()\n",
    "    %time H20 = vine.entropy(sem_tol=sem_tol,mc_size=4000,v=True).cpu().numpy()\n",
    "  \n",
    "    print(H20.mean())\n",
    "    \n",
    "    vines.append(vine)\n",
    "    Hs.append([H1,H20])"
   ]
  },
  {
   "cell_type": "code",
   "execution_count": 4,
   "metadata": {},
   "outputs": [
    {
     "name": "stdout",
     "output_type": "stream",
     "text": [
      "Help on CVine in module vine.vine object:\n",
      "\n",
      "class CVine(builtins.object)\n",
      " |  This class represents copula C-Vine\n",
      " |  \n",
      " |  Methods defined here:\n",
      " |  \n",
      " |  __init__(self, layers, inputs, device=device(type='cpu'))\n",
      " |      Attributes\n",
      " |      ----------\n",
      " |      N: int\n",
      " |          Number of variables\n",
      " |      inputs: int\n",
      " |          Input points\n",
      " |      layers:\n",
      " |          A list of layers. Each layer should contain N-1-i\n",
      " |          MixtureCopula models, where i is the layer's number.\n",
      " |  \n",
      " |  create_subvine(self, input_idxs:torch.Tensor)\n",
      " |      Creates a CVine object, defined on the subset of inputs\n",
      " |      input_idxs: torch.Tensor\n",
      " |          indexes of the input elements to keep\n",
      " |  \n",
      " |  entropy(self, alpha=0.05, sem_tol=0.001, mc_size=10000, v=False)\n",
      " |      Estimates the entropy of the mixture of copulas \n",
      " |      with the Robbins-Monro algorithm.\n",
      " |      Parameters\n",
      " |      ----------\n",
      " |      alpha : float, optional\n",
      " |          Significance level of the entropy estimate.  (Default: 0.05)\n",
      " |      sem_tol : float, optional\n",
      " |          Maximum standard error as a stopping criterion.  (Default: 1e-3)\n",
      " |      mc_size : integer, optional\n",
      " |          Number of samples that are drawn in each iteration of the Monte\n",
      " |          Carlo estimation.  (Default: 10000)\n",
      " |      v : bool, default = False\n",
      " |          Verbose mode\n",
      " |      Returns\n",
      " |      -------\n",
      " |      ent : float\n",
      " |          Estimate of the entropy in bits.\n",
      " |      sem? : float\n",
      " |          Standard error of the entropy estimate in bits.\n",
      " |  \n",
      " |  inputMI(self, alpha=0.05, sem_tol=0.01, s_mc_size=200, r_mc_size=50, sR_mc_size=5000, v=False)\n",
      " |      Estimates the mutual information between the GP inputs\n",
      " |      and the outputs (observable variables\n",
      " |      modelled with copula mixture) with the Robbins-Monro algorithm.\n",
      " |      Parameters\n",
      " |      ----------\n",
      " |      alpha : float, optional\n",
      " |          Significance level of the entropy estimate.  (Default: 0.05)\n",
      " |      sem_tol : float, optional\n",
      " |          Maximum standard error as a stopping criterion.  (Default: 1e-3)\n",
      " |      s_mc_size : integer, optional\n",
      " |          Number of input samples that are drawn from S in each iteration \n",
      " |          of the MI estimation.  (Default: 200)\n",
      " |      r_mc_size : integer, optional\n",
      " |          Number of output samples that are drawn from a copula model for \n",
      " |          a set of inputs (size of s_mc_size) in each iteration of \n",
      " |          the MI estimation.  (Default: 20)\n",
      " |      sR_mc_size : integer, optional            \n",
      " |          Number of input samples that are drawn from S in each iteration \n",
      " |          of the p(R) estimation. (Default: 5000)\n",
      " |      v : bool, default = False\n",
      " |          Verbose mode\n",
      " |      Returns\n",
      " |      -------\n",
      " |      ent : float\n",
      " |          Estimate of the MI in bits.\n",
      " |      sem : float\n",
      " |          Standard error of the MI estimate in bits.\n",
      " |  \n",
      " |  log_prob(self, Y:torch.Tensor) -> torch.Tensor\n",
      " |  \n",
      " |  sample(self, sample_size=torch.Size([]))\n",
      " |  \n",
      " |  truncate(self, Ncut:int)\n",
      " |      Creates a truncated vine, with the models in \n",
      " |      the last Ncut layers replaced with Independence.\n",
      " |      Parameters\n",
      " |      ----------\n",
      " |      Ncut: int\n",
      " |          Number of layers to truncate\n",
      " |      Returns\n",
      " |      ----------\n",
      " |      truncated: CVine\n",
      " |          Truncated vine\n",
      " |  \n",
      " |  ----------------------------------------------------------------------\n",
      " |  Class methods defined here:\n",
      " |  \n",
      " |  marginalize(models_list, X, just_layers=False) from builtins.type\n",
      " |      This method takes a list of models (serialized),\n",
      " |      sequentially initialises Pair Copula-GP\n",
      " |      and marginalises the GP out\n",
      " |  \n",
      " |  mean(models_list, X, device=device(type='cpu'), just_layers=False) from builtins.type\n",
      " |      This method takes a list of models (serialized),\n",
      " |      sequentially initialises Pair Copula-GP\n",
      " |      and takes the mean GP parameters\n",
      " |  \n",
      " |  ----------------------------------------------------------------------\n",
      " |  Data descriptors defined here:\n",
      " |  \n",
      " |  __dict__\n",
      " |      dictionary for instance variables (if defined)\n",
      " |  \n",
      " |  __weakref__\n",
      " |      list of weak references to the object (if defined)\n",
      " |  \n",
      " |  effective_dims\n",
      " |      Calculates the effective dimensionality of the data.\n",
      " |      This method takes all non-independence elements in the vine,\n",
      " |      and uses this number `m` to estimate `dim = sqrt(2*m)`.\n",
      "\n"
     ]
    }
   ],
   "source": [
    "help(vines[0])"
   ]
  },
  {
   "cell_type": "code",
   "execution_count": 6,
   "metadata": {},
   "outputs": [
    {
     "data": {
      "text/plain": [
       "<matplotlib.legend.Legend at 0x7fa2fa74ca20>"
      ]
     },
     "execution_count": 6,
     "metadata": {},
     "output_type": "execute_result"
    },
    {
     "data": {
      "image/png": "[encoded data removed]",
      "text/plain": [
       "<Figure size 432x288 with 1 Axes>"
      ]
     },
     "metadata": {
      "needs_background": "light"
     },
     "output_type": "display_data"
    }
   ],
   "source": [
    "def one_plot(H,c,l,style='solid'):\n",
    "    plt.plot(inputs.cpu().numpy()*160,H,c=c,label=f\"Day{l}\",linestyle=style)\n",
    "for i in range(2):\n",
    "    one_plot(Hs[i][1],f\"C{i}\",i+1)\n",
    "plt.axvline(120,color='k',linestyle='dashed')\n",
    "plt.axvline(140,color='k',linestyle='dashed')\n",
    "plt.xlabel('t [s]')\n",
    "plt.ylabel('H [bit]')\n",
    "plt.title(f'H(Y|V,X), linear')\n",
    "plt.legend()"
   ]
  },
  {
   "cell_type": "code",
   "execution_count": 7,
   "metadata": {},
   "outputs": [
    {
     "data": {
      "text/plain": [
       "0.01006472110748291"
      ]
     },
     "execution_count": 7,
     "metadata": {},
     "output_type": "execute_result"
    }
   ],
   "source": [
    "1-Hs[0][1].mean()/Hs[1][1].mean()"
   ]
  },
  {
   "cell_type": "code",
   "execution_count": 9,
   "metadata": {},
   "outputs": [
    {
     "name": "stdout",
     "output_type": "stream",
     "text": [
      "CPU times: user 37.5 s, sys: 104 ms, total: 37.6 s\n",
      "Wall time: 37.5 s\n",
      "Start calculating p(r) 0\n",
      "Finished in 5 steps\n",
      "15.0,12.8,2.14,                        5.62,5.15\n",
      "Start calculating p(r) 1\n",
      "Finished in 5 steps\n",
      "15.5,13.5,2.04,                        4.16,3.81\n",
      "Start calculating p(r) 2\n",
      "Finished in 9 steps\n",
      "15.5,13.3,2.16,                        3.38,3.06\n",
      "Start calculating p(r) 3\n",
      "Finished in 6 steps\n",
      "15.6,13.4,2.15,                        2.91,2.64\n",
      "Start calculating p(r) 4\n",
      "Finished in 3 steps\n",
      "15.7,13.5,2.12,                        2.61,2.36\n",
      "Start calculating p(r) 5\n",
      "Finished in 2 steps\n",
      "15.7,13.6,2.11,                        2.38,2.16\n",
      "Start calculating p(r) 6\n",
      "Finished in 4 steps\n",
      "15.7,13.6,2.1,                        2.19,1.99\n",
      "Start calculating p(r) 7\n",
      "Finished in 5 steps\n",
      "15.6,13.5,2.08,                        2.04,1.86\n",
      "Start calculating p(r) 8\n",
      "Finished in 4 steps\n",
      "15.6,13.6,2.08,                        1.94,1.76\n",
      "Start calculating p(r) 9\n",
      "Finished in 3 steps\n",
      "15.8,13.7,2.08,                        1.86,1.7\n",
      "Start calculating p(r) 10\n",
      "Finished in 35 steps\n",
      "15.7,13.7,2.07,                        1.77,1.61\n",
      "Start calculating p(r) 11\n",
      "Finished in 4 steps\n",
      "15.7,13.6,2.08,                        1.7,1.54\n",
      "Start calculating p(r) 12\n",
      "Finished in 5 steps\n",
      "15.7,13.6,2.07,                        1.62,1.47\n",
      "Start calculating p(r) 13\n",
      "Finished in 6 steps\n",
      "15.7,13.6,2.06,                        1.56,1.42\n",
      "Start calculating p(r) 14\n",
      "Finished in 3 steps\n",
      "15.7,13.7,2.05,                        1.51,1.38\n",
      "Start calculating p(r) 15\n",
      "Finished in 3 steps\n",
      "15.7,13.6,2.05,                        1.45,1.33\n",
      "Start calculating p(r) 16\n",
      "Finished in 4 steps\n",
      "15.7,13.7,2.05,                        1.42,1.3\n",
      "Start calculating p(r) 17\n",
      "Finished in 5 steps\n",
      "15.7,13.6,2.05,                        1.37,1.26\n",
      "Start calculating p(r) 18\n",
      "Finished in 4 steps\n",
      "15.7,13.7,2.05,                        1.34,1.23\n",
      "Start calculating p(r) 19\n",
      "Finished in 9 steps\n",
      "15.8,13.7,2.05,                        1.31,1.2\n",
      "Start calculating p(r) 20\n",
      "Finished in 2 steps\n",
      "15.8,13.8,2.05,                        1.29,1.18\n",
      "Start calculating p(r) 21\n",
      "Finished in 6 steps\n",
      "15.9,13.8,2.04,                        1.26,1.15\n",
      "Start calculating p(r) 22\n",
      "Finished in 8 steps\n",
      "15.8,13.8,2.04,                        1.23,1.13\n",
      "Start calculating p(r) 23\n",
      "Finished in 4 steps\n",
      "15.9,13.8,2.04,                        1.2,1.1\n",
      "Start calculating p(r) 24\n",
      "Finished in 5 steps\n",
      "15.8,13.8,2.03,                        1.17,1.08\n",
      "Start calculating p(r) 25\n",
      "Finished in 5 steps\n",
      "15.8,13.8,2.03,                        1.15,1.06\n",
      "Start calculating p(r) 26\n",
      "Finished in 4 steps\n",
      "15.8,13.8,2.03,                        1.13,1.04\n",
      "Start calculating p(r) 27\n",
      "Finished in 7 steps\n",
      "15.8,13.8,2.03,                        1.11,1.02\n",
      "Start calculating p(r) 28\n",
      "Finished in 2 steps\n",
      "15.9,13.8,2.03,                        1.09,1.0\n",
      "Start calculating p(r) 29\n",
      "Finished in 6 steps\n",
      "15.9,13.8,2.03,                        1.07,0.986\n",
      "Start calculating p(r) 30\n",
      "Finished in 4 steps\n",
      "15.9,13.8,2.03,                        1.06,0.969\n",
      "Start calculating p(r) 31\n",
      "Finished in 8 steps\n",
      "15.9,13.8,2.03,                        1.04,0.954\n",
      "Start calculating p(r) 32\n",
      "Finished in 4 steps\n",
      "15.9,13.8,2.03,                        1.02,0.939\n",
      "Start calculating p(r) 33\n",
      "Finished in 7 steps\n",
      "15.9,13.8,2.03,                        1.01,0.927\n",
      "Start calculating p(r) 34\n",
      "Finished in 6 steps\n",
      "15.9,13.9,2.04,                        0.999,0.915\n",
      "CPU times: user 18min 7s, sys: 1.14 s, total: 18min 8s\n",
      "Wall time: 18min 8s\n"
     ]
    }
   ],
   "source": [
    "# calculate I(u^x,x)\n",
    "MIs = []\n",
    "\n",
    "for trained in [trained_gauss]: #day-1\n",
    "\n",
    "    sem_tol = 0.1\n",
    "    %time vine = CVine.marginalize(trained['models'],torch.tensor(trained['X'],device=device).float())\n",
    "    %time MI = vine.truncate(19).inputMI(sem_tol=sem_tol, s_mc_size=50, r_mc_size=20, sR_mc_size=1000, v=True)\n",
    "    \n",
    "    MIs.append(MI)"
   ]
  },
  {
   "cell_type": "code",
   "execution_count": 10,
   "metadata": {},
   "outputs": [
    {
     "data": {
      "text/plain": [
       "(tensor([2.0377], device='cuda:0'),\n",
       " tensor(0.1355, device='cuda:0'),\n",
       " tensor([15.8886], device='cuda:0'),\n",
       " tensor(0.0915, device='cuda:0'))"
      ]
     },
     "execution_count": 10,
     "metadata": {},
     "output_type": "execute_result"
    }
   ],
   "source": [
    "#2.18\n",
    "MI"
   ]
  },
  {
   "cell_type": "code",
   "execution_count": 12,
   "metadata": {},
   "outputs": [
    {
     "data": {
      "text/plain": [
       "0.05990783410138245"
      ]
     },
     "execution_count": 12,
     "metadata": {},
     "output_type": "execute_result"
    }
   ],
   "source": [
    "1-2.04/2.17"
   ]
  },
  {
   "cell_type": "code",
   "execution_count": null,
   "metadata": {},
   "outputs": [],
   "source": []
  }
 ],
 "metadata": {
  "kernelspec": {
   "display_name": "GPyTorch_new",
   "language": "python",
   "name": "gpytorch_new"
  },
  "language_info": {
   "codemirror_mode": {
    "name": "ipython",
    "version": 3
   },
   "file_extension": ".py",
   "mimetype": "text/x-python",
   "name": "python",
   "nbconvert_exporter": "python",
   "pygments_lexer": "ipython3",
   "version": "3.6.9"
  }
 },
 "nbformat": 4,
 "nbformat_minor": 2
}
