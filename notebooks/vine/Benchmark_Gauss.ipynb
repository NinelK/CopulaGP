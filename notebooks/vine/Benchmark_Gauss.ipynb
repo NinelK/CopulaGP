{
 "cells": [
  {
   "cell_type": "code",
   "execution_count": 1,
   "metadata": {},
   "outputs": [],
   "source": [
    "import sys\n",
    "home = '/home/nina/CopulaGP/'\n",
    "sys.path.insert(0, home)"
   ]
  },
  {
   "cell_type": "code",
   "execution_count": 2,
   "metadata": {},
   "outputs": [],
   "source": [
    "from scipy.stats import norm\n",
    "import torch\n",
    "import MI\n",
    "import marginal as mg\n",
    "import bvcopula\n",
    "from vine import CVine\n",
    "import pickle as pkl\n",
    "from train import conf\n",
    "import select_copula\n",
    "import utils\n",
    "\n",
    "import matplotlib.pyplot as plt\n",
    "import numpy as np\n"
   ]
  },
  {
   "cell_type": "code",
   "execution_count": 42,
   "metadata": {},
   "outputs": [],
   "source": [
    "NSamp=10000\n",
    "device = torch.device('cuda:1')\n",
    "x = torch.linspace(0.,1.,NSamp).numpy()\n",
    "train_x = torch.tensor(x).float().to(device=device)\n",
    "Nvar = 5\n",
    "rhos = np.linspace(0.,1.,NSamp)\n",
    "\n",
    "def cov(rho):\n",
    "    return np.identity(Nvar)*(1-rho)+np.ones((Nvar,Nvar))*rho\n",
    "# data = np.array([mvn.rvs(np.zeros(Nvar),cov(rho),1) for rho in rhos]).squeeze()\n",
    "# data.shape"
   ]
  },
  {
   "cell_type": "code",
   "execution_count": 43,
   "metadata": {},
   "outputs": [],
   "source": [
    "# def det(rho,n):\n",
    "#     return ((n-1)*rho + 1)*(1-rho)**(n-1)\n",
    "# def entropy(rho,n):\n",
    "#     return -0.5*np.log(np.abs(det(rho,n)))\n",
    "lin_gauss = bvcopula.MixtureCopula(torch.linspace(-.1,.9,NSamp,device=device).unsqueeze(0),\n",
    "                    torch.ones(1,NSamp,device=device),\n",
    "                    [bvcopula.GaussianCopula_Likelihood().copula])"
   ]
  },
  {
   "cell_type": "code",
   "execution_count": 44,
   "metadata": {},
   "outputs": [],
   "source": [
    "copula_layers = [[lin_gauss for j in range(Nvar-1-i)] for i in range(Nvar-1)]\n",
    "vine = CVine(copula_layers,train_x,device=device)\n",
    "# subvine = vine.create_subvine(torch.arange(0,NSamp,5))\n",
    "# %time CopulaGP = subvine.stimMI(s_mc_size=1000, r_mc_size=10, sem_tol=0.01)\n",
    "\n",
    "# CopulaGP\n",
    "# vine.entropy(sem_tol=0.01, mc_size=1000, v=True).mean()"
   ]
  },
  {
   "cell_type": "code",
   "execution_count": 45,
   "metadata": {},
   "outputs": [],
   "source": [
    "y=vine.sample().cpu().numpy()"
   ]
  },
  {
   "cell_type": "code",
   "execution_count": 46,
   "metadata": {},
   "outputs": [],
   "source": [
    "new_y = y.copy()\n",
    "new_y += np.repeat(y.prod(axis=-1).reshape(NSamp,1),Nvar,axis=-1)**(1/Nvar)\n",
    "transformed_y = (np.argsort(new_y.flatten()).argsort()/new_y.size).reshape(new_y.shape)"
   ]
  },
  {
   "cell_type": "code",
   "execution_count": 41,
   "metadata": {},
   "outputs": [],
   "source": [
    "MI.train_MINE(y,H=500,device=device)"
   ]
  },
  {
   "cell_type": "code",
   "execution_count": null,
   "metadata": {},
   "outputs": [],
   "source": [
    "KSG = MI.BI_KSG(x.reshape((*x.shape,1)),new_y,)\n",
    "KSG"
   ]
  },
  {
   "cell_type": "code",
   "execution_count": null,
   "metadata": {},
   "outputs": [],
   "source": [
    "MI.Mixed_KSG(x,new_y)"
   ]
  },
  {
   "cell_type": "code",
   "execution_count": null,
   "metadata": {},
   "outputs": [],
   "source": [
    "# MI.LNN_MI(x.reshape((*x.shape,1)),y,)/np.log(2)"
   ]
  },
  {
   "cell_type": "code",
   "execution_count": null,
   "metadata": {},
   "outputs": [],
   "source": [
    "plt.figure(figsize=(3,3))\n",
    "plt.scatter(*transformed_y[:,[0,1]].T,alpha=0.05)"
   ]
  },
  {
   "cell_type": "code",
   "execution_count": 32,
   "metadata": {},
   "outputs": [
    {
     "name": "stdout",
     "output_type": "stream",
     "text": [
      "Best added copula: Clayton 180° (WAIC = -0.2334)\n",
      "Best added copula: Gaussian  (WAIC = -0.2392)\n",
      "Best added copula: Clayton 0° (WAIC = -0.2396)\n",
      "Best added copula: Gumbel 180° (WAIC = -0.2395)\n",
      "The best model is Clayton0°GaussianClayton180° with WAIC = -0.2396\n",
      "Model reduced to Clayton180°\n",
      "History:\n",
      "Clayton180° with WAIC = -0.2334\n",
      "GaussianClayton180° with WAIC = -0.2392\n",
      "Clayton180° with WAIC = -0.2334\n"
     ]
    },
    {
     "data": {
      "text/plain": [
       "[ClaytonCopula_Likelihood(\n",
       "   (quadrature): GaussHermiteQuadrature1D()\n",
       " )]"
      ]
     },
     "execution_count": 32,
     "metadata": {},
     "output_type": "execute_result"
    }
   ],
   "source": [
    "samples = torch.tensor(transformed_y[:,[0,1]]).clamp(0.001,0.999).float().to(device)\n",
    "out = '/home/nina/CopulaGP/synthetic_data/outputs'\n",
    "(likelihoods, waic) = select_copula.select_copula_model(x,transformed_y[:,[0,1]],device,'benchmark',out,0,1,\n",
    "                                    train_x=train_x[torch.randperm(NSamp)], train_y=samples) #[torch.randperm(NSamp)]\n",
    "likelihoods"
   ]
  },
  {
   "cell_type": "code",
   "execution_count": 26,
   "metadata": {},
   "outputs": [],
   "source": [
    "likelihoodTU = [bvcopula.IndependenceCopula_Likelihood(),\n",
    "                bvcopula.GaussianCopula_Likelihood(),\n",
    "                bvcopula.GumbelCopula_Likelihood(rotation='0°'),\n",
    "                bvcopula.GumbelCopula_Likelihood(rotation='180°')] # True unconditional\n",
    "likelihoodC =  [bvcopula.GaussianCopula_Likelihood(),\n",
    "                bvcopula.GumbelCopula_Likelihood(rotation='180°')]\n",
    "likelihoodU =  [bvcopula.GaussianCopula_Likelihood(),\n",
    "                bvcopula.GumbelCopula_Likelihood(rotation='0°'),\n",
    "                bvcopula.GumbelCopula_Likelihood(rotation='180°')] #0.5096\n",
    "\n",
    "\n",
    "samples = torch.tensor(transformed_y[:,[0,1]]).clamp(0.001,0.999).float().to(device)\n",
    "waic, model = bvcopula.infer(likelihoodC,train_x,samples,device=device) #[torch.randperm(NSamp)]\n",
    "waic"
   ]
  },
  {
   "cell_type": "code",
   "execution_count": null,
   "metadata": {},
   "outputs": [],
   "source": [
    "fig, ax = plt.subplots(1,2,figsize=(10,2))\n",
    "\n",
    "utils.Plot_MixModel_Param_MCMC(ax,model,torch.linspace(0,1,50,device=device),np.linspace(0,1,50),particles=200)"
   ]
  },
  {
   "cell_type": "code",
   "execution_count": 47,
   "metadata": {},
   "outputs": [],
   "source": [
    "#redirect logging here\n",
    "def train4entropy(x,y,likelihood,shuffle=False):\n",
    "    Nvar = y.shape[-1]\n",
    "    data_layers = [torch.tensor(y).clamp(0.001,0.999).float().to(device)]\n",
    "    copula_layers, model_layers = [[],[],[],[]], []\n",
    "    for m in range(0,Nvar-1):\n",
    "        copulas, layer, models = [[],[],[],[]], [], []\n",
    "        for n in range(1,Nvar-m):\n",
    "            print(m,n+m)\n",
    "            if shuffle:\n",
    "                x = x[torch.randperm(NSamp)]\n",
    "            samples = data_layers[-1][...,[n,0]]\n",
    "            waic, model = bvcopula.infer(likelihood,x,samples,device=device) \n",
    "            print(f'WAIC: {waic}')\n",
    "            if shuffle:\n",
    "                x = x[torch.randperm(NSamp)]\n",
    "            with torch.no_grad():\n",
    "                f = model(x).mean\n",
    "                copula = model.likelihood.get_copula(f)\n",
    "                copulas[0].append(copula)\n",
    "                layer.append(copula.ccdf(samples))\n",
    "                fs = model(x).sample(torch.Size([3]))\n",
    "                for i,f in enumerate(fs):\n",
    "                    copulas[i+1].append(model.likelihood.get_copula(f))\n",
    "                models.append(model)\n",
    "        data_layers.append(torch.stack(layer,dim=-1))\n",
    "        for i,c in enumerate(copulas):\n",
    "            copula_layers[i].append(c)\n",
    "        model_layers.append(models)\n",
    "    print('Trained')\n",
    "    vine_trained = CVine(copula_layers[0],x,device=device)\n",
    "    entropies = vine_trained.entropy(sem_tol=0.01*Nvar, mc_size=3000, v=True)\n",
    "    Hs = []\n",
    "    for i,c in enumerate(copula_layers[1:]):\n",
    "        vine = CVine(c,x,device=device)\n",
    "        Hs.append(vine.entropy(sem_tol=0.01*Nvar, mc_size=3000, v=True))\n",
    "    return model_layers, vine_trained, entropies, Hs\n",
    "likelihoodC =  [bvcopula.GaussianCopula_Likelihood(),\n",
    "                bvcopula.GumbelCopula_Likelihood(rotation='180°'),\n",
    "                bvcopula.GumbelCopula_Likelihood(rotation='0°')]\n",
    "likelihoodU =  [bvcopula.GaussianCopula_Likelihood(),\n",
    "                bvcopula.GumbelCopula_Likelihood(rotation='180°'),\n",
    "                bvcopula.GumbelCopula_Likelihood(rotation='0°')] "
   ]
  },
  {
   "cell_type": "code",
   "execution_count": 50,
   "metadata": {},
   "outputs": [
    {
     "name": "stdout",
     "output_type": "stream",
     "text": [
      "0 1\n",
      "WAIC: -0.5878925919532776\n",
      "0 2\n",
      "WAIC: -0.5947193503379822\n",
      "0 3\n",
      "WAIC: -0.5895063877105713\n",
      "0 4\n",
      "WAIC: -0.5909173488616943\n",
      "1 2\n",
      "WAIC: -0.24898339807987213\n",
      "1 3\n",
      "WAIC: -0.24858659505844116\n",
      "1 4\n",
      "WAIC: -0.25367027521133423\n",
      "2 3\n",
      "WAIC: -0.20709653198719025\n",
      "2 4\n",
      "WAIC: -0.20718801021575928\n",
      "3 4\n",
      "WAIC: -0.17732387781143188\n",
      "Trained\n",
      "tensor(1.0486, device='cuda:1')\n",
      "tensor(1.1241, device='cuda:1')\n",
      "tensor(0.9915, device='cuda:1')\n",
      "tensor(1.0090, device='cuda:1')\n"
     ]
    }
   ],
   "source": [
    "modelsC, vineC, eC, Hs = train4entropy(train_x,transformed_y,likelihoodC, shuffle=False)\n",
    "# modelsU, vineU, eU = train4entropy(train_x,transformed_y,likelihoodU,shuffle=True)"
   ]
  },
  {
   "cell_type": "code",
   "execution_count": 51,
   "metadata": {},
   "outputs": [],
   "source": [
    "# sample_layers = []\n",
    "# for layer in modelsC:\n",
    "#     copulas = []\n",
    "#     for model in layer:\n",
    "#         with torch.no_grad():\n",
    "#             f = model(train_x).sample(torch.Size([2]))\n",
    "#             print(f.shape)\n",
    "#             copula = model.likelihood.get_copula(f)\n",
    "#             copulas.append(copula)\n",
    "#     sample_layers.append(copulas)\n",
    "# vine = CVine(sample_layers,train_x,device=device)\n",
    "# entropies = vine.entropy(sem_tol=0.01*Nvar, mc_size=3000, v=True)"
   ]
  },
  {
   "cell_type": "code",
   "execution_count": 52,
   "metadata": {},
   "outputs": [
    {
     "name": "stdout",
     "output_type": "stream",
     "text": [
      "tensor(-5.0656, device='cuda:1')\n",
      "tensor(-5.0362, device='cuda:1')\n",
      "tensor(-5.0386, device='cuda:1')\n"
     ]
    },
    {
     "data": {
      "text/plain": [
       "<matplotlib.lines.Line2D at 0x7f8c9de87908>"
      ]
     },
     "execution_count": 52,
     "metadata": {},
     "output_type": "execute_result"
    },
    {
     "data": {
      "image/png": "[encoded data removed]",
      "text/plain": [
       "<Figure size 432x288 with 1 Axes>"
      ]
     },
     "metadata": {
      "needs_background": "light"
     },
     "output_type": "display_data"
    }
   ],
   "source": [
    "plt.plot(-eC.cpu().numpy())\n",
    "for H in Hs:\n",
    "    print(H.mean())\n",
    "    plt.plot(-H.cpu().numpy())\n",
    "plt.axhline(-eC.mean().cpu().numpy())\n",
    "# (eU-eC).mean()"
   ]
  },
  {
   "cell_type": "code",
   "execution_count": 14,
   "metadata": {},
   "outputs": [
    {
     "data": {
      "text/plain": [
       "tensor(-0.0793, device='cuda:1')"
      ]
     },
     "execution_count": 14,
     "metadata": {},
     "output_type": "execute_result"
    }
   ],
   "source": [
    "entropies.mean()-eC.mean()"
   ]
  },
  {
   "cell_type": "code",
   "execution_count": 28,
   "metadata": {},
   "outputs": [
    {
     "data": {
      "image/png": "[encoded data removed]",
      "text/plain": [
       "<Figure size 720x144 with 2 Axes>"
      ]
     },
     "metadata": {
      "needs_background": "light"
     },
     "output_type": "display_data"
    }
   ],
   "source": [
    "fig, ax = plt.subplots(1,2,figsize=(10,2))\n",
    "\n",
    "utils.Plot_MixModel_Param_MCMC(ax,modelsC[0][0],torch.linspace(0,1,50,device=device),np.linspace(0,1,50),particles=200)"
   ]
  },
  {
   "cell_type": "code",
   "execution_count": 28,
   "metadata": {},
   "outputs": [
    {
     "name": "stdout",
     "output_type": "stream",
     "text": [
      "0 1\n"
     ]
    }
   ],
   "source": [
    "# data_layers = [torch.tensor(transformed_y).clamp(0.001,0.999).float().to(device)]\n",
    "# copula_layers = []\n",
    "# for m in range(0,Nvar-1):\n",
    "# #     out_dir = f'{conf.path2outputs}/{exp_pref}/layer{m}'\n",
    "#     copulas, layer = [], []\n",
    "#     for n in range(1,Nvar-m):\n",
    "#         print(m,n+m)\n",
    "#         samples = data_layers[-1][...,[n,0]]\n",
    "#         likelihood = bvcopula.MixtureCopula_Likelihood([bvcopula.IndependenceCopula_Likelihood(),\n",
    "#                                                         bvcopula.GaussianCopula_Likelihood(),\n",
    "#                                         bvcopula.GumbelCopula_Likelihood(rotation='180°')])\n",
    "#         copula, plot_loss = fit(likelihood, samples, n_epoch=200, lr=0.02)\n",
    "#         copulas.append(copula)\n",
    "#         layer.append(copula.ccdf(samples.unsqueeze(-2)).squeeze())\n",
    "#     data_layers.append(torch.stack(layer,dim=-1))\n",
    "#     copula_layers.append(copulas)"
   ]
  },
  {
   "cell_type": "code",
   "execution_count": 8,
   "metadata": {},
   "outputs": [],
   "source": [
    "results_file = f\"{home}/MI_sqGaussH_dump1.pkl\"\n",
    "with open(results_file,'rb') as f:\n",
    "    results1 = pkl.load(f)[:-1]\n",
    "results_file = f\"{home}/MI_sqGaussH_dump2.pkl\"\n",
    "with open(results_file,'rb') as f:\n",
    "    results2 = pkl.load(f)\n",
    "results = results1 + results2"
   ]
  },
  {
   "cell_type": "code",
   "execution_count": 9,
   "metadata": {},
   "outputs": [],
   "source": [
    "# with open(results_file,'wb') as f:\n",
    "#     pkl.dump(results0,f)"
   ]
  },
  {
   "cell_type": "code",
   "execution_count": 10,
   "metadata": {},
   "outputs": [
    {
     "data": {
      "text/plain": [
       "[[1.7369991540908813, 0],\n",
       " [0.5944793345710434, 0.5854079795048068],\n",
       " [0.6506400740826891, 0.6217746436305439],\n",
       " [0.7280912181587887,\n",
       "  0.840709671518702,\n",
       "  0.8925313118940327,\n",
       "  0.9605511382408769]]"
      ]
     },
     "execution_count": 10,
     "metadata": {},
     "output_type": "execute_result"
    }
   ],
   "source": [
    "results[0][2]"
   ]
  },
  {
   "cell_type": "code",
   "execution_count": 11,
   "metadata": {},
   "outputs": [
    {
     "data": {
      "text/plain": [
       "array([6, 6, 6, 2, 2, 2, 3, 3, 3, 4, 4, 4, 5, 5, 5])"
      ]
     },
     "execution_count": 11,
     "metadata": {},
     "output_type": "execute_result"
    }
   ],
   "source": [
    "Ns = np.array([res[0][0] for res in results])\n",
    "Ns"
   ]
  },
  {
   "cell_type": "code",
   "execution_count": 12,
   "metadata": {},
   "outputs": [
    {
     "data": {
      "text/plain": [
       "tensor([-1.])"
      ]
     },
     "execution_count": 12,
     "metadata": {},
     "output_type": "execute_result"
    }
   ],
   "source": [
    "(-torch.ones(1)).sign()"
   ]
  },
  {
   "cell_type": "code",
   "execution_count": 13,
   "metadata": {},
   "outputs": [
    {
     "data": {
      "image/png": "[encoded data removed]",
      "text/plain": [
       "<Figure size 288x288 with 1 Axes>"
      ]
     },
     "metadata": {
      "needs_background": "light"
     },
     "output_type": "display_data"
    }
   ],
   "source": [
    "plt.figure(figsize=(4,4))\n",
    "def line(H,label,cut=Ns.max(),color=None):\n",
    "    NN = cut+1-Ns.min()\n",
    "    A = np.zeros((3,NN))\n",
    "    for i in range(NN):\n",
    "        n = Ns.min()+i\n",
    "        A[0,i] = n\n",
    "        if np.any(Ns==n):\n",
    "            A[1,i] = H[Ns==n].mean()\n",
    "            A[2,i] = H[Ns==n].std()\n",
    "    plt.plot(A[0][A[1]!=0],A[1][A[1]!=0],label=label,color=color)\n",
    "    plt.fill_between(A[0][A[1]!=0],(A[1]-A[2])[A[1]!=0],(A[1]+A[2])[A[1]!=0],color='grey',alpha=0.2)\n",
    "line(np.array([res[1][0] for res in results]),\"True (only low dim)\",cut=5,color='black')\n",
    "for i,label in enumerate([\"True H(r|s), H(r) estimated (gauss)\",\"H(r|s) & H(r) estimated (gauss)\"]):\n",
    "    line(np.array([res[1][i+1] for res in results]),label)\n",
    "for i,label in enumerate([\"CopulaGP estimated\",\"CopulaGP integrated\"]):\n",
    "    line(np.array([res[2][0][i] for res in results]),label)\n",
    "for i,label in enumerate([\"BI_KSG\",\"KSG\"]):\n",
    "    line(np.array([res[2][i+1][0] for res in results]),label)\n",
    "line(np.array([res[2][3][1] for res in results]),\"MINE (H=100)\")\n",
    "line(np.array([res[2][3][-1] for res in results]),\"MINE (H=500)\")\n",
    "# for i,H in enumerate([50,100,200,500]):\n",
    "#     line(np.array([res[2][3][i] for res in results])/np.log(2),f\"MINE (H={H})\")\n",
    "# plt.title(\"Gauss with corr=-0.1↗1.0, $x_i = x_i + \\prod_{j=1}^{N} x_j$\")\n",
    "plt.title(\"Gauss with corr=-0.1↗1.0, $x_i = x_i + (\\prod_{j=1}^{N} x_j)^{1/N}$\")\n",
    "plt.xlabel(\"#variables (dim Y)\")\n",
    "plt.ylabel(\"MI\")\n",
    "plt.legend(loc=(1.1,0));"
   ]
  },
  {
   "cell_type": "code",
   "execution_count": null,
   "metadata": {},
   "outputs": [],
   "source": []
  }
 ],
 "metadata": {
  "kernelspec": {
   "display_name": "GPyTorch_new",
   "language": "python",
   "name": "gpytorch_new"
  },
  "language_info": {
   "codemirror_mode": {
    "name": "ipython",
    "version": 3
   },
   "file_extension": ".py",
   "mimetype": "text/x-python",
   "name": "python",
   "nbconvert_exporter": "python",
   "pygments_lexer": "ipython3",
   "version": "3.6.8"
  }
 },
 "nbformat": 4,
 "nbformat_minor": 2
}
