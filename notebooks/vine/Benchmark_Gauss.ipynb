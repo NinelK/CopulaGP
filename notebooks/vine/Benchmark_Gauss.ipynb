{
 "cells": [
  {
   "cell_type": "code",
   "execution_count": 1,
   "metadata": {},
   "outputs": [],
   "source": [
    "import sys\n",
    "home = '/home/nina/CopulaGP/'\n",
    "sys.path.insert(0, home)"
   ]
  },
  {
   "cell_type": "code",
   "execution_count": 2,
   "metadata": {},
   "outputs": [],
   "source": [
    "from scipy.stats import norm\n",
    "import torch\n",
    "import MI\n",
    "import marginal as mg\n",
    "import bvcopula\n",
    "from vine import CVine\n",
    "import pickle as pkl\n",
    "from train import conf\n",
    "import select_copula\n",
    "import utils\n",
    "\n",
    "import matplotlib.pyplot as plt\n",
    "import numpy as np\n"
   ]
  },
  {
   "cell_type": "code",
   "execution_count": 3,
   "metadata": {},
   "outputs": [],
   "source": [
    "NSamp=10000\n",
    "device = torch.device('cuda:0')\n",
    "x = torch.linspace(0.,1.,NSamp).numpy()\n",
    "train_x = torch.tensor(x).float().to(device=device)\n",
    "Nvar = 20\n",
    "rhos = np.linspace(0.,1.,NSamp)\n",
    "\n",
    "def cov(rho):\n",
    "    return np.identity(Nvar)*(1-rho)+np.ones((Nvar,Nvar))*rho\n",
    "# data = np.array([mvn.rvs(np.zeros(Nvar),cov(rho),1) for rho in rhos]).squeeze()\n",
    "# data.shape"
   ]
  },
  {
   "cell_type": "code",
   "execution_count": 4,
   "metadata": {},
   "outputs": [],
   "source": [
    "def det(rho,n):\n",
    "    return ((n-1)*rho + 1)*(1-rho)**(n-1)\n",
    "def entropy(rho,n):\n",
    "    return -0.5*np.log(np.abs(det(rho,n)))/np.log(2)\n",
    "def const_gauss(rho):\n",
    "    return bvcopula.MixtureCopula(torch.ones(1,NSamp,device=device)*rho,\n",
    "                                torch.ones(1,NSamp,device=device),\n",
    "                                [bvcopula.GaussianCopula_Likelihood().copula])\n",
    "# lin_gauss = bvcopula.MixtureCopula(torch.linspace(-.1,.9,NSamp,device=device).unsqueeze(0),\n",
    "#                     torch.ones(1,NSamp,device=device),\n",
    "#                     [bvcopula.GaussianCopula_Likelihood().copula])"
   ]
  },
  {
   "cell_type": "code",
   "execution_count": 5,
   "metadata": {},
   "outputs": [
    {
     "data": {
      "text/plain": [
       "<matplotlib.collections.PathCollection at 0x7f54206c9e80>"
      ]
     },
     "execution_count": 5,
     "metadata": {},
     "output_type": "execute_result"
    },
    {
     "data": {
      "image/png": "[encoded data removed]",
      "text/plain": [
       "<Figure size 432x288 with 1 Axes>"
      ]
     },
     "metadata": {
      "needs_background": "light"
     },
     "output_type": "display_data"
    }
   ],
   "source": [
    "rho = [0,0.1,0.3,0.5,0.7,0.8,0.9,0.95,0.97,0.99,0.999]\n",
    "plt.scatter(rho,[entropy(r,20) for r in rho])\n",
    "plt.plot(rho,[entropy(r,20) for r in rho])\n",
    "# plt.scatter([0.9,0.95,0.99],[1.1976,1.6785,2.8213])\n",
    "# plt.scatter([0.9,0.95,0.99],[1.2099,1.6789,2.8351])\n",
    "# plt.scatter([0.9,0.95,0.99],[1.1976,7.5109,12.1302])\n",
    "# plt.scatter([0.9,0.95,0.99],[1.2099,1.6789,12.1398])\n",
    "plt.scatter([0.9,0.95,0.99],[1.1976,7.5109,52.7])\n",
    "# plt.scatter(rho,[r.item() for r in res])\n",
    "# plt.scatter([0.99],[mi[:-1].sum()])"
   ]
  },
  {
   "cell_type": "code",
   "execution_count": 10,
   "metadata": {},
   "outputs": [
    {
     "name": "stderr",
     "output_type": "stream",
     "text": [
      "  9%|▉         | 1/11 [16:14<2:42:29, 974.92s/it]"
     ]
    },
    {
     "name": "stdout",
     "output_type": "stream",
     "text": [
      "Result:  [-0.0, -0.0, 2.9509277078323066, -8.112597485963493]\n"
     ]
    },
    {
     "name": "stderr",
     "output_type": "stream",
     "text": [
      "\r",
      " 18%|█▊        | 2/11 [32:28<2:26:10, 974.51s/it]"
     ]
    },
    {
     "name": "stdout",
     "output_type": "stream",
     "text": [
      "Result:  [0.6760029376078696, 0.6767659783363342, 3.454977633431554, -7.514376954914066]\n"
     ]
    },
    {
     "name": "stderr",
     "output_type": "stream",
     "text": [
      "\r",
      " 27%|██▋       | 3/11 [49:11<2:11:05, 983.20s/it]"
     ]
    },
    {
     "name": "stdout",
     "output_type": "stream",
     "text": [
      "Result:  [3.516364594097499, 3.5251691341400146, 4.744521152228117, -4.7499406168546185]\n"
     ]
    },
    {
     "name": "stderr",
     "output_type": "stream",
     "text": [
      "\r",
      " 36%|███▋      | 4/11 [1:06:58<1:57:36, 1008.12s/it]"
     ]
    },
    {
     "name": "stdout",
     "output_type": "stream",
     "text": [
      "Result:  [7.80384128861062, 7.827978610992432, 7.162594795227051, -0.07118491738846831]\n"
     ]
    },
    {
     "name": "stderr",
     "output_type": "stream",
     "text": [
      "\r",
      " 45%|████▌     | 5/11 [1:26:32<1:45:48, 1058.10s/it]"
     ]
    },
    {
     "name": "stdout",
     "output_type": "stream",
     "text": [
      "Result:  [14.582201523633444, 14.628515243530273, 11.193375498056412, 7.415543055377768]\n"
     ]
    },
    {
     "name": "stderr",
     "output_type": "stream",
     "text": [
      "\r",
      " 55%|█████▍    | 6/11 [1:46:56<1:32:18, 1107.67s/it]"
     ]
    },
    {
     "name": "stdout",
     "output_type": "stream",
     "text": [
      "Result:  [20.049355947431316, 20.10918617248535, 14.516607284545898, 13.1864603571677]\n"
     ]
    },
    {
     "name": "stderr",
     "output_type": "stream",
     "text": [
      "\r",
      " 64%|██████▎   | 7/11 [2:08:23<1:17:26, 1161.66s/it]"
     ]
    },
    {
     "name": "stdout",
     "output_type": "stream",
     "text": [
      "Result:  [29.469358005332023, 29.55150604248047, 20.644400417804718, 23.30479901236699]\n"
     ]
    },
    {
     "name": "stderr",
     "output_type": "stream",
     "text": [
      "\r",
      " 73%|███████▎  | 8/11 [2:30:23<1:00:27, 1209.11s/it]"
     ]
    },
    {
     "name": "stdout",
     "output_type": "stream",
     "text": [
      "Result:  [38.93245735512696, 39.025325775146484, 26.74404001235962, 32.741754193306726]\n"
     ]
    },
    {
     "name": "stderr",
     "output_type": "stream",
     "text": [
      "\r",
      " 82%|████████▏ | 9/11 [2:52:34<41:31, 1245.69s/it]  "
     ]
    },
    {
     "name": "stdout",
     "output_type": "stream",
     "text": [
      "Result:  [45.91938304810358, 46.02848434448242, 31.30005192756653, 39.389515265277424]\n"
     ]
    },
    {
     "name": "stderr",
     "output_type": "stream",
     "text": [
      "\r",
      " 91%|█████████ | 10/11 [3:15:31<21:25, 1285.09s/it]"
     ]
    },
    {
     "name": "stdout",
     "output_type": "stream",
     "text": [
      "Result:  [60.96255531530249, 61.116947174072266, 40.846519351005554, 52.86086502334977]\n"
     ]
    },
    {
     "name": "stderr",
     "output_type": "stream",
     "text": [
      "100%|██████████| 11/11 [3:39:13<00:00, 1195.76s/it]"
     ]
    },
    {
     "name": "stdout",
     "output_type": "stream",
     "text": [
      "Result:  [92.51467226270492, 92.75811004638672, 60.31922721862793, 77.89878984524438]\n"
     ]
    },
    {
     "name": "stderr",
     "output_type": "stream",
     "text": [
      "\n"
     ]
    }
   ],
   "source": [
    "Nvar = 20\n",
    "mc_size = int(800*20/Nvar) #8.9Gb\n",
    "sem_tol = 0.01*Nvar\n",
    "\n",
    "def const_rho_layers(rho,Nvar):\n",
    "    copula_layers = []\n",
    "    rho_cond = rho\n",
    "    for i in range(Nvar-1):\n",
    "        copula_layers.append([const_gauss(rho_cond) for j in range(Nvar-1-i)])\n",
    "        rho_cond = (rho_cond - rho_cond**2) / (1 - rho_cond**2)\n",
    "    return copula_layers\n",
    "\n",
    "import tqdm\n",
    "res = []\n",
    "for r in tqdm.tqdm(rho):\n",
    "    copula_layers = const_rho_layers(r,Nvar)\n",
    "    vine = CVine(copula_layers,train_x,device=device)\n",
    "    eT = vine.entropy(sem_tol=sem_tol, mc_size=mc_size, v=False)\n",
    "    y=vine.sample().cpu().numpy()\n",
    "    mi = np.ones(Nvar-1)*np.nan\n",
    "    for i in range(1,Nvar):\n",
    "        while mi[i-1]!=mi[i-1]:\n",
    "            mi[i-1] = MI.train_MINE(y[:,:i],x=torch.tensor(y[:,i],device=device),H=500,device=device)\n",
    "    KSG = MI.BI_KSG(x.reshape((*x.shape,1)),y,)\n",
    "    res.append([entropy(r,Nvar),-eT.mean().item(),mi.sum(),-KSG[1]])\n",
    "    print('Result: ',res[-1])"
   ]
  },
  {
   "cell_type": "code",
   "execution_count": 11,
   "metadata": {},
   "outputs": [],
   "source": [
    "# with open(f\"{home}/results/20D_Gauss.pkl\",\"wb\") as f:\n",
    "#     pkl.dump(res,f)"
   ]
  },
  {
   "cell_type": "code",
   "execution_count": 12,
   "metadata": {},
   "outputs": [
    {
     "name": "stderr",
     "output_type": "stream",
     "text": [
      "  5%|▌         | 1/19 [00:49<14:56, 49.80s/it]"
     ]
    },
    {
     "name": "stdout",
     "output_type": "stream",
     "text": [
      "Result:  [2.8255438795029, 2.8251166343688965, 1.893771767616272, 2.7878847683788477]\n"
     ]
    },
    {
     "name": "stderr",
     "output_type": "stream",
     "text": [
      "\r",
      " 11%|█         | 2/19 [02:30<18:28, 65.18s/it]"
     ]
    },
    {
     "name": "stdout",
     "output_type": "stream",
     "text": [
      "Result:  [5.856200024431005, 5.8598151206970215, 3.9435200691223145, 5.694635243698314]\n"
     ]
    },
    {
     "name": "stderr",
     "output_type": "stream",
     "text": [
      "\r",
      " 16%|█▌        | 3/19 [04:48<23:10, 86.92s/it]"
     ]
    },
    {
     "name": "stdout",
     "output_type": "stream",
     "text": [
      "Result:  [8.97121478097797, 8.980850219726562, 6.063511848449707, 8.656100156557132]\n"
     ]
    },
    {
     "name": "stderr",
     "output_type": "stream",
     "text": [
      "\r",
      " 21%|██        | 4/19 [08:06<30:02, 120.15s/it]"
     ]
    },
    {
     "name": "stdout",
     "output_type": "stream",
     "text": [
      "Result:  [12.132542319243372, 12.148858070373535, 8.163822412490845, 11.595620886778699]\n"
     ]
    },
    {
     "name": "stderr",
     "output_type": "stream",
     "text": [
      "\r",
      " 32%|███▏      | 6/19 [18:21<47:23, 218.73s/it]"
     ]
    },
    {
     "name": "stdout",
     "output_type": "stream",
     "text": [
      "Result:  [18.534100737922405, 18.565662384033203, 12.409995913505554, 17.308123402916976]\n"
     ]
    },
    {
     "name": "stderr",
     "output_type": "stream",
     "text": [
      "\r",
      " 37%|███▋      | 7/19 [25:04<54:47, 273.92s/it]"
     ]
    },
    {
     "name": "stdout",
     "output_type": "stream",
     "text": [
      "Result:  [21.759836231246904, 21.80035972595215, 14.630223751068115, 20.14370867689987]\n"
     ]
    },
    {
     "name": "stderr",
     "output_type": "stream",
     "text": [
      "\r",
      " 42%|████▏     | 8/19 [32:52<1:00:54, 332.21s/it]"
     ]
    },
    {
     "name": "stdout",
     "output_type": "stream",
     "text": [
      "Result:  [24.996902904026104, 25.046056747436523, 16.742034912109375, 22.91373288506]\n"
     ]
    },
    {
     "name": "stderr",
     "output_type": "stream",
     "text": [
      "\r",
      " 47%|████▋     | 9/19 [41:55<1:05:54, 395.43s/it]"
     ]
    },
    {
     "name": "stdout",
     "output_type": "stream",
     "text": [
      "Result:  [28.242910325280373, 28.301862716674805, 19.05101227760315, 25.921097726771908]\n"
     ]
    },
    {
     "name": "stderr",
     "output_type": "stream",
     "text": [
      "\r",
      " 53%|█████▎    | 10/19 [52:06<1:09:01, 460.12s/it]"
     ]
    },
    {
     "name": "stdout",
     "output_type": "stream",
     "text": [
      "Result:  [31.496152833928836, 31.563304901123047, 21.119180560112, 28.52568263060765]\n"
     ]
    },
    {
     "name": "stderr",
     "output_type": "stream",
     "text": [
      "\r",
      " 58%|█████▊    | 11/19 [1:03:37<1:10:33, 529.23s/it]"
     ]
    },
    {
     "name": "stdout",
     "output_type": "stream",
     "text": [
      "Result:  [34.75537063877552, 34.83146667480469, 23.26780068874359, 31.395943177746634]\n"
     ]
    },
    {
     "name": "stderr",
     "output_type": "stream",
     "text": [
      "\r",
      " 63%|██████▎   | 12/19 [1:16:23<1:10:02, 600.39s/it]"
     ]
    },
    {
     "name": "stdout",
     "output_type": "stream",
     "text": [
      "Result:  [38.0196067944784, 38.10707473754883, 25.5964937210083, 34.25327430060482]\n"
     ]
    },
    {
     "name": "stderr",
     "output_type": "stream",
     "text": [
      "\r",
      " 68%|██████▊   | 13/19 [1:30:22<1:07:12, 672.01s/it]"
     ]
    },
    {
     "name": "stdout",
     "output_type": "stream",
     "text": [
      "Result:  [41.28811729226126, 41.3834228515625, 27.745537281036377, 36.845090885426316]\n"
     ]
    },
    {
     "name": "stderr",
     "output_type": "stream",
     "text": [
      "\r",
      " 74%|███████▎  | 14/19 [1:45:50<1:02:24, 748.82s/it]"
     ]
    },
    {
     "name": "stdout",
     "output_type": "stream",
     "text": [
      "Result:  [44.56031222304113, 44.66634750366211, 30.055666089057922, 39.76265053663568]\n"
     ]
    },
    {
     "name": "stderr",
     "output_type": "stream",
     "text": [
      "\r",
      " 79%|███████▉  | 15/19 [2:02:43<55:12, 828.07s/it]  "
     ]
    },
    {
     "name": "stdout",
     "output_type": "stream",
     "text": [
      "Result:  [47.83571595568441, 47.95054626464844, 32.08369159698486, 42.234676594575944]\n"
     ]
    },
    {
     "name": "stderr",
     "output_type": "stream",
     "text": [
      "\r",
      " 84%|████████▍ | 16/19 [2:21:07<45:32, 910.88s/it]"
     ]
    },
    {
     "name": "stdout",
     "output_type": "stream",
     "text": [
      "Result:  [51.11393940155195, 51.239540100097656, 34.183290004730225, 44.77865623755407]\n"
     ]
    },
    {
     "name": "stderr",
     "output_type": "stream",
     "text": [
      "\r",
      " 89%|████████▉ | 17/19 [2:40:57<33:08, 994.45s/it]"
     ]
    },
    {
     "name": "stdout",
     "output_type": "stream",
     "text": [
      "Result:  [54.39466021416002, 54.53004837036133, 36.54585289955139, 47.80695168978313]\n"
     ]
    },
    {
     "name": "stderr",
     "output_type": "stream",
     "text": [
      "\r",
      " 95%|█████████▍| 18/19 [3:01:53<17:52, 1072.99s/it]"
     ]
    },
    {
     "name": "stdout",
     "output_type": "stream",
     "text": [
      "Result:  [57.6776083464956, 57.82022476196289, 38.675286650657654, 50.19302505870903]\n"
     ]
    },
    {
     "name": "stderr",
     "output_type": "stream",
     "text": [
      "100%|██████████| 19/19 [3:24:33<00:00, 645.97s/it] "
     ]
    },
    {
     "name": "stdout",
     "output_type": "stream",
     "text": [
      "Result:  [60.96255531530249, 61.11548614501953, 40.91647148132324, 52.836274348511374]\n"
     ]
    },
    {
     "name": "stderr",
     "output_type": "stream",
     "text": [
      "\n"
     ]
    }
   ],
   "source": [
    "res = []\n",
    "r = 0.99\n",
    "for Nvar in tqdm.tqdm(range(2,21)):\n",
    "    mc_size = int(800*20/Nvar) #8.9Gb\n",
    "    sem_tol = 0.01*Nvar\n",
    "    copula_layers = const_rho_layers(r,Nvar)\n",
    "    vine = CVine(copula_layers,train_x,device=device)\n",
    "    eT = vine.entropy(sem_tol=sem_tol, mc_size=mc_size, v=False)\n",
    "    y=vine.sample().cpu().numpy()\n",
    "    mi = np.ones(Nvar-1)*np.nan\n",
    "    for i in range(1,Nvar):\n",
    "        while mi[i-1]!=mi[i-1]:\n",
    "            mi[i-1] = MI.train_MINE(y[:,:i],x=torch.tensor(y[:,i],device=device),H=500,device=device)\n",
    "    KSG = MI.BI_KSG(x.reshape((*x.shape,1)),y,)\n",
    "    res.append([entropy(r,Nvar),-eT.mean().item(),mi.sum(),-KSG[1]])\n",
    "    print('Result: ',res[-1])"
   ]
  },
  {
   "cell_type": "code",
   "execution_count": 13,
   "metadata": {},
   "outputs": [],
   "source": [
    "# with open(f\"{home}/results/xD_Gauss.pkl\",\"wb\") as f:\n",
    "#     pkl.dump(res,f)"
   ]
  },
  {
   "cell_type": "code",
   "execution_count": 6,
   "metadata": {},
   "outputs": [],
   "source": [
    "with open(f\"{home}/results/xD_Gauss.pkl\",\"rb\") as f:\n",
    "    GxD = np.array(pkl.load(f))\n",
    "with open(f\"{home}/results/2D_Gauss.pkl\",\"rb\") as f:\n",
    "    G2D = np.array(pkl.load(f))\n",
    "with open(f\"{home}/results/20D_Gauss.pkl\",\"rb\") as f:\n",
    "    G20D = np.array(pkl.load(f))"
   ]
  },
  {
   "cell_type": "code",
   "execution_count": 32,
   "metadata": {},
   "outputs": [
    {
     "data": {
      "image/png": "[encoded data removed]",
      "text/plain": [
       "<Figure size 720x198 with 4 Axes>"
      ]
     },
     "metadata": {
      "needs_background": "light"
     },
     "output_type": "display_data"
    }
   ],
   "source": [
    "from matplotlib.ticker import FormatStrFormatter\n",
    "\n",
    "def pns(ax,x,y,c,label=None):\n",
    "    linestyle = 'solid'\n",
    "    if c=='C3':\n",
    "        linestyle='dashed'\n",
    "    ax.plot(x,y,color=c,label=label,linestyle=linestyle)\n",
    "    ax.scatter(x,y,color=c)\n",
    "    \n",
    "fig_width,fig_height = 10,2.75\n",
    "# fig = plt.figure(figsize=(fig_width,fig_height))\n",
    "\n",
    "fig, axes = plt.subplots(1,4,figsize=(fig_width,fig_height))\n",
    "\n",
    "# l_mrg, b_mrg = 0.4/fig_width, 0.4/fig_height\n",
    "# block_size = 4.8/fig_width\n",
    "# plot_width, plot_height = 4.0/fig_width, 3.0/fig_height\n",
    "\n",
    "# ax0 = fig.add_axes([0,0,1,1])\n",
    "\n",
    "for ax in [axes[1],axes[3]]:\n",
    "    ax.axhline(0,color='k')\n",
    "    ax.set_ylabel(r\"$\\Delta H(\\mathbf{Y}) = H_{true} - H_{est}$, bit\")\n",
    "    ax.set_title(\"Estimation error\")\n",
    "    \n",
    "for ax in [axes[0],axes[2]]:\n",
    "    ax.axhline(0,color='k',linestyle='dotted')\n",
    "    ax.set_ylabel(r\"$H(\\mathbf{Y}), bit$\")\n",
    "    ax.set_title(\"Gaussian entropy\")\n",
    "    \n",
    "for ax in axes[0:2]:\n",
    "    ax.set_xlabel(r'corr. coef. = $\\rho$')\n",
    "    \n",
    "for ax in axes[2:4]:\n",
    "    ax.set_xlabel(r'dim $\\mathbf{Y}$')\n",
    "    \n",
    "axes[1].yaxis.set_major_formatter(FormatStrFormatter('%d'))\n",
    "\n",
    "# axes[0].set_title(\"20D multivariate Gaussian entropy\",loc='left')\n",
    "# axes[2].set_title(\"Multivariate Gaussian entropy for 2D-20D\")\n",
    "fig.text(0.080,0.80,r'A',fontweight='bold',fontsize=14)\n",
    "fig.text(0.324,0.80,r'B',fontweight='bold',fontsize=14)\n",
    "fig.text(0.568,0.80,r'C',fontweight='bold',fontsize=14)\n",
    "fig.text(0.813,0.80,r'D',fontweight='bold',fontsize=14)\n",
    "\n",
    "# ax20 = fig.add_axes([l_mrg,b_mrg,plot_width,plot_height])\n",
    "pns(axes[0],rho,G20D[:,0],'k',label='True')\n",
    "pns(axes[0],rho,G20D[:,1],'C3',label='Copula-GP')\n",
    "# pns(axes[0],rho,G20D[:,2],'C4')\n",
    "pns(axes[0],rho,G20D[:,3],'C1',label='BI-KSG')\n",
    "axes[0].legend(loc=(0.03,0.45))\n",
    "\n",
    "pns(axes[1],rho,G20D[:,0]-G20D[:,1],'C3')\n",
    "# pns(axes[1],rho,G20D[:,0]-G20D[:,2],'C4')\n",
    "pns(axes[1],rho,G20D[:,0]-G20D[:,3],'C1')\n",
    "axes[1].fill_between(rho,G20D[:,0]-G20D[:,1]-20*0.01,\n",
    "                     G20D[:,0]-G20D[:,1]+20*0.01,color='C3',alpha=0.5)\n",
    "\n",
    "# axX = fig.add_axes([l_mrg+block_size,b_mrg,plot_width,plot_height])\n",
    "pns(axes[2],range(2,21),GxD[:,0],'k')\n",
    "pns(axes[2],range(2,21),GxD[:,1],'C3')\n",
    "# pns(axes[2],range(2,21),GxD[:,2],'C4')\n",
    "pns(axes[2],range(2,21),GxD[:,3],'C1')\n",
    "\n",
    "pns(axes[3],range(2,21),GxD[:,0]-GxD[:,1],'C3')\n",
    "# pns(axes[3],range(2,21),GxD[:,0]-GxD[:,2],'C4')\n",
    "pns(axes[3],range(2,21),GxD[:,0]-GxD[:,3],'C1')\n",
    "axes[3].fill_between(range(2,21),GxD[:,0]-GxD[:,1]-np.arange(2,21)*0.01,\n",
    "                     GxD[:,0]-GxD[:,1]+np.arange(2,21)*0.01,color='C3',alpha=0.5)\n",
    "\n",
    "fig.tight_layout(pad=1.0)\n",
    "fig.savefig(f\"{home}/results/suppl_fig_Gauss.pdf\")"
   ]
  },
  {
   "cell_type": "code",
   "execution_count": 101,
   "metadata": {},
   "outputs": [
    {
     "data": {
      "text/plain": [
       "array([2.13622567e-06, 1.20503209e-05, 2.40885969e-05, 3.26315023e-05,\n",
       "       4.13033300e-05, 4.50880659e-05, 5.06543684e-05, 5.46153816e-05,\n",
       "       5.89523914e-05, 6.10473338e-05, 6.34133634e-05, 6.72830331e-05,\n",
       "       6.80753995e-05, 7.06901871e-05, 7.17689431e-05, 7.38827639e-05,\n",
       "       7.52156423e-05, 7.50612713e-05, 7.64654149e-05])"
      ]
     },
     "execution_count": 101,
     "metadata": {},
     "output_type": "execute_result"
    }
   ],
   "source": [
    "np.abs(GxD[:,0]-GxD[:,1])/np.arange(2,21)*0.01"
   ]
  },
  {
   "cell_type": "code",
   "execution_count": 37,
   "metadata": {},
   "outputs": [
    {
     "data": {
      "image/png": "[encoded data removed]",
      "text/plain": [
       "<Figure size 432x288 with 1 Axes>"
      ]
     },
     "metadata": {
      "needs_background": "light"
     },
     "output_type": "display_data"
    }
   ],
   "source": [
    "\n",
    "plt.axhline(0,color='k')\n",
    "pns(rho,G20D[:,0]-G20D[:,1],'C3')\n",
    "pns(rho,G20D[:,0]-G20D[:,2],'C4')\n",
    "pns(rho,G20D[:,0]-G20D[:,3],'C2')"
   ]
  },
  {
   "cell_type": "code",
   "execution_count": 35,
   "metadata": {},
   "outputs": [
    {
     "data": {
      "image/png": "[encoded data removed]",
      "text/plain": [
       "<Figure size 432x288 with 1 Axes>"
      ]
     },
     "metadata": {
      "needs_background": "light"
     },
     "output_type": "display_data"
    }
   ],
   "source": [
    "pns(range(2,21),GxD[:,0],'k')\n",
    "pns(range(2,21),GxD[:,1],'C3')\n",
    "pns(range(2,21),GxD[:,2],'C4')\n",
    "pns(range(2,21),GxD[:,3],'C2')"
   ]
  },
  {
   "cell_type": "code",
   "execution_count": 31,
   "metadata": {},
   "outputs": [
    {
     "name": "stdout",
     "output_type": "stream",
     "text": [
      "CPU times: user 1min 39s, sys: 6min 38s, total: 8min 17s\n",
      "Wall time: 8min 17s\n"
     ]
    }
   ],
   "source": [
    "copula_layers = const_rho_layers(0.999,Nvar)\n",
    "vine = CVine(copula_layers,train_x,device=device)\n",
    "%time eT = vine.entropy(sem_tol=sem_tol, mc_size=mc_size, v=False)\n",
    "res.append(-eT.mean())"
   ]
  },
  {
   "cell_type": "code",
   "execution_count": 13,
   "metadata": {},
   "outputs": [
    {
     "data": {
      "text/plain": [
       "(-0.01424452657501707, -52.766238307216774)"
      ]
     },
     "execution_count": 13,
     "metadata": {},
     "output_type": "execute_result"
    }
   ],
   "source": [
    "y=vine.sample().cpu().numpy()\n",
    "KSG = MI.BI_KSG(x.reshape((*x.shape,1)),y,)\n",
    "KSG"
   ]
  },
  {
   "cell_type": "code",
   "execution_count": 29,
   "metadata": {},
   "outputs": [
    {
     "name": "stdout",
     "output_type": "stream",
     "text": [
      "CPU times: user 25.2 s, sys: 21.6 s, total: 46.8 s\n",
      "Wall time: 46.7 s\n",
      "1.9120314121246338\n",
      "CPU times: user 27.8 s, sys: 22 s, total: 49.8 s\n",
      "Wall time: 49.7 s\n",
      "2.032921552658081\n",
      "CPU times: user 27.9 s, sys: 22.1 s, total: 50 s\n",
      "Wall time: 49.9 s\n",
      "2.059946060180664\n",
      "CPU times: user 28 s, sys: 22.1 s, total: 50.1 s\n",
      "Wall time: 49.9 s\n",
      "2.1096270084381104\n",
      "CPU times: user 28.2 s, sys: 22 s, total: 50.2 s\n",
      "Wall time: 50 s\n",
      "2.109982490539551\n",
      "CPU times: user 28.3 s, sys: 21.8 s, total: 50.2 s\n",
      "Wall time: 50 s\n",
      "2.1472225189208984\n",
      "CPU times: user 28.2 s, sys: 21.9 s, total: 50.1 s\n",
      "Wall time: 49.9 s\n",
      "2.165241003036499\n",
      "CPU times: user 27.6 s, sys: 22.1 s, total: 49.7 s\n",
      "Wall time: 49.6 s\n",
      "2.1776511669158936\n",
      "CPU times: user 27.9 s, sys: 21.8 s, total: 49.8 s\n",
      "Wall time: 49.6 s\n",
      "2.1809470653533936\n",
      "CPU times: user 27.8 s, sys: 22.1 s, total: 49.9 s\n",
      "Wall time: 49.7 s\n",
      "2.1577587127685547\n",
      "CPU times: user 27.9 s, sys: 22 s, total: 49.9 s\n",
      "Wall time: 49.7 s\n",
      "2.184964179992676\n",
      "CPU times: user 28.3 s, sys: 21.6 s, total: 50 s\n",
      "Wall time: 49.8 s\n",
      "2.1719353199005127\n",
      "CPU times: user 28.6 s, sys: 21.6 s, total: 50.1 s\n",
      "Wall time: 49.9 s\n",
      "2.192178249359131\n",
      "CPU times: user 28.9 s, sys: 21.5 s, total: 50.4 s\n",
      "Wall time: 50.1 s\n",
      "2.1859166622161865\n",
      "CPU times: user 28 s, sys: 22.2 s, total: 50.1 s\n",
      "Wall time: 49.9 s\n",
      "2.1881110668182373\n",
      "CPU times: user 28 s, sys: 22 s, total: 50 s\n",
      "Wall time: 49.8 s\n",
      "2.1876418590545654\n",
      "CPU times: user 27.8 s, sys: 22.3 s, total: 50.1 s\n",
      "Wall time: 49.8 s\n",
      "2.1890618801116943\n",
      "CPU times: user 27.9 s, sys: 22.3 s, total: 50.2 s\n",
      "Wall time: 50 s\n",
      "2.1869094371795654\n",
      "CPU times: user 27.9 s, sys: 22.2 s, total: 50.1 s\n",
      "Wall time: 49.9 s\n",
      "2.206533432006836\n"
     ]
    },
    {
     "ename": "IndexError",
     "evalue": "index 20 is out of bounds for axis 1 with size 20",
     "output_type": "error",
     "traceback": [
      "\u001b[0;31m---------------------------------------------------------------------------\u001b[0m",
      "\u001b[0;31mIndexError\u001b[0m                                Traceback (most recent call last)",
      "\u001b[0;32m<timed exec>\u001b[0m in \u001b[0;36m<module>\u001b[0;34m\u001b[0m\n",
      "\u001b[0;31mIndexError\u001b[0m: index 20 is out of bounds for axis 1 with size 20"
     ]
    },
    {
     "name": "stdout",
     "output_type": "stream",
     "text": [
      "1.6141055864059737e+132\n"
     ]
    }
   ],
   "source": [
    "mi = np.empty(Nvar-1)\n",
    "for i in range(1,Nvar):\n",
    "    %time mi[i-1] = MI.train_MINE(y[:,:i],x=torch.tensor(y[:,i],device=device),H=500,device=device)\n",
    "    print(mi[i-1])"
   ]
  },
  {
   "cell_type": "code",
   "execution_count": 20,
   "metadata": {},
   "outputs": [],
   "source": [
    "# from benchmarks import train4entropy\n",
    "# y = vine.sample().cpu().numpy()\n",
    "# _, eC = train4entropy(train_x,y,[bvcopula.GaussianCopula_Likelihood()],\n",
    "#                       mc_size=mc_size,device=device,sem_tol=sem_tol,v=True)\n",
    "# -eC.mean()"
   ]
  },
  {
   "cell_type": "code",
   "execution_count": 25,
   "metadata": {},
   "outputs": [],
   "source": [
    "rho0 = torch.linspace(-0.1,.999,NSamp,device=device).unsqueeze(0)\n",
    "copula_layers = const_rho_layers(rho0,Nvar)\n",
    "vine = CVine(copula_layers,train_x,device=device)\n",
    "# subvine = vine.create_subvine(torch.arange(0,NSamp,5))\n",
    "# %time CopulaGP = subvine.stimMI(s_mc_size=1000, r_mc_size=10, sem_tol=0.01)\n",
    "\n",
    "# CopulaGP\n",
    "# vine.entropy(sem_tol=0.01, mc_size=1000, v=True).mean()"
   ]
  },
  {
   "cell_type": "code",
   "execution_count": 26,
   "metadata": {},
   "outputs": [],
   "source": [
    "y=vine.sample().cpu().numpy()"
   ]
  },
  {
   "cell_type": "code",
   "execution_count": 27,
   "metadata": {},
   "outputs": [],
   "source": [
    "new_y = y.copy()\n",
    "new_y += np.repeat(y.prod(axis=-1).reshape(NSamp,1),Nvar,axis=-1)**(1/Nvar)\n",
    "transformed_y = (np.argsort(new_y.flatten()).argsort()/new_y.size).reshape(new_y.shape)"
   ]
  },
  {
   "cell_type": "code",
   "execution_count": 29,
   "metadata": {},
   "outputs": [],
   "source": [
    "MI.train_MINE(y,H=500,device=device)"
   ]
  },
  {
   "cell_type": "code",
   "execution_count": 30,
   "metadata": {},
   "outputs": [
    {
     "data": {
      "text/plain": [
       "(0.2964823403839134, -1.178008281813543)"
      ]
     },
     "execution_count": 30,
     "metadata": {},
     "output_type": "execute_result"
    }
   ],
   "source": [
    "KSG = MI.BI_KSG(x.reshape((*x.shape,1)),new_y,)\n",
    "KSG"
   ]
  },
  {
   "cell_type": "code",
   "execution_count": 31,
   "metadata": {},
   "outputs": [
    {
     "data": {
      "text/plain": [
       "(0.37393209303980024, -11.1778543336535)"
      ]
     },
     "execution_count": 31,
     "metadata": {},
     "output_type": "execute_result"
    }
   ],
   "source": [
    "MI.Mixed_KSG(x,new_y)"
   ]
  },
  {
   "cell_type": "code",
   "execution_count": null,
   "metadata": {},
   "outputs": [],
   "source": [
    "# MI.LNN_MI(x.reshape((*x.shape,1)),y,)/np.log(2)"
   ]
  },
  {
   "cell_type": "code",
   "execution_count": 36,
   "metadata": {},
   "outputs": [
    {
     "data": {
      "text/plain": [
       "<matplotlib.collections.PathCollection at 0x7f09d2410278>"
      ]
     },
     "execution_count": 36,
     "metadata": {},
     "output_type": "execute_result"
    },
    {
     "data": {
      "image/png": "[encoded data removed]",
      "text/plain": [
       "<Figure size 216x216 with 1 Axes>"
      ]
     },
     "metadata": {
      "needs_background": "light"
     },
     "output_type": "display_data"
    }
   ],
   "source": [
    "import matplotlib.cm as cm\n",
    "\n",
    "plt.figure(figsize=(3,3))\n",
    "colors = cm.rainbow(np.linspace(0., 1., 10000))\n",
    "plt.scatter(*transformed_y[:,[-2,-1]].T,alpha=0.05,color=colors)"
   ]
  },
  {
   "cell_type": "code",
   "execution_count": 37,
   "metadata": {},
   "outputs": [
    {
     "name": "stdout",
     "output_type": "stream",
     "text": [
      "Final model: Gaussian\n"
     ]
    },
    {
     "data": {
      "text/plain": [
       "[GaussianCopula_Likelihood(\n",
       "   (quadrature): GaussHermiteQuadrature1D()\n",
       " )]"
      ]
     },
     "execution_count": 37,
     "metadata": {},
     "output_type": "execute_result"
    }
   ],
   "source": [
    "samples = torch.tensor(transformed_y[:,[0,1]]).clamp(0.001,0.999).float().to(device)\n",
    "out = '/home/nina/CopulaGP/synthetic_data/outputs'\n",
    "(likelihoods, waic) = select_copula.select_with_heuristics(x,transformed_y[:,[0,1]],device,'benchmark',out,0,1,\n",
    "                                    train_x=train_x, train_y=samples) #[torch.randperm(NSamp)]\n",
    "likelihoods"
   ]
  },
  {
   "cell_type": "code",
   "execution_count": 8,
   "metadata": {},
   "outputs": [],
   "source": [
    "likelihoodC =  [bvcopula.GaussianCopula_Likelihood(),\n",
    "                bvcopula.GumbelCopula_Likelihood(rotation='180°'),\n",
    "                bvcopula.GumbelCopula_Likelihood(rotation='0°')]\n",
    "likelihoodU =  [bvcopula.GaussianCopula_Likelihood(),\n",
    "                bvcopula.GumbelCopula_Likelihood(rotation='180°'),\n",
    "                bvcopula.GumbelCopula_Likelihood(rotation='0°')] \n",
    "\n",
    "# samples = torch.tensor(transformed_y[:,[0,1]]).clamp(0.001,0.999).float().to(device)\n",
    "# waic, model = bvcopula.infer(likelihoodC,train_x,samples,device=device) #[torch.randperm(NSamp)]\n",
    "# waic"
   ]
  },
  {
   "cell_type": "code",
   "execution_count": null,
   "metadata": {},
   "outputs": [],
   "source": [
    "fig, ax = plt.subplots(1,2,figsize=(10,2))\n",
    "\n",
    "utils.Plot_MixModel_Param_MCMC(ax,model,torch.linspace(0,1,50,device=device),np.linspace(0,1,50),particles=200)"
   ]
  },
  {
   "cell_type": "code",
   "execution_count": 13,
   "metadata": {},
   "outputs": [],
   "source": [
    "#redirect logging here\n",
    "def train4entropy(x,y,likelihood,shuffle=False):\n",
    "    Nvar = y.shape[-1]\n",
    "    data_layers = [torch.tensor(y).clamp(0.001,0.999).float().to(device)]\n",
    "    copula_layers, model_layers = [], []\n",
    "    for m in range(0,Nvar-1):\n",
    "        copulas, layer, models = [], [], []\n",
    "        for n in range(1,Nvar-m):\n",
    "            print(m,n+m)\n",
    "            if shuffle:\n",
    "                x = x[torch.randperm(NSamp)]\n",
    "            samples = data_layers[-1][...,[n,0]]\n",
    "            waic, model = bvcopula.infer(likelihood,x,samples,device=device) \n",
    "            print(f'WAIC: {waic}')\n",
    "            if shuffle:\n",
    "                x = x[torch.randperm(NSamp)]\n",
    "            with torch.no_grad():\n",
    "                f = model(x).mean\n",
    "                copula = model.likelihood.get_copula(f)\n",
    "                copulas.append(copula)\n",
    "                layer.append(copula.ccdf(samples))\n",
    "                models.append(model)\n",
    "        data_layers.append(torch.stack(layer,dim=-1))\n",
    "        copula_layers.append(copulas)\n",
    "        model_layers.append(models)\n",
    "    print('Trained')\n",
    "    vine_trained = CVine(copula_layers,x,device=device)\n",
    "#     entropies = vine_trained.entropy(sem_tol=0.1, mc_size=1000, v=True)\n",
    "    return model_layers, vine_trained#, entropies"
   ]
  },
  {
   "cell_type": "code",
   "execution_count": 14,
   "metadata": {},
   "outputs": [
    {
     "name": "stdout",
     "output_type": "stream",
     "text": [
      "0 1\n"
     ]
    },
    {
     "ename": "RuntimeError",
     "evalue": "CUDA out of memory. Tried to allocate 916.00 MiB (GPU 0; 10.76 GiB total capacity; 9.26 GiB already allocated; 398.38 MiB free; 9.50 GiB reserved in total by PyTorch)",
     "output_type": "error",
     "traceback": [
      "\u001b[0;31m---------------------------------------------------------------------------\u001b[0m",
      "\u001b[0;31mRuntimeError\u001b[0m                              Traceback (most recent call last)",
      "\u001b[0;32m<ipython-input-14-8659686ef974>\u001b[0m in \u001b[0;36m<module>\u001b[0;34m\u001b[0m\n\u001b[0;32m----> 1\u001b[0;31m \u001b[0mmodelsC\u001b[0m\u001b[0;34m,\u001b[0m \u001b[0mvineC\u001b[0m \u001b[0;34m=\u001b[0m \u001b[0mtrain4entropy\u001b[0m\u001b[0;34m(\u001b[0m\u001b[0mtrain_x\u001b[0m\u001b[0;34m,\u001b[0m\u001b[0mtransformed_y\u001b[0m\u001b[0;34m,\u001b[0m\u001b[0mlikelihoodC\u001b[0m\u001b[0;34m,\u001b[0m \u001b[0mshuffle\u001b[0m\u001b[0;34m=\u001b[0m\u001b[0;32mFalse\u001b[0m\u001b[0;34m)\u001b[0m\u001b[0;34m\u001b[0m\u001b[0;34m\u001b[0m\u001b[0m\n\u001b[0m\u001b[1;32m      2\u001b[0m \u001b[0;31m# modelsU, vineU, eU = train4entropy(train_x,transformed_y,likelihoodU,shuffle=True)\u001b[0m\u001b[0;34m\u001b[0m\u001b[0;34m\u001b[0m\u001b[0;34m\u001b[0m\u001b[0m\n",
      "\u001b[0;32m<ipython-input-13-f08c5db8998a>\u001b[0m in \u001b[0;36mtrain4entropy\u001b[0;34m(x, y, likelihood, shuffle)\u001b[0m\n\u001b[1;32m     11\u001b[0m                 \u001b[0mx\u001b[0m \u001b[0;34m=\u001b[0m \u001b[0mx\u001b[0m\u001b[0;34m[\u001b[0m\u001b[0mtorch\u001b[0m\u001b[0;34m.\u001b[0m\u001b[0mrandperm\u001b[0m\u001b[0;34m(\u001b[0m\u001b[0mNSamp\u001b[0m\u001b[0;34m)\u001b[0m\u001b[0;34m]\u001b[0m\u001b[0;34m\u001b[0m\u001b[0;34m\u001b[0m\u001b[0m\n\u001b[1;32m     12\u001b[0m             \u001b[0msamples\u001b[0m \u001b[0;34m=\u001b[0m \u001b[0mdata_layers\u001b[0m\u001b[0;34m[\u001b[0m\u001b[0;34m-\u001b[0m\u001b[0;36m1\u001b[0m\u001b[0;34m]\u001b[0m\u001b[0;34m[\u001b[0m\u001b[0;34m...\u001b[0m\u001b[0;34m,\u001b[0m\u001b[0;34m[\u001b[0m\u001b[0mn\u001b[0m\u001b[0;34m,\u001b[0m\u001b[0;36m0\u001b[0m\u001b[0;34m]\u001b[0m\u001b[0;34m]\u001b[0m\u001b[0;34m\u001b[0m\u001b[0;34m\u001b[0m\u001b[0m\n\u001b[0;32m---> 13\u001b[0;31m             \u001b[0mwaic\u001b[0m\u001b[0;34m,\u001b[0m \u001b[0mmodel\u001b[0m \u001b[0;34m=\u001b[0m \u001b[0mbvcopula\u001b[0m\u001b[0;34m.\u001b[0m\u001b[0minfer\u001b[0m\u001b[0;34m(\u001b[0m\u001b[0mlikelihood\u001b[0m\u001b[0;34m,\u001b[0m\u001b[0mx\u001b[0m\u001b[0;34m,\u001b[0m\u001b[0msamples\u001b[0m\u001b[0;34m,\u001b[0m\u001b[0mdevice\u001b[0m\u001b[0;34m=\u001b[0m\u001b[0mdevice\u001b[0m\u001b[0;34m)\u001b[0m\u001b[0;34m\u001b[0m\u001b[0;34m\u001b[0m\u001b[0m\n\u001b[0m\u001b[1;32m     14\u001b[0m             \u001b[0mprint\u001b[0m\u001b[0;34m(\u001b[0m\u001b[0;34mf'WAIC: {waic}'\u001b[0m\u001b[0;34m)\u001b[0m\u001b[0;34m\u001b[0m\u001b[0;34m\u001b[0m\u001b[0m\n\u001b[1;32m     15\u001b[0m             \u001b[0;32mif\u001b[0m \u001b[0mshuffle\u001b[0m\u001b[0;34m:\u001b[0m\u001b[0;34m\u001b[0m\u001b[0;34m\u001b[0m\u001b[0m\n",
      "\u001b[0;32m~/CopulaGP/bvcopula/infer.py\u001b[0m in \u001b[0;36minfer\u001b[0;34m(likelihoods, train_x, train_y, device, theta_sharing, output_loss)\u001b[0m\n\u001b[1;32m    140\u001b[0m \u001b[0;34m\u001b[0m\u001b[0m\n\u001b[1;32m    141\u001b[0m         \u001b[0;32mif\u001b[0m \u001b[0;34m(\u001b[0m\u001b[0mlen\u001b[0m\u001b[0;34m(\u001b[0m\u001b[0mlikelihoods\u001b[0m\u001b[0;34m)\u001b[0m\u001b[0;34m!=\u001b[0m\u001b[0;36m1\u001b[0m\u001b[0;34m)\u001b[0m \u001b[0;34m|\u001b[0m \u001b[0;34m(\u001b[0m\u001b[0mlikelihoods\u001b[0m\u001b[0;34m[\u001b[0m\u001b[0;36m0\u001b[0m\u001b[0;34m]\u001b[0m\u001b[0;34m.\u001b[0m\u001b[0mname\u001b[0m\u001b[0;34m!=\u001b[0m\u001b[0;34m'Independence'\u001b[0m\u001b[0;34m)\u001b[0m\u001b[0;34m:\u001b[0m\u001b[0;34m\u001b[0m\u001b[0;34m\u001b[0m\u001b[0m\n\u001b[0;32m--> 142\u001b[0;31m                 \u001b[0mtrain\u001b[0m\u001b[0;34m(\u001b[0m\u001b[0mtrain_x\u001b[0m\u001b[0;34m,\u001b[0m\u001b[0mtrain_y\u001b[0m\u001b[0;34m)\u001b[0m\u001b[0;34m\u001b[0m\u001b[0;34m\u001b[0m\u001b[0m\n\u001b[0m\u001b[1;32m    143\u001b[0m \u001b[0;34m\u001b[0m\u001b[0m\n\u001b[1;32m    144\u001b[0m         \u001b[0;32mif\u001b[0m \u001b[0mnans_detected\u001b[0m\u001b[0;34m==\u001b[0m\u001b[0;36m1\u001b[0m\u001b[0;34m:\u001b[0m\u001b[0;34m\u001b[0m\u001b[0;34m\u001b[0m\u001b[0m\n",
      "\u001b[0;32m~/CopulaGP/bvcopula/infer.py\u001b[0m in \u001b[0;36mtrain\u001b[0;34m(train_x, train_y, num_iter)\u001b[0m\n\u001b[1;32m    107\u001b[0m \u001b[0;34m\u001b[0m\u001b[0m\n\u001b[1;32m    108\u001b[0m                     \u001b[0;32mif\u001b[0m \u001b[0;34m(\u001b[0m\u001b[0;36m0\u001b[0m \u001b[0;34m<\u001b[0m \u001b[0mmean_p\u001b[0m \u001b[0;34m<\u001b[0m \u001b[0mconf\u001b[0m\u001b[0;34m.\u001b[0m\u001b[0mloss_tol2check_waic\u001b[0m\u001b[0;34m)\u001b[0m\u001b[0;34m:\u001b[0m\u001b[0;34m\u001b[0m\u001b[0;34m\u001b[0m\u001b[0m\n\u001b[0;32m--> 109\u001b[0;31m                         \u001b[0mWAIC\u001b[0m \u001b[0;34m=\u001b[0m \u001b[0mmodel\u001b[0m\u001b[0;34m.\u001b[0m\u001b[0mlikelihood\u001b[0m\u001b[0;34m.\u001b[0m\u001b[0mWAIC\u001b[0m\u001b[0;34m(\u001b[0m\u001b[0mmodel\u001b[0m\u001b[0;34m(\u001b[0m\u001b[0mtrain_x\u001b[0m\u001b[0;34m)\u001b[0m\u001b[0;34m,\u001b[0m\u001b[0mtrain_y\u001b[0m\u001b[0;34m)\u001b[0m\u001b[0;34m\u001b[0m\u001b[0;34m\u001b[0m\u001b[0m\n\u001b[0m\u001b[1;32m    110\u001b[0m                         \u001b[0;32mif\u001b[0m \u001b[0;34m(\u001b[0m\u001b[0mWAIC\u001b[0m \u001b[0;34m>\u001b[0m \u001b[0mconf\u001b[0m\u001b[0;34m.\u001b[0m\u001b[0mwaic_tol\u001b[0m\u001b[0;34m)\u001b[0m\u001b[0;34m:\u001b[0m\u001b[0;34m\u001b[0m\u001b[0;34m\u001b[0m\u001b[0m\n\u001b[1;32m    111\u001b[0m                             \u001b[0mlogging\u001b[0m\u001b[0;34m.\u001b[0m\u001b[0mdebug\u001b[0m\u001b[0;34m(\u001b[0m\u001b[0;34m\"Training does not look promissing!\"\u001b[0m\u001b[0;34m)\u001b[0m\u001b[0;34m\u001b[0m\u001b[0;34m\u001b[0m\u001b[0m\n",
      "\u001b[0;32m~/CopulaGP/bvcopula/likelihoods.py\u001b[0m in \u001b[0;36mWAIC\u001b[0;34m(self, gp_distr, target, combine_terms)\u001b[0m\n\u001b[1;32m    245\u001b[0m             \u001b[0mN\u001b[0m \u001b[0;34m=\u001b[0m \u001b[0mtarget\u001b[0m\u001b[0;34m[\u001b[0m\u001b[0;34m...\u001b[0m\u001b[0;34m,\u001b[0m\u001b[0;36m0\u001b[0m\u001b[0;34m]\u001b[0m\u001b[0;34m.\u001b[0m\u001b[0mnumel\u001b[0m\u001b[0;34m(\u001b[0m\u001b[0;34m)\u001b[0m \u001b[0;31m#number of data points. The last dimension is (2,) here.\u001b[0m\u001b[0;34m\u001b[0m\u001b[0;34m\u001b[0m\u001b[0m\n\u001b[1;32m    246\u001b[0m             \u001b[0msamples_shape\u001b[0m \u001b[0;34m=\u001b[0m \u001b[0mtorch\u001b[0m\u001b[0;34m.\u001b[0m\u001b[0mSize\u001b[0m\u001b[0;34m(\u001b[0m\u001b[0;34m[\u001b[0m\u001b[0mself\u001b[0m\u001b[0;34m.\u001b[0m\u001b[0mwaic_samples\u001b[0m\u001b[0;34m]\u001b[0m\u001b[0;34m)\u001b[0m\u001b[0;34m\u001b[0m\u001b[0;34m\u001b[0m\u001b[0m\n\u001b[0;32m--> 247\u001b[0;31m             \u001b[0mf_samples\u001b[0m \u001b[0;34m=\u001b[0m \u001b[0mgp_distr\u001b[0m\u001b[0;34m.\u001b[0m\u001b[0mrsample\u001b[0m\u001b[0;34m(\u001b[0m\u001b[0msamples_shape\u001b[0m\u001b[0;34m)\u001b[0m \u001b[0;31m# [GP samples x GP variables x input shape]\u001b[0m\u001b[0;34m\u001b[0m\u001b[0;34m\u001b[0m\u001b[0m\n\u001b[0m\u001b[1;32m    248\u001b[0m             \u001b[0;31m# from GP perspective it is [sample x batch x event] dims\u001b[0m\u001b[0;34m\u001b[0m\u001b[0;34m\u001b[0m\u001b[0;34m\u001b[0m\u001b[0m\n\u001b[1;32m    249\u001b[0m             \u001b[0mtarget\u001b[0m \u001b[0;34m=\u001b[0m \u001b[0mtarget\u001b[0m\u001b[0;34m.\u001b[0m\u001b[0mexpand\u001b[0m\u001b[0;34m(\u001b[0m\u001b[0msamples_shape\u001b[0m\u001b[0;34m+\u001b[0m\u001b[0mtarget\u001b[0m\u001b[0;34m.\u001b[0m\u001b[0mshape\u001b[0m\u001b[0;34m)\u001b[0m\u001b[0;34m\u001b[0m\u001b[0;34m\u001b[0m\u001b[0m\n",
      "\u001b[0;32m~/.envs/GPyTorch_new/lib/python3.6/site-packages/gpytorch/distributions/multivariate_normal.py\u001b[0m in \u001b[0;36mrsample\u001b[0;34m(self, sample_shape, base_samples)\u001b[0m\n\u001b[1;32m    138\u001b[0m \u001b[0;34m\u001b[0m\u001b[0m\n\u001b[1;32m    139\u001b[0m             \u001b[0;31m# Get samples\u001b[0m\u001b[0;34m\u001b[0m\u001b[0;34m\u001b[0m\u001b[0;34m\u001b[0m\u001b[0m\n\u001b[0;32m--> 140\u001b[0;31m             \u001b[0mres\u001b[0m \u001b[0;34m=\u001b[0m \u001b[0mcovar\u001b[0m\u001b[0;34m.\u001b[0m\u001b[0mzero_mean_mvn_samples\u001b[0m\u001b[0;34m(\u001b[0m\u001b[0mnum_samples\u001b[0m\u001b[0;34m)\u001b[0m \u001b[0;34m+\u001b[0m \u001b[0mself\u001b[0m\u001b[0;34m.\u001b[0m\u001b[0mloc\u001b[0m\u001b[0;34m.\u001b[0m\u001b[0munsqueeze\u001b[0m\u001b[0;34m(\u001b[0m\u001b[0;36m0\u001b[0m\u001b[0;34m)\u001b[0m\u001b[0;34m\u001b[0m\u001b[0;34m\u001b[0m\u001b[0m\n\u001b[0m\u001b[1;32m    141\u001b[0m             \u001b[0mres\u001b[0m \u001b[0;34m=\u001b[0m \u001b[0mres\u001b[0m\u001b[0;34m.\u001b[0m\u001b[0mview\u001b[0m\u001b[0;34m(\u001b[0m\u001b[0msample_shape\u001b[0m \u001b[0;34m+\u001b[0m \u001b[0mself\u001b[0m\u001b[0;34m.\u001b[0m\u001b[0mloc\u001b[0m\u001b[0;34m.\u001b[0m\u001b[0mshape\u001b[0m\u001b[0;34m)\u001b[0m\u001b[0;34m\u001b[0m\u001b[0;34m\u001b[0m\u001b[0m\n\u001b[1;32m    142\u001b[0m \u001b[0;34m\u001b[0m\u001b[0m\n",
      "\u001b[0;32m~/.envs/GPyTorch_new/lib/python3.6/site-packages/gpytorch/lazy/interpolated_lazy_tensor.py\u001b[0m in \u001b[0;36mzero_mean_mvn_samples\u001b[0;34m(self, num_samples)\u001b[0m\n\u001b[1;32m    408\u001b[0m         \u001b[0mbatch_iter\u001b[0m \u001b[0;34m=\u001b[0m \u001b[0mtuple\u001b[0m\u001b[0;34m(\u001b[0m\u001b[0mrange\u001b[0m\u001b[0;34m(\u001b[0m\u001b[0;36m1\u001b[0m\u001b[0;34m,\u001b[0m \u001b[0mbase_samples\u001b[0m\u001b[0;34m.\u001b[0m\u001b[0mdim\u001b[0m\u001b[0;34m(\u001b[0m\u001b[0;34m)\u001b[0m\u001b[0;34m)\u001b[0m\u001b[0;34m)\u001b[0m\u001b[0;34m\u001b[0m\u001b[0;34m\u001b[0m\u001b[0m\n\u001b[1;32m    409\u001b[0m         \u001b[0mbase_samples\u001b[0m \u001b[0;34m=\u001b[0m \u001b[0mbase_samples\u001b[0m\u001b[0;34m.\u001b[0m\u001b[0mpermute\u001b[0m\u001b[0;34m(\u001b[0m\u001b[0;34m*\u001b[0m\u001b[0mbatch_iter\u001b[0m\u001b[0;34m,\u001b[0m \u001b[0;36m0\u001b[0m\u001b[0;34m)\u001b[0m\u001b[0;34m\u001b[0m\u001b[0;34m\u001b[0m\u001b[0m\n\u001b[0;32m--> 410\u001b[0;31m         \u001b[0mres\u001b[0m \u001b[0;34m=\u001b[0m \u001b[0mleft_interp\u001b[0m\u001b[0;34m(\u001b[0m\u001b[0mself\u001b[0m\u001b[0;34m.\u001b[0m\u001b[0mleft_interp_indices\u001b[0m\u001b[0;34m,\u001b[0m \u001b[0mself\u001b[0m\u001b[0;34m.\u001b[0m\u001b[0mleft_interp_values\u001b[0m\u001b[0;34m,\u001b[0m \u001b[0mbase_samples\u001b[0m\u001b[0;34m)\u001b[0m\u001b[0;34m.\u001b[0m\u001b[0mcontiguous\u001b[0m\u001b[0;34m(\u001b[0m\u001b[0;34m)\u001b[0m\u001b[0;34m\u001b[0m\u001b[0;34m\u001b[0m\u001b[0m\n\u001b[0m\u001b[1;32m    411\u001b[0m         \u001b[0mbatch_iter\u001b[0m \u001b[0;34m=\u001b[0m \u001b[0mtuple\u001b[0m\u001b[0;34m(\u001b[0m\u001b[0mrange\u001b[0m\u001b[0;34m(\u001b[0m\u001b[0mres\u001b[0m\u001b[0;34m.\u001b[0m\u001b[0mdim\u001b[0m\u001b[0;34m(\u001b[0m\u001b[0;34m)\u001b[0m \u001b[0;34m-\u001b[0m \u001b[0;36m1\u001b[0m\u001b[0;34m)\u001b[0m\u001b[0;34m)\u001b[0m\u001b[0;34m\u001b[0m\u001b[0;34m\u001b[0m\u001b[0m\n\u001b[1;32m    412\u001b[0m         \u001b[0;32mreturn\u001b[0m \u001b[0mres\u001b[0m\u001b[0;34m.\u001b[0m\u001b[0mpermute\u001b[0m\u001b[0;34m(\u001b[0m\u001b[0;34m-\u001b[0m\u001b[0;36m1\u001b[0m\u001b[0;34m,\u001b[0m \u001b[0;34m*\u001b[0m\u001b[0mbatch_iter\u001b[0m\u001b[0;34m)\u001b[0m\u001b[0;34m.\u001b[0m\u001b[0mcontiguous\u001b[0m\u001b[0;34m(\u001b[0m\u001b[0;34m)\u001b[0m\u001b[0;34m\u001b[0m\u001b[0;34m\u001b[0m\u001b[0m\n",
      "\u001b[0;32m~/.envs/GPyTorch_new/lib/python3.6/site-packages/gpytorch/utils/interpolation.py\u001b[0m in \u001b[0;36mleft_interp\u001b[0;34m(interp_indices, interp_values, rhs)\u001b[0m\n\u001b[1;32m    173\u001b[0m         \u001b[0minterp_values_expanded\u001b[0m \u001b[0;34m=\u001b[0m \u001b[0minterp_values\u001b[0m\u001b[0;34m.\u001b[0m\u001b[0munsqueeze\u001b[0m\u001b[0;34m(\u001b[0m\u001b[0;34m-\u001b[0m\u001b[0;36m1\u001b[0m\u001b[0;34m)\u001b[0m\u001b[0;34m.\u001b[0m\u001b[0mexpand\u001b[0m\u001b[0;34m(\u001b[0m\u001b[0;34m*\u001b[0m\u001b[0mbatch_shape\u001b[0m\u001b[0;34m,\u001b[0m \u001b[0mnum_rows\u001b[0m\u001b[0;34m,\u001b[0m \u001b[0mnum_interp\u001b[0m\u001b[0;34m,\u001b[0m \u001b[0mnum_columns\u001b[0m\u001b[0;34m)\u001b[0m\u001b[0;34m\u001b[0m\u001b[0;34m\u001b[0m\u001b[0m\n\u001b[1;32m    174\u001b[0m         \u001b[0mrhs_expanded\u001b[0m \u001b[0;34m=\u001b[0m \u001b[0mrhs\u001b[0m\u001b[0;34m.\u001b[0m\u001b[0munsqueeze\u001b[0m\u001b[0;34m(\u001b[0m\u001b[0;34m-\u001b[0m\u001b[0;36m2\u001b[0m\u001b[0;34m)\u001b[0m\u001b[0;34m.\u001b[0m\u001b[0mexpand\u001b[0m\u001b[0;34m(\u001b[0m\u001b[0;34m*\u001b[0m\u001b[0mbatch_shape\u001b[0m\u001b[0;34m,\u001b[0m \u001b[0mnum_data\u001b[0m\u001b[0;34m,\u001b[0m \u001b[0mnum_interp\u001b[0m\u001b[0;34m,\u001b[0m \u001b[0mnum_columns\u001b[0m\u001b[0;34m)\u001b[0m\u001b[0;34m\u001b[0m\u001b[0;34m\u001b[0m\u001b[0m\n\u001b[0;32m--> 175\u001b[0;31m         \u001b[0mres\u001b[0m \u001b[0;34m=\u001b[0m \u001b[0mrhs_expanded\u001b[0m\u001b[0;34m.\u001b[0m\u001b[0mgather\u001b[0m\u001b[0;34m(\u001b[0m\u001b[0;34m-\u001b[0m\u001b[0;36m3\u001b[0m\u001b[0;34m,\u001b[0m \u001b[0minterp_indices_expanded\u001b[0m\u001b[0;34m)\u001b[0m\u001b[0;34m.\u001b[0m\u001b[0mmul\u001b[0m\u001b[0;34m(\u001b[0m\u001b[0minterp_values_expanded\u001b[0m\u001b[0;34m)\u001b[0m\u001b[0;34m\u001b[0m\u001b[0;34m\u001b[0m\u001b[0m\n\u001b[0m\u001b[1;32m    176\u001b[0m         \u001b[0;32mreturn\u001b[0m \u001b[0mres\u001b[0m\u001b[0;34m.\u001b[0m\u001b[0msum\u001b[0m\u001b[0;34m(\u001b[0m\u001b[0;34m-\u001b[0m\u001b[0;36m2\u001b[0m\u001b[0;34m)\u001b[0m\u001b[0;34m\u001b[0m\u001b[0;34m\u001b[0m\u001b[0m\n\u001b[1;32m    177\u001b[0m \u001b[0;34m\u001b[0m\u001b[0m\n",
      "\u001b[0;31mRuntimeError\u001b[0m: CUDA out of memory. Tried to allocate 916.00 MiB (GPU 0; 10.76 GiB total capacity; 9.26 GiB already allocated; 398.38 MiB free; 9.50 GiB reserved in total by PyTorch)"
     ]
    }
   ],
   "source": [
    "modelsC, vineC = train4entropy(train_x,transformed_y,likelihoodC, shuffle=False)\n",
    "# modelsU, vineU, eU = train4entropy(train_x,transformed_y,likelihoodU,shuffle=True)"
   ]
  },
  {
   "cell_type": "code",
   "execution_count": 51,
   "metadata": {},
   "outputs": [],
   "source": [
    "# sample_layers = []\n",
    "# for layer in modelsC:\n",
    "#     copulas = []\n",
    "#     for model in layer:\n",
    "#         with torch.no_grad():\n",
    "#             f = model(train_x).sample(torch.Size([2]))\n",
    "#             print(f.shape)\n",
    "#             copula = model.likelihood.get_copula(f)\n",
    "#             copulas.append(copula)\n",
    "#     sample_layers.append(copulas)\n",
    "# vine = CVine(sample_layers,train_x,device=device)\n",
    "# entropies = vine.entropy(sem_tol=0.01*Nvar, mc_size=3000, v=True)"
   ]
  },
  {
   "cell_type": "code",
   "execution_count": 52,
   "metadata": {},
   "outputs": [
    {
     "name": "stdout",
     "output_type": "stream",
     "text": [
      "tensor(-5.0656, device='cuda:1')\n",
      "tensor(-5.0362, device='cuda:1')\n",
      "tensor(-5.0386, device='cuda:1')\n"
     ]
    },
    {
     "data": {
      "text/plain": [
       "<matplotlib.lines.Line2D at 0x7f8c9de87908>"
      ]
     },
     "execution_count": 52,
     "metadata": {},
     "output_type": "execute_result"
    },
    {
     "data": {
      "image/png": "[encoded data removed]",
      "text/plain": [
       "<Figure size 432x288 with 1 Axes>"
      ]
     },
     "metadata": {
      "needs_background": "light"
     },
     "output_type": "display_data"
    }
   ],
   "source": [
    "plt.plot(-eC.cpu().numpy())\n",
    "for H in Hs:\n",
    "    print(H.mean())\n",
    "    plt.plot(-H.cpu().numpy())\n",
    "plt.axhline(-eC.mean().cpu().numpy())\n",
    "# (eU-eC).mean()"
   ]
  },
  {
   "cell_type": "code",
   "execution_count": 14,
   "metadata": {},
   "outputs": [
    {
     "data": {
      "text/plain": [
       "tensor(-0.0793, device='cuda:1')"
      ]
     },
     "execution_count": 14,
     "metadata": {},
     "output_type": "execute_result"
    }
   ],
   "source": [
    "entropies.mean()-eC.mean()"
   ]
  },
  {
   "cell_type": "code",
   "execution_count": 28,
   "metadata": {},
   "outputs": [
    {
     "data": {
      "image/png": "[encoded data removed]",
      "text/plain": [
       "<Figure size 720x144 with 2 Axes>"
      ]
     },
     "metadata": {
      "needs_background": "light"
     },
     "output_type": "display_data"
    }
   ],
   "source": [
    "fig, ax = plt.subplots(1,2,figsize=(10,2))\n",
    "\n",
    "utils.Plot_MixModel_Param_MCMC(ax,modelsC[0][0],torch.linspace(0,1,50,device=device),np.linspace(0,1,50),particles=200)"
   ]
  },
  {
   "cell_type": "code",
   "execution_count": 28,
   "metadata": {},
   "outputs": [
    {
     "name": "stdout",
     "output_type": "stream",
     "text": [
      "0 1\n"
     ]
    }
   ],
   "source": [
    "# data_layers = [torch.tensor(transformed_y).clamp(0.001,0.999).float().to(device)]\n",
    "# copula_layers = []\n",
    "# for m in range(0,Nvar-1):\n",
    "# #     out_dir = f'{conf.path2outputs}/{exp_pref}/layer{m}'\n",
    "#     copulas, layer = [], []\n",
    "#     for n in range(1,Nvar-m):\n",
    "#         print(m,n+m)\n",
    "#         samples = data_layers[-1][...,[n,0]]\n",
    "#         likelihood = bvcopula.MixtureCopula_Likelihood([bvcopula.IndependenceCopula_Likelihood(),\n",
    "#                                                         bvcopula.GaussianCopula_Likelihood(),\n",
    "#                                         bvcopula.GumbelCopula_Likelihood(rotation='180°')])\n",
    "#         copula, plot_loss = fit(likelihood, samples, n_epoch=200, lr=0.02)\n",
    "#         copulas.append(copula)\n",
    "#         layer.append(copula.ccdf(samples.unsqueeze(-2)).squeeze())\n",
    "#     data_layers.append(torch.stack(layer,dim=-1))\n",
    "#     copula_layers.append(copulas)"
   ]
  },
  {
   "cell_type": "code",
   "execution_count": 8,
   "metadata": {},
   "outputs": [],
   "source": [
    "results_file = f\"{home}/MI_sqGaussH_dump1.pkl\"\n",
    "with open(results_file,'rb') as f:\n",
    "    results1 = pkl.load(f)[:-1]\n",
    "results_file = f\"{home}/MI_sqGaussH_dump2.pkl\"\n",
    "with open(results_file,'rb') as f:\n",
    "    results2 = pkl.load(f)\n",
    "results = results1 + results2"
   ]
  },
  {
   "cell_type": "code",
   "execution_count": 9,
   "metadata": {},
   "outputs": [],
   "source": [
    "# with open(results_file,'wb') as f:\n",
    "#     pkl.dump(results0,f)"
   ]
  },
  {
   "cell_type": "code",
   "execution_count": 10,
   "metadata": {},
   "outputs": [
    {
     "data": {
      "text/plain": [
       "[[1.7369991540908813, 0],\n",
       " [0.5944793345710434, 0.5854079795048068],\n",
       " [0.6506400740826891, 0.6217746436305439],\n",
       " [0.7280912181587887,\n",
       "  0.840709671518702,\n",
       "  0.8925313118940327,\n",
       "  0.9605511382408769]]"
      ]
     },
     "execution_count": 10,
     "metadata": {},
     "output_type": "execute_result"
    }
   ],
   "source": [
    "results[0][2]"
   ]
  },
  {
   "cell_type": "code",
   "execution_count": 11,
   "metadata": {},
   "outputs": [
    {
     "data": {
      "text/plain": [
       "array([6, 6, 6, 2, 2, 2, 3, 3, 3, 4, 4, 4, 5, 5, 5])"
      ]
     },
     "execution_count": 11,
     "metadata": {},
     "output_type": "execute_result"
    }
   ],
   "source": [
    "Ns = np.array([res[0][0] for res in results])\n",
    "Ns"
   ]
  },
  {
   "cell_type": "code",
   "execution_count": 12,
   "metadata": {},
   "outputs": [
    {
     "data": {
      "text/plain": [
       "tensor([-1.])"
      ]
     },
     "execution_count": 12,
     "metadata": {},
     "output_type": "execute_result"
    }
   ],
   "source": [
    "(-torch.ones(1)).sign()"
   ]
  },
  {
   "cell_type": "code",
   "execution_count": 13,
   "metadata": {},
   "outputs": [
    {
     "data": {
      "image/png": "[encoded data removed]",
      "text/plain": [
       "<Figure size 288x288 with 1 Axes>"
      ]
     },
     "metadata": {
      "needs_background": "light"
     },
     "output_type": "display_data"
    }
   ],
   "source": [
    "plt.figure(figsize=(4,4))\n",
    "def line(H,label,cut=Ns.max(),color=None):\n",
    "    NN = cut+1-Ns.min()\n",
    "    A = np.zeros((3,NN))\n",
    "    for i in range(NN):\n",
    "        n = Ns.min()+i\n",
    "        A[0,i] = n\n",
    "        if np.any(Ns==n):\n",
    "            A[1,i] = H[Ns==n].mean()\n",
    "            A[2,i] = H[Ns==n].std()\n",
    "    plt.plot(A[0][A[1]!=0],A[1][A[1]!=0],label=label,color=color)\n",
    "    plt.fill_between(A[0][A[1]!=0],(A[1]-A[2])[A[1]!=0],(A[1]+A[2])[A[1]!=0],color='grey',alpha=0.2)\n",
    "line(np.array([res[1][0] for res in results]),\"True (only low dim)\",cut=5,color='black')\n",
    "for i,label in enumerate([\"True H(r|s), H(r) estimated (gauss)\",\"H(r|s) & H(r) estimated (gauss)\"]):\n",
    "    line(np.array([res[1][i+1] for res in results]),label)\n",
    "for i,label in enumerate([\"CopulaGP estimated\",\"CopulaGP integrated\"]):\n",
    "    line(np.array([res[2][0][i] for res in results]),label)\n",
    "for i,label in enumerate([\"BI_KSG\",\"KSG\"]):\n",
    "    line(np.array([res[2][i+1][0] for res in results]),label)\n",
    "line(np.array([res[2][3][1] for res in results]),\"MINE (H=100)\")\n",
    "line(np.array([res[2][3][-1] for res in results]),\"MINE (H=500)\")\n",
    "# for i,H in enumerate([50,100,200,500]):\n",
    "#     line(np.array([res[2][3][i] for res in results])/np.log(2),f\"MINE (H={H})\")\n",
    "# plt.title(\"Gauss with corr=-0.1↗1.0, $x_i = x_i + \\prod_{j=1}^{N} x_j$\")\n",
    "plt.title(\"Gauss with corr=-0.1↗1.0, $x_i = x_i + (\\prod_{j=1}^{N} x_j)^{1/N}$\")\n",
    "plt.xlabel(\"#variables (dim Y)\")\n",
    "plt.ylabel(\"MI\")\n",
    "plt.legend(loc=(1.1,0));"
   ]
  },
  {
   "cell_type": "code",
   "execution_count": null,
   "metadata": {},
   "outputs": [],
   "source": []
  }
 ],
 "metadata": {
  "kernelspec": {
   "display_name": "GPyTorch_new",
   "language": "python",
   "name": "gpytorch_new"
  },
  "language_info": {
   "codemirror_mode": {
    "name": "ipython",
    "version": 3
   },
   "file_extension": ".py",
   "mimetype": "text/x-python",
   "name": "python",
   "nbconvert_exporter": "python",
   "pygments_lexer": "ipython3",
   "version": "3.6.8"
  }
 },
 "nbformat": 4,
 "nbformat_minor": 2
}
