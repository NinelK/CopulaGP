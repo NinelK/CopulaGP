{
 "cells": [
  {
   "cell_type": "code",
   "execution_count": 1,
   "metadata": {},
   "outputs": [],
   "source": [
    "import sys\n",
    "home = '/home/nina/CopulaGP/'\n",
    "sys.path.insert(0, home)"
   ]
  },
  {
   "cell_type": "code",
   "execution_count": 2,
   "metadata": {},
   "outputs": [],
   "source": [
    "from scipy.stats import norm, t\n",
    "import torch\n",
    "import MI\n",
    "import marginal as mg\n",
    "import bvcopula\n",
    "from vine import CVine\n",
    "import pickle as pkl\n",
    "from train import conf\n",
    "import select_copula\n",
    "import utils\n",
    "\n",
    "import matplotlib.pyplot as plt\n",
    "import numpy as np\n",
    "\n",
    "NSamp=10000\n",
    "device = torch.device('cuda:1')\n",
    "x = torch.linspace(0.,1.,NSamp).numpy()\n",
    "train_x = torch.tensor(x).float().to(device=device)"
   ]
  },
  {
   "cell_type": "code",
   "execution_count": 50,
   "metadata": {},
   "outputs": [
    {
     "data": {
      "text/plain": [
       "3.458549205332889"
      ]
     },
     "execution_count": 50,
     "metadata": {},
     "output_type": "execute_result"
    }
   ],
   "source": [
    "Nvar=6\n",
    "rhos = np.ones(NSamp)*0.7\n",
    "dfs = np.exp(5*np.linspace(0,1,NSamp))+1\n",
    "\n",
    "HRgS = utils.student_H(rhos,dfs,Nvar)/np.log(2)\n",
    "HRgS.mean()"
   ]
  },
  {
   "cell_type": "code",
   "execution_count": 52,
   "metadata": {},
   "outputs": [
    {
     "data": {
      "text/plain": [
       "3.2575835673702214"
      ]
     },
     "execution_count": 52,
     "metadata": {},
     "output_type": "execute_result"
    }
   ],
   "source": [
    "utils.student_H(rhos[0],1e10,Nvar)/np.log(2)"
   ]
  },
  {
   "cell_type": "code",
   "execution_count": 37,
   "metadata": {},
   "outputs": [
    {
     "data": {
      "text/plain": [
       "array([ 0.05693386, -4.13419637])"
      ]
     },
     "execution_count": 37,
     "metadata": {},
     "output_type": "execute_result"
    }
   ],
   "source": [
    "samples = utils.student_rvs(Nvar,rhos,dfs,500)\n",
    "samples = np.einsum(\"ij...->ji...\",samples)\n",
    "Hrs = utils.student_logprob(samples,rhos,dfs).mean(axis=-1)\n",
    "H=[]\n",
    "for i in range(100):\n",
    "    perm = np.random.permutation(np.arange(len(rhos)))\n",
    "    H.append(np.exp(utils.student_logprob(samples,rhos[perm],dfs[perm])))\n",
    "H = np.stack(H)\n",
    "Hr = np.log(H.mean(axis=0)).mean(axis=-1)\n",
    "integral = ((Hrs.mean()-Hr.mean(),Hrs.mean())/np.log(2))#,Hrs.std(),Hr.std())\n",
    "# (student_log_pdf(y0,rhos,dfs).mean()-np.log(H.mean(axis=0)).mean())/np.log(2)\n",
    "integral"
   ]
  },
  {
   "cell_type": "code",
   "execution_count": 31,
   "metadata": {},
   "outputs": [],
   "source": [
    "y = utils.student_rvs(Nvar,rhos,dfs,1).squeeze()\n",
    "y0 = np.zeros_like(y)\n",
    "for i in range(y.shape[0]):\n",
    "    y0[i] = t.cdf(y[i],df=dfs[i])"
   ]
  },
  {
   "cell_type": "code",
   "execution_count": 32,
   "metadata": {},
   "outputs": [
    {
     "data": {
      "text/plain": [
       "(0.009120063293994713, -2.590284314602333)"
      ]
     },
     "execution_count": 32,
     "metadata": {},
     "output_type": "execute_result"
    }
   ],
   "source": [
    "KSG = mg.revised_mi(x.reshape((*x.shape,1)),y0,)\n",
    "KSG"
   ]
  },
  {
   "cell_type": "code",
   "execution_count": 33,
   "metadata": {},
   "outputs": [
    {
     "name": "stdout",
     "output_type": "stream",
     "text": [
      "0 1\n",
      "0 2\n",
      "1 2\n"
     ]
    }
   ],
   "source": [
    "N = Nvar\n",
    "#redirect logging here\n",
    "exp_pref='benchmark'\n",
    "data_layers = [torch.tensor(y0).float().to(device)]\n",
    "copula_layers = []\n",
    "for m in range(0,N-1):\n",
    "    out_dir = f'{conf.path2outputs}/{exp_pref}/layer{m}'\n",
    "    copulas, layer = [], []\n",
    "    for n in range(1,N-m):\n",
    "        print(m,n+m)\n",
    "        samples = data_layers[-1][...,[n,0]]\n",
    "        waic, model = bvcopula.infer([bvcopula.GaussianCopula_Likelihood(),\n",
    "                                      bvcopula.GumbelCopula_Likelihood(rotation='0°'),\n",
    "                                      bvcopula.GumbelCopula_Likelihood(rotation='180°')],\n",
    "                                     train_x,samples,device=device)\n",
    "#         (likelihoods, waic) = select_copula.select_with_heuristics(x,samples.cpu().numpy(),device,exp_pref,out_dir,m,n+m,\n",
    "#                                                                   train_x=train_x, train_y=samples)\n",
    "#         weights_file = f\"{out_dir}/model_{exp_pref}_{m}-{m+n}.pth\"\n",
    "#         model = utils.get_model(weights_file, likelihoods, device) \n",
    "        with torch.no_grad():\n",
    "            f = model(train_x).mean\n",
    "            copula = model.likelihood.get_copula(f)\n",
    "            copulas.append(copula)\n",
    "            layer.append(copula.ccdf(samples))\n",
    "    data_layers.append(torch.stack(layer,dim=-1))\n",
    "    copula_layers.append(copulas)"
   ]
  },
  {
   "cell_type": "code",
   "execution_count": 34,
   "metadata": {},
   "outputs": [],
   "source": [
    "vine_trained = CVine(copula_layers,train_x,device=device)\n",
    "# with open(f\"{home}vine.pkl\",\"wb\") as f:\n",
    "#     pkl.dump([y,vine_trained],f)"
   ]
  },
  {
   "cell_type": "code",
   "execution_count": 35,
   "metadata": {},
   "outputs": [],
   "source": [
    "# with open(f\"{home}vine.pkl\",\"rb\") as f:\n",
    "#     [y0,vine_trained] = pkl.load(f)"
   ]
  },
  {
   "cell_type": "code",
   "execution_count": 36,
   "metadata": {},
   "outputs": [
    {
     "name": "stdout",
     "output_type": "stream",
     "text": [
      "CPU times: user 7.56 s, sys: 6.93 s, total: 14.5 s\n",
      "Wall time: 2.89 s\n"
     ]
    },
    {
     "data": {
      "text/plain": [
       "(tensor([0.0198], device='cuda:1'),\n",
       " tensor(0.0139, device='cuda:1'),\n",
       " tensor([2.5988], device='cuda:1'),\n",
       " tensor(0.0098, device='cuda:1'))"
      ]
     },
     "execution_count": 36,
     "metadata": {},
     "output_type": "execute_result"
    }
   ],
   "source": [
    "subvine = vine_trained.create_subvine(torch.arange(0,NSamp,50))\n",
    "%time CopulaGP = subvine.stimMI(sem_tol=0.01)\n",
    "\n",
    "CopulaGP"
   ]
  },
  {
   "cell_type": "code",
   "execution_count": 3,
   "metadata": {},
   "outputs": [
    {
     "data": {
      "text/plain": [
       "[[2, 10000],\n",
       " [0.5067255537165143, 0.4864134192466736, 0.42834700404217757],\n",
       " [0.04297121571048656,\n",
       "  0.011314034461975098,\n",
       "  -0.012989229121354083,\n",
       "  -0.00630323777436247],\n",
       " [array([[0.82482911, 0.50218122],\n",
       "         [0.44185201, 0.54418388],\n",
       "         [0.22750769, 0.13326953],\n",
       "         ...,\n",
       "         [0.03646357, 0.02781185],\n",
       "         [0.44690433, 0.06313422],\n",
       "         [0.03237183, 0.11144026]]),\n",
       "  array([0.7, 0.7, 0.7, ..., 0.7, 0.7, 0.7]),\n",
       "  array([  2.        ,   2.00050018,   2.0010006 , ..., 149.2648053 ,\n",
       "         149.33896365, 149.4131591 ])]]"
      ]
     },
     "execution_count": 3,
     "metadata": {},
     "output_type": "execute_result"
    }
   ],
   "source": [
    "results_file = f\"{home}/MI_dump.pkl\"\n",
    "with open(results_file,'rb') as f:\n",
    "    results = pkl.load(f)  \n",
    "i = list(range(len(results)))\n",
    "for k in range(3):\n",
    "    i[3+k]=6+k\n",
    "    i[6+k]=3+k\n",
    "results = [results[j] for j in i]\n",
    "results[0]"
   ]
  },
  {
   "cell_type": "code",
   "execution_count": 4,
   "metadata": {},
   "outputs": [
    {
     "data": {
      "text/plain": [
       "array([2, 2, 2, 2, 2, 2, 3, 3, 3, 3, 3, 3, 4, 4, 4, 5, 5, 5, 6, 6, 6])"
      ]
     },
     "execution_count": 4,
     "metadata": {},
     "output_type": "execute_result"
    }
   ],
   "source": [
    "Ns = np.array([res[0][0] for res in results])\n",
    "Ns"
   ]
  },
  {
   "cell_type": "code",
   "execution_count": 28,
   "metadata": {},
   "outputs": [
    {
     "data": {
      "text/plain": [
       "tensor([1.6516e+38])"
      ]
     },
     "execution_count": 28,
     "metadata": {},
     "output_type": "execute_result"
    }
   ],
   "source": [
    "torch.tensor([88.]).exp()"
   ]
  },
  {
   "cell_type": "code",
   "execution_count": 5,
   "metadata": {},
   "outputs": [
    {
     "data": {
      "image/png": "[encoded data removed]",
      "text/plain": [
       "<Figure size 288x288 with 1 Axes>"
      ]
     },
     "metadata": {
      "needs_background": "light"
     },
     "output_type": "display_data"
    }
   ],
   "source": [
    "plt.figure(figsize=(4,4))\n",
    "def line(H,label):\n",
    "    NN = Ns.max()+1-Ns.min()\n",
    "    A = np.empty((3,NN))\n",
    "    for i in range(NN):\n",
    "        n = Ns.min()+i\n",
    "        A[0,i] = n\n",
    "        A[1,i] = H[Ns==n].mean()\n",
    "        A[2,i] = H[Ns==n].std()\n",
    "    plt.plot(A[0],A[1],label=label)\n",
    "    plt.fill_between(A[0],A[1]-A[2],A[1]+A[2],color='grey',alpha=0.2)\n",
    "for i,label in enumerate([\"True\",\"CopulaGP\",\"KSG\"]):\n",
    "    line(np.array([res[1][i] for res in results]),label)\n",
    "plt.title(\"StudenT with corr=0.7, df=2↗150\")\n",
    "plt.xlabel(\"#variables (dim Y)\")\n",
    "plt.ylabel(\"$\\int H(Y|X)p(X)dX$\")\n",
    "plt.legend();"
   ]
  },
  {
   "cell_type": "code",
   "execution_count": 18,
   "metadata": {},
   "outputs": [
    {
     "name": "stdout",
     "output_type": "stream",
     "text": [
      "CPU times: user 4min 49s, sys: 3.98 s, total: 4min 53s\n",
      "Wall time: 4min 57s\n"
     ]
    }
   ],
   "source": [
    "%time MINEs = [MI.train_MINE(res[-1][0],H=200) for res in results]"
   ]
  },
  {
   "cell_type": "code",
   "execution_count": 19,
   "metadata": {},
   "outputs": [],
   "source": [
    "MINEs200 = MINEs"
   ]
  },
  {
   "cell_type": "code",
   "execution_count": 22,
   "metadata": {},
   "outputs": [
    {
     "data": {
      "image/png": "[encoded data removed]",
      "text/plain": [
       "<Figure size 288x288 with 1 Axes>"
      ]
     },
     "metadata": {
      "needs_background": "light"
     },
     "output_type": "display_data"
    }
   ],
   "source": [
    "plt.figure(figsize=(4,4))\n",
    "for i,label in enumerate([\"True\",\"CopulaGP\",\"KSG\",\"Mixed KSG\"]):\n",
    "    line(np.array([res[2][i] for res in results]),label)\n",
    "# line(np.array(MINEs20)/np.log(2),\"MINE (H=20)\")\n",
    "# line(np.array(MINEs50)/np.log(2),\"MINE (H=50)\")\n",
    "line(np.array(MINEs100)/np.log(2),\"MINE (H=100)\")\n",
    "line(np.array(MINEs200)/np.log(2),\"MINE (H=200)\")\n",
    "plt.title(\"StudenT with corr=0.7, df=2↗150\")\n",
    "plt.xlabel(\"#variables (dim Y)\")\n",
    "plt.ylabel(\"MI(X,Y)\")\n",
    "plt.legend();"
   ]
  },
  {
   "cell_type": "code",
   "execution_count": 174,
   "metadata": {},
   "outputs": [],
   "source": [
    "\n",
    "# %time plot_loss=train()"
   ]
  },
  {
   "cell_type": "code",
   "execution_count": null,
   "metadata": {},
   "outputs": [],
   "source": []
  }
 ],
 "metadata": {
  "kernelspec": {
   "display_name": "GPyTorch_new",
   "language": "python",
   "name": "gpytorch_new"
  },
  "language_info": {
   "codemirror_mode": {
    "name": "ipython",
    "version": 3
   },
   "file_extension": ".py",
   "mimetype": "text/x-python",
   "name": "python",
   "nbconvert_exporter": "python",
   "pygments_lexer": "ipython3",
   "version": "3.6.8"
  }
 },
 "nbformat": 4,
 "nbformat_minor": 2
}
