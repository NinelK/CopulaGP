{
 "cells": [
  {
   "cell_type": "code",
   "execution_count": 1,
   "metadata": {},
   "outputs": [],
   "source": [
    "import sys\n",
    "home = '/home/nina/CopulaGP/'\n",
    "sys.path.insert(0, home)\n",
    "\n",
    "import pickle as pkl\n",
    "import matplotlib.pyplot as plt\n",
    "import numpy as np"
   ]
  },
  {
   "cell_type": "code",
   "execution_count": 2,
   "metadata": {},
   "outputs": [],
   "source": [
    "with open(f\"{home}/results/HYgX_C.pkl\",\"rb\") as f:\n",
    "    data = pkl.load(f)"
   ]
  },
  {
   "cell_type": "code",
   "execution_count": 3,
   "metadata": {},
   "outputs": [
    {
     "data": {
      "text/plain": [
       "[<matplotlib.lines.Line2D at 0x7f0ced270588>]"
      ]
     },
     "execution_count": 3,
     "metadata": {},
     "output_type": "execute_result"
    },
    {
     "data": {
      "image/png": "[encoded data removed]",
      "text/plain": [
       "<Figure size 432x288 with 1 Axes>"
      ]
     },
     "metadata": {
      "needs_background": "light"
     },
     "output_type": "display_data"
    }
   ],
   "source": [
    "plt.plot(data[0]*160,-data[1])"
   ]
  },
  {
   "cell_type": "code",
   "execution_count": 15,
   "metadata": {},
   "outputs": [],
   "source": [
    "with open(f\"{home}/results/singleH.pkl\",\"rb\") as f: #single variable BI_KSG:(MI,H(Y|X)) from standard data\n",
    "    singleH = pkl.load(f)\n",
    "# with open(f\"{home}/results/Hrs_and_Hr_top.pkl\",\"rb\") as f: # top layers of C-Vine\n",
    "#     (Hrs,Hr) = pkl.load(f)"
   ]
  },
  {
   "cell_type": "code",
   "execution_count": 20,
   "metadata": {},
   "outputs": [],
   "source": [
    "import MI\n",
    "from train import conf\n",
    "import utils\n",
    "import torch\n",
    "import tqdm\n",
    "animal = 'ST260'\n",
    "day_name = 'Day1'\n",
    "exp_pref = f'{animal}_{day_name}'\n",
    "\n",
    "X,Y = utils.standard_loader(f\"{conf.path2data}/{exp_pref}_unconditional.pkl\")"
   ]
  },
  {
   "cell_type": "code",
   "execution_count": 38,
   "metadata": {},
   "outputs": [
    {
     "name": "stderr",
     "output_type": "stream",
     "text": [
      "\n",
      "  0%|          | 0/19 [00:00<?, ?it/s]\u001b[A\n",
      "  5%|▌         | 1/19 [00:45<13:38, 45.48s/it]\u001b[A"
     ]
    },
    {
     "name": "stdout",
     "output_type": "stream",
     "text": [
      "[0.9738142682927658]\n"
     ]
    },
    {
     "name": "stderr",
     "output_type": "stream",
     "text": [
      "\n",
      " 11%|█         | 2/19 [01:31<12:55, 45.62s/it]\u001b[A\n",
      " 16%|█▌        | 3/19 [02:17<12:11, 45.70s/it]\u001b[A\n",
      " 21%|██        | 4/19 [02:56<10:57, 43.81s/it]\u001b[A\n",
      " 26%|██▋       | 5/19 [03:33<09:42, 41.64s/it]\u001b[A\n",
      " 32%|███▏      | 6/19 [04:13<08:57, 41.32s/it]\u001b[A\n",
      " 37%|███▋      | 7/19 [04:56<08:20, 41.75s/it]\u001b[A\n",
      " 42%|████▏     | 8/19 [05:38<07:38, 41.72s/it]\u001b[A\n",
      " 47%|████▋     | 9/19 [06:17<06:50, 41.09s/it]\u001b[A\n",
      " 53%|█████▎    | 10/19 [06:56<06:02, 40.25s/it]\u001b[A\n",
      " 58%|█████▊    | 11/19 [07:33<05:15, 39.44s/it]\u001b[A\n",
      " 63%|██████▎   | 12/19 [08:11<04:31, 38.80s/it]\u001b[A\n",
      " 68%|██████▊   | 13/19 [08:48<03:50, 38.38s/it]\u001b[A\n",
      " 74%|███████▎  | 14/19 [09:25<03:10, 38.01s/it]\u001b[A\n",
      " 79%|███████▉  | 15/19 [10:02<02:31, 37.77s/it]\u001b[A\n",
      " 84%|████████▍ | 16/19 [10:39<01:52, 37.54s/it]\u001b[A\n",
      " 89%|████████▉ | 17/19 [11:16<01:14, 37.32s/it]\u001b[A\n",
      " 95%|█████████▍| 18/19 [11:53<00:37, 37.16s/it]\u001b[A\n",
      "100%|██████████| 19/19 [12:28<00:00, 39.40s/it]\u001b[A\n"
     ]
    }
   ],
   "source": [
    "device = \"cuda:1\"\n",
    "\n"
   ]
  },
  {
   "cell_type": "code",
   "execution_count": 28,
   "metadata": {},
   "outputs": [],
   "source": []
  },
  {
   "cell_type": "code",
   "execution_count": 36,
   "metadata": {},
   "outputs": [
    {
     "name": "stdout",
     "output_type": "stream",
     "text": [
      "0.18685029305592216\n",
      "0.26089333879694643\n",
      "0.2968146671520578\n",
      "0.2535365659279762\n",
      "0.46832307585511224\n",
      "0.157953735811206\n",
      "0.42874789009109504\n",
      "0.37342309210467717\n",
      "0.08651870485581728\n",
      "0.11251310323734409\n",
      "0.39912736112865627\n",
      "0.45776531889262073\n",
      "0.25314788513702624\n",
      "0.0773883931465714\n",
      "0.3312312118056137\n",
      "0.16880665799824082\n",
      "0.18582306218014996\n",
      "0.2432750275837645\n",
      "0.36846177958824955\n",
      "0.6557745342671254\n",
      "0.19639782392724553\n",
      "0.11534106771005964\n",
      "0.9850234095454002\n",
      "0.26995946873067345\n",
      "0.8980475694291318\n",
      "0.10010207197807061\n",
      "0.06228857974925092\n",
      "0.08385044239780136\n",
      "0.24829143904196227\n",
      "0.22523522988898056\n",
      "0.09426923737839574\n",
      "0.12252228928816165\n",
      "0.8458381081761055\n",
      "0.04083016735242338\n",
      "0.1308145295397531\n",
      "0.15616599765331848\n",
      "0.13951298206376678\n",
      "0.2036468496654502\n",
      "0.027139440060368947\n",
      "0.3614319027429068\n",
      "0.0876015721191436\n",
      "0.46858238269695063\n",
      "0.06084301719862846\n",
      "0.18174371969300956\n",
      "0.10119120585923774\n",
      "0.07254579165490185\n",
      "0.37147925819330024\n",
      "0.09714455082467696\n",
      "0.12014379072456037\n",
      "0.07569689540521511\n",
      "0.17342657420379007\n",
      "0.1140128349485305\n",
      "0.15430500563507907\n",
      "0.19811829537081435\n",
      "0.07546616455570913\n",
      "0.04860294206877046\n",
      "0.11070699518256126\n",
      "0.51436511026121\n",
      "0.30141750333059325\n",
      "0.06010559858739145\n",
      "0.07007396563091829\n",
      "0.2413110072087426\n",
      "0.04343640050528515\n",
      "0.11904684238169466\n",
      "0.05447095249500461\n",
      "0.21669431347315718\n",
      "0.16433002483869166\n",
      "0.2859687102623829\n",
      "0.039463663076619415\n",
      "0.2656089096031224\n",
      "0.26966021891817216\n",
      "0.29069361112736825\n",
      "0.08050802407177675\n",
      "0.04411214721281432\n",
      "0.06858607385035223\n",
      "0.38718798154045836\n",
      "0.36344066010498444\n",
      "0.07650763774475591\n",
      "0.06028343939729928\n",
      "0.22929126872692904\n",
      "0.298463249847566\n",
      "0.042371763402950284\n",
      "0.008825323991193752\n",
      "0.07002855683663267\n",
      "0.1041312277779061\n",
      "0.07901540814276979\n",
      "0.03070393904600692\n",
      "0.055508529202117775\n",
      "0.045450166862069125\n",
      "0.009458536567574186\n",
      "0.03545294435440221\n",
      "0.08996963348562065\n",
      "0.0413880333889307\n",
      "0.048094238885349624\n",
      "0.03577737081465246\n",
      "0.07410204116472804\n",
      "0.039407236643762895\n",
      "0.1536243198007954\n",
      "0.04232138054793424\n",
      "0.03836740266435716\n",
      "0.042075926371177054\n",
      "0.0353027658789941\n",
      "0.10020713187991644\n",
      "0.013625931484727414\n",
      "0.006654077286219519\n",
      "0.01614119118974059\n",
      "0.02143322096931952\n",
      "0.02295880247909928\n",
      "0.00614236709363751\n"
     ]
    }
   ],
   "source": [
    "singleH = np.empty((Y.shape[-1]))\n",
    "for i in range(Y.shape[-1]):\n",
    "    singleH[i] = MI.train_MINE(Y[...,i].reshape((*X.shape,1)),x=torch.tensor(X).float(),\n",
    "                               H=100,lr=0.01,device=device).item()/np.log(2)\n",
    "    print(singleH[i])"
   ]
  },
  {
   "cell_type": "code",
   "execution_count": 37,
   "metadata": {},
   "outputs": [],
   "source": [
    "with open(f\"{home}/results/singleMI.pkl\",\"wb\") as f: #single variable MINE MI from unconditional data\n",
    "    pkl.dump(singleH,f)"
   ]
  },
  {
   "cell_type": "code",
   "execution_count": null,
   "metadata": {},
   "outputs": [],
   "source": []
  }
 ],
 "metadata": {
  "kernelspec": {
   "display_name": "GPyTorch_new",
   "language": "python",
   "name": "gpytorch_new"
  },
  "language_info": {
   "codemirror_mode": {
    "name": "ipython",
    "version": 3
   },
   "file_extension": ".py",
   "mimetype": "text/x-python",
   "name": "python",
   "nbconvert_exporter": "python",
   "pygments_lexer": "ipython3",
   "version": "3.6.8"
  }
 },
 "nbformat": 4,
 "nbformat_minor": 2
}
