{
 "cells": [
  {
   "cell_type": "code",
   "execution_count": 1,
   "metadata": {},
   "outputs": [],
   "source": [
    "import sys\n",
    "home = '/home/nina/CopulaGP/'\n",
    "sys.path.insert(0, home)\n",
    "\n",
    "from train import conf\n",
    "import glob\n",
    "import pickle as pkl\n",
    "import numpy as np\n",
    "import matplotlib.pyplot as plt\n",
    "import torch\n",
    "import utils\n",
    "\n",
    "import tqdm\n",
    "import bvcopula\n",
    "from vine import CVine"
   ]
  },
  {
   "cell_type": "code",
   "execution_count": 2,
   "metadata": {},
   "outputs": [],
   "source": [
    "animal = 'ST260'\n",
    "day_name = 'Day1'\n",
    "exp_pref = f'{animal}_{day_name}'\n",
    "path_models = f\"{conf.path2outputs}/{exp_pref}\""
   ]
  },
  {
   "cell_type": "code",
   "execution_count": 3,
   "metadata": {},
   "outputs": [],
   "source": [
    "list_files = glob.glob(f\"{path_models}/models_*.pkl\")"
   ]
  },
  {
   "cell_type": "code",
   "execution_count": 4,
   "metadata": {},
   "outputs": [],
   "source": [
    "with open(f\"{path_models}/models_layer0.pkl\",\"rb\") as f:\n",
    "    results = pkl.load(f)\n",
    "NN = len(results)+1\n",
    "WAICs = np.zeros((NN,NN))\n",
    "WAICs[0,1:] = [a[3] for a in results]\n",
    "for layer in range(1,len(results)):\n",
    "    with open(f\"{path_models}/models_layer{layer}.pkl\",\"rb\") as f:\n",
    "        res = pkl.load(f)\n",
    "    WAICs[layer,(layer+1):] = [a[3] for a in res]"
   ]
  },
  {
   "cell_type": "code",
   "execution_count": 5,
   "metadata": {},
   "outputs": [
    {
     "data": {
      "text/plain": [
       "<matplotlib.image.AxesImage at 0x7f6467dfa2b0>"
      ]
     },
     "execution_count": 5,
     "metadata": {},
     "output_type": "execute_result"
    },
    {
     "data": {
      "image/png": "[encoded data removed]",
      "text/plain": [
       "<Figure size 432x288 with 1 Axes>"
      ]
     },
     "metadata": {
      "needs_background": "light"
     },
     "output_type": "display_data"
    }
   ],
   "source": [
    "plt.imshow(WAICs[:])"
   ]
  },
  {
   "cell_type": "code",
   "execution_count": 6,
   "metadata": {},
   "outputs": [
    {
     "name": "stderr",
     "output_type": "stream",
     "text": [
      "100%|██████████| 108/108 [00:07<00:00, 14.42it/s]\n"
     ]
    }
   ],
   "source": [
    "device = \"cuda:1\"\n",
    "\n",
    "# create linspace\n",
    "N_points = 50\n",
    "train_x = torch.linspace(0,1,N_points).to(device)\n",
    "\n",
    "copula_layers, likelihood_layers, fs_layers = [], [], []\n",
    "for layer in tqdm.tqdm(range(0,NN-1)):\n",
    "    with open(f\"{path_models}/models_layer{layer}.pkl\",\"rb\") as f:\n",
    "        results = pkl.load(f)\n",
    "    out_dir = f'{path_models}/layer{layer}'\n",
    "    copulas, liks, fs = [], [], []\n",
    "    for n,res in enumerate(results):\n",
    "        if res[1]!='Independence':\n",
    "            likelihoods = res[0]\n",
    "            weights_file = f\"{out_dir}/model_{exp_pref}_{layer}-{layer+n+1}.pth\"\n",
    "            model = utils.get_model(weights_file, likelihoods, device)\n",
    "            liks.append(model.likelihood)\n",
    "            with torch.no_grad():\n",
    "                f = model(train_x).mean\n",
    "                copula = model.likelihood.get_copula(f)\n",
    "                copulas.append(copula)\n",
    "                fs.append(f)\n",
    "        else:\n",
    "            copulas.append(bvcopula.MixtureCopula(torch.empty(1,0,device=device),\n",
    "                    torch.ones(1,N_points,device=device),\n",
    "                    [bvcopula.IndependenceCopula]))\n",
    "            fs.append(None)\n",
    "            liks.append([bvcopula.IndependenceCopula_Likelihood()])\n",
    "    copula_layers.append(copulas)\n",
    "    likelihood_layers.append(liks)\n",
    "    fs_layers.append(fs)"
   ]
  },
  {
   "cell_type": "code",
   "execution_count": 22,
   "metadata": {},
   "outputs": [
    {
     "name": "stderr",
     "output_type": "stream",
     "text": [
      "100%|██████████| 108/108 [06:58<00:00,  3.87s/it]\n",
      "100%|██████████| 107/107 [00:42<00:00,  2.51it/s]\n",
      "100%|██████████| 106/106 [00:52<00:00,  2.03it/s]\n",
      "100%|██████████| 105/105 [01:49<00:00,  1.05s/it]\n",
      "100%|██████████| 104/104 [02:14<00:00,  1.30s/it]\n",
      "100%|██████████| 103/103 [00:30<00:00,  3.41it/s]\n",
      "100%|██████████| 102/102 [02:37<00:00,  1.55s/it]\n",
      "100%|██████████| 101/101 [00:52<00:00,  1.92it/s]\n",
      "100%|██████████| 100/100 [00:27<00:00,  3.60it/s]\n",
      "100%|██████████| 99/99 [00:17<00:00,  5.55it/s]\n",
      "100%|██████████| 98/98 [01:05<00:00,  1.50it/s]\n",
      "100%|██████████| 97/97 [00:47<00:00,  2.03it/s]\n",
      "100%|██████████| 96/96 [00:17<00:00,  5.35it/s]\n",
      "100%|██████████| 95/95 [00:06<00:00, 15.73it/s]\n",
      "100%|██████████| 94/94 [00:40<00:00,  2.31it/s]\n",
      "100%|██████████| 93/93 [00:13<00:00,  6.70it/s]\n",
      "100%|██████████| 92/92 [00:30<00:00,  3.02it/s]\n",
      "100%|██████████| 91/91 [00:34<00:00,  2.63it/s]\n",
      "100%|██████████| 90/90 [00:59<00:00,  1.51it/s]\n",
      "100%|██████████| 89/89 [01:05<00:00,  1.36it/s]\n",
      "100%|██████████| 88/88 [00:23<00:00,  3.77it/s]\n",
      "100%|██████████| 87/87 [00:24<00:00,  3.59it/s]\n",
      "100%|██████████| 86/86 [00:50<00:00,  1.70it/s]\n",
      "100%|██████████| 85/85 [00:02<00:00, 37.63it/s]\n",
      "100%|██████████| 84/84 [00:12<00:00,  6.48it/s]\n",
      "100%|██████████| 83/83 [00:00<00:00, 1678.81it/s]\n",
      "100%|██████████| 82/82 [00:42<00:00,  1.92it/s]\n",
      "100%|██████████| 81/81 [00:02<00:00, 33.19it/s]\n",
      "100%|██████████| 80/80 [00:04<00:00, 16.66it/s]\n",
      "100%|██████████| 79/79 [00:11<00:00,  6.62it/s]\n",
      "100%|██████████| 78/78 [00:09<00:00,  8.08it/s]\n",
      "100%|██████████| 77/77 [00:16<00:00,  4.57it/s]\n",
      "100%|██████████| 76/76 [00:22<00:00,  3.36it/s]\n",
      "100%|██████████| 75/75 [00:17<00:00,  4.37it/s]\n",
      "100%|██████████| 74/74 [00:12<00:00,  5.87it/s]\n",
      "100%|██████████| 73/73 [00:14<00:00,  5.18it/s]\n",
      "100%|██████████| 72/72 [00:30<00:00,  2.35it/s]\n",
      "100%|██████████| 71/71 [00:02<00:00, 29.56it/s]\n",
      "100%|██████████| 70/70 [00:07<00:00,  9.35it/s]\n",
      "100%|██████████| 69/69 [00:25<00:00,  2.74it/s]\n",
      "100%|██████████| 68/68 [00:11<00:00,  5.67it/s]\n",
      "100%|██████████| 67/67 [00:12<00:00,  5.49it/s]\n",
      "100%|██████████| 66/66 [00:02<00:00, 27.74it/s]\n",
      "100%|██████████| 65/65 [00:11<00:00,  5.61it/s]\n",
      "100%|██████████| 64/64 [00:09<00:00,  6.77it/s]\n",
      "100%|██████████| 63/63 [00:00<00:00, 1886.67it/s]\n",
      "100%|██████████| 62/62 [00:02<00:00, 25.86it/s]\n",
      "100%|██████████| 61/61 [00:00<00:00, 2682.79it/s]\n",
      "100%|██████████| 60/60 [00:05<00:00, 11.54it/s]\n",
      "100%|██████████| 59/59 [00:00<00:00, 2000.50it/s]\n",
      "100%|██████████| 58/58 [00:02<00:00, 23.79it/s]\n",
      "100%|██████████| 57/57 [00:02<00:00, 24.10it/s]\n",
      "100%|██████████| 56/56 [00:04<00:00, 12.06it/s]\n",
      "100%|██████████| 55/55 [00:03<00:00, 16.22it/s]\n",
      "100%|██████████| 54/54 [00:02<00:00, 19.86it/s]\n",
      "100%|██████████| 53/53 [00:04<00:00, 10.89it/s]\n",
      "100%|██████████| 52/52 [00:00<00:00, 2158.46it/s]\n",
      "100%|██████████| 51/51 [00:05<00:00,  9.81it/s]\n",
      "100%|██████████| 50/50 [00:00<00:00, 2770.13it/s]\n",
      "100%|██████████| 49/49 [00:04<00:00, 10.45it/s]\n",
      "100%|██████████| 48/48 [00:02<00:00, 19.91it/s]\n",
      "100%|██████████| 47/47 [00:07<00:00,  5.89it/s]\n",
      "100%|██████████| 46/46 [00:00<00:00, 2361.02it/s]\n",
      "100%|██████████| 45/45 [00:04<00:00, 10.03it/s]\n",
      "100%|██████████| 44/44 [00:00<00:00, 2382.54it/s]\n",
      "100%|██████████| 43/43 [00:05<00:00,  8.08it/s]\n",
      "100%|██████████| 42/42 [00:02<00:00, 15.76it/s]\n",
      "100%|██████████| 41/41 [00:02<00:00, 18.41it/s]\n",
      "100%|██████████| 40/40 [00:00<00:00, 1710.77it/s]\n",
      "100%|██████████| 39/39 [00:04<00:00,  8.65it/s]\n",
      "100%|██████████| 38/38 [00:01<00:00, 36.41it/s]\n",
      "100%|██████████| 37/37 [00:03<00:00, 10.86it/s]\n",
      "100%|██████████| 36/36 [00:00<00:00, 2091.63it/s]\n",
      "100%|██████████| 35/35 [00:00<00:00, 2392.60it/s]\n",
      "100%|██████████| 34/34 [00:12<00:00,  2.76it/s]\n",
      "100%|██████████| 33/33 [00:00<00:00, 2559.30it/s]\n",
      "100%|██████████| 32/32 [00:09<00:00,  3.46it/s]\n",
      "100%|██████████| 31/31 [00:00<00:00, 2965.32it/s]\n",
      "100%|██████████| 30/30 [00:00<00:00, 2643.47it/s]\n",
      "100%|██████████| 29/29 [00:06<00:00,  4.27it/s]\n",
      "100%|██████████| 28/28 [00:00<00:00, 2811.33it/s]\n",
      "100%|██████████| 27/27 [00:00<00:00, 2371.85it/s]\n",
      "100%|██████████| 26/26 [00:01<00:00, 24.23it/s]\n",
      "100%|██████████| 25/25 [00:00<00:00, 25.40it/s]\n",
      "100%|██████████| 24/24 [00:02<00:00, 10.00it/s]\n",
      "100%|██████████| 23/23 [00:00<00:00, 3142.31it/s]\n",
      "100%|██████████| 22/22 [00:00<00:00, 3023.91it/s]\n",
      "100%|██████████| 21/21 [00:02<00:00,  9.32it/s]\n",
      "100%|██████████| 20/20 [00:02<00:00,  7.65it/s]\n",
      "100%|██████████| 19/19 [00:00<00:00, 2391.35it/s]\n",
      "100%|██████████| 18/18 [00:00<00:00, 1355.89it/s]\n",
      "100%|██████████| 17/17 [00:00<00:00, 2708.16it/s]\n",
      "100%|██████████| 16/16 [00:00<00:00, 2867.04it/s]\n",
      "100%|██████████| 15/15 [00:00<00:00, 914.20it/s]\n",
      "100%|██████████| 14/14 [00:00<00:00, 2444.13it/s]\n",
      "100%|██████████| 13/13 [00:00<00:00, 2478.79it/s]\n",
      "100%|██████████| 12/12 [00:00<00:00, 3006.13it/s]\n",
      "100%|██████████| 11/11 [00:00<00:00, 2980.45it/s]\n",
      "100%|██████████| 10/10 [00:00<00:00, 3028.16it/s]\n",
      "100%|██████████| 9/9 [00:00<00:00, 2974.45it/s]\n",
      "100%|██████████| 8/8 [00:00<00:00, 2911.19it/s]\n",
      "100%|██████████| 7/7 [00:06<00:00,  1.00it/s]\n",
      "100%|██████████| 6/6 [00:00<00:00, 2836.22it/s]\n",
      "100%|██████████| 5/5 [00:00<00:00, 2452.81it/s]\n",
      "100%|██████████| 4/4 [00:00<00:00, 2136.14it/s]\n",
      "100%|██████████| 3/3 [00:00<00:00, 445.05it/s]\n",
      "100%|██████████| 2/2 [00:00<00:00, 2162.01it/s]\n",
      "100%|██████████| 1/1 [00:00<00:00, 1369.35it/s]"
     ]
    },
    {
     "name": "stdout",
     "output_type": "stream",
     "text": [
      "32.0\n"
     ]
    },
    {
     "name": "stderr",
     "output_type": "stream",
     "text": [
      "\n"
     ]
    }
   ],
   "source": [
    "# import time\n",
    "# X,Y = utils.standard_loader(f\"{conf.path2data}/{exp_pref}_unconditional.pkl\")\n",
    "# indep = bvcopula.MixtureCopula(torch.empty(1,0,device=device),\n",
    "#                     torch.ones(1,1,device=device),\n",
    "#                     [bvcopula.IndependenceCopula])\n",
    "# N = Y.shape[-1]\n",
    "# device = torch.device('cpu')\n",
    "# data_layers = [torch.tensor(Y).float().to(device)]\n",
    "# copula_layers = []\n",
    "# t0 = time.time()\n",
    "# for m in range(0,N-1):\n",
    "#     copulas, layer = [], []\n",
    "#     for n in tqdm.tqdm(range(1,N-m)):\n",
    "#         samples = data_layers[-1][...,[n,0]]\n",
    "#         likelihood = likelihood_layers[m][n-1]\n",
    "#         f0 = fs_layers[m][n-1]\n",
    "#         if f0 is None:\n",
    "#             assert likelihood[0].name=='Independence'\n",
    "#             copulas.append(indep)\n",
    "#             layer.append(samples[:,0])\n",
    "#         else:\n",
    "#             f0 = f0.mean(axis=-1).unsqueeze(-1)\n",
    "# #             copula0 = likelihood(f0)\n",
    "#             copula = likelihood.fit(samples,f0)\n",
    "# #             print(f\"{m},{n+m}: {(copula0.theta-copula.theta).mean().cpu()}\")\n",
    "#             copulas.append(copula)\n",
    "#             layer.append(copula.ccdf(samples.unsqueeze(-2)).squeeze())\n",
    "#     data_layers.append(torch.stack(layer,dim=-1))\n",
    "#     copula_layers.append(copulas)\n",
    "# t1= time.time()\n",
    "# print(f\"{(t1-t0)//60}\")"
   ]
  },
  {
   "cell_type": "code",
   "execution_count": 7,
   "metadata": {},
   "outputs": [],
   "source": [
    "vine = CVine(copula_layers,train_x,device=device)"
   ]
  },
  {
   "cell_type": "code",
   "execution_count": 11,
   "metadata": {},
   "outputs": [
    {
     "name": "stdout",
     "output_type": "stream",
     "text": [
      "tensor(1.2406, device='cuda:1')\n",
      "CPU times: user 1min 53s, sys: 24.3 s, total: 2min 18s\n",
      "Wall time: 2min 10s\n"
     ]
    },
    {
     "data": {
      "text/plain": [
       "tensor([-17.4609, -17.5231, -18.0129, -18.5220, -19.2442, -19.9465, -20.4612,\n",
       "        -20.7435, -20.9478, -21.0632, -21.1251, -21.0762, -21.3237, -20.8989,\n",
       "        -20.3031, -19.6674, -19.1477, -18.2938, -17.8035, -17.2253, -16.8350,\n",
       "        -16.2575, -15.9987, -15.5437, -15.3789, -15.2675, -15.2972, -15.4826,\n",
       "        -15.5483, -15.9274, -16.0067, -16.2962, -16.4558, -16.7578, -17.3318,\n",
       "        -17.8893, -18.2426, -18.8378, -21.0839, -22.1983, -22.3236, -21.9565,\n",
       "        -20.0191, -18.2179, -16.5345, -15.3848, -14.3755, -13.9469, -14.0812,\n",
       "        -14.4712], device='cuda:1')"
      ]
     },
     "execution_count": 11,
     "metadata": {},
     "output_type": "execute_result"
    }
   ],
   "source": [
    "%time Hrs = vine.entropy(sem_tol=.1, mc_size=4000, v=True)\n",
    "Hrs"
   ]
  },
  {
   "cell_type": "code",
   "execution_count": 12,
   "metadata": {},
   "outputs": [
    {
     "data": {
      "text/plain": [
       "[<matplotlib.lines.Line2D at 0x7f7f0309ca90>]"
      ]
     },
     "execution_count": 12,
     "metadata": {},
     "output_type": "execute_result"
    },
    {
     "data": {
      "image/png": "[encoded data removed]",
      "text/plain": [
       "<Figure size 432x288 with 1 Axes>"
      ]
     },
     "metadata": {
      "needs_background": "light"
     },
     "output_type": "display_data"
    }
   ],
   "source": [
    "plt.plot(Hrs.cpu().numpy())"
   ]
  },
  {
   "cell_type": "code",
   "execution_count": 7,
   "metadata": {},
   "outputs": [],
   "source": [
    "# vine_trained = CVine(copula_layers,torch.ones(1),device=device)\n",
    "# with open(f\"{home}vine_unconditional.pkl\",\"wb\") as f:\n",
    "#     pkl.dump(vine_trained,f)\n",
    "with open(f\"{home}vine_unconditional.pkl\",\"rb\") as f:\n",
    "    vine_trained = pkl.load(f)\n",
    "# %time Hr = vine_trained.entropy(sem_tol=.1, mc_size=4000, v=True)"
   ]
  },
  {
   "cell_type": "code",
   "execution_count": 16,
   "metadata": {},
   "outputs": [
    {
     "name": "stderr",
     "output_type": "stream",
     "text": [
      "\n",
      "\n",
      "\n",
      "  0%|          | 0/108 [00:00<?, ?it/s]\u001b[A\u001b[A\u001b[A\n",
      "\n",
      "\n",
      "  1%|          | 1/108 [03:32<6:19:45, 212.95s/it]\u001b[A\u001b[A\u001b[A"
     ]
    },
    {
     "name": "stdout",
     "output_type": "stream",
     "text": [
      "-8.98849868774414\n"
     ]
    },
    {
     "name": "stderr",
     "output_type": "stream",
     "text": [
      "\n",
      "\n",
      "\n",
      "  2%|▏         | 2/108 [04:12<4:44:07, 160.82s/it]\u001b[A\u001b[A\u001b[A"
     ]
    },
    {
     "name": "stdout",
     "output_type": "stream",
     "text": [
      "-4.494027137756348\n"
     ]
    },
    {
     "name": "stderr",
     "output_type": "stream",
     "text": [
      "\n",
      "\n",
      "\n",
      "  3%|▎         | 3/108 [04:50<3:37:10, 124.10s/it]\u001b[A\u001b[A\u001b[A"
     ]
    },
    {
     "name": "stdout",
     "output_type": "stream",
     "text": [
      "-4.333754539489746\n"
     ]
    },
    {
     "name": "stderr",
     "output_type": "stream",
     "text": [
      "\n",
      "\n",
      "\n",
      "  4%|▎         | 4/108 [05:23<2:47:31, 96.65s/it] \u001b[A\u001b[A\u001b[A"
     ]
    },
    {
     "name": "stdout",
     "output_type": "stream",
     "text": [
      "-4.263873100280762\n"
     ]
    },
    {
     "name": "stderr",
     "output_type": "stream",
     "text": [
      "\n",
      "\n",
      "\n",
      "  5%|▍         | 5/108 [05:48<2:09:20, 75.35s/it]\u001b[A\u001b[A\u001b[A"
     ]
    },
    {
     "name": "stdout",
     "output_type": "stream",
     "text": [
      "-3.244961738586426\n"
     ]
    },
    {
     "name": "stderr",
     "output_type": "stream",
     "text": [
      "\n",
      "\n",
      "\n",
      "  6%|▌         | 6/108 [06:13<1:42:11, 60.11s/it]\u001b[A\u001b[A\u001b[A"
     ]
    },
    {
     "name": "stdout",
     "output_type": "stream",
     "text": [
      "-2.8849782943725586\n"
     ]
    },
    {
     "name": "stderr",
     "output_type": "stream",
     "text": [
      "\n",
      "\n",
      "\n",
      "  6%|▋         | 7/108 [06:37<1:22:58, 49.29s/it]\u001b[A\u001b[A\u001b[A"
     ]
    },
    {
     "name": "stdout",
     "output_type": "stream",
     "text": [
      "-3.0167975425720215\n"
     ]
    },
    {
     "name": "stderr",
     "output_type": "stream",
     "text": [
      "\n",
      "\n",
      "\n",
      "  7%|▋         | 8/108 [06:55<1:06:47, 40.07s/it]\u001b[A\u001b[A\u001b[A"
     ]
    },
    {
     "name": "stdout",
     "output_type": "stream",
     "text": [
      "-1.8201985359191895\n"
     ]
    },
    {
     "name": "stderr",
     "output_type": "stream",
     "text": [
      "\n",
      "\n",
      "\n",
      "  8%|▊         | 9/108 [07:13<55:09, 33.43s/it]  \u001b[A\u001b[A\u001b[A"
     ]
    },
    {
     "name": "stdout",
     "output_type": "stream",
     "text": [
      "-1.6649036407470703\n"
     ]
    },
    {
     "name": "stderr",
     "output_type": "stream",
     "text": [
      "\n",
      "\n",
      "\n",
      "  9%|▉         | 10/108 [07:31<46:47, 28.65s/it]\u001b[A\u001b[A\u001b[A"
     ]
    },
    {
     "name": "stdout",
     "output_type": "stream",
     "text": [
      "-1.5085639953613281\n"
     ]
    },
    {
     "name": "stderr",
     "output_type": "stream",
     "text": [
      "\n",
      "\n",
      "\n",
      " 10%|█         | 11/108 [07:48<40:44, 25.20s/it]\u001b[A\u001b[A\u001b[A"
     ]
    },
    {
     "name": "stdout",
     "output_type": "stream",
     "text": [
      "-1.4947314262390137\n"
     ]
    },
    {
     "name": "stderr",
     "output_type": "stream",
     "text": [
      "\n",
      "\n",
      "\n",
      " 11%|█         | 12/108 [08:05<36:08, 22.59s/it]\u001b[A\u001b[A\u001b[A"
     ]
    },
    {
     "name": "stdout",
     "output_type": "stream",
     "text": [
      "-1.583958625793457\n"
     ]
    },
    {
     "name": "stderr",
     "output_type": "stream",
     "text": [
      "\n",
      "\n",
      "\n",
      " 12%|█▏        | 13/108 [08:21<32:36, 20.60s/it]\u001b[A\u001b[A\u001b[A"
     ]
    },
    {
     "name": "stdout",
     "output_type": "stream",
     "text": [
      "-1.6301631927490234\n"
     ]
    },
    {
     "name": "stderr",
     "output_type": "stream",
     "text": [
      "\n",
      "\n",
      "\n",
      " 13%|█▎        | 14/108 [08:36<29:55, 19.10s/it]\u001b[A\u001b[A\u001b[A"
     ]
    },
    {
     "name": "stdout",
     "output_type": "stream",
     "text": [
      "-1.6321015357971191\n"
     ]
    },
    {
     "name": "stderr",
     "output_type": "stream",
     "text": [
      "\n",
      "\n",
      "\n",
      " 14%|█▍        | 15/108 [08:47<25:53, 16.71s/it]\u001b[A\u001b[A\u001b[A"
     ]
    },
    {
     "name": "stdout",
     "output_type": "stream",
     "text": [
      "-1.5697436332702637\n"
     ]
    },
    {
     "name": "stderr",
     "output_type": "stream",
     "text": [
      "\n",
      "\n",
      "\n",
      " 15%|█▍        | 16/108 [08:58<22:53, 14.92s/it]\u001b[A\u001b[A\u001b[A"
     ]
    },
    {
     "name": "stdout",
     "output_type": "stream",
     "text": [
      "-1.678825855255127\n"
     ]
    },
    {
     "name": "stderr",
     "output_type": "stream",
     "text": [
      "\n",
      "\n",
      "\n",
      " 16%|█▌        | 17/108 [09:12<22:25, 14.78s/it]\u001b[A\u001b[A\u001b[A"
     ]
    },
    {
     "name": "stdout",
     "output_type": "stream",
     "text": [
      "-1.5660762786865234\n"
     ]
    },
    {
     "name": "stderr",
     "output_type": "stream",
     "text": [
      "\n",
      "\n",
      "\n",
      " 17%|█▋        | 18/108 [09:27<21:50, 14.57s/it]\u001b[A\u001b[A\u001b[A"
     ]
    },
    {
     "name": "stdout",
     "output_type": "stream",
     "text": [
      "-1.4471526145935059\n"
     ]
    },
    {
     "name": "stderr",
     "output_type": "stream",
     "text": [
      "\n",
      "\n",
      "\n",
      " 18%|█▊        | 19/108 [09:40<21:11, 14.28s/it]\u001b[A\u001b[A\u001b[A"
     ]
    },
    {
     "name": "stdout",
     "output_type": "stream",
     "text": [
      "-1.4160776138305664\n"
     ]
    },
    {
     "name": "stderr",
     "output_type": "stream",
     "text": [
      "\n",
      "\n",
      "\n",
      " 19%|█▊        | 20/108 [09:47<17:31, 11.95s/it]\u001b[A\u001b[A\u001b[A"
     ]
    },
    {
     "name": "stdout",
     "output_type": "stream",
     "text": [
      "-1.4727349281311035\n"
     ]
    },
    {
     "name": "stderr",
     "output_type": "stream",
     "text": [
      "\n",
      "\n",
      "\n",
      " 19%|█▉        | 21/108 [09:53<14:49, 10.22s/it]\u001b[A\u001b[A\u001b[A"
     ]
    },
    {
     "name": "stdout",
     "output_type": "stream",
     "text": [
      "-0.7036309242248535\n"
     ]
    },
    {
     "name": "stderr",
     "output_type": "stream",
     "text": [
      "\n",
      "\n",
      "\n",
      " 20%|██        | 22/108 [09:59<12:49,  8.95s/it]\u001b[A\u001b[A\u001b[A"
     ]
    },
    {
     "name": "stdout",
     "output_type": "stream",
     "text": [
      "-0.7393386363983154\n"
     ]
    },
    {
     "name": "stderr",
     "output_type": "stream",
     "text": [
      "\n",
      "\n",
      "\n",
      " 21%|██▏       | 23/108 [10:05<11:19,  8.00s/it]\u001b[A\u001b[A\u001b[A"
     ]
    },
    {
     "name": "stdout",
     "output_type": "stream",
     "text": [
      "-0.738717794418335\n"
     ]
    },
    {
     "name": "stderr",
     "output_type": "stream",
     "text": [
      "\n",
      "\n",
      "\n",
      " 22%|██▏       | 24/108 [10:10<10:09,  7.26s/it]\u001b[A\u001b[A\u001b[A"
     ]
    },
    {
     "name": "stdout",
     "output_type": "stream",
     "text": [
      "-0.03805947303771973\n"
     ]
    },
    {
     "name": "stderr",
     "output_type": "stream",
     "text": [
      "\n",
      "\n",
      "\n",
      " 23%|██▎       | 25/108 [10:16<09:17,  6.71s/it]\u001b[A\u001b[A\u001b[A"
     ]
    },
    {
     "name": "stdout",
     "output_type": "stream",
     "text": [
      "-0.08920931816101074\n"
     ]
    },
    {
     "name": "stderr",
     "output_type": "stream",
     "text": [
      "\n",
      "\n",
      "\n",
      " 24%|██▍       | 26/108 [10:21<08:36,  6.30s/it]\u001b[A\u001b[A\u001b[A"
     ]
    },
    {
     "name": "stdout",
     "output_type": "stream",
     "text": [
      "-0.6911792755126953\n"
     ]
    },
    {
     "name": "stderr",
     "output_type": "stream",
     "text": [
      "\n",
      "\n",
      "\n",
      " 25%|██▌       | 27/108 [10:26<08:03,  5.97s/it]\u001b[A\u001b[A\u001b[A"
     ]
    },
    {
     "name": "stdout",
     "output_type": "stream",
     "text": [
      "-0.7097605466842651\n"
     ]
    },
    {
     "name": "stderr",
     "output_type": "stream",
     "text": [
      "\n",
      "\n",
      "\n",
      " 26%|██▌       | 28/108 [10:31<07:34,  5.68s/it]\u001b[A\u001b[A\u001b[A"
     ]
    },
    {
     "name": "stdout",
     "output_type": "stream",
     "text": [
      "-0.6873419284820557\n"
     ]
    },
    {
     "name": "stderr",
     "output_type": "stream",
     "text": [
      "\n",
      "\n",
      "\n",
      " 27%|██▋       | 29/108 [10:36<07:10,  5.44s/it]\u001b[A\u001b[A\u001b[A"
     ]
    },
    {
     "name": "stdout",
     "output_type": "stream",
     "text": [
      "-0.7252267599105835\n"
     ]
    },
    {
     "name": "stderr",
     "output_type": "stream",
     "text": [
      "\n",
      "\n",
      "\n",
      " 28%|██▊       | 30/108 [10:41<06:49,  5.25s/it]\u001b[A\u001b[A\u001b[A"
     ]
    },
    {
     "name": "stdout",
     "output_type": "stream",
     "text": [
      "-0.6737239360809326\n"
     ]
    },
    {
     "name": "stderr",
     "output_type": "stream",
     "text": [
      "\n",
      "\n",
      "\n",
      " 29%|██▊       | 31/108 [10:45<06:30,  5.07s/it]\u001b[A\u001b[A\u001b[A"
     ]
    },
    {
     "name": "stdout",
     "output_type": "stream",
     "text": [
      "-0.6849420070648193\n"
     ]
    },
    {
     "name": "stderr",
     "output_type": "stream",
     "text": [
      "\n",
      "\n",
      "\n",
      " 30%|██▉       | 32/108 [10:50<06:12,  4.90s/it]\u001b[A\u001b[A\u001b[A"
     ]
    },
    {
     "name": "stdout",
     "output_type": "stream",
     "text": [
      "-0.708643913269043\n"
     ]
    },
    {
     "name": "stderr",
     "output_type": "stream",
     "text": [
      "\n",
      "\n",
      "\n",
      " 31%|███       | 33/108 [10:54<05:55,  4.74s/it]\u001b[A\u001b[A\u001b[A"
     ]
    },
    {
     "name": "stdout",
     "output_type": "stream",
     "text": [
      "-0.620288610458374\n"
     ]
    },
    {
     "name": "stderr",
     "output_type": "stream",
     "text": [
      "\n",
      "\n",
      "\n",
      " 31%|███▏      | 34/108 [10:59<05:39,  4.58s/it]\u001b[A\u001b[A\u001b[A"
     ]
    },
    {
     "name": "stdout",
     "output_type": "stream",
     "text": [
      "-0.6316018104553223\n"
     ]
    },
    {
     "name": "stderr",
     "output_type": "stream",
     "text": [
      "\n",
      "\n",
      "\n",
      " 32%|███▏      | 35/108 [11:03<05:23,  4.42s/it]\u001b[A\u001b[A\u001b[A"
     ]
    },
    {
     "name": "stdout",
     "output_type": "stream",
     "text": [
      "-0.6005414724349976\n"
     ]
    },
    {
     "name": "stderr",
     "output_type": "stream",
     "text": [
      "\n",
      "\n",
      "\n",
      " 33%|███▎      | 36/108 [11:06<05:07,  4.27s/it]\u001b[A\u001b[A\u001b[A"
     ]
    },
    {
     "name": "stdout",
     "output_type": "stream",
     "text": [
      "-0.5845087766647339\n"
     ]
    },
    {
     "name": "stderr",
     "output_type": "stream",
     "text": [
      "\n",
      "\n",
      "\n",
      " 34%|███▍      | 37/108 [11:10<04:52,  4.13s/it]\u001b[A\u001b[A\u001b[A"
     ]
    },
    {
     "name": "stdout",
     "output_type": "stream",
     "text": [
      "-0.5829399824142456\n"
     ]
    },
    {
     "name": "stderr",
     "output_type": "stream",
     "text": [
      "\n",
      "\n",
      "\n",
      " 35%|███▌      | 38/108 [11:14<04:37,  3.97s/it]\u001b[A\u001b[A\u001b[A"
     ]
    },
    {
     "name": "stdout",
     "output_type": "stream",
     "text": [
      "-0.5447982549667358\n"
     ]
    },
    {
     "name": "stderr",
     "output_type": "stream",
     "text": [
      "\n",
      "\n",
      "\n",
      " 36%|███▌      | 39/108 [11:17<04:24,  3.83s/it]\u001b[A\u001b[A\u001b[A"
     ]
    },
    {
     "name": "stdout",
     "output_type": "stream",
     "text": [
      "-0.45206785202026367\n"
     ]
    },
    {
     "name": "stderr",
     "output_type": "stream",
     "text": [
      "\n",
      "\n",
      "\n",
      " 37%|███▋      | 40/108 [11:21<04:11,  3.69s/it]\u001b[A\u001b[A\u001b[A"
     ]
    },
    {
     "name": "stdout",
     "output_type": "stream",
     "text": [
      "-0.57649827003479\n"
     ]
    },
    {
     "name": "stderr",
     "output_type": "stream",
     "text": [
      "\n",
      "\n",
      "\n",
      " 38%|███▊      | 41/108 [11:24<03:57,  3.55s/it]\u001b[A\u001b[A\u001b[A"
     ]
    },
    {
     "name": "stdout",
     "output_type": "stream",
     "text": [
      "-0.575827956199646\n"
     ]
    },
    {
     "name": "stderr",
     "output_type": "stream",
     "text": [
      "\n",
      "\n",
      "\n",
      " 39%|███▉      | 42/108 [11:27<03:45,  3.41s/it]\u001b[A\u001b[A\u001b[A"
     ]
    },
    {
     "name": "stdout",
     "output_type": "stream",
     "text": [
      "-0.4437180757522583\n"
     ]
    },
    {
     "name": "stderr",
     "output_type": "stream",
     "text": [
      "\n",
      "\n",
      "\n",
      " 40%|███▉      | 43/108 [11:30<03:32,  3.28s/it]\u001b[A\u001b[A\u001b[A"
     ]
    },
    {
     "name": "stdout",
     "output_type": "stream",
     "text": [
      "-0.36007261276245117\n"
     ]
    },
    {
     "name": "stderr",
     "output_type": "stream",
     "text": [
      "\n",
      "\n",
      "\n",
      " 41%|████      | 44/108 [11:33<03:22,  3.16s/it]\u001b[A\u001b[A\u001b[A"
     ]
    },
    {
     "name": "stdout",
     "output_type": "stream",
     "text": [
      "-0.3793907165527344\n"
     ]
    },
    {
     "name": "stderr",
     "output_type": "stream",
     "text": [
      "\n",
      "\n",
      "\n",
      " 42%|████▏     | 45/108 [11:36<03:11,  3.04s/it]\u001b[A\u001b[A\u001b[A"
     ]
    },
    {
     "name": "stdout",
     "output_type": "stream",
     "text": [
      "-0.42918938398361206\n"
     ]
    },
    {
     "name": "stderr",
     "output_type": "stream",
     "text": [
      "\n",
      "\n",
      "\n",
      " 43%|████▎     | 46/108 [11:38<03:01,  2.93s/it]\u001b[A\u001b[A\u001b[A"
     ]
    },
    {
     "name": "stdout",
     "output_type": "stream",
     "text": [
      "-0.380190372467041\n"
     ]
    },
    {
     "name": "stderr",
     "output_type": "stream",
     "text": [
      "\n",
      "\n",
      "\n",
      " 44%|████▎     | 47/108 [11:41<02:52,  2.82s/it]\u001b[A\u001b[A\u001b[A"
     ]
    },
    {
     "name": "stdout",
     "output_type": "stream",
     "text": [
      "-0.34530913829803467\n"
     ]
    },
    {
     "name": "stderr",
     "output_type": "stream",
     "text": [
      "\n",
      "\n",
      "\n",
      " 44%|████▍     | 48/108 [11:43<02:43,  2.72s/it]\u001b[A\u001b[A\u001b[A"
     ]
    },
    {
     "name": "stdout",
     "output_type": "stream",
     "text": [
      "-0.2515776753425598\n"
     ]
    },
    {
     "name": "stderr",
     "output_type": "stream",
     "text": [
      "\n",
      "\n",
      "\n",
      " 45%|████▌     | 49/108 [11:46<02:35,  2.63s/it]\u001b[A\u001b[A\u001b[A"
     ]
    },
    {
     "name": "stdout",
     "output_type": "stream",
     "text": [
      "-0.3383435010910034\n"
     ]
    },
    {
     "name": "stderr",
     "output_type": "stream",
     "text": [
      "\n",
      "\n",
      "\n",
      " 46%|████▋     | 50/108 [11:48<02:27,  2.54s/it]\u001b[A\u001b[A\u001b[A"
     ]
    },
    {
     "name": "stdout",
     "output_type": "stream",
     "text": [
      "-0.313163697719574\n"
     ]
    },
    {
     "name": "stderr",
     "output_type": "stream",
     "text": [
      "\n",
      "\n",
      "\n",
      " 47%|████▋     | 51/108 [11:50<02:20,  2.46s/it]\u001b[A\u001b[A\u001b[A"
     ]
    },
    {
     "name": "stdout",
     "output_type": "stream",
     "text": [
      "-0.2939803898334503\n"
     ]
    },
    {
     "name": "stderr",
     "output_type": "stream",
     "text": [
      "\n",
      "\n",
      "\n",
      " 48%|████▊     | 52/108 [11:53<02:13,  2.38s/it]\u001b[A\u001b[A\u001b[A"
     ]
    },
    {
     "name": "stdout",
     "output_type": "stream",
     "text": [
      "-0.2910690903663635\n"
     ]
    },
    {
     "name": "stderr",
     "output_type": "stream",
     "text": [
      "\n",
      "\n",
      "\n",
      " 49%|████▉     | 53/108 [11:55<02:06,  2.30s/it]\u001b[A\u001b[A\u001b[A"
     ]
    },
    {
     "name": "stdout",
     "output_type": "stream",
     "text": [
      "-0.28443068265914917\n"
     ]
    },
    {
     "name": "stderr",
     "output_type": "stream",
     "text": [
      "\n",
      "\n",
      "\n",
      " 50%|█████     | 54/108 [11:57<02:00,  2.23s/it]\u001b[A\u001b[A\u001b[A"
     ]
    },
    {
     "name": "stdout",
     "output_type": "stream",
     "text": [
      "-0.30271726846694946\n"
     ]
    },
    {
     "name": "stderr",
     "output_type": "stream",
     "text": [
      "\n",
      "\n",
      "\n",
      " 51%|█████     | 55/108 [11:59<01:53,  2.15s/it]\u001b[A\u001b[A\u001b[A"
     ]
    },
    {
     "name": "stdout",
     "output_type": "stream",
     "text": [
      "-0.3245478868484497\n"
     ]
    },
    {
     "name": "stderr",
     "output_type": "stream",
     "text": [
      "\n",
      "\n",
      "\n",
      " 52%|█████▏    | 56/108 [12:01<01:47,  2.07s/it]\u001b[A\u001b[A\u001b[A"
     ]
    },
    {
     "name": "stdout",
     "output_type": "stream",
     "text": [
      "-0.28001123666763306\n"
     ]
    },
    {
     "name": "stderr",
     "output_type": "stream",
     "text": [
      "\n",
      "\n",
      "\n",
      " 53%|█████▎    | 57/108 [12:02<01:41,  1.99s/it]\u001b[A\u001b[A\u001b[A"
     ]
    },
    {
     "name": "stdout",
     "output_type": "stream",
     "text": [
      "-0.30354997515678406\n"
     ]
    },
    {
     "name": "stderr",
     "output_type": "stream",
     "text": [
      "\n",
      "\n",
      "\n",
      " 54%|█████▎    | 58/108 [12:04<01:36,  1.92s/it]\u001b[A\u001b[A\u001b[A"
     ]
    },
    {
     "name": "stdout",
     "output_type": "stream",
     "text": [
      "-0.2926414906978607\n"
     ]
    },
    {
     "name": "stderr",
     "output_type": "stream",
     "text": [
      "\n",
      "\n",
      "\n",
      " 55%|█████▍    | 59/108 [12:06<01:30,  1.85s/it]\u001b[A\u001b[A\u001b[A"
     ]
    },
    {
     "name": "stdout",
     "output_type": "stream",
     "text": [
      "-0.246437668800354\n"
     ]
    },
    {
     "name": "stderr",
     "output_type": "stream",
     "text": [
      "\n",
      "\n",
      "\n",
      " 56%|█████▌    | 60/108 [12:08<01:25,  1.78s/it]\u001b[A\u001b[A\u001b[A"
     ]
    },
    {
     "name": "stdout",
     "output_type": "stream",
     "text": [
      "-0.243104487657547\n"
     ]
    },
    {
     "name": "stderr",
     "output_type": "stream",
     "text": [
      "\n",
      "\n",
      "\n",
      " 56%|█████▋    | 61/108 [12:09<01:20,  1.71s/it]\u001b[A\u001b[A\u001b[A"
     ]
    },
    {
     "name": "stdout",
     "output_type": "stream",
     "text": [
      "-0.2640480399131775\n"
     ]
    },
    {
     "name": "stderr",
     "output_type": "stream",
     "text": [
      "\n",
      "\n",
      "\n",
      " 57%|█████▋    | 62/108 [12:11<01:15,  1.64s/it]\u001b[A\u001b[A\u001b[A"
     ]
    },
    {
     "name": "stdout",
     "output_type": "stream",
     "text": [
      "-0.2279965877532959\n"
     ]
    },
    {
     "name": "stderr",
     "output_type": "stream",
     "text": [
      "\n",
      "\n",
      "\n",
      " 58%|█████▊    | 63/108 [12:12<01:10,  1.57s/it]\u001b[A\u001b[A\u001b[A"
     ]
    },
    {
     "name": "stdout",
     "output_type": "stream",
     "text": [
      "-0.24622395634651184\n"
     ]
    },
    {
     "name": "stderr",
     "output_type": "stream",
     "text": [
      "\n",
      "\n",
      "\n",
      " 59%|█████▉    | 64/108 [12:13<01:06,  1.50s/it]\u001b[A\u001b[A\u001b[A"
     ]
    },
    {
     "name": "stdout",
     "output_type": "stream",
     "text": [
      "-0.22972255945205688\n"
     ]
    },
    {
     "name": "stderr",
     "output_type": "stream",
     "text": [
      "\n",
      "\n",
      "\n",
      " 60%|██████    | 65/108 [12:15<01:01,  1.43s/it]\u001b[A\u001b[A\u001b[A"
     ]
    },
    {
     "name": "stdout",
     "output_type": "stream",
     "text": [
      "-0.1702144294977188\n"
     ]
    },
    {
     "name": "stderr",
     "output_type": "stream",
     "text": [
      "\n",
      "\n",
      "\n",
      " 61%|██████    | 66/108 [12:16<00:57,  1.37s/it]\u001b[A\u001b[A\u001b[A"
     ]
    },
    {
     "name": "stdout",
     "output_type": "stream",
     "text": [
      "-0.19887703657150269\n"
     ]
    },
    {
     "name": "stderr",
     "output_type": "stream",
     "text": [
      "\n",
      "\n",
      "\n",
      " 62%|██████▏   | 67/108 [12:17<00:53,  1.31s/it]\u001b[A\u001b[A\u001b[A"
     ]
    },
    {
     "name": "stdout",
     "output_type": "stream",
     "text": [
      "-0.14476320147514343\n"
     ]
    },
    {
     "name": "stderr",
     "output_type": "stream",
     "text": [
      "\n",
      "\n",
      "\n",
      " 63%|██████▎   | 68/108 [12:18<00:49,  1.25s/it]\u001b[A\u001b[A\u001b[A"
     ]
    },
    {
     "name": "stdout",
     "output_type": "stream",
     "text": [
      "-0.14799079298973083\n"
     ]
    },
    {
     "name": "stderr",
     "output_type": "stream",
     "text": [
      "\n",
      "\n",
      "\n",
      " 64%|██████▍   | 69/108 [12:19<00:46,  1.19s/it]\u001b[A\u001b[A\u001b[A"
     ]
    },
    {
     "name": "stdout",
     "output_type": "stream",
     "text": [
      "-0.09797266125679016\n"
     ]
    },
    {
     "name": "stderr",
     "output_type": "stream",
     "text": [
      "\n",
      "\n",
      "\n",
      " 65%|██████▍   | 70/108 [12:20<00:43,  1.14s/it]\u001b[A\u001b[A\u001b[A"
     ]
    },
    {
     "name": "stdout",
     "output_type": "stream",
     "text": [
      "-0.11003890633583069\n"
     ]
    },
    {
     "name": "stderr",
     "output_type": "stream",
     "text": [
      "\n",
      "\n",
      "\n",
      " 66%|██████▌   | 71/108 [12:21<00:39,  1.08s/it]\u001b[A\u001b[A\u001b[A"
     ]
    },
    {
     "name": "stdout",
     "output_type": "stream",
     "text": [
      "-0.11135551333427429\n"
     ]
    },
    {
     "name": "stderr",
     "output_type": "stream",
     "text": [
      "\n",
      "\n",
      "\n",
      " 67%|██████▋   | 72/108 [12:22<00:36,  1.03s/it]\u001b[A\u001b[A\u001b[A"
     ]
    },
    {
     "name": "stdout",
     "output_type": "stream",
     "text": [
      "-0.08374044299125671\n"
     ]
    },
    {
     "name": "stderr",
     "output_type": "stream",
     "text": [
      "\n",
      "\n",
      "\n",
      " 68%|██████▊   | 73/108 [12:23<00:34,  1.03it/s]\u001b[A\u001b[A\u001b[A"
     ]
    },
    {
     "name": "stdout",
     "output_type": "stream",
     "text": [
      "-0.029643699526786804\n"
     ]
    },
    {
     "name": "stderr",
     "output_type": "stream",
     "text": [
      "\n",
      "\n",
      "\n",
      " 69%|██████▊   | 74/108 [12:24<00:31,  1.08it/s]\u001b[A\u001b[A\u001b[A"
     ]
    },
    {
     "name": "stdout",
     "output_type": "stream",
     "text": [
      "-0.04091724753379822\n"
     ]
    },
    {
     "name": "stderr",
     "output_type": "stream",
     "text": [
      "\n",
      "\n",
      "\n",
      " 69%|██████▉   | 75/108 [12:24<00:28,  1.14it/s]\u001b[A\u001b[A\u001b[A"
     ]
    },
    {
     "name": "stdout",
     "output_type": "stream",
     "text": [
      "-0.042604148387908936\n"
     ]
    },
    {
     "name": "stderr",
     "output_type": "stream",
     "text": [
      "\n",
      "\n",
      "\n",
      " 70%|███████   | 76/108 [12:25<00:26,  1.22it/s]\u001b[A\u001b[A\u001b[A"
     ]
    },
    {
     "name": "stdout",
     "output_type": "stream",
     "text": [
      "-0.026961393654346466\n"
     ]
    },
    {
     "name": "stderr",
     "output_type": "stream",
     "text": [
      "\n",
      "\n",
      "\n",
      " 71%|███████▏  | 77/108 [12:26<00:23,  1.29it/s]\u001b[A\u001b[A\u001b[A"
     ]
    },
    {
     "name": "stdout",
     "output_type": "stream",
     "text": [
      "-0.020657658576965332\n"
     ]
    },
    {
     "name": "stderr",
     "output_type": "stream",
     "text": [
      "\n",
      "\n",
      "\n",
      " 72%|███████▏  | 78/108 [12:26<00:21,  1.38it/s]\u001b[A\u001b[A\u001b[A"
     ]
    },
    {
     "name": "stdout",
     "output_type": "stream",
     "text": [
      "-0.04351021349430084\n"
     ]
    },
    {
     "name": "stderr",
     "output_type": "stream",
     "text": [
      "\n",
      "\n",
      "\n",
      " 73%|███████▎  | 79/108 [12:27<00:19,  1.48it/s]\u001b[A\u001b[A\u001b[A"
     ]
    },
    {
     "name": "stdout",
     "output_type": "stream",
     "text": [
      "-0.05347283184528351\n"
     ]
    },
    {
     "name": "stderr",
     "output_type": "stream",
     "text": [
      "\n",
      "\n",
      "\n",
      " 74%|███████▍  | 80/108 [12:27<00:17,  1.58it/s]\u001b[A\u001b[A\u001b[A"
     ]
    },
    {
     "name": "stdout",
     "output_type": "stream",
     "text": [
      "-0.05042727291584015\n"
     ]
    },
    {
     "name": "stderr",
     "output_type": "stream",
     "text": [
      "\n",
      "\n",
      "\n",
      " 75%|███████▌  | 81/108 [12:28<00:15,  1.69it/s]\u001b[A\u001b[A\u001b[A"
     ]
    },
    {
     "name": "stdout",
     "output_type": "stream",
     "text": [
      "-0.04154233634471893\n"
     ]
    },
    {
     "name": "stderr",
     "output_type": "stream",
     "text": [
      "\n",
      "\n",
      "\n",
      " 76%|███████▌  | 82/108 [12:28<00:14,  1.81it/s]\u001b[A\u001b[A\u001b[A"
     ]
    },
    {
     "name": "stdout",
     "output_type": "stream",
     "text": [
      "-0.04249345511198044\n"
     ]
    },
    {
     "name": "stderr",
     "output_type": "stream",
     "text": [
      "\n",
      "\n",
      "\n",
      " 77%|███████▋  | 83/108 [12:29<00:12,  1.94it/s]\u001b[A\u001b[A\u001b[A"
     ]
    },
    {
     "name": "stdout",
     "output_type": "stream",
     "text": [
      "-0.04181957244873047\n"
     ]
    },
    {
     "name": "stderr",
     "output_type": "stream",
     "text": [
      "\n",
      "\n",
      "\n",
      " 78%|███████▊  | 84/108 [12:29<00:11,  2.09it/s]\u001b[A\u001b[A\u001b[A"
     ]
    },
    {
     "name": "stdout",
     "output_type": "stream",
     "text": [
      "-0.054771699011325836\n"
     ]
    },
    {
     "name": "stderr",
     "output_type": "stream",
     "text": [
      "\n",
      "\n",
      "\n",
      " 79%|███████▊  | 85/108 [12:30<00:10,  2.25it/s]\u001b[A\u001b[A\u001b[A"
     ]
    },
    {
     "name": "stdout",
     "output_type": "stream",
     "text": [
      "-0.03712388500571251\n"
     ]
    },
    {
     "name": "stderr",
     "output_type": "stream",
     "text": [
      "\n",
      "\n",
      "\n",
      " 80%|███████▉  | 86/108 [12:30<00:08,  2.44it/s]\u001b[A\u001b[A\u001b[A"
     ]
    },
    {
     "name": "stdout",
     "output_type": "stream",
     "text": [
      "-0.028520900756120682\n"
     ]
    },
    {
     "name": "stderr",
     "output_type": "stream",
     "text": [
      "\n",
      "\n",
      "\n",
      " 81%|████████  | 87/108 [12:30<00:07,  2.65it/s]\u001b[A\u001b[A\u001b[A"
     ]
    },
    {
     "name": "stdout",
     "output_type": "stream",
     "text": [
      "-0.018370669335126877\n"
     ]
    },
    {
     "name": "stderr",
     "output_type": "stream",
     "text": [
      "\n",
      "\n",
      "\n",
      " 81%|████████▏ | 88/108 [12:30<00:06,  2.88it/s]\u001b[A\u001b[A\u001b[A"
     ]
    },
    {
     "name": "stdout",
     "output_type": "stream",
     "text": [
      "-0.026115629822015762\n"
     ]
    },
    {
     "name": "stderr",
     "output_type": "stream",
     "text": [
      "\n",
      "\n",
      "\n",
      " 82%|████████▏ | 89/108 [12:31<00:06,  3.14it/s]\u001b[A\u001b[A\u001b[A"
     ]
    },
    {
     "name": "stdout",
     "output_type": "stream",
     "text": [
      "-0.02516002766788006\n"
     ]
    },
    {
     "name": "stderr",
     "output_type": "stream",
     "text": [
      "\n",
      "\n",
      "\n",
      " 83%|████████▎ | 90/108 [12:31<00:05,  3.46it/s]\u001b[A\u001b[A\u001b[A\n",
      "\n",
      "\n",
      " 84%|████████▍ | 91/108 [12:31<00:04,  3.83it/s]\u001b[A\u001b[A\u001b[A"
     ]
    },
    {
     "name": "stdout",
     "output_type": "stream",
     "text": [
      "-0.01902862172573805\n",
      "-0.01513446494936943\n"
     ]
    },
    {
     "name": "stderr",
     "output_type": "stream",
     "text": [
      "\n",
      "\n",
      "\n",
      " 85%|████████▌ | 92/108 [12:31<00:03,  4.22it/s]\u001b[A\u001b[A\u001b[A\n",
      "\n",
      "\n",
      " 86%|████████▌ | 93/108 [12:32<00:03,  4.68it/s]\u001b[A\u001b[A\u001b[A"
     ]
    },
    {
     "name": "stdout",
     "output_type": "stream",
     "text": [
      "-0.017999108880758286\n",
      "-0.01673965249210596\n"
     ]
    },
    {
     "name": "stderr",
     "output_type": "stream",
     "text": [
      "\n",
      "\n",
      "\n",
      " 87%|████████▋ | 94/108 [12:32<00:02,  5.19it/s]\u001b[A\u001b[A\u001b[A\n",
      "\n",
      "\n",
      " 88%|████████▊ | 95/108 [12:32<00:02,  5.76it/s]\u001b[A\u001b[A\u001b[A"
     ]
    },
    {
     "name": "stdout",
     "output_type": "stream",
     "text": [
      "-0.023791064508259296\n",
      "-0.02028909418731928\n"
     ]
    },
    {
     "name": "stderr",
     "output_type": "stream",
     "text": [
      "\n",
      "\n",
      "\n",
      " 89%|████████▉ | 96/108 [12:32<00:01,  6.42it/s]\u001b[A\u001b[A\u001b[A\n",
      "\n",
      "\n",
      " 90%|████████▉ | 97/108 [12:32<00:01,  7.19it/s]\u001b[A\u001b[A\u001b[A"
     ]
    },
    {
     "name": "stdout",
     "output_type": "stream",
     "text": [
      "-0.024165880866348743\n",
      "-0.015973900444805622\n",
      "-0.009233260527253151\n"
     ]
    },
    {
     "name": "stderr",
     "output_type": "stream",
     "text": [
      "\n",
      "\n",
      "\n",
      " 92%|█████████▏| 99/108 [12:32<00:01,  8.24it/s]\u001b[A\u001b[A\u001b[A\n",
      "\n",
      "\n",
      " 94%|█████████▎| 101/108 [12:32<00:00,  9.74it/s]\u001b[A\u001b[A\u001b[A"
     ]
    },
    {
     "name": "stdout",
     "output_type": "stream",
     "text": [
      "-0.01627273578196764\n",
      "-0.02063532266765833\n",
      "-0.018529686145484447\n",
      "-0.015705130994319916\n",
      "0.0\n"
     ]
    },
    {
     "name": "stderr",
     "output_type": "stream",
     "text": [
      "\n",
      "\n",
      "\n",
      "100%|██████████| 108/108 [12:32<00:00,  6.97s/it]\u001b[A\u001b[A\u001b[A"
     ]
    },
    {
     "name": "stdout",
     "output_type": "stream",
     "text": [
      "0.0\n",
      "0.0\n",
      "0.0\n",
      "0.0\n",
      "0.0\n"
     ]
    },
    {
     "name": "stderr",
     "output_type": "stream",
     "text": [
      "\n"
     ]
    }
   ],
   "source": [
    "Hrs = []\n",
    "Hr = []\n",
    "uncond_layers = vine_trained.layers\n",
    "for n in tqdm.tqdm(range(NN-1)):\n",
    "    vine = CVine(copula_layers[n:],train_x,device=device)\n",
    "    entropy = vine.entropy(sem_tol=0.1, mc_size=4000, v=False)\n",
    "    Hrs.append(-entropy.mean().item())\n",
    "    vine = CVine(uncond_layers[n:],torch.ones(1),device='cpu')\n",
    "    entropy = vine.entropy(sem_tol=0.1, mc_size=4000, v=False)\n",
    "    Hr.append(-entropy.mean().item())\n",
    "    print(Hrs[-1]-Hr[-1])"
   ]
  },
  {
   "cell_type": "code",
   "execution_count": 29,
   "metadata": {},
   "outputs": [],
   "source": [
    "# mem = (Hrs, Hr)\n",
    "# with open(f\"{home}_MI_decorr.pkl\",\"wb\") as f:\n",
    "#     pkl.dump((Hrs,Hr),f)"
   ]
  },
  {
   "cell_type": "code",
   "execution_count": 17,
   "metadata": {},
   "outputs": [
    {
     "data": {
      "image/png": "[encoded data removed]",
      "text/plain": [
       "<Figure size 432x288 with 1 Axes>"
      ]
     },
     "metadata": {
      "needs_background": "light"
     },
     "output_type": "display_data"
    }
   ],
   "source": [
    "Hrs = np.array(Hrs)\n",
    "Hr = np.array(Hr)\n",
    "plt.plot(Hr/Hr[0])\n",
    "plt.plot(Hrs/Hrs[0])\n",
    "plt.plot((Hrs-Hr)/(Hrs[0]-Hr[0]))\n",
    "# plt.axhline(0.01,c='black',linestyle='dashed')\n",
    "plt.axvline(3.5,c='grey',linestyle='dashed')\n",
    "plt.axvline(17,c='grey',linestyle='dashed')\n",
    "plt.axvline(29,c='grey',linestyle='dashed')\n",
    "plt.axvline(71,c='grey',linestyle='dashed')\n",
    "plt.text(3.8,1.0,'3.5')\n",
    "plt.text(17.5,1.0,'17')\n",
    "plt.text(29.5,1.0,'29')\n",
    "plt.text(71.5,1.0,'71');\n",
    "plt.text(3.8,0.5,'50%')\n",
    "plt.text(17.5,0.25,'75%')\n",
    "plt.text(29.5,0.11,'90%')\n",
    "plt.text(71.5,0.02,'99%');"
   ]
  },
  {
   "cell_type": "code",
   "execution_count": 8,
   "metadata": {},
   "outputs": [
    {
     "name": "stderr",
     "output_type": "stream",
     "text": [
      "  5%|▌         | 1/19 [03:53<1:09:59, 233.33s/it]"
     ]
    },
    {
     "name": "stdout",
     "output_type": "stream",
     "text": [
      "9.122200012207031\n"
     ]
    },
    {
     "name": "stderr",
     "output_type": "stream",
     "text": [
      "\r",
      " 11%|█         | 2/19 [07:41<1:05:40, 231.79s/it]"
     ]
    },
    {
     "name": "stdout",
     "output_type": "stream",
     "text": [
      "9.097492218017578\n"
     ]
    },
    {
     "name": "stderr",
     "output_type": "stream",
     "text": [
      "\r",
      " 16%|█▌        | 3/19 [11:28<1:01:25, 230.37s/it]"
     ]
    },
    {
     "name": "stdout",
     "output_type": "stream",
     "text": [
      "9.088386535644531\n"
     ]
    },
    {
     "name": "stderr",
     "output_type": "stream",
     "text": [
      "\r",
      " 21%|██        | 4/19 [15:21<57:47, 231.19s/it]  "
     ]
    },
    {
     "name": "stdout",
     "output_type": "stream",
     "text": [
      "9.030937194824219\n"
     ]
    },
    {
     "name": "stderr",
     "output_type": "stream",
     "text": [
      "\r",
      " 26%|██▋       | 5/19 [19:20<54:29, 233.52s/it]"
     ]
    },
    {
     "name": "stdout",
     "output_type": "stream",
     "text": [
      "9.06710433959961\n"
     ]
    },
    {
     "name": "stderr",
     "output_type": "stream",
     "text": [
      "\r",
      " 32%|███▏      | 6/19 [23:09<50:17, 232.12s/it]"
     ]
    },
    {
     "name": "stdout",
     "output_type": "stream",
     "text": [
      "8.900018692016602\n"
     ]
    },
    {
     "name": "stderr",
     "output_type": "stream",
     "text": [
      "\r",
      " 37%|███▋      | 7/19 [26:56<46:07, 230.62s/it]"
     ]
    },
    {
     "name": "stdout",
     "output_type": "stream",
     "text": [
      "8.731073379516602\n"
     ]
    },
    {
     "name": "stderr",
     "output_type": "stream",
     "text": [
      "\r",
      " 42%|████▏     | 8/19 [30:40<41:53, 228.54s/it]"
     ]
    },
    {
     "name": "stdout",
     "output_type": "stream",
     "text": [
      "8.741296768188477\n"
     ]
    },
    {
     "name": "stderr",
     "output_type": "stream",
     "text": [
      "\r",
      " 47%|████▋     | 9/19 [34:15<37:26, 224.66s/it]"
     ]
    },
    {
     "name": "stdout",
     "output_type": "stream",
     "text": [
      "8.58769416809082\n"
     ]
    },
    {
     "name": "stderr",
     "output_type": "stream",
     "text": [
      "\r",
      " 53%|█████▎    | 10/19 [37:41<32:51, 219.07s/it]"
     ]
    },
    {
     "name": "stdout",
     "output_type": "stream",
     "text": [
      "7.911664962768555\n"
     ]
    },
    {
     "name": "stderr",
     "output_type": "stream",
     "text": [
      "\r",
      " 58%|█████▊    | 11/19 [40:33<27:17, 204.70s/it]"
     ]
    },
    {
     "name": "stdout",
     "output_type": "stream",
     "text": [
      "7.778922080993652\n"
     ]
    },
    {
     "name": "stderr",
     "output_type": "stream",
     "text": [
      "\r",
      " 63%|██████▎   | 12/19 [43:29<22:54, 196.32s/it]"
     ]
    },
    {
     "name": "stdout",
     "output_type": "stream",
     "text": [
      "7.603995323181152\n"
     ]
    },
    {
     "name": "stderr",
     "output_type": "stream",
     "text": [
      "\r",
      " 68%|██████▊   | 13/19 [45:44<17:47, 177.91s/it]"
     ]
    },
    {
     "name": "stdout",
     "output_type": "stream",
     "text": [
      "6.593308448791504\n"
     ]
    },
    {
     "name": "stderr",
     "output_type": "stream",
     "text": [
      "\r",
      " 74%|███████▎  | 14/19 [47:53<13:36, 163.23s/it]"
     ]
    },
    {
     "name": "stdout",
     "output_type": "stream",
     "text": [
      "6.656498908996582\n"
     ]
    },
    {
     "name": "stderr",
     "output_type": "stream",
     "text": [
      "\r",
      " 79%|███████▉  | 15/19 [49:54<10:01, 150.36s/it]"
     ]
    },
    {
     "name": "stdout",
     "output_type": "stream",
     "text": [
      "6.094379425048828\n"
     ]
    },
    {
     "name": "stderr",
     "output_type": "stream",
     "text": [
      "\r",
      " 84%|████████▍ | 16/19 [51:50<07:00, 140.27s/it]"
     ]
    },
    {
     "name": "stdout",
     "output_type": "stream",
     "text": [
      "5.104525566101074\n"
     ]
    },
    {
     "name": "stderr",
     "output_type": "stream",
     "text": [
      "\r",
      " 89%|████████▉ | 17/19 [53:45<04:25, 132.62s/it]"
     ]
    },
    {
     "name": "stdout",
     "output_type": "stream",
     "text": [
      "5.183718681335449\n"
     ]
    },
    {
     "name": "stderr",
     "output_type": "stream",
     "text": [
      "\r",
      " 95%|█████████▍| 18/19 [55:34<02:05, 125.61s/it]"
     ]
    },
    {
     "name": "stdout",
     "output_type": "stream",
     "text": [
      "5.058732032775879\n"
     ]
    },
    {
     "name": "stderr",
     "output_type": "stream",
     "text": [
      "100%|██████████| 19/19 [55:41<00:00, 175.89s/it]"
     ]
    },
    {
     "name": "stdout",
     "output_type": "stream",
     "text": [
      "0.0\n"
     ]
    },
    {
     "name": "stderr",
     "output_type": "stream",
     "text": [
      "\n"
     ]
    }
   ],
   "source": [
    "Hrs = []\n",
    "Hr = []\n",
    "uncond_layers = vine_trained.layers\n",
    "vineC = CVine(copula_layers,train_x,device=device)\n",
    "vineU = CVine(uncond_layers,torch.ones(1),device='cpu')\n",
    "for n in tqdm.tqdm([0,10,20,30,40,50,60,70,80,90,100,101,102,103,104,105,106,107,108]):\n",
    "    entropy = vineC.truncate(n).entropy(sem_tol=0.1, mc_size=4000, v=False)\n",
    "    Hrs.append(entropy.mean().item())\n",
    "    entropy = vineU.truncate(n).entropy(sem_tol=0.1, mc_size=4000, v=False)\n",
    "    Hr.append(entropy.mean().item())\n",
    "    print(Hrs[-1]-Hr[-1])"
   ]
  },
  {
   "cell_type": "code",
   "execution_count": 13,
   "metadata": {},
   "outputs": [
    {
     "data": {
      "text/plain": [
       "[<matplotlib.lines.Line2D at 0x7f6418c03320>]"
      ]
     },
     "execution_count": 13,
     "metadata": {},
     "output_type": "execute_result"
    },
    {
     "data": {
      "image/png": "[encoded data removed]",
      "text/plain": [
       "<Figure size 432x288 with 1 Axes>"
      ]
     },
     "metadata": {
      "needs_background": "light"
     },
     "output_type": "display_data"
    }
   ],
   "source": [
    "Hrs = np.array(Hrs)\n",
    "Hr = np.array(Hr)\n",
    "ns = 109-np.array([0,10,20,30,40,50,60,70,80,90,100,101,102,103,104,105,106,107,108])\n",
    "plt.plot(ns,Hr/Hr[0])\n",
    "plt.plot(ns,Hrs/Hrs[0])\n",
    "plt.plot(ns,(Hrs-Hr)/(Hrs[0]-Hr[0]))\n",
    "# plt.axhline(0.01,c='black',linestyle='dashed')"
   ]
  },
  {
   "cell_type": "code",
   "execution_count": 7,
   "metadata": {},
   "outputs": [
    {
     "data": {
      "text/plain": [
       "tensor(-0.0266)"
      ]
     },
     "execution_count": 7,
     "metadata": {},
     "output_type": "execute_result"
    }
   ],
   "source": [
    "conditional_model = copula_layers[0][31]\n",
    "theta0 = conditional_model.theta.mean(axis=-1)\n",
    "mix0 = conditional_model.mix.mean(axis=-1)\n",
    "copula = bvcopula.MixtureCopula(theta0,mix0,conditional_model.copulas,rotations=conditional_model.rotations)\n",
    "copula.entropy()"
   ]
  },
  {
   "cell_type": "code",
   "execution_count": 8,
   "metadata": {},
   "outputs": [],
   "source": [
    "X,Y = utils.standard_loader(f\"{conf.path2data}/{exp_pref}_unconditional.pkl\")\n",
    "samples = torch.tensor(Y[:,[0,32]]).float().to(theta0.device)"
   ]
  },
  {
   "cell_type": "code",
   "execution_count": 9,
   "metadata": {},
   "outputs": [
    {
     "data": {
      "text/plain": [
       "<matplotlib.collections.PathCollection at 0x7fb4e8e0bd68>"
      ]
     },
     "execution_count": 9,
     "metadata": {},
     "output_type": "execute_result"
    },
    {
     "data": {
      "image/png": "[encoded data removed]",
      "text/plain": [
       "<Figure size 216x216 with 1 Axes>"
      ]
     },
     "metadata": {
      "needs_background": "light"
     },
     "output_type": "display_data"
    }
   ],
   "source": [
    "plt.figure(figsize=(3,3))\n",
    "plt.scatter(*Y[:,[0,2]].T,alpha=0.005)"
   ]
  },
  {
   "cell_type": "code",
   "execution_count": 10,
   "metadata": {},
   "outputs": [
    {
     "data": {
      "text/plain": [
       "(tensor([[0.6428],\n",
       "         [0.1772],\n",
       "         [0.1800]]), tensor([0.6082, 0.2148, 0.1770]))"
      ]
     },
     "execution_count": 10,
     "metadata": {},
     "output_type": "execute_result"
    }
   ],
   "source": [
    "f0 = fs_layers[0][31].mean(axis=-1).unsqueeze(-1)\n",
    "likelihood = likelihood_layers[0][31]\n",
    "likelihood(f0).mix, mix0"
   ]
  },
  {
   "cell_type": "code",
   "execution_count": 11,
   "metadata": {},
   "outputs": [
    {
     "name": "stdout",
     "output_type": "stream",
     "text": [
      "CPU times: user 10.2 s, sys: 184 ms, total: 10.4 s\n",
      "Wall time: 5.55 s\n"
     ]
    }
   ],
   "source": [
    "samples = torch.tensor(Y[:,[0,33]]).float().to(device)\n",
    "f0 = fs_layers[0][32].mean(axis=-1).unsqueeze(-1)\n",
    "likelihood = likelihood_layers[0][32].to(device)\n",
    "%time copula = likelihood.fit(samples,f0)\n",
    "# %time copula, plot_loss = train(samples)"
   ]
  },
  {
   "cell_type": "code",
   "execution_count": 290,
   "metadata": {},
   "outputs": [
    {
     "data": {
      "text/plain": [
       "<matplotlib.collections.PathCollection at 0x7effd59d7128>"
      ]
     },
     "execution_count": 290,
     "metadata": {},
     "output_type": "execute_result"
    },
    {
     "data": {
      "image/png": "[encoded data removed]",
      "text/plain": [
       "<Figure size 216x216 with 1 Axes>"
      ]
     },
     "metadata": {
      "needs_background": "light"
     },
     "output_type": "display_data"
    }
   ],
   "source": [
    "plt.figure(figsize=(3,3))\n",
    "plt.scatter(*copula.sample(torch.Size([20000])).cpu().numpy().T,alpha=0.005)"
   ]
  },
  {
   "cell_type": "code",
   "execution_count": 9,
   "metadata": {},
   "outputs": [],
   "source": [
    "samples = vine.sample(torch.Size([100]))"
   ]
  },
  {
   "cell_type": "code",
   "execution_count": 111,
   "metadata": {},
   "outputs": [],
   "source": [
    "indep = bvcopula.MixtureCopula(torch.empty(1,0,device=device),\n",
    "                    torch.ones(1,N_points,device=device),\n",
    "                    [bvcopula.IndependenceCopula])\n",
    "truncated_layers = [[model for model in layer] for layer in copula_layers]\n",
    "Ncut = (NN-3)-1\n",
    "for i in range(1,Ncut+1):\n",
    "    for j in range(i):\n",
    "        truncated_layers[-i][j] = indep\n",
    "vine = CVine(truncated_layers,train_x,device=device)"
   ]
  },
  {
   "cell_type": "code",
   "execution_count": 112,
   "metadata": {},
   "outputs": [
    {
     "name": "stdout",
     "output_type": "stream",
     "text": [
      "tensor(1.1057, device='cuda:1')\n"
     ]
    }
   ],
   "source": [
    "entropy2 = vine.entropy(sem_tol=0.1, mc_size=4000, v=True)"
   ]
  },
  {
   "cell_type": "code",
   "execution_count": 116,
   "metadata": {},
   "outputs": [
    {
     "data": {
      "text/plain": [
       "tensor(0.5101, device='cuda:1')"
      ]
     },
     "execution_count": 116,
     "metadata": {},
     "output_type": "execute_result"
    }
   ],
   "source": [
    "entropy2.mean()/entropy.mean()"
   ]
  },
  {
   "cell_type": "code",
   "execution_count": 118,
   "metadata": {},
   "outputs": [
    {
     "data": {
      "image/png": "[encoded data removed]",
      "text/plain": [
       "<Figure size 432x288 with 1 Axes>"
      ]
     },
     "metadata": {
      "needs_background": "light"
     },
     "output_type": "display_data"
    }
   ],
   "source": [
    "x = np.linspace(0,160,N_points)\n",
    "plt.plot(x,-entropy.cpu().numpy(), label=\"All variables\")\n",
    "plt.plot(x,-entropy2.cpu().numpy(), label=\"up to 3rd order\")\n",
    "plt.plot(x,-entropy3.cpu().numpy(), label=\"1st order\")\n",
    "plt.ylim(0,23)\n",
    "plt.legend();"
   ]
  },
  {
   "cell_type": "code",
   "execution_count": 17,
   "metadata": {},
   "outputs": [
    {
     "data": {
      "text/plain": [
       "Text(0, 0.5, 'Entropy')"
      ]
     },
     "execution_count": 17,
     "metadata": {},
     "output_type": "execute_result"
    },
    {
     "data": {
      "image/png": "[encoded data removed]",
      "text/plain": [
       "<Figure size 432x288 with 1 Axes>"
      ]
     },
     "metadata": {
      "needs_background": "light"
     },
     "output_type": "display_data"
    }
   ],
   "source": [
    "np_repeats = np.array(repeats)\n",
    "H_layers = np_repeats.mean(axis=0)[::-1]\n",
    "plt.plot(H_layers)\n",
    "plt.plot(H_layers.cumsum()/2)\n",
    "plt.axvline(3,color='grey',linestyle='dashed')\n",
    "plt.axvline(13,color='grey',linestyle='dashed')\n",
    "plt.axvline(25,color='grey',linestyle='dashed')\n",
    "plt.text(3.2,5,'50%')\n",
    "plt.text(13.2,5,'75%')\n",
    "plt.text(25.2,5,'90%')\n",
    "plt.xlabel('Vine layers (orders of statistics)')\n",
    "plt.ylabel('Entropy')"
   ]
  },
  {
   "cell_type": "code",
   "execution_count": null,
   "metadata": {},
   "outputs": [],
   "source": [
    "H_layers[0].sum()/H_layers.sum()"
   ]
  },
  {
   "cell_type": "code",
   "execution_count": 65,
   "metadata": {},
   "outputs": [
    {
     "data": {
      "text/plain": [
       "<matplotlib.collections.PathCollection at 0x7f118e744f28>"
      ]
     },
     "execution_count": 65,
     "metadata": {},
     "output_type": "execute_result"
    },
    {
     "data": {
      "image/png": "[encoded data removed]",
      "text/plain": [
       "<Figure size 144x144 with 1 Axes>"
      ]
     },
     "metadata": {
      "needs_background": "light"
     },
     "output_type": "display_data"
    }
   ],
   "source": [
    "plt.figure(figsize=(2,2))\n",
    "layer0 = layers[-1]\n",
    "plt.scatter(layer0[0],layer0[3],alpha=0.01)"
   ]
  },
  {
   "cell_type": "code",
   "execution_count": null,
   "metadata": {},
   "outputs": [],
   "source": [
    "plt.figure(figsize=(2,2))\n",
    "plt.scatter(samples[...,0].cpu().numpy(),new_samples[...,-1].cpu().numpy(),alpha=0.01)"
   ]
  },
  {
   "cell_type": "code",
   "execution_count": 12,
   "metadata": {},
   "outputs": [
    {
     "name": "stdout",
     "output_type": "stream",
     "text": [
      "CPU times: user 2min 8s, sys: 529 ms, total: 2min 8s\n",
      "Wall time: 13.6 s\n"
     ]
    }
   ],
   "source": [
    "def generate_samples(samples,NN):\n",
    "    layers = []\n",
    "    for layer in torch.arange(NN-1,0):\n",
    "        # load models for a layer\n",
    "        with open(f\"{path_models}/models_layer{layer}.pkl\",\"rb\") as f:\n",
    "            results = pkl.load(f)\n",
    "        # assign memory for a new layer samples\n",
    "        new_layer_shape = torch.Size([N_points])+sample_size+torch.Size([NN-1-layer])\n",
    "        new_samples = torch.empty(size=new_layer_shape, device=device)\n",
    "        # transfrom samples\n",
    "        transform(X,layers[-1],new_samples,layer,results)\n",
    "        # store the result\n",
    "        layers.append(new_samples.clone())\n",
    "    return layers\n",
    "%time samples = generate_samples(samples,NN)"
   ]
  },
  {
   "cell_type": "code",
   "execution_count": 13,
   "metadata": {},
   "outputs": [
    {
     "data": {
      "text/plain": [
       "109"
      ]
     },
     "execution_count": 13,
     "metadata": {},
     "output_type": "execute_result"
    }
   ],
   "source": [
    "len(samples)"
   ]
  },
  {
   "cell_type": "code",
   "execution_count": null,
   "metadata": {},
   "outputs": [],
   "source": []
  }
 ],
 "metadata": {
  "kernelspec": {
   "display_name": "GPyTorch_new",
   "language": "python",
   "name": "gpytorch_new"
  },
  "language_info": {
   "codemirror_mode": {
    "name": "ipython",
    "version": 3
   },
   "file_extension": ".py",
   "mimetype": "text/x-python",
   "name": "python",
   "nbconvert_exporter": "python",
   "pygments_lexer": "ipython3",
   "version": "3.6.8"
  }
 },
 "nbformat": 4,
 "nbformat_minor": 2
}
