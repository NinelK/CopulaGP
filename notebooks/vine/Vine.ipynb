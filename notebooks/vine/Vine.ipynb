{
 "cells": [
  {
   "cell_type": "code",
   "execution_count": 1,
   "metadata": {},
   "outputs": [],
   "source": [
    "import sys\n",
    "home = '/home/nina/CopulaGP/'\n",
    "sys.path.insert(0, home)\n",
    "\n",
    "from train import conf\n",
    "import glob\n",
    "import pickle as pkl\n",
    "import numpy as np\n",
    "import matplotlib.pyplot as plt\n",
    "import torch\n",
    "import utils\n",
    "\n",
    "import tqdm\n",
    "import bvcopula\n",
    "from vine import CVine"
   ]
  },
  {
   "cell_type": "code",
   "execution_count": 2,
   "metadata": {},
   "outputs": [],
   "source": [
    "animal = 'ST260'\n",
    "day_name = 'Day1'\n",
    "exp_pref = f'{animal}_{day_name}'\n",
    "path_models = f\"{conf.path2outputs}/{exp_pref}\""
   ]
  },
  {
   "cell_type": "code",
   "execution_count": 3,
   "metadata": {},
   "outputs": [],
   "source": [
    "list_files = glob.glob(f\"{path_models}/models_*.pkl\")"
   ]
  },
  {
   "cell_type": "code",
   "execution_count": 4,
   "metadata": {},
   "outputs": [],
   "source": [
    "with open(f\"{path_models}/models_layer0.pkl\",\"rb\") as f:\n",
    "    results = pkl.load(f)\n",
    "NN = len(results)+1\n",
    "WAICs = np.zeros((NN,NN))\n",
    "WAICs[0,1:] = [a[3] for a in results]\n",
    "for layer in range(1,len(results)):\n",
    "    with open(f\"{path_models}/models_layer{layer}.pkl\",\"rb\") as f:\n",
    "        res = pkl.load(f)\n",
    "    WAICs[layer,(layer+1):] = [a[3] for a in res]"
   ]
  },
  {
   "cell_type": "code",
   "execution_count": 5,
   "metadata": {},
   "outputs": [
    {
     "data": {
      "text/plain": [
       "<matplotlib.image.AxesImage at 0x7f717c794358>"
      ]
     },
     "execution_count": 5,
     "metadata": {},
     "output_type": "execute_result"
    },
    {
     "data": {
      "image/png": "[encoded data removed]",
      "text/plain": [
       "<Figure size 432x288 with 1 Axes>"
      ]
     },
     "metadata": {
      "needs_background": "light"
     },
     "output_type": "display_data"
    }
   ],
   "source": [
    "plt.imshow(WAICs[:])"
   ]
  },
  {
   "cell_type": "code",
   "execution_count": 6,
   "metadata": {},
   "outputs": [
    {
     "name": "stderr",
     "output_type": "stream",
     "text": [
      "100%|██████████| 108/108 [00:07<00:00, 14.31it/s]\n"
     ]
    }
   ],
   "source": [
    "device = \"cuda:1\"\n",
    "\n",
    "# create linspace\n",
    "N_points = 50\n",
    "train_x = torch.linspace(0,1,N_points).to(device)\n",
    "\n",
    "copula_layers, likelihood_layers, fs_layers = [], [], []\n",
    "for layer in tqdm.tqdm(range(0,NN-1)):\n",
    "    with open(f\"{path_models}/models_layer{layer}.pkl\",\"rb\") as f:\n",
    "        results = pkl.load(f)\n",
    "    out_dir = f'{path_models}/layer{layer}'\n",
    "    copulas, liks, fs = [], [], []\n",
    "    for n,res in enumerate(results):\n",
    "        if res[1]!='Independence':\n",
    "            likelihoods = res[0]\n",
    "            weights_file = f\"{out_dir}/model_{exp_pref}_{layer}-{layer+n+1}.pth\"\n",
    "            model = utils.get_model(weights_file, likelihoods, device)\n",
    "            liks.append(model.likelihood)\n",
    "            with torch.no_grad():\n",
    "                f = model(train_x).mean\n",
    "                copula = model.likelihood.get_copula(f)\n",
    "                copulas.append(copula)\n",
    "                fs.append(f)\n",
    "        else:\n",
    "            copulas.append(bvcopula.MixtureCopula(torch.empty(1,0,device=device),\n",
    "                    torch.ones(1,N_points,device=device),\n",
    "                    [bvcopula.IndependenceCopula]))\n",
    "            fs.append(None)\n",
    "            liks.append([bvcopula.IndependenceCopula_Likelihood()])\n",
    "    copula_layers.append(copulas)\n",
    "    likelihood_layers.append(liks)\n",
    "    fs_layers.append(fs)"
   ]
  },
  {
   "cell_type": "code",
   "execution_count": 7,
   "metadata": {},
   "outputs": [],
   "source": [
    "# import time\n",
    "# X,Y = utils.standard_loader(f\"{conf.path2data}/{exp_pref}_unconditional.pkl\")\n",
    "# indep = bvcopula.MixtureCopula(torch.empty(1,0,device=device),\n",
    "#                     torch.ones(1,1,device=device),\n",
    "#                     [bvcopula.IndependenceCopula])\n",
    "# N = Y.shape[-1]\n",
    "# device = torch.device('cpu')\n",
    "# data_layers = [torch.tensor(Y).float().to(device)]\n",
    "# copula_layers = []\n",
    "# t0 = time.time()\n",
    "# for m in range(0,N-1):\n",
    "#     copulas, layer = [], []\n",
    "#     for n in tqdm.tqdm(range(1,N-m)):\n",
    "#         samples = data_layers[-1][...,[n,0]]\n",
    "#         likelihood = likelihood_layers[m][n-1]\n",
    "#         f0 = fs_layers[m][n-1]\n",
    "#         if f0 is None:\n",
    "#             assert likelihood[0].name=='Independence'\n",
    "#             copulas.append(indep)\n",
    "#             layer.append(samples[:,0])\n",
    "#         else:\n",
    "#             f0 = f0.mean(axis=-1).unsqueeze(-1)\n",
    "# #             copula0 = likelihood(f0)\n",
    "#             copula = likelihood.fit(samples,f0)\n",
    "# #             print(f\"{m},{n+m}: {(copula0.theta-copula.theta).mean().cpu()}\")\n",
    "#             copulas.append(copula)\n",
    "#             layer.append(copula.ccdf(samples.unsqueeze(-2)).squeeze())\n",
    "#     data_layers.append(torch.stack(layer,dim=-1))\n",
    "#     copula_layers.append(copulas)\n",
    "# t1= time.time()\n",
    "# print(f\"{(t1-t0)//60}\")"
   ]
  },
  {
   "cell_type": "code",
   "execution_count": 7,
   "metadata": {},
   "outputs": [],
   "source": [
    "vine = CVine(copula_layers,train_x,device=device)"
   ]
  },
  {
   "cell_type": "code",
   "execution_count": 10,
   "metadata": {},
   "outputs": [],
   "source": [
    "%time Hrs = vine.entropy(sem_tol=.1, mc_size=4000, v=True)\n",
    "Hrs"
   ]
  },
  {
   "cell_type": "code",
   "execution_count": 10,
   "metadata": {},
   "outputs": [
    {
     "data": {
      "text/plain": [
       "[<matplotlib.lines.Line2D at 0x7f6e9e4082b0>]"
      ]
     },
     "execution_count": 10,
     "metadata": {},
     "output_type": "execute_result"
    },
    {
     "data": {
      "image/png": "[encoded data removed]",
      "text/plain": [
       "<Figure size 432x288 with 1 Axes>"
      ]
     },
     "metadata": {
      "needs_background": "light"
     },
     "output_type": "display_data"
    }
   ],
   "source": [
    "plt.plot(Hrs.cpu().numpy())"
   ]
  },
  {
   "cell_type": "code",
   "execution_count": 26,
   "metadata": {},
   "outputs": [],
   "source": [
    "# vine_trained = CVine(copula_layers,torch.ones(1),device=device)\n",
    "# with open(f\"{home}/results/vine_unconditional.pkl\",\"wb\") as f:\n",
    "#     pkl.dump(vine_trained,f)\n",
    "with open(f\"{home}/results/vine_unconditional.pkl\",\"rb\") as f:\n",
    "    vine_trained = pkl.load(f)\n",
    "# %time Hr = vine_trained.entropy(sem_tol=.1, mc_size=4000, v=True)"
   ]
  },
  {
   "cell_type": "code",
   "execution_count": 12,
   "metadata": {},
   "outputs": [
    {
     "name": "stderr",
     "output_type": "stream",
     "text": [
      "  1%|          | 1/108 [03:36<6:26:56, 216.98s/it]"
     ]
    },
    {
     "name": "stdout",
     "output_type": "stream",
     "text": [
      "-9.15621566772461\n"
     ]
    },
    {
     "name": "stderr",
     "output_type": "stream",
     "text": [
      "\r",
      "  2%|▏         | 2/108 [04:15<4:48:56, 163.55s/it]"
     ]
    },
    {
     "name": "stdout",
     "output_type": "stream",
     "text": [
      "-4.5488691329956055\n"
     ]
    },
    {
     "name": "stderr",
     "output_type": "stream",
     "text": [
      "\r",
      "  3%|▎         | 3/108 [04:53<3:40:21, 125.92s/it]"
     ]
    },
    {
     "name": "stdout",
     "output_type": "stream",
     "text": [
      "-4.459320068359375\n"
     ]
    },
    {
     "name": "stderr",
     "output_type": "stream",
     "text": [
      "\r",
      "  4%|▎         | 4/108 [05:26<2:49:38, 97.87s/it] "
     ]
    },
    {
     "name": "stdout",
     "output_type": "stream",
     "text": [
      "-4.277570724487305\n"
     ]
    },
    {
     "name": "stderr",
     "output_type": "stream",
     "text": [
      "\r",
      "  5%|▍         | 5/108 [05:51<2:10:41, 76.14s/it]"
     ]
    },
    {
     "name": "stdout",
     "output_type": "stream",
     "text": [
      "-3.330451011657715\n"
     ]
    },
    {
     "name": "stderr",
     "output_type": "stream",
     "text": [
      "\r",
      "  6%|▌         | 6/108 [06:16<1:42:59, 60.58s/it]"
     ]
    },
    {
     "name": "stdout",
     "output_type": "stream",
     "text": [
      "-2.8351964950561523\n"
     ]
    },
    {
     "name": "stderr",
     "output_type": "stream",
     "text": [
      "\r",
      "  6%|▋         | 7/108 [06:39<1:23:25, 49.56s/it]"
     ]
    },
    {
     "name": "stdout",
     "output_type": "stream",
     "text": [
      "-2.994633674621582\n"
     ]
    },
    {
     "name": "stderr",
     "output_type": "stream",
     "text": [
      "\r",
      "  7%|▋         | 8/108 [06:58<1:07:01, 40.21s/it]"
     ]
    },
    {
     "name": "stdout",
     "output_type": "stream",
     "text": [
      "-1.7636184692382812\n"
     ]
    },
    {
     "name": "stderr",
     "output_type": "stream",
     "text": [
      "\r",
      "  8%|▊         | 9/108 [07:16<55:14, 33.48s/it]  "
     ]
    },
    {
     "name": "stdout",
     "output_type": "stream",
     "text": [
      "-1.6857671737670898\n"
     ]
    },
    {
     "name": "stderr",
     "output_type": "stream",
     "text": [
      "\r",
      "  9%|▉         | 10/108 [07:33<46:47, 28.65s/it]"
     ]
    },
    {
     "name": "stdout",
     "output_type": "stream",
     "text": [
      "-1.488358974456787\n"
     ]
    },
    {
     "name": "stderr",
     "output_type": "stream",
     "text": [
      "\r",
      " 10%|█         | 11/108 [07:50<40:39, 25.15s/it]"
     ]
    },
    {
     "name": "stdout",
     "output_type": "stream",
     "text": [
      "-1.4202995300292969\n"
     ]
    },
    {
     "name": "stderr",
     "output_type": "stream",
     "text": [
      "\r",
      " 11%|█         | 12/108 [08:06<35:59, 22.50s/it]"
     ]
    },
    {
     "name": "stdout",
     "output_type": "stream",
     "text": [
      "-1.5080180168151855\n"
     ]
    },
    {
     "name": "stderr",
     "output_type": "stream",
     "text": [
      "\r",
      " 12%|█▏        | 13/108 [08:22<32:26, 20.49s/it]"
     ]
    },
    {
     "name": "stdout",
     "output_type": "stream",
     "text": [
      "-1.538008689880371\n"
     ]
    },
    {
     "name": "stderr",
     "output_type": "stream",
     "text": [
      "\r",
      " 13%|█▎        | 14/108 [08:38<29:43, 18.98s/it]"
     ]
    },
    {
     "name": "stdout",
     "output_type": "stream",
     "text": [
      "-1.5322599411010742\n"
     ]
    },
    {
     "name": "stderr",
     "output_type": "stream",
     "text": [
      "\r",
      " 14%|█▍        | 15/108 [08:53<27:38, 17.84s/it]"
     ]
    },
    {
     "name": "stdout",
     "output_type": "stream",
     "text": [
      "-1.5893831253051758\n"
     ]
    },
    {
     "name": "stderr",
     "output_type": "stream",
     "text": [
      "\r",
      " 15%|█▍        | 16/108 [09:07<25:51, 16.87s/it]"
     ]
    },
    {
     "name": "stdout",
     "output_type": "stream",
     "text": [
      "-1.5607233047485352\n"
     ]
    },
    {
     "name": "stderr",
     "output_type": "stream",
     "text": [
      "\r",
      " 16%|█▌        | 17/108 [09:22<24:25, 16.10s/it]"
     ]
    },
    {
     "name": "stdout",
     "output_type": "stream",
     "text": [
      "-1.5605673789978027\n"
     ]
    },
    {
     "name": "stderr",
     "output_type": "stream",
     "text": [
      "\r",
      " 17%|█▋        | 18/108 [09:36<23:10, 15.45s/it]"
     ]
    },
    {
     "name": "stdout",
     "output_type": "stream",
     "text": [
      "-1.4570879936218262\n"
     ]
    },
    {
     "name": "stderr",
     "output_type": "stream",
     "text": [
      "\r",
      " 18%|█▊        | 19/108 [09:45<20:24, 13.75s/it]"
     ]
    },
    {
     "name": "stdout",
     "output_type": "stream",
     "text": [
      "-1.4867162704467773\n"
     ]
    },
    {
     "name": "stderr",
     "output_type": "stream",
     "text": [
      "\r",
      " 19%|█▊        | 20/108 [09:52<16:57, 11.56s/it]"
     ]
    },
    {
     "name": "stdout",
     "output_type": "stream",
     "text": [
      "-1.5360541343688965\n"
     ]
    },
    {
     "name": "stderr",
     "output_type": "stream",
     "text": [
      "\r",
      " 19%|█▉        | 21/108 [09:58<14:22,  9.92s/it]"
     ]
    },
    {
     "name": "stdout",
     "output_type": "stream",
     "text": [
      "-0.7242326736450195\n"
     ]
    },
    {
     "name": "stderr",
     "output_type": "stream",
     "text": [
      "\r",
      " 20%|██        | 22/108 [10:04<12:29,  8.71s/it]"
     ]
    },
    {
     "name": "stdout",
     "output_type": "stream",
     "text": [
      "-0.7475626468658447\n"
     ]
    },
    {
     "name": "stderr",
     "output_type": "stream",
     "text": [
      "\r",
      " 21%|██▏       | 23/108 [10:10<11:04,  7.82s/it]"
     ]
    },
    {
     "name": "stdout",
     "output_type": "stream",
     "text": [
      "-0.8206825256347656\n"
     ]
    },
    {
     "name": "stderr",
     "output_type": "stream",
     "text": [
      "\r",
      " 22%|██▏       | 24/108 [10:15<09:58,  7.12s/it]"
     ]
    },
    {
     "name": "stdout",
     "output_type": "stream",
     "text": [
      "-0.04122328758239746\n"
     ]
    },
    {
     "name": "stderr",
     "output_type": "stream",
     "text": [
      "\r",
      " 23%|██▎       | 25/108 [10:20<09:08,  6.61s/it]"
     ]
    },
    {
     "name": "stdout",
     "output_type": "stream",
     "text": [
      "-0.1367201805114746\n"
     ]
    },
    {
     "name": "stderr",
     "output_type": "stream",
     "text": [
      "\r",
      " 24%|██▍       | 26/108 [10:26<08:28,  6.20s/it]"
     ]
    },
    {
     "name": "stdout",
     "output_type": "stream",
     "text": [
      "-0.7706942558288574\n"
     ]
    },
    {
     "name": "stderr",
     "output_type": "stream",
     "text": [
      "\r",
      " 25%|██▌       | 27/108 [10:31<07:56,  5.89s/it]"
     ]
    },
    {
     "name": "stdout",
     "output_type": "stream",
     "text": [
      "-0.7792593240737915\n"
     ]
    },
    {
     "name": "stderr",
     "output_type": "stream",
     "text": [
      "\r",
      " 26%|██▌       | 28/108 [10:36<07:28,  5.60s/it]"
     ]
    },
    {
     "name": "stdout",
     "output_type": "stream",
     "text": [
      "-0.7455071210861206\n"
     ]
    },
    {
     "name": "stderr",
     "output_type": "stream",
     "text": [
      "\r",
      " 27%|██▋       | 29/108 [10:41<07:04,  5.37s/it]"
     ]
    },
    {
     "name": "stdout",
     "output_type": "stream",
     "text": [
      "-0.8105887174606323\n"
     ]
    },
    {
     "name": "stderr",
     "output_type": "stream",
     "text": [
      "\r",
      " 28%|██▊       | 30/108 [10:45<06:43,  5.18s/it]"
     ]
    },
    {
     "name": "stdout",
     "output_type": "stream",
     "text": [
      "-0.7241986989974976\n"
     ]
    },
    {
     "name": "stderr",
     "output_type": "stream",
     "text": [
      "\r",
      " 29%|██▊       | 31/108 [10:50<06:25,  5.00s/it]"
     ]
    },
    {
     "name": "stdout",
     "output_type": "stream",
     "text": [
      "-0.679327130317688\n"
     ]
    },
    {
     "name": "stderr",
     "output_type": "stream",
     "text": [
      "\r",
      " 30%|██▉       | 32/108 [10:54<06:07,  4.83s/it]"
     ]
    },
    {
     "name": "stdout",
     "output_type": "stream",
     "text": [
      "-0.671262264251709\n"
     ]
    },
    {
     "name": "stderr",
     "output_type": "stream",
     "text": [
      "\r",
      " 31%|███       | 33/108 [10:59<05:50,  4.68s/it]"
     ]
    },
    {
     "name": "stdout",
     "output_type": "stream",
     "text": [
      "-0.6718194484710693\n"
     ]
    },
    {
     "name": "stderr",
     "output_type": "stream",
     "text": [
      "\r",
      " 31%|███▏      | 34/108 [11:03<05:34,  4.52s/it]"
     ]
    },
    {
     "name": "stdout",
     "output_type": "stream",
     "text": [
      "-0.6646432876586914\n"
     ]
    },
    {
     "name": "stderr",
     "output_type": "stream",
     "text": [
      "\r",
      " 32%|███▏      | 35/108 [11:07<05:18,  4.36s/it]"
     ]
    },
    {
     "name": "stdout",
     "output_type": "stream",
     "text": [
      "-0.46733760833740234\n"
     ]
    },
    {
     "name": "stderr",
     "output_type": "stream",
     "text": [
      "\r",
      " 33%|███▎      | 36/108 [11:11<05:03,  4.22s/it]"
     ]
    },
    {
     "name": "stdout",
     "output_type": "stream",
     "text": [
      "-0.5472630262374878\n"
     ]
    },
    {
     "name": "stderr",
     "output_type": "stream",
     "text": [
      "\r",
      " 34%|███▍      | 37/108 [11:14<04:49,  4.08s/it]"
     ]
    },
    {
     "name": "stdout",
     "output_type": "stream",
     "text": [
      "-0.5300546884536743\n"
     ]
    },
    {
     "name": "stderr",
     "output_type": "stream",
     "text": [
      "\r",
      " 35%|███▌      | 38/108 [11:18<04:34,  3.92s/it]"
     ]
    },
    {
     "name": "stdout",
     "output_type": "stream",
     "text": [
      "-0.4938020706176758\n"
     ]
    },
    {
     "name": "stderr",
     "output_type": "stream",
     "text": [
      "\r",
      " 36%|███▌      | 39/108 [11:21<04:20,  3.78s/it]"
     ]
    },
    {
     "name": "stdout",
     "output_type": "stream",
     "text": [
      "-0.5564788579940796\n"
     ]
    },
    {
     "name": "stderr",
     "output_type": "stream",
     "text": [
      "\r",
      " 37%|███▋      | 40/108 [11:25<04:07,  3.65s/it]"
     ]
    },
    {
     "name": "stdout",
     "output_type": "stream",
     "text": [
      "-0.5439424514770508\n"
     ]
    },
    {
     "name": "stderr",
     "output_type": "stream",
     "text": [
      "\r",
      " 38%|███▊      | 41/108 [11:28<03:54,  3.50s/it]"
     ]
    },
    {
     "name": "stdout",
     "output_type": "stream",
     "text": [
      "-0.4939839243888855\n"
     ]
    },
    {
     "name": "stderr",
     "output_type": "stream",
     "text": [
      "\r",
      " 39%|███▉      | 42/108 [11:31<03:41,  3.36s/it]"
     ]
    },
    {
     "name": "stdout",
     "output_type": "stream",
     "text": [
      "-0.4240623712539673\n"
     ]
    },
    {
     "name": "stderr",
     "output_type": "stream",
     "text": [
      "\r",
      " 40%|███▉      | 43/108 [11:34<03:29,  3.23s/it]"
     ]
    },
    {
     "name": "stdout",
     "output_type": "stream",
     "text": [
      "-0.42504632472991943\n"
     ]
    },
    {
     "name": "stderr",
     "output_type": "stream",
     "text": [
      "\r",
      " 41%|████      | 44/108 [11:37<03:19,  3.11s/it]"
     ]
    },
    {
     "name": "stdout",
     "output_type": "stream",
     "text": [
      "-0.43579989671707153\n"
     ]
    },
    {
     "name": "stderr",
     "output_type": "stream",
     "text": [
      "\r",
      " 42%|████▏     | 45/108 [11:39<03:08,  2.99s/it]"
     ]
    },
    {
     "name": "stdout",
     "output_type": "stream",
     "text": [
      "-0.39694464206695557\n"
     ]
    },
    {
     "name": "stderr",
     "output_type": "stream",
     "text": [
      "\r",
      " 43%|████▎     | 46/108 [11:42<02:58,  2.88s/it]"
     ]
    },
    {
     "name": "stdout",
     "output_type": "stream",
     "text": [
      "-0.31280988454818726\n"
     ]
    },
    {
     "name": "stderr",
     "output_type": "stream",
     "text": [
      "\r",
      " 44%|████▎     | 47/108 [11:45<02:49,  2.78s/it]"
     ]
    },
    {
     "name": "stdout",
     "output_type": "stream",
     "text": [
      "-0.35356801748275757\n"
     ]
    },
    {
     "name": "stderr",
     "output_type": "stream",
     "text": [
      "\r",
      " 44%|████▍     | 48/108 [11:47<02:40,  2.68s/it]"
     ]
    },
    {
     "name": "stdout",
     "output_type": "stream",
     "text": [
      "-0.33356261253356934\n"
     ]
    },
    {
     "name": "stderr",
     "output_type": "stream",
     "text": [
      "\r",
      " 45%|████▌     | 49/108 [11:49<02:32,  2.59s/it]"
     ]
    },
    {
     "name": "stdout",
     "output_type": "stream",
     "text": [
      "-0.30283021926879883\n"
     ]
    },
    {
     "name": "stderr",
     "output_type": "stream",
     "text": [
      "\r",
      " 46%|████▋     | 50/108 [11:52<02:25,  2.50s/it]"
     ]
    },
    {
     "name": "stdout",
     "output_type": "stream",
     "text": [
      "-0.31227150559425354\n"
     ]
    },
    {
     "name": "stderr",
     "output_type": "stream",
     "text": [
      "\r",
      " 47%|████▋     | 51/108 [11:54<02:17,  2.42s/it]"
     ]
    },
    {
     "name": "stdout",
     "output_type": "stream",
     "text": [
      "-0.3128616213798523\n"
     ]
    },
    {
     "name": "stderr",
     "output_type": "stream",
     "text": [
      "\r",
      " 48%|████▊     | 52/108 [11:56<02:11,  2.34s/it]"
     ]
    },
    {
     "name": "stdout",
     "output_type": "stream",
     "text": [
      "-0.3370780050754547\n"
     ]
    },
    {
     "name": "stderr",
     "output_type": "stream",
     "text": [
      "\r",
      " 49%|████▉     | 53/108 [11:58<02:04,  2.26s/it]"
     ]
    },
    {
     "name": "stdout",
     "output_type": "stream",
     "text": [
      "-0.3549281358718872\n"
     ]
    },
    {
     "name": "stderr",
     "output_type": "stream",
     "text": [
      "\r",
      " 50%|█████     | 54/108 [12:00<01:58,  2.19s/it]"
     ]
    },
    {
     "name": "stdout",
     "output_type": "stream",
     "text": [
      "-0.29846611618995667\n"
     ]
    },
    {
     "name": "stderr",
     "output_type": "stream",
     "text": [
      "\r",
      " 51%|█████     | 55/108 [12:02<01:51,  2.11s/it]"
     ]
    },
    {
     "name": "stdout",
     "output_type": "stream",
     "text": [
      "-0.31094056367874146\n"
     ]
    },
    {
     "name": "stderr",
     "output_type": "stream",
     "text": [
      "\r",
      " 52%|█████▏    | 56/108 [12:04<01:45,  2.03s/it]"
     ]
    },
    {
     "name": "stdout",
     "output_type": "stream",
     "text": [
      "-0.3305261433124542\n"
     ]
    },
    {
     "name": "stderr",
     "output_type": "stream",
     "text": [
      "\r",
      " 53%|█████▎    | 57/108 [12:06<01:39,  1.96s/it]"
     ]
    },
    {
     "name": "stdout",
     "output_type": "stream",
     "text": [
      "-0.3167439103126526\n"
     ]
    },
    {
     "name": "stderr",
     "output_type": "stream",
     "text": [
      "\r",
      " 54%|█████▎    | 58/108 [12:08<01:34,  1.89s/it]"
     ]
    },
    {
     "name": "stdout",
     "output_type": "stream",
     "text": [
      "-0.3363685607910156\n"
     ]
    },
    {
     "name": "stderr",
     "output_type": "stream",
     "text": [
      "\r",
      " 55%|█████▍    | 59/108 [12:09<01:29,  1.82s/it]"
     ]
    },
    {
     "name": "stdout",
     "output_type": "stream",
     "text": [
      "-0.2630741596221924\n"
     ]
    },
    {
     "name": "stderr",
     "output_type": "stream",
     "text": [
      "\r",
      " 56%|█████▌    | 60/108 [12:11<01:24,  1.75s/it]"
     ]
    },
    {
     "name": "stdout",
     "output_type": "stream",
     "text": [
      "-0.263227254152298\n"
     ]
    },
    {
     "name": "stderr",
     "output_type": "stream",
     "text": [
      "\r",
      " 56%|█████▋    | 61/108 [12:12<01:19,  1.68s/it]"
     ]
    },
    {
     "name": "stdout",
     "output_type": "stream",
     "text": [
      "-0.2597172260284424\n"
     ]
    },
    {
     "name": "stderr",
     "output_type": "stream",
     "text": [
      "\r",
      " 57%|█████▋    | 62/108 [12:14<01:14,  1.61s/it]"
     ]
    },
    {
     "name": "stdout",
     "output_type": "stream",
     "text": [
      "-0.21817031502723694\n"
     ]
    },
    {
     "name": "stderr",
     "output_type": "stream",
     "text": [
      "\r",
      " 58%|█████▊    | 63/108 [12:15<01:09,  1.54s/it]"
     ]
    },
    {
     "name": "stdout",
     "output_type": "stream",
     "text": [
      "-0.21404987573623657\n"
     ]
    },
    {
     "name": "stderr",
     "output_type": "stream",
     "text": [
      "\r",
      " 59%|█████▉    | 64/108 [12:16<01:04,  1.48s/it]"
     ]
    },
    {
     "name": "stdout",
     "output_type": "stream",
     "text": [
      "-0.17595458030700684\n"
     ]
    },
    {
     "name": "stderr",
     "output_type": "stream",
     "text": [
      "\r",
      " 60%|██████    | 65/108 [12:18<01:00,  1.41s/it]"
     ]
    },
    {
     "name": "stdout",
     "output_type": "stream",
     "text": [
      "-0.18389788269996643\n"
     ]
    },
    {
     "name": "stderr",
     "output_type": "stream",
     "text": [
      "\r",
      " 61%|██████    | 66/108 [12:19<00:56,  1.35s/it]"
     ]
    },
    {
     "name": "stdout",
     "output_type": "stream",
     "text": [
      "-0.20333006978034973\n"
     ]
    },
    {
     "name": "stderr",
     "output_type": "stream",
     "text": [
      "\r",
      " 62%|██████▏   | 67/108 [12:20<00:52,  1.29s/it]"
     ]
    },
    {
     "name": "stdout",
     "output_type": "stream",
     "text": [
      "-0.17514804005622864\n"
     ]
    },
    {
     "name": "stderr",
     "output_type": "stream",
     "text": [
      "\r",
      " 63%|██████▎   | 68/108 [12:21<00:49,  1.23s/it]"
     ]
    },
    {
     "name": "stdout",
     "output_type": "stream",
     "text": [
      "-0.15786121785640717\n"
     ]
    },
    {
     "name": "stderr",
     "output_type": "stream",
     "text": [
      "\r",
      " 64%|██████▍   | 69/108 [12:22<00:45,  1.17s/it]"
     ]
    },
    {
     "name": "stdout",
     "output_type": "stream",
     "text": [
      "-0.11238020658493042\n"
     ]
    },
    {
     "name": "stderr",
     "output_type": "stream",
     "text": [
      "\r",
      " 65%|██████▍   | 70/108 [12:23<00:42,  1.12s/it]"
     ]
    },
    {
     "name": "stdout",
     "output_type": "stream",
     "text": [
      "-0.06696026027202606\n"
     ]
    },
    {
     "name": "stderr",
     "output_type": "stream",
     "text": [
      "\r",
      " 66%|██████▌   | 71/108 [12:24<00:39,  1.06s/it]"
     ]
    },
    {
     "name": "stdout",
     "output_type": "stream",
     "text": [
      "-0.1158759742975235\n"
     ]
    },
    {
     "name": "stderr",
     "output_type": "stream",
     "text": [
      "\r",
      " 67%|██████▋   | 72/108 [12:25<00:36,  1.01s/it]"
     ]
    },
    {
     "name": "stdout",
     "output_type": "stream",
     "text": [
      "-0.13548339903354645\n"
     ]
    },
    {
     "name": "stderr",
     "output_type": "stream",
     "text": [
      "\r",
      " 68%|██████▊   | 73/108 [12:26<00:33,  1.05it/s]"
     ]
    },
    {
     "name": "stdout",
     "output_type": "stream",
     "text": [
      "-0.024796441197395325\n"
     ]
    },
    {
     "name": "stderr",
     "output_type": "stream",
     "text": [
      "\r",
      " 69%|██████▊   | 74/108 [12:27<00:30,  1.11it/s]"
     ]
    },
    {
     "name": "stdout",
     "output_type": "stream",
     "text": [
      "-0.041763365268707275\n"
     ]
    },
    {
     "name": "stderr",
     "output_type": "stream",
     "text": [
      "\r",
      " 69%|██████▉   | 75/108 [12:27<00:28,  1.17it/s]"
     ]
    },
    {
     "name": "stdout",
     "output_type": "stream",
     "text": [
      "-0.033585041761398315\n"
     ]
    },
    {
     "name": "stderr",
     "output_type": "stream",
     "text": [
      "\r",
      " 70%|███████   | 76/108 [12:28<00:25,  1.24it/s]"
     ]
    },
    {
     "name": "stdout",
     "output_type": "stream",
     "text": [
      "-0.04787328094244003\n"
     ]
    },
    {
     "name": "stderr",
     "output_type": "stream",
     "text": [
      "\r",
      " 71%|███████▏  | 77/108 [12:29<00:23,  1.32it/s]"
     ]
    },
    {
     "name": "stdout",
     "output_type": "stream",
     "text": [
      "-0.03180309385061264\n"
     ]
    },
    {
     "name": "stderr",
     "output_type": "stream",
     "text": [
      "\r",
      " 72%|███████▏  | 78/108 [12:29<00:21,  1.41it/s]"
     ]
    },
    {
     "name": "stdout",
     "output_type": "stream",
     "text": [
      "-0.041358813643455505\n"
     ]
    },
    {
     "name": "stderr",
     "output_type": "stream",
     "text": [
      "\r",
      " 73%|███████▎  | 79/108 [12:30<00:19,  1.51it/s]"
     ]
    },
    {
     "name": "stdout",
     "output_type": "stream",
     "text": [
      "-0.05257347971200943\n"
     ]
    },
    {
     "name": "stderr",
     "output_type": "stream",
     "text": [
      "\r",
      " 74%|███████▍  | 80/108 [12:30<00:17,  1.61it/s]"
     ]
    },
    {
     "name": "stdout",
     "output_type": "stream",
     "text": [
      "-0.058257848024368286\n"
     ]
    },
    {
     "name": "stderr",
     "output_type": "stream",
     "text": [
      "\r",
      " 75%|███████▌  | 81/108 [12:31<00:15,  1.73it/s]"
     ]
    },
    {
     "name": "stdout",
     "output_type": "stream",
     "text": [
      "-0.047670893371105194\n"
     ]
    },
    {
     "name": "stderr",
     "output_type": "stream",
     "text": [
      "\r",
      " 76%|███████▌  | 82/108 [12:31<00:14,  1.85it/s]"
     ]
    },
    {
     "name": "stdout",
     "output_type": "stream",
     "text": [
      "-0.0500711053609848\n"
     ]
    },
    {
     "name": "stderr",
     "output_type": "stream",
     "text": [
      "\r",
      " 77%|███████▋  | 83/108 [12:32<00:12,  1.98it/s]"
     ]
    },
    {
     "name": "stdout",
     "output_type": "stream",
     "text": [
      "-0.0575886070728302\n"
     ]
    },
    {
     "name": "stderr",
     "output_type": "stream",
     "text": [
      "\r",
      " 78%|███████▊  | 84/108 [12:32<00:11,  2.13it/s]"
     ]
    },
    {
     "name": "stdout",
     "output_type": "stream",
     "text": [
      "-0.04093889147043228\n"
     ]
    },
    {
     "name": "stderr",
     "output_type": "stream",
     "text": [
      "\r",
      " 79%|███████▊  | 85/108 [12:32<00:10,  2.30it/s]"
     ]
    },
    {
     "name": "stdout",
     "output_type": "stream",
     "text": [
      "-0.042041242122650146\n"
     ]
    },
    {
     "name": "stderr",
     "output_type": "stream",
     "text": [
      "\r",
      " 80%|███████▉  | 86/108 [12:33<00:08,  2.50it/s]"
     ]
    },
    {
     "name": "stdout",
     "output_type": "stream",
     "text": [
      "-0.01860370859503746\n"
     ]
    },
    {
     "name": "stderr",
     "output_type": "stream",
     "text": [
      "\r",
      " 81%|████████  | 87/108 [12:33<00:07,  2.71it/s]"
     ]
    },
    {
     "name": "stdout",
     "output_type": "stream",
     "text": [
      "-0.021385882049798965\n"
     ]
    },
    {
     "name": "stderr",
     "output_type": "stream",
     "text": [
      "\r",
      " 81%|████████▏ | 88/108 [12:33<00:06,  2.94it/s]"
     ]
    },
    {
     "name": "stdout",
     "output_type": "stream",
     "text": [
      "-0.03155229613184929\n"
     ]
    },
    {
     "name": "stderr",
     "output_type": "stream",
     "text": [
      "\r",
      " 82%|████████▏ | 89/108 [12:34<00:05,  3.22it/s]"
     ]
    },
    {
     "name": "stdout",
     "output_type": "stream",
     "text": [
      "-0.007579149678349495\n"
     ]
    },
    {
     "name": "stderr",
     "output_type": "stream",
     "text": [
      " 84%|████████▍ | 91/108 [12:34<00:04,  3.93it/s]"
     ]
    },
    {
     "name": "stdout",
     "output_type": "stream",
     "text": [
      "-0.009369481354951859\n",
      "-0.012308354489505291\n"
     ]
    },
    {
     "name": "stderr",
     "output_type": "stream",
     "text": [
      " 86%|████████▌ | 93/108 [12:34<00:03,  4.81it/s]"
     ]
    },
    {
     "name": "stdout",
     "output_type": "stream",
     "text": [
      "-0.011701634153723717\n",
      "-0.014862236566841602\n"
     ]
    },
    {
     "name": "stderr",
     "output_type": "stream",
     "text": [
      " 88%|████████▊ | 95/108 [12:35<00:02,  5.94it/s]"
     ]
    },
    {
     "name": "stdout",
     "output_type": "stream",
     "text": [
      "-0.01622184831649065\n",
      "-0.019394012168049812\n"
     ]
    },
    {
     "name": "stderr",
     "output_type": "stream",
     "text": [
      " 91%|█████████ | 98/108 [12:35<00:01,  7.55it/s]"
     ]
    },
    {
     "name": "stdout",
     "output_type": "stream",
     "text": [
      "-0.031346472911536694\n",
      "-0.012473998591303825\n",
      "-0.013462222181260586\n"
     ]
    },
    {
     "name": "stderr",
     "output_type": "stream",
     "text": [
      " 95%|█████████▌| 103/108 [12:35<00:00, 11.00it/s]"
     ]
    },
    {
     "name": "stdout",
     "output_type": "stream",
     "text": [
      "-0.011573312804102898\n",
      "-0.019092713482677937\n",
      "-0.017226919531822205\n",
      "-0.021712826564908028\n",
      "0.0\n",
      "0.0\n"
     ]
    },
    {
     "name": "stderr",
     "output_type": "stream",
     "text": [
      "\r",
      "100%|██████████| 108/108 [12:35<00:00,  7.00s/it]"
     ]
    },
    {
     "name": "stdout",
     "output_type": "stream",
     "text": [
      "0.0\n",
      "0.0\n",
      "0.0\n",
      "0.0\n"
     ]
    },
    {
     "name": "stderr",
     "output_type": "stream",
     "text": [
      "\n"
     ]
    }
   ],
   "source": [
    "Hrs = []\n",
    "Hr = []\n",
    "uncond_layers = vine_trained.layers\n",
    "for n in tqdm.tqdm(range(NN-1)):\n",
    "    vine = CVine(copula_layers[n:],train_x,device=device)\n",
    "    entropy = vine.entropy(sem_tol=0.1, mc_size=4000, v=False)\n",
    "    Hrs.append(-entropy.mean().item())\n",
    "    vine = CVine(uncond_layers[n:],torch.ones(1),device='cpu')\n",
    "    entropy = vine.entropy(sem_tol=0.1, mc_size=4000, v=False)\n",
    "    Hr.append(-entropy.mean().item())\n",
    "    print(Hrs[-1]-Hr[-1])"
   ]
  },
  {
   "cell_type": "code",
   "execution_count": null,
   "metadata": {},
   "outputs": [],
   "source": [
    "# mem = (Hrs, Hr)\n",
    "# with open(f\"{home}/results/Hrs_and_Hr_experimental.pkl\",\"wb\") as f:\n",
    "#     pkl.dump((Hrs,Hr),f)\n",
    "with open(f\"{home}/results/singleH.pkl\",\"wb\") as f: #single variable BI_KSG:(MI,H(Y|X)) from standard data\n",
    "    pkl.dump(singleH,f)"
   ]
  },
  {
   "cell_type": "code",
   "execution_count": 126,
   "metadata": {},
   "outputs": [
    {
     "data": {
      "text/plain": [
       "18.035791397094727"
      ]
     },
     "execution_count": 126,
     "metadata": {},
     "output_type": "execute_result"
    }
   ],
   "source": [
    "with open(f\"{home}/results/Hrs_and_Hr_experimental.pkl\",\"rb\") as f:\n",
    "    (Hrs,Hr) = pkl.load(f)\n",
    "np.array(Hrs)[0]"
   ]
  },
  {
   "cell_type": "code",
   "execution_count": 135,
   "metadata": {},
   "outputs": [
    {
     "data": {
      "text/plain": [
       "[[MixtureCopula(theta: torch.Size([2, 50]), mix: torch.Size([2, 50])),\n",
       "  MixtureCopula(theta: torch.Size([2, 50]), mix: torch.Size([2, 50])),\n",
       "  MixtureCopula(theta: torch.Size([2, 50]), mix: torch.Size([2, 50]))],\n",
       " [MixtureCopula(theta: torch.Size([2, 50]), mix: torch.Size([2, 50])),\n",
       "  MixtureCopula(theta: torch.Size([1, 0]), mix: torch.Size([1, 50]))],\n",
       " [MixtureCopula(theta: torch.Size([1, 0]), mix: torch.Size([1, 50]))]]"
      ]
     },
     "execution_count": 135,
     "metadata": {},
     "output_type": "execute_result"
    }
   ],
   "source": [
    "n=3\n",
    "layers = [[copula_layers[i][j] for j in range(n-i)] for i in range(n)]\n",
    "layers"
   ]
  },
  {
   "cell_type": "code",
   "execution_count": 137,
   "metadata": {},
   "outputs": [
    {
     "name": "stderr",
     "output_type": "stream",
     "text": [
      "\n",
      "\n",
      "  0%|          | 0/20 [00:00<?, ?it/s]\u001b[A\u001b[A\n",
      "\n",
      " 25%|██▌       | 5/20 [00:00<00:00, 36.25it/s]\u001b[A\u001b[A\n",
      "\n",
      " 35%|███▌      | 7/20 [00:00<00:00, 21.79it/s]\u001b[A\u001b[A\n",
      "\n",
      " 45%|████▌     | 9/20 [00:00<00:01, 10.44it/s]\u001b[A\u001b[A\n",
      "\n",
      " 50%|█████     | 10/20 [00:01<00:01,  6.03it/s]\u001b[A\u001b[A\n",
      "\n",
      " 55%|█████▌    | 11/20 [00:01<00:02,  4.40it/s]\u001b[A\u001b[A\n",
      "\n",
      " 60%|██████    | 12/20 [00:01<00:02,  3.44it/s]\u001b[A\u001b[A\n",
      "\n",
      " 65%|██████▌   | 13/20 [00:02<00:02,  2.80it/s]\u001b[A\u001b[A\n",
      "\n",
      " 70%|███████   | 14/20 [00:03<00:03,  1.92it/s]\u001b[A\u001b[A\n",
      "\n",
      " 75%|███████▌  | 15/20 [00:04<00:03,  1.49it/s]\u001b[A\u001b[A\n",
      "\n",
      " 80%|████████  | 16/20 [00:05<00:03,  1.24it/s]\u001b[A\u001b[A\n",
      "\n",
      " 85%|████████▌ | 17/20 [00:06<00:02,  1.08it/s]\u001b[A\u001b[A\n",
      "\n",
      " 90%|█████████ | 18/20 [00:07<00:02,  1.05s/it]\u001b[A\u001b[A\n",
      "\n",
      " 95%|█████████▌| 19/20 [00:09<00:01,  1.18s/it]\u001b[A\u001b[A\n",
      "\n",
      "100%|██████████| 20/20 [00:11<00:00,  1.81it/s]\u001b[A\u001b[A\n"
     ]
    }
   ],
   "source": [
    "HRS = []\n",
    "for n in tqdm.tqdm(range(20)):\n",
    "    layers = [[copula_layers[i][j] for j in range(n-i)] for i in range(n)]\n",
    "    vine = CVine(layers,train_x,device=device)\n",
    "    entropy = vine.entropy(sem_tol=0.1, mc_size=4000, v=False)\n",
    "    HRS.append(-entropy.mean().item())"
   ]
  },
  {
   "cell_type": "code",
   "execution_count": 88,
   "metadata": {},
   "outputs": [],
   "source": [
    "import MI\n",
    "X,Y = utils.standard_loader(f\"{conf.path2data}/{exp_pref}_standard.pkl\")\n",
    "# %time KSG = MI.Mixed_KSG(X,Y)\n",
    "# KSG"
   ]
  },
  {
   "cell_type": "code",
   "execution_count": 90,
   "metadata": {},
   "outputs": [],
   "source": [
    "singleH = np.empty((Y.shape[-1],2))\n",
    "for i in range(Y.shape[-1]):\n",
    "    singleH[i,:] = MI.BI_KSG(X.reshape((*X.shape,1)),Y[...,i].reshape((*X.shape,1)))"
   ]
  },
  {
   "cell_type": "code",
   "execution_count": 138,
   "metadata": {},
   "outputs": [
    {
     "data": {
      "text/plain": [
       "[-0.0,\n",
       " 0.4998270273208618,\n",
       " 0.9397875666618347,\n",
       " 1.2119992971420288,\n",
       " 1.4415050745010376,\n",
       " 1.8783982992172241,\n",
       " 1.977783203125,\n",
       " 2.0854430198669434,\n",
       " 2.5893940925598145,\n",
       " 2.887439727783203,\n",
       " 2.985644817352295,\n",
       " 3.1160600185394287,\n",
       " 3.299564838409424,\n",
       " 3.7173571586608887,\n",
       " 3.9001903533935547,\n",
       " 4.04926872253418,\n",
       " 4.214621543884277,\n",
       " 4.419668674468994,\n",
       " 4.536856174468994,\n",
       " 4.620572566986084]"
      ]
     },
     "execution_count": 138,
     "metadata": {},
     "output_type": "execute_result"
    }
   ],
   "source": [
    "# np.sum(singleH)\n",
    "# np.sum(allH)#np.sum(singleH)\n",
    "HRS"
   ]
  },
  {
   "cell_type": "code",
   "execution_count": 120,
   "metadata": {},
   "outputs": [],
   "source": [
    "allH = []\n",
    "for n in range(1,20):\n",
    "    allH.append(MI.BI_KSG(X.reshape((*X.shape,1)),Y[...,:n])[1])"
   ]
  },
  {
   "cell_type": "code",
   "execution_count": 140,
   "metadata": {},
   "outputs": [
    {
     "data": {
      "text/plain": [
       "[<matplotlib.lines.Line2D at 0x7f6f70263e10>]"
      ]
     },
     "execution_count": 140,
     "metadata": {},
     "output_type": "execute_result"
    },
    {
     "data": {
      "image/png": "[encoded data removed]",
      "text/plain": [
       "<Figure size 432x288 with 1 Axes>"
      ]
     },
     "metadata": {
      "needs_background": "light"
     },
     "output_type": "display_data"
    }
   ],
   "source": [
    "plt.plot([-a for a in allH])\n",
    "plt.plot(HRS)"
   ]
  },
  {
   "cell_type": "code",
   "execution_count": 142,
   "metadata": {},
   "outputs": [
    {
     "name": "stdout",
     "output_type": "stream",
     "text": [
      "[ 1.80357914e+01  1.00874043e+01  9.68608379e+00  9.50804901e+00\n",
      "  8.59898376e+00  8.08220577e+00  7.92550659e+00  7.32173920e+00\n",
      "  6.95403957e+00  6.42730713e+00  6.35233879e+00  5.33967161e+00\n",
      "  5.14609385e+00  5.04538918e+00  4.98054028e+00  4.65625858e+00\n",
      "  4.59846258e+00  4.56145763e+00  4.34786797e+00  4.15962982e+00\n",
      "  3.31099272e+00  3.20633483e+00  3.07397628e+00  2.66247272e+00\n",
      "  2.65676451e+00  2.00692201e+00  1.99954951e+00  1.90863097e+00\n",
      "  1.89004600e+00  1.82639039e+00  1.76264465e+00  1.72223735e+00\n",
      "  1.63303947e+00  1.51497293e+00  1.31970048e+00  1.27761805e+00\n",
      "  1.23699880e+00  1.04305482e+00  1.04575288e+00  1.00379896e+00\n",
      "  8.00116122e-01  6.74734950e-01  6.01392269e-01  5.91812551e-01\n",
      "  5.38460970e-01  5.13077378e-01  5.13240874e-01  5.03321648e-01\n",
      "  5.01758695e-01  4.94169801e-01  4.92427588e-01  4.85016137e-01\n",
      "  4.77643073e-01  4.55890328e-01  4.40766871e-01  4.31721479e-01\n",
      "  3.97580445e-01  3.99148047e-01  3.29721212e-01  3.31668049e-01\n",
      "  3.22824478e-01  3.10799807e-01  2.84632862e-01  2.85097420e-01\n",
      "  2.51478672e-01  2.52844930e-01  2.31318742e-01  2.24662527e-01\n",
      "  2.17171162e-01  2.16344967e-01  1.93314418e-01  1.89803138e-01\n",
      "  1.48418188e-01  1.49590656e-01  1.49205655e-01  1.21340044e-01\n",
      "  1.24375395e-01  1.01498008e-01  1.00410707e-01  1.01042494e-01\n",
      "  7.93283656e-02  8.08479041e-02  8.14525038e-02  4.05668169e-02\n",
      "  3.46408114e-02  2.64870897e-02  2.66548134e-02  2.63888612e-02\n",
      "  1.96742713e-02  1.50620267e-02  1.46108167e-02  1.44993421e-02\n",
      "  1.44460341e-02  1.49525749e-02  1.48233194e-02  1.47277163e-02\n",
      "  1.38623882e-02  1.51027916e-02  1.44344140e-02  1.49534522e-02\n",
      "  1.48039721e-02  1.41210426e-02 -0.00000000e+00 -0.00000000e+00\n",
      " -0.00000000e+00 -0.00000000e+00 -0.00000000e+00 -0.00000000e+00]\n"
     ]
    },
    {
     "data": {
      "text/plain": [
       "<matplotlib.legend.Legend at 0x7f6f7017fcc0>"
      ]
     },
     "execution_count": 142,
     "metadata": {},
     "output_type": "execute_result"
    },
    {
     "data": {
      "image/png": "[encoded data removed]",
      "text/plain": [
       "<Figure size 432x288 with 1 Axes>"
      ]
     },
     "metadata": {
      "needs_background": "light"
     },
     "output_type": "display_data"
    }
   ],
   "source": [
    "Hrs = np.array(Hrs)\n",
    "Hr = np.array(Hr)\n",
    "# plt.plot(Hr/Hr[0])\n",
    "plt.plot(Hrs, label=\"H(Y|X)\")\n",
    "plt.plot(Hr, label=\"MI(X,Y)\")\n",
    "# plt.axhline(0.01,c='black',linestyle='dashed')\n",
    "plt.axvline(3.5,c='grey',linestyle='dashed')\n",
    "plt.axvline(17,c='grey',linestyle='dashed')\n",
    "plt.axvline(29,c='grey',linestyle='dashed')\n",
    "plt.axvline(71,c='grey',linestyle='dashed')\n",
    "plt.text(3.8,1.0,'3.5')\n",
    "plt.text(17.5,1.0,'17')\n",
    "plt.text(29.5,1.0,'29')\n",
    "plt.text(71.5,1.0,'71');\n",
    "plt.text(3.8,0.5,'50%')\n",
    "plt.text(17.5,0.25,'75%')\n",
    "plt.text(29.5,0.11,'90%')\n",
    "plt.text(71.5,0.02,'99%');\n",
    "plt.xlabel('Correlation orders')\n",
    "plt.legend()"
   ]
  },
  {
   "cell_type": "code",
   "execution_count": 27,
   "metadata": {},
   "outputs": [
    {
     "name": "stderr",
     "output_type": "stream",
     "text": [
      "  5%|▌         | 1/19 [03:30<1:03:07, 210.41s/it]"
     ]
    },
    {
     "name": "stdout",
     "output_type": "stream",
     "text": [
      "9.179655075073242\n"
     ]
    },
    {
     "name": "stderr",
     "output_type": "stream",
     "text": [
      "\r",
      " 11%|█         | 2/19 [07:06<1:00:05, 212.07s/it]"
     ]
    },
    {
     "name": "stdout",
     "output_type": "stream",
     "text": [
      "9.087356567382812\n"
     ]
    },
    {
     "name": "stderr",
     "output_type": "stream",
     "text": [
      "\r",
      " 16%|█▌        | 3/19 [10:29<55:50, 209.42s/it]  "
     ]
    },
    {
     "name": "stdout",
     "output_type": "stream",
     "text": [
      "9.030080795288086\n"
     ]
    },
    {
     "name": "stderr",
     "output_type": "stream",
     "text": [
      "\r",
      " 21%|██        | 4/19 [14:04<52:46, 211.07s/it]"
     ]
    },
    {
     "name": "stdout",
     "output_type": "stream",
     "text": [
      "9.030542373657227\n"
     ]
    },
    {
     "name": "stderr",
     "output_type": "stream",
     "text": [
      "\r",
      " 26%|██▋       | 5/19 [17:25<48:32, 208.02s/it]"
     ]
    },
    {
     "name": "stdout",
     "output_type": "stream",
     "text": [
      "8.977790832519531\n"
     ]
    },
    {
     "name": "stderr",
     "output_type": "stream",
     "text": [
      "\r",
      " 32%|███▏      | 6/19 [20:57<45:19, 209.21s/it]"
     ]
    },
    {
     "name": "stdout",
     "output_type": "stream",
     "text": [
      "8.91030502319336\n"
     ]
    },
    {
     "name": "stderr",
     "output_type": "stream",
     "text": [
      "\r",
      " 37%|███▋      | 7/19 [24:27<41:53, 209.42s/it]"
     ]
    },
    {
     "name": "stdout",
     "output_type": "stream",
     "text": [
      "8.960779190063477\n"
     ]
    },
    {
     "name": "stderr",
     "output_type": "stream",
     "text": [
      "\r",
      " 42%|████▏     | 8/19 [27:45<37:46, 206.06s/it]"
     ]
    },
    {
     "name": "stdout",
     "output_type": "stream",
     "text": [
      "8.83676528930664\n"
     ]
    },
    {
     "name": "stderr",
     "output_type": "stream",
     "text": [
      "\r",
      " 47%|████▋     | 9/19 [31:01<33:51, 203.15s/it]"
     ]
    },
    {
     "name": "stdout",
     "output_type": "stream",
     "text": [
      "8.614717483520508\n"
     ]
    },
    {
     "name": "stderr",
     "output_type": "stream",
     "text": [
      "\r",
      " 53%|█████▎    | 10/19 [33:57<29:14, 194.95s/it]"
     ]
    },
    {
     "name": "stdout",
     "output_type": "stream",
     "text": [
      "7.879853248596191\n"
     ]
    },
    {
     "name": "stderr",
     "output_type": "stream",
     "text": [
      "\r",
      " 58%|█████▊    | 11/19 [36:32<24:23, 183.00s/it]"
     ]
    },
    {
     "name": "stdout",
     "output_type": "stream",
     "text": [
      "7.901966094970703\n"
     ]
    },
    {
     "name": "stderr",
     "output_type": "stream",
     "text": [
      "\r",
      " 63%|██████▎   | 12/19 [39:04<20:15, 173.70s/it]"
     ]
    },
    {
     "name": "stdout",
     "output_type": "stream",
     "text": [
      "7.670048713684082\n"
     ]
    },
    {
     "name": "stderr",
     "output_type": "stream",
     "text": [
      "\r",
      " 68%|██████▊   | 13/19 [41:25<16:23, 163.91s/it]"
     ]
    },
    {
     "name": "stdout",
     "output_type": "stream",
     "text": [
      "6.641422271728516\n"
     ]
    },
    {
     "name": "stderr",
     "output_type": "stream",
     "text": [
      "\r",
      " 74%|███████▎  | 14/19 [43:45<13:02, 156.50s/it]"
     ]
    },
    {
     "name": "stdout",
     "output_type": "stream",
     "text": [
      "6.6919355392456055\n"
     ]
    },
    {
     "name": "stderr",
     "output_type": "stream",
     "text": [
      "\r",
      " 79%|███████▉  | 15/19 [45:55<09:54, 148.59s/it]"
     ]
    },
    {
     "name": "stdout",
     "output_type": "stream",
     "text": [
      "6.217408180236816\n"
     ]
    },
    {
     "name": "stderr",
     "output_type": "stream",
     "text": [
      "\r",
      " 84%|████████▍ | 16/19 [47:57<07:01, 140.67s/it]"
     ]
    },
    {
     "name": "stdout",
     "output_type": "stream",
     "text": [
      "5.190773010253906\n"
     ]
    },
    {
     "name": "stderr",
     "output_type": "stream",
     "text": [
      "\r",
      " 89%|████████▉ | 17/19 [49:57<04:28, 134.49s/it]"
     ]
    },
    {
     "name": "stdout",
     "output_type": "stream",
     "text": [
      "5.246406555175781\n"
     ]
    },
    {
     "name": "stderr",
     "output_type": "stream",
     "text": [
      "\r",
      " 95%|█████████▍| 18/19 [51:55<02:09, 129.54s/it]"
     ]
    },
    {
     "name": "stdout",
     "output_type": "stream",
     "text": [
      "5.0725812911987305\n"
     ]
    },
    {
     "name": "stderr",
     "output_type": "stream",
     "text": [
      "100%|██████████| 19/19 [52:02<00:00, 164.33s/it]"
     ]
    },
    {
     "name": "stdout",
     "output_type": "stream",
     "text": [
      "0.0\n"
     ]
    },
    {
     "name": "stderr",
     "output_type": "stream",
     "text": [
      "\n"
     ]
    }
   ],
   "source": [
    "Hrs = []\n",
    "Hr = []\n",
    "uncond_layers = vine_trained.layers\n",
    "vineC = CVine(copula_layers,train_x,device=device)\n",
    "vineU = CVine(uncond_layers,torch.ones(1),device='cpu')\n",
    "for n in tqdm.tqdm([0,10,20,30,40,50,60,70,80,90,100,101,102,103,104,105,106,107,108]):\n",
    "    entropy = vineC.truncate(n).entropy(sem_tol=0.1, mc_size=4000, v=False)\n",
    "    Hrs.append(entropy.mean().item())\n",
    "    entropy = vineU.truncate(n).entropy(sem_tol=0.1, mc_size=4000, v=False)\n",
    "    Hr.append(entropy.mean().item())\n",
    "    print(Hrs[-1]-Hr[-1])"
   ]
  },
  {
   "cell_type": "code",
   "execution_count": 50,
   "metadata": {},
   "outputs": [
    {
     "data": {
      "text/plain": [
       "<matplotlib.legend.Legend at 0x7f710cb97748>"
      ]
     },
     "execution_count": 50,
     "metadata": {},
     "output_type": "execute_result"
    },
    {
     "data": {
      "image/png": "[encoded data removed]",
      "text/plain": [
       "<Figure size 288x108 with 1 Axes>"
      ]
     },
     "metadata": {
      "needs_background": "light"
     },
     "output_type": "display_data"
    }
   ],
   "source": [
    "Hrs = np.array(Hrs)\n",
    "Hr = np.array(Hr)\n",
    "plt.figure(figsize=(4,1.5))\n",
    "ns = 109-np.array([0,10,20,30,40,50,60,70,80,90,100,101,102,103,104,105,106,107,108])\n",
    "plt.plot(ns,100*Hr/Hr[0], label='| H(Y|X) |')\n",
    "# plt.plot(ns,Hrs/Hrs[0])\n",
    "plt.plot(ns,100*(Hrs-Hr)/(Hrs[0]-Hr[0]),label='I(X,Y)')\n",
    "plt.xlabel('Order of correlation')\n",
    "plt.ylabel('%')\n",
    "plt.legend()\n",
    "# plt.axhline(0.01,c='black',linestyle='dashed')"
   ]
  },
  {
   "cell_type": "code",
   "execution_count": 7,
   "metadata": {},
   "outputs": [
    {
     "data": {
      "text/plain": [
       "tensor(-0.0266)"
      ]
     },
     "execution_count": 7,
     "metadata": {},
     "output_type": "execute_result"
    }
   ],
   "source": [
    "conditional_model = copula_layers[0][31]\n",
    "theta0 = conditional_model.theta.mean(axis=-1)\n",
    "mix0 = conditional_model.mix.mean(axis=-1)\n",
    "copula = bvcopula.MixtureCopula(theta0,mix0,conditional_model.copulas,rotations=conditional_model.rotations)\n",
    "copula.entropy()"
   ]
  },
  {
   "cell_type": "code",
   "execution_count": 8,
   "metadata": {},
   "outputs": [],
   "source": [
    "X,Y = utils.standard_loader(f\"{conf.path2data}/{exp_pref}_unconditional.pkl\")\n",
    "samples = torch.tensor(Y[:,[0,32]]).float().to(theta0.device)"
   ]
  },
  {
   "cell_type": "code",
   "execution_count": 9,
   "metadata": {},
   "outputs": [
    {
     "data": {
      "text/plain": [
       "<matplotlib.collections.PathCollection at 0x7fb4e8e0bd68>"
      ]
     },
     "execution_count": 9,
     "metadata": {},
     "output_type": "execute_result"
    },
    {
     "data": {
      "image/png": "[encoded data removed]",
      "text/plain": [
       "<Figure size 216x216 with 1 Axes>"
      ]
     },
     "metadata": {
      "needs_background": "light"
     },
     "output_type": "display_data"
    }
   ],
   "source": [
    "plt.figure(figsize=(3,3))\n",
    "plt.scatter(*Y[:,[0,2]].T,alpha=0.005)"
   ]
  },
  {
   "cell_type": "code",
   "execution_count": 10,
   "metadata": {},
   "outputs": [
    {
     "data": {
      "text/plain": [
       "(tensor([[0.6428],\n",
       "         [0.1772],\n",
       "         [0.1800]]), tensor([0.6082, 0.2148, 0.1770]))"
      ]
     },
     "execution_count": 10,
     "metadata": {},
     "output_type": "execute_result"
    }
   ],
   "source": [
    "f0 = fs_layers[0][31].mean(axis=-1).unsqueeze(-1)\n",
    "likelihood = likelihood_layers[0][31]\n",
    "likelihood(f0).mix, mix0"
   ]
  },
  {
   "cell_type": "code",
   "execution_count": 11,
   "metadata": {},
   "outputs": [
    {
     "name": "stdout",
     "output_type": "stream",
     "text": [
      "CPU times: user 10.2 s, sys: 184 ms, total: 10.4 s\n",
      "Wall time: 5.55 s\n"
     ]
    }
   ],
   "source": [
    "samples = torch.tensor(Y[:,[0,33]]).float().to(device)\n",
    "f0 = fs_layers[0][32].mean(axis=-1).unsqueeze(-1)\n",
    "likelihood = likelihood_layers[0][32].to(device)\n",
    "%time copula = likelihood.fit(samples,f0)\n",
    "# %time copula, plot_loss = train(samples)"
   ]
  },
  {
   "cell_type": "code",
   "execution_count": 290,
   "metadata": {},
   "outputs": [
    {
     "data": {
      "text/plain": [
       "<matplotlib.collections.PathCollection at 0x7effd59d7128>"
      ]
     },
     "execution_count": 290,
     "metadata": {},
     "output_type": "execute_result"
    },
    {
     "data": {
      "image/png": "[encoded data removed]",
      "text/plain": [
       "<Figure size 216x216 with 1 Axes>"
      ]
     },
     "metadata": {
      "needs_background": "light"
     },
     "output_type": "display_data"
    }
   ],
   "source": [
    "plt.figure(figsize=(3,3))\n",
    "plt.scatter(*copula.sample(torch.Size([20000])).cpu().numpy().T,alpha=0.005)"
   ]
  },
  {
   "cell_type": "code",
   "execution_count": 9,
   "metadata": {},
   "outputs": [],
   "source": [
    "samples = vine.sample(torch.Size([100]))"
   ]
  },
  {
   "cell_type": "code",
   "execution_count": 111,
   "metadata": {},
   "outputs": [],
   "source": [
    "indep = bvcopula.MixtureCopula(torch.empty(1,0,device=device),\n",
    "                    torch.ones(1,N_points,device=device),\n",
    "                    [bvcopula.IndependenceCopula])\n",
    "truncated_layers = [[model for model in layer] for layer in copula_layers]\n",
    "Ncut = (NN-3)-1\n",
    "for i in range(1,Ncut+1):\n",
    "    for j in range(i):\n",
    "        truncated_layers[-i][j] = indep\n",
    "vine = CVine(truncated_layers,train_x,device=device)"
   ]
  },
  {
   "cell_type": "code",
   "execution_count": 112,
   "metadata": {},
   "outputs": [
    {
     "name": "stdout",
     "output_type": "stream",
     "text": [
      "tensor(1.1057, device='cuda:1')\n"
     ]
    }
   ],
   "source": [
    "entropy2 = vine.entropy(sem_tol=0.1, mc_size=4000, v=True)"
   ]
  },
  {
   "cell_type": "code",
   "execution_count": 116,
   "metadata": {},
   "outputs": [
    {
     "data": {
      "text/plain": [
       "tensor(0.5101, device='cuda:1')"
      ]
     },
     "execution_count": 116,
     "metadata": {},
     "output_type": "execute_result"
    }
   ],
   "source": [
    "entropy2.mean()/entropy.mean()"
   ]
  },
  {
   "cell_type": "code",
   "execution_count": 118,
   "metadata": {},
   "outputs": [
    {
     "data": {
      "image/png": "[encoded data removed]",
      "text/plain": [
       "<Figure size 432x288 with 1 Axes>"
      ]
     },
     "metadata": {
      "needs_background": "light"
     },
     "output_type": "display_data"
    }
   ],
   "source": [
    "x = np.linspace(0,160,N_points)\n",
    "plt.plot(x,-entropy.cpu().numpy(), label=\"All variables\")\n",
    "plt.plot(x,-entropy2.cpu().numpy(), label=\"up to 3rd order\")\n",
    "plt.plot(x,-entropy3.cpu().numpy(), label=\"1st order\")\n",
    "plt.ylim(0,23)\n",
    "plt.legend();"
   ]
  },
  {
   "cell_type": "code",
   "execution_count": 17,
   "metadata": {},
   "outputs": [
    {
     "data": {
      "text/plain": [
       "Text(0, 0.5, 'Entropy')"
      ]
     },
     "execution_count": 17,
     "metadata": {},
     "output_type": "execute_result"
    },
    {
     "data": {
      "image/png": "[encoded data removed]",
      "text/plain": [
       "<Figure size 432x288 with 1 Axes>"
      ]
     },
     "metadata": {
      "needs_background": "light"
     },
     "output_type": "display_data"
    }
   ],
   "source": [
    "np_repeats = np.array(repeats)\n",
    "H_layers = np_repeats.mean(axis=0)[::-1]\n",
    "plt.plot(H_layers)\n",
    "plt.plot(H_layers.cumsum()/2)\n",
    "plt.axvline(3,color='grey',linestyle='dashed')\n",
    "plt.axvline(13,color='grey',linestyle='dashed')\n",
    "plt.axvline(25,color='grey',linestyle='dashed')\n",
    "plt.text(3.2,5,'50%')\n",
    "plt.text(13.2,5,'75%')\n",
    "plt.text(25.2,5,'90%')\n",
    "plt.xlabel('Vine layers (orders of statistics)')\n",
    "plt.ylabel('Entropy')"
   ]
  },
  {
   "cell_type": "code",
   "execution_count": null,
   "metadata": {},
   "outputs": [],
   "source": [
    "H_layers[0].sum()/H_layers.sum()"
   ]
  },
  {
   "cell_type": "code",
   "execution_count": 65,
   "metadata": {},
   "outputs": [
    {
     "data": {
      "text/plain": [
       "<matplotlib.collections.PathCollection at 0x7f118e744f28>"
      ]
     },
     "execution_count": 65,
     "metadata": {},
     "output_type": "execute_result"
    },
    {
     "data": {
      "image/png": "[encoded data removed]",
      "text/plain": [
       "<Figure size 144x144 with 1 Axes>"
      ]
     },
     "metadata": {
      "needs_background": "light"
     },
     "output_type": "display_data"
    }
   ],
   "source": [
    "plt.figure(figsize=(2,2))\n",
    "layer0 = layers[-1]\n",
    "plt.scatter(layer0[0],layer0[3],alpha=0.01)"
   ]
  },
  {
   "cell_type": "code",
   "execution_count": null,
   "metadata": {},
   "outputs": [],
   "source": [
    "plt.figure(figsize=(2,2))\n",
    "plt.scatter(samples[...,0].cpu().numpy(),new_samples[...,-1].cpu().numpy(),alpha=0.01)"
   ]
  },
  {
   "cell_type": "code",
   "execution_count": 12,
   "metadata": {},
   "outputs": [
    {
     "name": "stdout",
     "output_type": "stream",
     "text": [
      "CPU times: user 2min 8s, sys: 529 ms, total: 2min 8s\n",
      "Wall time: 13.6 s\n"
     ]
    }
   ],
   "source": [
    "def generate_samples(samples,NN):\n",
    "    layers = []\n",
    "    for layer in torch.arange(NN-1,0):\n",
    "        # load models for a layer\n",
    "        with open(f\"{path_models}/models_layer{layer}.pkl\",\"rb\") as f:\n",
    "            results = pkl.load(f)\n",
    "        # assign memory for a new layer samples\n",
    "        new_layer_shape = torch.Size([N_points])+sample_size+torch.Size([NN-1-layer])\n",
    "        new_samples = torch.empty(size=new_layer_shape, device=device)\n",
    "        # transfrom samples\n",
    "        transform(X,layers[-1],new_samples,layer,results)\n",
    "        # store the result\n",
    "        layers.append(new_samples.clone())\n",
    "    return layers\n",
    "%time samples = generate_samples(samples,NN)"
   ]
  },
  {
   "cell_type": "code",
   "execution_count": 13,
   "metadata": {},
   "outputs": [
    {
     "data": {
      "text/plain": [
       "109"
      ]
     },
     "execution_count": 13,
     "metadata": {},
     "output_type": "execute_result"
    }
   ],
   "source": [
    "len(samples)"
   ]
  },
  {
   "cell_type": "code",
   "execution_count": null,
   "metadata": {},
   "outputs": [],
   "source": []
  }
 ],
 "metadata": {
  "kernelspec": {
   "display_name": "GPyTorch_new",
   "language": "python",
   "name": "gpytorch_new"
  },
  "language_info": {
   "codemirror_mode": {
    "name": "ipython",
    "version": 3
   },
   "file_extension": ".py",
   "mimetype": "text/x-python",
   "name": "python",
   "nbconvert_exporter": "python",
   "pygments_lexer": "ipython3",
   "version": "3.6.8"
  }
 },
 "nbformat": 4,
 "nbformat_minor": 2
}
