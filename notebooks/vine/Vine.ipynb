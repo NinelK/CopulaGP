{
 "cells": [
  {
   "cell_type": "code",
   "execution_count": 1,
   "metadata": {},
   "outputs": [],
   "source": [
    "import sys\n",
    "home = '/home/nina/CopulaGP/'\n",
    "sys.path.insert(0, home)\n",
    "\n",
    "from train import conf\n",
    "import glob\n",
    "import pickle as pkl\n",
    "import numpy as np\n",
    "import matplotlib.pyplot as plt\n",
    "import torch\n",
    "import utils\n",
    "\n",
    "import MI\n",
    "import tqdm\n",
    "import bvcopula\n",
    "import vine as v"
   ]
  },
  {
   "cell_type": "code",
   "execution_count": 2,
   "metadata": {},
   "outputs": [
    {
     "data": {
      "text/plain": [
       "'/home/nina/outputs/A0_D1_respSR_gV'"
      ]
     },
     "execution_count": 2,
     "metadata": {},
     "output_type": "execute_result"
    }
   ],
   "source": [
    "animal = 'A0' #ST260 -> A0 for short\n",
    "day_name = 'D1' # DayN -> DN\n",
    "# data_type = 'Ca' # Ca or spikes+kernel\n",
    "exp_pref = f'{animal}_{day_name}'\n",
    "exp_postfix = 'respSR_gV' # given smth\n",
    "path_models = f\"{conf.path2outputs}/{exp_pref}_{exp_postfix}\"\n",
    "path_models"
   ]
  },
  {
   "cell_type": "code",
   "execution_count": 3,
   "metadata": {},
   "outputs": [],
   "source": [
    "list_files = glob.glob(f\"{path_models}/models_*.pkl\")"
   ]
  },
  {
   "cell_type": "code",
   "execution_count": 4,
   "metadata": {},
   "outputs": [
    {
     "name": "stdout",
     "output_type": "stream",
     "text": [
      "[Errno 2] No such file or directory: '/home/nina/outputs/A0_D1_respSR_gV/models_layer40.pkl'\n",
      "Loading stops and only the WAICs for lower trees are returned\n"
     ]
    }
   ],
   "source": [
    "models_lists = lambda n: f\"{path_models}/models_layer{n}.pkl\"\n",
    "WAICs = v.WAICs(models_lists)"
   ]
  },
  {
   "cell_type": "code",
   "execution_count": 5,
   "metadata": {},
   "outputs": [
    {
     "data": {
      "text/plain": [
       "<matplotlib.image.AxesImage at 0x7f0e1b5a2e48>"
      ]
     },
     "execution_count": 5,
     "metadata": {},
     "output_type": "execute_result"
    },
    {
     "data": {
      "image/png": "[encoded data removed]",
      "text/plain": [
       "<Figure size 432x288 with 1 Axes>"
      ]
     },
     "metadata": {
      "needs_background": "light"
     },
     "output_type": "display_data"
    }
   ],
   "source": [
    "plt.imshow(-WAICs[:,:])"
   ]
  },
  {
   "cell_type": "code",
   "execution_count": 8,
   "metadata": {},
   "outputs": [],
   "source": [
    "dataset_name = f\"{conf.path2data}/ST260_Day1_respS_gV.pkl\"#{exp_postfix}.pkl\"\n",
    "with open(dataset_name,'rb') as f:\n",
    "    data = pkl.load(f)\n",
    "X = data['X']\n",
    "Y = data['Y']\n",
    "# X,Y = utils.standard_loader(dataset_name)\n",
    "N_points = 200\n",
    "train_x = torch.tensor(X, device='cuda:1').float()\n",
    "subset = torch.randperm(train_x.numel())[:N_points]\n",
    "train_x = train_x[subset]\n",
    "weight_files = lambda layer,n: f\"{path_models}/layer{layer}/model_{exp_pref}_{exp_postfix}_{layer}-{layer+n+1}.pth\"\n",
    "\n",
    "likelihoods, vine = v.load(models_lists, weight_files, train_x)"
   ]
  },
  {
   "cell_type": "code",
   "execution_count": null,
   "metadata": {},
   "outputs": [],
   "source": [
    "# [len(copula_layers[i]) for i in range(108)]\n",
    "copula_layers = vine.layers\n",
    "c, c1 = 0, 0\n",
    "for layer in copula_layers:\n",
    "    for copulas in layer:\n",
    "        c+= 1\n",
    "        if len(copulas.copulas)==1:\n",
    "            if copulas.copulas[0].__name__ == \"IndependenceCopula\":\n",
    "                c1 += 1\n",
    "print(c1,c,c1/c,c-c1)"
   ]
  },
  {
   "cell_type": "code",
   "execution_count": 28,
   "metadata": {},
   "outputs": [
    {
     "name": "stdout",
     "output_type": "stream",
     "text": [
      "tensor(0.1992, device='cuda:1') tensor(-0.7831, device='cuda:1')\n"
     ]
    },
    {
     "data": {
      "text/plain": [
       "tensor(0.1992, device='cuda:1')"
      ]
     },
     "execution_count": 28,
     "metadata": {},
     "output_type": "execute_result"
    }
   ],
   "source": [
    "# _, vine = v.load(models_lists, weight_files, train_x, gp_particles=torch.Size([50]))\n",
    "print(vine.layers[0][0].theta[0][0],vine.layers[0][0].theta[0].mean())\n",
    "#tensor(-0.0466, device='cuda:1') tensor(-0.5867, device='cuda:1')\n",
    "vine.layers[0][0].theta[0][0].clone()"
   ]
  },
  {
   "cell_type": "code",
   "execution_count": 29,
   "metadata": {},
   "outputs": [
    {
     "name": "stdout",
     "output_type": "stream",
     "text": [
      "tensor(0.1392, device='cuda:1') tensor(-0.5664, device='cuda:1')\n",
      "tensor(2.1167, device='cuda:1')\n",
      "tensor(1.4971, device='cuda:1')\n",
      "tensor(1.2161, device='cuda:1')\n",
      "tensor(1.0529, device='cuda:1')\n",
      "CPU times: user 9min 16s, sys: 384 ms, total: 9min 16s\n",
      "Wall time: 9min 16s\n",
      "tensor(-20.4899, device='cuda:1') tensor(-23.2148, device='cuda:1')\n",
      "tensor(0.0028, device='cuda:1') tensor(-0.7355, device='cuda:1')\n",
      "tensor(2.1124, device='cuda:1')\n",
      "tensor(1.4820, device='cuda:1')\n",
      "tensor(1.2103, device='cuda:1')\n",
      "tensor(1.0472, device='cuda:1')\n",
      "CPU times: user 8min 56s, sys: 264 ms, total: 8min 56s\n",
      "Wall time: 8min 56s\n",
      "tensor(-20.3211, device='cuda:1') tensor(-23.1702, device='cuda:1')\n",
      "tensor(-0.1663, device='cuda:1') tensor(-0.6839, device='cuda:1')\n",
      "tensor(2.1141, device='cuda:1')\n",
      "tensor(1.4843, device='cuda:1')\n",
      "tensor(1.2089, device='cuda:1')\n",
      "tensor(1.0479, device='cuda:1')\n",
      "CPU times: user 8min 45s, sys: 276 ms, total: 8min 45s\n",
      "Wall time: 8min 45s\n",
      "tensor(-20.0011, device='cuda:1') tensor(-23.1803, device='cuda:1')\n",
      "tensor(0.1408, device='cuda:1') tensor(-0.6055, device='cuda:1')\n",
      "tensor(2.1095, device='cuda:1')\n",
      "tensor(1.4948, device='cuda:1')\n",
      "tensor(1.2128, device='cuda:1')\n",
      "tensor(1.0501, device='cuda:1')\n",
      "CPU times: user 9min 2s, sys: 260 ms, total: 9min 2s\n",
      "Wall time: 9min 2s\n",
      "tensor(-20.3330, device='cuda:1') tensor(-23.1730, device='cuda:1')\n",
      "tensor(-0.2009, device='cuda:1') tensor(-0.7704, device='cuda:1')\n",
      "tensor(2.1209, device='cuda:1')\n",
      "tensor(1.4951, device='cuda:1')\n",
      "tensor(1.2197, device='cuda:1')\n",
      "tensor(1.0528, device='cuda:1')\n",
      "CPU times: user 9min, sys: 284 ms, total: 9min\n",
      "Wall time: 9min\n",
      "tensor(-20.1616, device='cuda:1') tensor(-23.1799, device='cuda:1')\n"
     ]
    }
   ],
   "source": [
    "# with open(f\"{home}/results/D1UxFU_vine.pkl\",\"wb\") as f:\n",
    "#     pkl.dump([copula_layers,vine],f)\n",
    "mc_size=1500\n",
    "sem_tol = 0.1\n",
    "entropies = torch.zeros_like(train_x).expand(torch.Size([5])+train_x.shape)\n",
    "for i in range(5):\n",
    "    _, vine = v.load(models_lists, weight_files, train_x, gp_particles=torch.Size([50]))\n",
    "    print(vine.layers[0][0].theta[0][0],vine.layers[0][0].theta[0].mean())\n",
    "    %time entropy = vine.entropy(sem_tol=sem_tol, mc_size=mc_size, v=True)\n",
    "    print(entropy[0],entropy.mean())\n",
    "    entropies[i] = entropy.clone()"
   ]
  },
  {
   "cell_type": "code",
   "execution_count": null,
   "metadata": {},
   "outputs": [],
   "source": [
    "vineC = v.CVine(copula_layers[1:],train_x,device=train_x.device)\n",
    "%time entropyC = vineC.entropy(sem_tol=sem_tol, mc_size=mc_size, v=True)"
   ]
  },
  {
   "cell_type": "code",
   "execution_count": 15,
   "metadata": {},
   "outputs": [
    {
     "data": {
      "text/plain": [
       "tensor([-20.2152, -20.2152, -20.2152, -20.2152, -20.2152], device='cuda:1')"
      ]
     },
     "execution_count": 15,
     "metadata": {},
     "output_type": "execute_result"
    }
   ],
   "source": [
    "entropy[:,0]"
   ]
  },
  {
   "cell_type": "code",
   "execution_count": 13,
   "metadata": {},
   "outputs": [
    {
     "data": {
      "image/png": "[encoded data removed]",
      "text/plain": [
       "<Figure size 432x288 with 1 Axes>"
      ]
     },
     "metadata": {
      "needs_background": "light"
     },
     "output_type": "display_data"
    }
   ],
   "source": [
    "# x = data['Xr'][subset.cpu().numpy()]\n",
    "# order = np.argsort(x)\n",
    "# x = x[order]\n",
    "# plt.plot(x,-entropy.cpu().numpy()[order])\n",
    "# plt.plot(x,-entropyC.cpu().numpy()[order])\n",
    "# plt.xlabel('time to entering reward zone, [sec]')\n",
    "# plt.ylabel(r'$-H(Y,V|X)$')\n",
    "# plt.axvline(0,color='k')\n",
    "x = train_x.cpu().numpy()\n",
    "order = np.argsort(x)\n",
    "x = x[order]\n",
    "for i in range(5):\n",
    "    y = -entropy[i].cpu().numpy()[order]\n",
    "    plt.plot(x,y)"
   ]
  },
  {
   "cell_type": "code",
   "execution_count": null,
   "metadata": {},
   "outputs": [],
   "source": [
    "x = train_x.cpu().numpy()\n",
    "order = np.argsort(x)\n",
    "x = x[order]\n",
    "y = -entropy.cpu().numpy()[order]\n",
    "plt.plot(x,y)"
   ]
  },
  {
   "cell_type": "code",
   "execution_count": null,
   "metadata": {},
   "outputs": [],
   "source": [
    "from utils import get_model\n",
    "model = get_model(weight_files(0,1), likelihoods[0][1], 'cuda:1')\n",
    "f = model.gp_model(train_x).rsample(torch.Size([10]))\n",
    "\n",
    "# f = f.reshape(shape[0],-1)\n",
    "f = torch.einsum('i...->...i', f)\n",
    "shape = f.shape\n",
    "print(f.shape)\n",
    "ind = torch.rand(f.shape,device=f.device).argsort(dim = -1)\n",
    "onehot = (ind==0)\n",
    "# onehot[:,1,1]\n",
    "res = f[onehot].reshape(shape[:-1])\n",
    "# print(res.shape)\n",
    "# # res = torch.zeros_like(f).scatter_(0, onehot, 1)\n",
    "# # res[:,0,1]\n",
    "\n",
    "# # res = res.reshape(shape)\n",
    "# # f = f.reshape(shape)\n",
    "res.shape"
   ]
  },
  {
   "cell_type": "code",
   "execution_count": null,
   "metadata": {},
   "outputs": [],
   "source": [
    "for i in range(10):\n",
    "    plt.plot(x,f[:,2,i].detach().cpu().numpy()[order])\n",
    "plt.plot(x,res[:,2].detach().cpu().numpy()[order])"
   ]
  },
  {
   "cell_type": "code",
   "execution_count": null,
   "metadata": {},
   "outputs": [],
   "source": [
    "mat = torch.tensor ([[11.0, 12, 13],[21, 22, 23],[31, 32, 33],[41, 42, 43]])\n",
    "ind = torch.rand (4, 3).argsort (dim = 0)\n",
    "res = torch.zeros (4, 3).scatter_ (0, ind, mat)\n",
    "print(mat)\n",
    "print(res)"
   ]
  },
  {
   "cell_type": "code",
   "execution_count": null,
   "metadata": {
    "scrolled": true
   },
   "outputs": [],
   "source": [
    "x = train_x.cpu().numpy()\n",
    "order = np.argsort(x)\n",
    "x = x[order]\n",
    "y = -entropy.cpu().numpy()[order]\n",
    "plt.plot(x,y)"
   ]
  },
  {
   "cell_type": "code",
   "execution_count": null,
   "metadata": {},
   "outputs": [],
   "source": [
    "entropy1 = entropy"
   ]
  },
  {
   "cell_type": "code",
   "execution_count": null,
   "metadata": {},
   "outputs": [],
   "source": []
  },
  {
   "cell_type": "code",
   "execution_count": null,
   "metadata": {},
   "outputs": [],
   "source": []
  }
 ],
 "metadata": {
  "kernelspec": {
   "display_name": "GPyTorch_new",
   "language": "python",
   "name": "gpytorch_new"
  },
  "language_info": {
   "codemirror_mode": {
    "name": "ipython",
    "version": 3
   },
   "file_extension": ".py",
   "mimetype": "text/x-python",
   "name": "python",
   "nbconvert_exporter": "python",
   "pygments_lexer": "ipython3",
   "version": "3.6.9"
  }
 },
 "nbformat": 4,
 "nbformat_minor": 2
}
