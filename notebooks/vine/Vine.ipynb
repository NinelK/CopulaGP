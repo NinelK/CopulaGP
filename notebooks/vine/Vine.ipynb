{
 "cells": [
  {
   "cell_type": "code",
   "execution_count": 1,
   "metadata": {},
   "outputs": [],
   "source": [
    "import sys\n",
    "home = '/home/nina/CopulaGP/'\n",
    "sys.path.insert(0, home)\n",
    "\n",
    "from train import conf\n",
    "import glob\n",
    "import pickle as pkl\n",
    "import numpy as np\n",
    "import matplotlib.pyplot as plt\n",
    "import torch\n",
    "import utils\n",
    "\n",
    "import MI\n",
    "import tqdm\n",
    "import bvcopula\n",
    "import vine"
   ]
  },
  {
   "cell_type": "code",
   "execution_count": 2,
   "metadata": {},
   "outputs": [
    {
     "data": {
      "text/plain": [
       "'/home/nina/outputs/A0_D1_gV'"
      ]
     },
     "execution_count": 2,
     "metadata": {},
     "output_type": "execute_result"
    }
   ],
   "source": [
    "animal = 'A0' #ST260 -> A0 for short\n",
    "day_name = 'D1' # DayN -> DN\n",
    "# data_type = 'Ca' # Ca or spikes+kernel\n",
    "exp_pref = f'{animal}_{day_name}'\n",
    "exp_postfix = 'gV' # given smth\n",
    "path_models = f\"{conf.path2outputs}/{exp_pref}_{exp_postfix}\"\n",
    "path_models"
   ]
  },
  {
   "cell_type": "code",
   "execution_count": 3,
   "metadata": {},
   "outputs": [],
   "source": [
    "list_files = glob.glob(f\"{path_models}/models_*.pkl\")"
   ]
  },
  {
   "cell_type": "code",
   "execution_count": 4,
   "metadata": {},
   "outputs": [
    {
     "name": "stdout",
     "output_type": "stream",
     "text": [
      "[Errno 2] No such file or directory: '/home/nina/outputs/A0_D1_gV/models_layer20.pkl'\n",
      "Loading stops and only the WAICs for lower trees are returned\n"
     ]
    }
   ],
   "source": [
    "models_lists = lambda n: f\"{path_models}/models_layer{n}.pkl\"\n",
    "WAICs = vine.WAICs(models_lists)"
   ]
  },
  {
   "cell_type": "code",
   "execution_count": 5,
   "metadata": {},
   "outputs": [
    {
     "data": {
      "text/plain": [
       "<matplotlib.image.AxesImage at 0x7ff8349d4c88>"
      ]
     },
     "execution_count": 5,
     "metadata": {},
     "output_type": "execute_result"
    },
    {
     "data": {
      "image/png": "[encoded data removed]",
      "text/plain": [
       "<Figure size 432x288 with 1 Axes>"
      ]
     },
     "metadata": {
      "needs_background": "light"
     },
     "output_type": "display_data"
    }
   ],
   "source": [
    "plt.imshow(-WAICs[:50,:50])"
   ]
  },
  {
   "cell_type": "code",
   "execution_count": 6,
   "metadata": {},
   "outputs": [],
   "source": [
    "dataset_name = f\"{conf.path2data}/ST260_Day1_standard.pkl\"\n",
    "X,Y = utils.standard_loader(dataset_name)\n",
    "N_points = 200\n",
    "train_x = torch.tensor(X, device='cuda:0').float()\n",
    "train_x = train_x[torch.randperm(train_x.numel())[:N_points]]\n",
    "weight_files = lambda layer,n: f\"{path_models}/layer{layer}/model_{exp_pref}_{exp_postfix}_{layer}-{layer+n+1}.pth\"\n",
    "\n",
    "likelihoods, vine = vine.load(models_lists, weight_files, train_x)"
   ]
  },
  {
   "cell_type": "code",
   "execution_count": 7,
   "metadata": {},
   "outputs": [
    {
     "name": "stdout",
     "output_type": "stream",
     "text": [
      "4922 5356 0.9189693801344286 434\n"
     ]
    }
   ],
   "source": [
    "# [len(copula_layers[i]) for i in range(108)]\n",
    "copula_layers = vine.layers\n",
    "c, c1 = 0, 0\n",
    "for layer in copula_layers:\n",
    "    for copulas in layer:\n",
    "        c+= 1\n",
    "        if len(copulas.copulas)==1:\n",
    "            if copulas.copulas[0].__name__ == \"IndependenceCopula\":\n",
    "                c1 += 1\n",
    "print(c1,c,c1/c,c-c1)"
   ]
  },
  {
   "cell_type": "code",
   "execution_count": 8,
   "metadata": {},
   "outputs": [
    {
     "name": "stdout",
     "output_type": "stream",
     "text": [
      "tensor(1.7577, device='cuda:0')\n",
      "tensor(1.2350, device='cuda:0')\n",
      "tensor(1.0039, device='cuda:0')\n",
      "CPU times: user 3min 19s, sys: 103 ms, total: 3min 19s\n",
      "Wall time: 3min 19s\n"
     ]
    }
   ],
   "source": [
    "# with open(f\"{home}/results/D1UxFU_vine.pkl\",\"wb\") as f:\n",
    "#     pkl.dump([copula_layers,vine],f)\n",
    "mc_size=2000\n",
    "sem_tol = 0.1\n",
    "%time entropy = vine.entropy(sem_tol=sem_tol, mc_size=mc_size, v=True)"
   ]
  },
  {
   "cell_type": "code",
   "execution_count": 9,
   "metadata": {},
   "outputs": [
    {
     "data": {
      "text/plain": [
       "[<matplotlib.lines.Line2D at 0x7ff8207c5a20>]"
      ]
     },
     "execution_count": 9,
     "metadata": {},
     "output_type": "execute_result"
    },
    {
     "data": {
      "image/png": "[encoded data removed]",
      "text/plain": [
       "<Figure size 432x288 with 1 Axes>"
      ]
     },
     "metadata": {
      "needs_background": "light"
     },
     "output_type": "display_data"
    }
   ],
   "source": [
    "x = train_x.cpu().numpy()\n",
    "order = np.argsort(x)\n",
    "x = x[order]\n",
    "y = -entropy.cpu().numpy()[order]\n",
    "plt.plot(x,y)"
   ]
  },
  {
   "cell_type": "code",
   "execution_count": null,
   "metadata": {},
   "outputs": [],
   "source": []
  },
  {
   "cell_type": "code",
   "execution_count": null,
   "metadata": {},
   "outputs": [],
   "source": []
  }
 ],
 "metadata": {
  "kernelspec": {
   "display_name": "GPyTorch_new",
   "language": "python",
   "name": "gpytorch_new"
  },
  "language_info": {
   "codemirror_mode": {
    "name": "ipython",
    "version": 3
   },
   "file_extension": ".py",
   "mimetype": "text/x-python",
   "name": "python",
   "nbconvert_exporter": "python",
   "pygments_lexer": "ipython3",
   "version": "3.6.9"
  }
 },
 "nbformat": 4,
 "nbformat_minor": 2
}
