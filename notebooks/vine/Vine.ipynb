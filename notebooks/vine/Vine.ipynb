{
 "cells": [
  {
   "cell_type": "code",
   "execution_count": 1,
   "metadata": {},
   "outputs": [],
   "source": [
    "import sys\n",
    "home = '/home/nina/CopulaGP/'\n",
    "sys.path.insert(0, home)\n",
    "\n",
    "from train import conf\n",
    "import glob\n",
    "import pickle as pkl\n",
    "import numpy as np\n",
    "import matplotlib.pyplot as plt\n",
    "import torch\n",
    "import utils\n",
    "\n",
    "import MI\n",
    "import tqdm\n",
    "import bvcopula\n",
    "from vine import CVine"
   ]
  },
  {
   "cell_type": "code",
   "execution_count": 2,
   "metadata": {},
   "outputs": [
    {
     "data": {
      "text/plain": [
       "'/home/nina/outputs/ST260_Day1C'"
      ]
     },
     "execution_count": 2,
     "metadata": {},
     "output_type": "execute_result"
    }
   ],
   "source": [
    "animal = 'ST260'\n",
    "day_name = 'Day1'\n",
    "exp_pref = f'{animal}_{day_name}'\n",
    "path_models = f\"{conf.path2outputs}/{exp_pref}C\"\n",
    "path_models"
   ]
  },
  {
   "cell_type": "code",
   "execution_count": 3,
   "metadata": {},
   "outputs": [],
   "source": [
    "list_files = glob.glob(f\"{path_models}/models_*.pkl\")"
   ]
  },
  {
   "cell_type": "code",
   "execution_count": 4,
   "metadata": {},
   "outputs": [],
   "source": [
    "with open(f\"{path_models}/models_layer0.pkl\",\"rb\") as f:\n",
    "    results = pkl.load(f)\n",
    "NN = len(results)+1\n",
    "WAICs = np.zeros((NN,NN))\n",
    "WAICs[0,1:] = [a[3] for a in results]\n",
    "for layer in range(1,len(results)):\n",
    "    with open(f\"{path_models}/models_layer{layer}.pkl\",\"rb\") as f:\n",
    "        res = pkl.load(f)\n",
    "    WAICs[layer,(layer+1):] = [a[3] for a in res]"
   ]
  },
  {
   "cell_type": "code",
   "execution_count": 5,
   "metadata": {},
   "outputs": [
    {
     "data": {
      "text/plain": [
       "<matplotlib.image.AxesImage at 0x7f9fc6177470>"
      ]
     },
     "execution_count": 5,
     "metadata": {},
     "output_type": "execute_result"
    },
    {
     "data": {
      "image/png": "[encoded data removed]",
      "text/plain": [
       "<Figure size 432x288 with 1 Axes>"
      ]
     },
     "metadata": {
      "needs_background": "light"
     },
     "output_type": "display_data"
    }
   ],
   "source": [
    "plt.imshow(WAICs[:])"
   ]
  },
  {
   "cell_type": "code",
   "execution_count": 6,
   "metadata": {},
   "outputs": [
    {
     "name": "stderr",
     "output_type": "stream",
     "text": [
      "100%|██████████| 108/108 [00:07<00:00, 14.96it/s]\n"
     ]
    }
   ],
   "source": [
    "device = \"cuda:0\"\n",
    "\n",
    "# create linspace\n",
    "N_points = 50\n",
    "# train_x = torch.linspace(0,1,N_points).to(device)\n",
    "\n",
    "#real\n",
    "X,Y = utils.standard_loader(f\"{conf.path2data}/{exp_pref}_standard.pkl\")\n",
    "# N_points=X.shape[0]\n",
    "N_points = 200\n",
    "train_x = torch.tensor(X, device=device).float()\n",
    "train_x = train_x[torch.randperm(train_x.numel())[:N_points]]\n",
    "\n",
    "copula_layers, likelihood_layers, fs_layers = [], [], []\n",
    "for layer in tqdm.tqdm(range(0,NN-1)):\n",
    "    copulas, liks, fs = [], [], []\n",
    "    with open(f\"{path_models}/models_layer{layer}.pkl\",\"rb\") as f:\n",
    "        results = pkl.load(f)\n",
    "    out_dir = f'{path_models}/layer{layer}'\n",
    "    for n,res in enumerate(results):\n",
    "        if res[1]!='Independence':\n",
    "            likelihoods = res[0]\n",
    "            weights_file = f\"{out_dir}/model_{exp_pref}_{layer}-{layer+n+1}.pth\"\n",
    "            model = utils.get_model(weights_file, likelihoods, device)\n",
    "            liks.append(model.likelihood)\n",
    "            with torch.no_grad():\n",
    "                f = model(train_x).mean\n",
    "                copula = model.likelihood.get_copula(f)\n",
    "                copulas.append(copula)\n",
    "                fs.append(f)\n",
    "        else:\n",
    "            copulas.append(bvcopula.MixtureCopula(torch.empty(1,0,device=device),\n",
    "                    torch.ones(1,N_points,device=device),\n",
    "                    [bvcopula.IndependenceCopula]))\n",
    "            fs.append(None)\n",
    "            liks.append([bvcopula.IndependenceCopula_Likelihood()])\n",
    "#     else:\n",
    "#         for n in range(NN-1-layer):\n",
    "#             copulas.append(bvcopula.MixtureCopula(torch.empty(1,0,device=device),\n",
    "#                         torch.ones(1,N_points,device=device),\n",
    "#                         [bvcopula.IndependenceCopula]))\n",
    "#             fs.append(None)\n",
    "#             liks.append([bvcopula.IndependenceCopula_Likelihood()])\n",
    "    copula_layers.append(copulas)\n",
    "    likelihood_layers.append(liks)\n",
    "    fs_layers.append(fs)"
   ]
  },
  {
   "cell_type": "code",
   "execution_count": 7,
   "metadata": {},
   "outputs": [
    {
     "name": "stdout",
     "output_type": "stream",
     "text": [
      "5253 5886 0.8924566768603466 633\n"
     ]
    }
   ],
   "source": [
    "# [len(copula_layers[i]) for i in range(108)]\n",
    "c, c1 = 0, 0\n",
    "for layer in copula_layers:\n",
    "    for copulas in layer:\n",
    "        c+= 1\n",
    "        if len(copulas.copulas)==1:\n",
    "            if copulas.copulas[0].__name__ == \"IndependenceCopula\":\n",
    "                c1 += 1\n",
    "print(c1,c,c1/c,c-c1)"
   ]
  },
  {
   "cell_type": "code",
   "execution_count": 8,
   "metadata": {},
   "outputs": [
    {
     "data": {
      "text/plain": [
       "35.58089374931439"
      ]
     },
     "execution_count": 8,
     "metadata": {},
     "output_type": "execute_result"
    }
   ],
   "source": [
    "np.sqrt(2*633)"
   ]
  },
  {
   "cell_type": "code",
   "execution_count": 8,
   "metadata": {},
   "outputs": [],
   "source": [
    "# import time\n",
    "# X,Y = utils.standard_loader(f\"{conf.path2data}/{exp_pref}_standard.pkl\")\n",
    "# indep = bvcopula.MixtureCopula(torch.empty(1,0,device=device),\n",
    "#                     torch.ones(1,1,device=device),\n",
    "#                     [bvcopula.IndependenceCopula])\n",
    "# N = Y.shape[-1]\n",
    "# # device = torch.device('cpu')\n",
    "# data_layers = [torch.tensor(Y).float().to(device)]\n",
    "# copula_layers = []\n",
    "# t0 = time.time()\n",
    "# for m in range(0,N-1):\n",
    "#     copulas, layer = [], []\n",
    "#     for n in tqdm.tqdm(range(1,N-m)):\n",
    "#         samples = data_layers[-1][...,[n,0]]\n",
    "#         likelihood = likelihood_layers[m][n-1]\n",
    "#         f0 = fs_layers[m][n-1]\n",
    "#         if f0 is None:\n",
    "#             assert likelihood[0].name=='Independence'\n",
    "#             copulas.append(indep)\n",
    "#             layer.append(samples[:,0])\n",
    "#         else:\n",
    "#             f0 = f0.mean(axis=-1).unsqueeze(-1)\n",
    "# #             copula0 = likelihood(f0)\n",
    "#             copula = likelihood.fit(samples,f0,n_epoch=500)\n",
    "# #             print(f\"{m},{n+m}: {(copula0.theta-copula.theta).mean().cpu()}\")\n",
    "#             copulas.append(copula)\n",
    "#             layer.append(copula.ccdf(samples.unsqueeze(-2)).squeeze())\n",
    "#     data_layers.append(torch.stack(layer,dim=-1))\n",
    "#     copula_layers.append(copulas)\n",
    "# t1= time.time()\n",
    "# print(f\"{(t1-t0)//60}\")"
   ]
  },
  {
   "cell_type": "code",
   "execution_count": 9,
   "metadata": {},
   "outputs": [],
   "source": [
    "# train_x = torch.ones(1,device=device)\n",
    "vine = CVine(copula_layers,train_x,device=device)"
   ]
  },
  {
   "cell_type": "code",
   "execution_count": 27,
   "metadata": {},
   "outputs": [],
   "source": [
    "# with open(f\"{home}/results/D1UxFU_vine.pkl\",\"wb\") as f:\n",
    "#     pkl.dump([copula_layers,vine],f)\n",
    "-16.30 -15.75"
   ]
  },
  {
   "cell_type": "code",
   "execution_count": 9,
   "metadata": {},
   "outputs": [
    {
     "name": "stderr",
     "output_type": "stream",
     "text": [
      "  0%|          | 0/18 [00:01<?, ?it/s]\n"
     ]
    },
    {
     "ename": "KeyboardInterrupt",
     "evalue": "",
     "output_type": "error",
     "traceback": [
      "\u001b[0;31m---------------------------------------------------------------------------\u001b[0m",
      "\u001b[0;31mKeyboardInterrupt\u001b[0m                         Traceback (most recent call last)",
      "\u001b[0;32m<ipython-input-9-0e6313614dc5>\u001b[0m in \u001b[0;36m<module>\u001b[0;34m\u001b[0m\n\u001b[1;32m      5\u001b[0m     \u001b[0mlayers\u001b[0m \u001b[0;34m=\u001b[0m \u001b[0;34m[\u001b[0m\u001b[0;34m[\u001b[0m\u001b[0mcopula_layers\u001b[0m\u001b[0;34m[\u001b[0m\u001b[0mi\u001b[0m\u001b[0;34m]\u001b[0m\u001b[0;34m[\u001b[0m\u001b[0mj\u001b[0m\u001b[0;34m]\u001b[0m \u001b[0;32mfor\u001b[0m \u001b[0mj\u001b[0m \u001b[0;32min\u001b[0m \u001b[0mrange\u001b[0m\u001b[0;34m(\u001b[0m\u001b[0mn\u001b[0m\u001b[0;34m-\u001b[0m\u001b[0;36m1\u001b[0m\u001b[0;34m-\u001b[0m\u001b[0mi\u001b[0m\u001b[0;34m)\u001b[0m\u001b[0;34m]\u001b[0m \u001b[0;32mfor\u001b[0m \u001b[0mi\u001b[0m \u001b[0;32min\u001b[0m \u001b[0mrange\u001b[0m\u001b[0;34m(\u001b[0m\u001b[0mn\u001b[0m\u001b[0;34m-\u001b[0m\u001b[0;36m1\u001b[0m\u001b[0;34m)\u001b[0m\u001b[0;34m]\u001b[0m\u001b[0;34m\u001b[0m\u001b[0;34m\u001b[0m\u001b[0m\n\u001b[1;32m      6\u001b[0m     \u001b[0mvineR\u001b[0m \u001b[0;34m=\u001b[0m \u001b[0mCVine\u001b[0m\u001b[0;34m(\u001b[0m\u001b[0mlayers\u001b[0m\u001b[0;34m,\u001b[0m\u001b[0mtrain_x\u001b[0m\u001b[0;34m,\u001b[0m\u001b[0mdevice\u001b[0m\u001b[0;34m=\u001b[0m\u001b[0mdevice\u001b[0m\u001b[0;34m)\u001b[0m\u001b[0;34m\u001b[0m\u001b[0;34m\u001b[0m\u001b[0m\n\u001b[0;32m----> 7\u001b[0;31m     \u001b[0mentropy\u001b[0m \u001b[0;34m=\u001b[0m \u001b[0mvineR\u001b[0m\u001b[0;34m.\u001b[0m\u001b[0mentropy\u001b[0m\u001b[0;34m(\u001b[0m\u001b[0msem_tol\u001b[0m\u001b[0;34m=\u001b[0m\u001b[0;36m0.1\u001b[0m\u001b[0;34m,\u001b[0m \u001b[0mmc_size\u001b[0m\u001b[0;34m=\u001b[0m\u001b[0;36m200\u001b[0m\u001b[0;34m,\u001b[0m \u001b[0mv\u001b[0m\u001b[0;34m=\u001b[0m\u001b[0;32mTrue\u001b[0m\u001b[0;34m)\u001b[0m\u001b[0;34m\u001b[0m\u001b[0;34m\u001b[0m\u001b[0m\n\u001b[0m\u001b[1;32m      8\u001b[0m     \u001b[0mh\u001b[0m\u001b[0;34m.\u001b[0m\u001b[0mappend\u001b[0m\u001b[0;34m(\u001b[0m\u001b[0mentropy\u001b[0m\u001b[0;34m.\u001b[0m\u001b[0mcpu\u001b[0m\u001b[0;34m(\u001b[0m\u001b[0;34m)\u001b[0m\u001b[0;34m.\u001b[0m\u001b[0mnumpy\u001b[0m\u001b[0;34m(\u001b[0m\u001b[0;34m)\u001b[0m\u001b[0;34m)\u001b[0m\u001b[0;34m\u001b[0m\u001b[0;34m\u001b[0m\u001b[0m\n\u001b[1;32m      9\u001b[0m     \u001b[0mprint\u001b[0m\u001b[0;34m(\u001b[0m\u001b[0mh\u001b[0m\u001b[0;34m[\u001b[0m\u001b[0;34m-\u001b[0m\u001b[0;36m1\u001b[0m\u001b[0;34m]\u001b[0m\u001b[0;34m.\u001b[0m\u001b[0mmean\u001b[0m\u001b[0;34m(\u001b[0m\u001b[0;34m)\u001b[0m\u001b[0;34m)\u001b[0m\u001b[0;34m\u001b[0m\u001b[0;34m\u001b[0m\u001b[0m\n",
      "\u001b[0;32m~/CopulaGP/vine/vine.py\u001b[0m in \u001b[0;36mentropy\u001b[0;34m(self, alpha, sem_tol, mc_size, v)\u001b[0m\n\u001b[1;32m    163\u001b[0m             \u001b[0;32mwhile\u001b[0m \u001b[0mtorch\u001b[0m\u001b[0;34m.\u001b[0m\u001b[0many\u001b[0m\u001b[0;34m(\u001b[0m\u001b[0msem\u001b[0m \u001b[0;34m>=\u001b[0m \u001b[0msem_tol\u001b[0m\u001b[0;34m)\u001b[0m\u001b[0;34m:\u001b[0m\u001b[0;34m\u001b[0m\u001b[0;34m\u001b[0m\u001b[0m\n\u001b[1;32m    164\u001b[0m                 \u001b[0;31m# Generate samples\u001b[0m\u001b[0;34m\u001b[0m\u001b[0;34m\u001b[0m\u001b[0;34m\u001b[0m\u001b[0m\n\u001b[0;32m--> 165\u001b[0;31m                 \u001b[0msamples\u001b[0m \u001b[0;34m=\u001b[0m \u001b[0mself\u001b[0m\u001b[0;34m.\u001b[0m\u001b[0msample\u001b[0m\u001b[0;34m(\u001b[0m\u001b[0mtorch\u001b[0m\u001b[0;34m.\u001b[0m\u001b[0mSize\u001b[0m\u001b[0;34m(\u001b[0m\u001b[0;34m[\u001b[0m\u001b[0mmc_size\u001b[0m\u001b[0;34m]\u001b[0m\u001b[0;34m)\u001b[0m\u001b[0;34m)\u001b[0m \u001b[0;31m# inputs (MC) x samples (MC) x variables\u001b[0m\u001b[0;34m\u001b[0m\u001b[0;34m\u001b[0m\u001b[0m\n\u001b[0m\u001b[1;32m    166\u001b[0m                 \u001b[0msamples\u001b[0m \u001b[0;34m=\u001b[0m \u001b[0mtorch\u001b[0m\u001b[0;34m.\u001b[0m\u001b[0meinsum\u001b[0m\u001b[0;34m(\u001b[0m\u001b[0;34m\"ij...->ji...\"\u001b[0m\u001b[0;34m,\u001b[0m\u001b[0msamples\u001b[0m\u001b[0;34m)\u001b[0m \u001b[0;31m# samples (MC) x inputs (MC) x variables\u001b[0m\u001b[0;34m\u001b[0m\u001b[0;34m\u001b[0m\u001b[0m\n\u001b[1;32m    167\u001b[0m                 \u001b[0mlogp\u001b[0m \u001b[0;34m=\u001b[0m \u001b[0mself\u001b[0m\u001b[0;34m.\u001b[0m\u001b[0mlog_prob\u001b[0m\u001b[0;34m(\u001b[0m\u001b[0msamples\u001b[0m\u001b[0;34m)\u001b[0m \u001b[0;31m# [sample dim, batch dims]\u001b[0m\u001b[0;34m\u001b[0m\u001b[0;34m\u001b[0m\u001b[0m\n",
      "\u001b[0;32m~/CopulaGP/vine/vine.py\u001b[0m in \u001b[0;36msample\u001b[0;34m(self, sample_size)\u001b[0m\n\u001b[1;32m    108\u001b[0m         \u001b[0;32mfor\u001b[0m \u001b[0mcopulas\u001b[0m \u001b[0;32min\u001b[0m \u001b[0mself\u001b[0m\u001b[0;34m.\u001b[0m\u001b[0mlayers\u001b[0m\u001b[0;34m[\u001b[0m\u001b[0;34m:\u001b[0m\u001b[0;34m:\u001b[0m\u001b[0;34m-\u001b[0m\u001b[0;36m1\u001b[0m\u001b[0;34m]\u001b[0m\u001b[0;34m:\u001b[0m\u001b[0;34m\u001b[0m\u001b[0;34m\u001b[0m\u001b[0m\n\u001b[1;32m    109\u001b[0m             \u001b[0mupper\u001b[0m \u001b[0;34m=\u001b[0m \u001b[0mtransformed_samples\u001b[0m\u001b[0;34m[\u001b[0m\u001b[0;34m-\u001b[0m\u001b[0;36m1\u001b[0m\u001b[0;34m]\u001b[0m\u001b[0;34m\u001b[0m\u001b[0;34m\u001b[0m\u001b[0m\n\u001b[0;32m--> 110\u001b[0;31m             \u001b[0mnew_layer\u001b[0m \u001b[0;34m=\u001b[0m \u001b[0mself\u001b[0m\u001b[0;34m.\u001b[0m\u001b[0m_layer_transform\u001b[0m\u001b[0;34m(\u001b[0m\u001b[0mupper\u001b[0m\u001b[0;34m,\u001b[0m\u001b[0msamples\u001b[0m\u001b[0;34m[\u001b[0m\u001b[0;34m...\u001b[0m\u001b[0;34m,\u001b[0m\u001b[0mself\u001b[0m\u001b[0;34m.\u001b[0m\u001b[0mN\u001b[0m\u001b[0;34m-\u001b[0m\u001b[0mupper\u001b[0m\u001b[0;34m.\u001b[0m\u001b[0mshape\u001b[0m\u001b[0;34m[\u001b[0m\u001b[0;34m-\u001b[0m\u001b[0;36m1\u001b[0m\u001b[0;34m]\u001b[0m\u001b[0;34m-\u001b[0m\u001b[0;36m1\u001b[0m\u001b[0;34m]\u001b[0m\u001b[0;34m,\u001b[0m\u001b[0mcopulas\u001b[0m\u001b[0;34m)\u001b[0m\u001b[0;34m\u001b[0m\u001b[0;34m\u001b[0m\u001b[0m\n\u001b[0m\u001b[1;32m    111\u001b[0m             \u001b[0mtransformed_samples\u001b[0m\u001b[0;34m.\u001b[0m\u001b[0mappend\u001b[0m\u001b[0;34m(\u001b[0m\u001b[0mnew_layer\u001b[0m\u001b[0;34m)\u001b[0m\u001b[0;34m\u001b[0m\u001b[0;34m\u001b[0m\u001b[0m\n\u001b[1;32m    112\u001b[0m \u001b[0;34m\u001b[0m\u001b[0m\n",
      "\u001b[0;32m~/CopulaGP/vine/vine.py\u001b[0m in \u001b[0;36m_layer_transform\u001b[0;34m(upper, new, copulas)\u001b[0m\n\u001b[1;32m     97\u001b[0m         \u001b[0;32mfor\u001b[0m \u001b[0mn\u001b[0m\u001b[0;34m,\u001b[0m \u001b[0mcopula\u001b[0m \u001b[0;32min\u001b[0m \u001b[0menumerate\u001b[0m\u001b[0;34m(\u001b[0m\u001b[0mcopulas\u001b[0m\u001b[0;34m)\u001b[0m\u001b[0;34m:\u001b[0m\u001b[0;34m\u001b[0m\u001b[0;34m\u001b[0m\u001b[0m\n\u001b[1;32m     98\u001b[0m             \u001b[0mstack\u001b[0m \u001b[0;34m=\u001b[0m \u001b[0mtorch\u001b[0m\u001b[0;34m.\u001b[0m\u001b[0mstack\u001b[0m\u001b[0;34m(\u001b[0m\u001b[0;34m[\u001b[0m\u001b[0mupper\u001b[0m\u001b[0;34m[\u001b[0m\u001b[0;34m...\u001b[0m\u001b[0;34m,\u001b[0m\u001b[0mn\u001b[0m\u001b[0;34m]\u001b[0m\u001b[0;34m,\u001b[0m\u001b[0mnew\u001b[0m\u001b[0;34m]\u001b[0m\u001b[0;34m,\u001b[0m\u001b[0mdim\u001b[0m\u001b[0;34m=\u001b[0m\u001b[0;34m-\u001b[0m\u001b[0;36m1\u001b[0m\u001b[0;34m)\u001b[0m\u001b[0;34m\u001b[0m\u001b[0;34m\u001b[0m\u001b[0m\n\u001b[0;32m---> 99\u001b[0;31m             \u001b[0mlower_layer\u001b[0m\u001b[0;34m.\u001b[0m\u001b[0mappend\u001b[0m\u001b[0;34m(\u001b[0m\u001b[0mcopula\u001b[0m\u001b[0;34m.\u001b[0m\u001b[0mmake_dependent\u001b[0m\u001b[0;34m(\u001b[0m\u001b[0mstack\u001b[0m\u001b[0;34m)\u001b[0m\u001b[0;34m)\u001b[0m\u001b[0;34m\u001b[0m\u001b[0;34m\u001b[0m\u001b[0m\n\u001b[0m\u001b[1;32m    100\u001b[0m         \u001b[0;32mreturn\u001b[0m \u001b[0mtorch\u001b[0m\u001b[0;34m.\u001b[0m\u001b[0meinsum\u001b[0m\u001b[0;34m(\u001b[0m\u001b[0;34m'i...->...i'\u001b[0m\u001b[0;34m,\u001b[0m\u001b[0mtorch\u001b[0m\u001b[0;34m.\u001b[0m\u001b[0mstack\u001b[0m\u001b[0;34m(\u001b[0m\u001b[0mlower_layer\u001b[0m\u001b[0;34m)\u001b[0m\u001b[0;34m)\u001b[0m\u001b[0;34m\u001b[0m\u001b[0;34m\u001b[0m\u001b[0m\n\u001b[1;32m    101\u001b[0m \u001b[0;34m\u001b[0m\u001b[0m\n",
      "\u001b[0;32m~/CopulaGP/bvcopula/distributions.py\u001b[0m in \u001b[0;36mmake_dependent\u001b[0;34m(self, samples)\u001b[0m\n\u001b[1;32m    718\u001b[0m \u001b[0;34m\u001b[0m\u001b[0m\n\u001b[1;32m    719\u001b[0m         onehot = torch.distributions.one_hot_categorical.OneHotCategorical(\n\u001b[0;32m--> 720\u001b[0;31m             probs=torch.einsum('i...->...i', mix_)).sample()\n\u001b[0m\u001b[1;32m    721\u001b[0m         \u001b[0monehot\u001b[0m \u001b[0;34m=\u001b[0m \u001b[0mtorch\u001b[0m\u001b[0;34m.\u001b[0m\u001b[0meinsum\u001b[0m\u001b[0;34m(\u001b[0m\u001b[0;34m'...i->i...'\u001b[0m\u001b[0;34m,\u001b[0m \u001b[0monehot\u001b[0m\u001b[0;34m)\u001b[0m \u001b[0;31m# back to copulas x inputs x samples_size\u001b[0m\u001b[0;34m\u001b[0m\u001b[0;34m\u001b[0m\u001b[0m\n\u001b[1;32m    722\u001b[0m         \u001b[0monehot\u001b[0m \u001b[0;34m=\u001b[0m \u001b[0monehot\u001b[0m\u001b[0;34m.\u001b[0m\u001b[0mtype\u001b[0m\u001b[0;34m(\u001b[0m\u001b[0mtorch\u001b[0m\u001b[0;34m.\u001b[0m\u001b[0mbool\u001b[0m\u001b[0;34m)\u001b[0m\u001b[0;34m\u001b[0m\u001b[0;34m\u001b[0m\u001b[0m\n",
      "\u001b[0;32m~/.envs/GPyTorch_new/lib/python3.6/site-packages/torch/distributions/one_hot_categorical.py\u001b[0m in \u001b[0;36msample\u001b[0;34m(self, sample_shape)\u001b[0m\n\u001b[1;32m     79\u001b[0m         \u001b[0mnum_events\u001b[0m \u001b[0;34m=\u001b[0m \u001b[0mself\u001b[0m\u001b[0;34m.\u001b[0m\u001b[0m_categorical\u001b[0m\u001b[0;34m.\u001b[0m\u001b[0m_num_events\u001b[0m\u001b[0;34m\u001b[0m\u001b[0;34m\u001b[0m\u001b[0m\n\u001b[1;32m     80\u001b[0m         \u001b[0mindices\u001b[0m \u001b[0;34m=\u001b[0m \u001b[0mself\u001b[0m\u001b[0;34m.\u001b[0m\u001b[0m_categorical\u001b[0m\u001b[0;34m.\u001b[0m\u001b[0msample\u001b[0m\u001b[0;34m(\u001b[0m\u001b[0msample_shape\u001b[0m\u001b[0;34m)\u001b[0m\u001b[0;34m\u001b[0m\u001b[0;34m\u001b[0m\u001b[0m\n\u001b[0;32m---> 81\u001b[0;31m         \u001b[0;32mreturn\u001b[0m \u001b[0mtorch\u001b[0m\u001b[0;34m.\u001b[0m\u001b[0mnn\u001b[0m\u001b[0;34m.\u001b[0m\u001b[0mfunctional\u001b[0m\u001b[0;34m.\u001b[0m\u001b[0mone_hot\u001b[0m\u001b[0;34m(\u001b[0m\u001b[0mindices\u001b[0m\u001b[0;34m,\u001b[0m \u001b[0mnum_events\u001b[0m\u001b[0;34m)\u001b[0m\u001b[0;34m.\u001b[0m\u001b[0mto\u001b[0m\u001b[0;34m(\u001b[0m\u001b[0mprobs\u001b[0m\u001b[0;34m)\u001b[0m\u001b[0;34m\u001b[0m\u001b[0;34m\u001b[0m\u001b[0m\n\u001b[0m\u001b[1;32m     82\u001b[0m \u001b[0;34m\u001b[0m\u001b[0m\n\u001b[1;32m     83\u001b[0m     \u001b[0;32mdef\u001b[0m \u001b[0mlog_prob\u001b[0m\u001b[0;34m(\u001b[0m\u001b[0mself\u001b[0m\u001b[0;34m,\u001b[0m \u001b[0mvalue\u001b[0m\u001b[0;34m)\u001b[0m\u001b[0;34m:\u001b[0m\u001b[0;34m\u001b[0m\u001b[0;34m\u001b[0m\u001b[0m\n",
      "\u001b[0;31mKeyboardInterrupt\u001b[0m: "
     ]
    }
   ],
   "source": [
    "h = []\n",
    "Ns = 109-np.array([0,10,20,30,40,50,60,70,80,90,100,101,102,103,104,105,106,107,108])\n",
    "# h.append(H[0])\n",
    "for n in tqdm.tqdm(Ns[:-1]):\n",
    "    layers = [[copula_layers[i][j] for j in range(n-1-i)] for i in range(n-1)]\n",
    "    vineR = CVine(layers,train_x,device=device)\n",
    "    entropy = vineR.entropy(sem_tol=0.1, mc_size=200, v=True)\n",
    "    h.append(entropy.cpu().numpy())\n",
    "    print(h[-1].mean())\n",
    "h.append(np.zeros_like(h[-1]))\n",
    "# with open(f\"{home}/results/HYgX_subpop_D1UU.pkl\",\"wb\") as f:\n",
    "#     pkl.dump([Ns,train_x.cpu().numpy(),h],f)"
   ]
  },
  {
   "cell_type": "code",
   "execution_count": null,
   "metadata": {},
   "outputs": [],
   "source": [
    "h = []\n",
    "Ns = 109-np.array([0,10,20,30,40,50,60,70,80,90,100,101,102,103,104,105,106,107,108])\n",
    "for n in tqdm.tqdm(Ns[:-1]):\n",
    "    layers = [[copula_layers[i][j] for j in range(n-1-i)] for i in range(n-1)]\n",
    "    vineR = CVine(layers,train_x,device=device)\n",
    "    MI = vineR.stimMI(sR_mc_size=3000, s_mc_size=25, r_mc_size=5, sem_tol=0.05, v=True)\n",
    "    h.append([MI[0].item(),MI[1].item(),MI[2].item(),MI[3].item()])\n",
    "    print(h[-1])\n",
    "h.append([0,0,0,0])\n",
    "# with open(f\"{home}/results/MI_subpop_D3C.pkl\",\"wb\") as f:\n",
    "#     pkl.dump([Ns,train_x.cpu().numpy(),h],f)"
   ]
  },
  {
   "cell_type": "code",
   "execution_count": null,
   "metadata": {
    "scrolled": false
   },
   "outputs": [],
   "source": [
    "I = []\n",
    "Ns = np.array([0,10,20,30,40,50,60,70,75,80,85,90,100,101,102,103,104,105,106,107,108])\n",
    "for n in tqdm.tqdm(Ns):\n",
    "    MI = vine.truncate(n).stimMI(sR_mc_size=1000, s_mc_size=25, r_mc_size=5, sem_tol=0.05, v=True)\n",
    "    I.append([MI[0].item(),MI[1].item(),MI[2].item(),MI[3].item()])\n",
    "    print(I[-1])\n",
    "# with open(f\"{home}/results/MI_trunc_D3C.pkl\",\"wb\") as f:\n",
    "#     pkl.dump([Ns,train_x.cpu().numpy(),I],f)"
   ]
  },
  {
   "cell_type": "code",
   "execution_count": null,
   "metadata": {},
   "outputs": [],
   "source": [
    "# %time Hrs = vine.entropy(sem_tol=.05, mc_size=4000, v=True)\n",
    "# with open(f\"{home}/results/HYgX_C.pkl\",\"wb\") as f:\n",
    "#     pkl.dump(np.stack([train_x.cpu().numpy(),Hrs.cpu().numpy()]),f)\n",
    "# plt.plot(Hrs.cpu().numpy())"
   ]
  },
  {
   "cell_type": "code",
   "execution_count": 10,
   "metadata": {},
   "outputs": [
    {
     "name": "stderr",
     "output_type": "stream",
     "text": [
      "  5%|▌         | 1/19 [04:11<1:15:34, 251.93s/it]"
     ]
    },
    {
     "name": "stdout",
     "output_type": "stream",
     "text": [
      "-18.471046\n"
     ]
    },
    {
     "name": "stderr",
     "output_type": "stream",
     "text": [
      "\r",
      " 11%|█         | 2/19 [08:23<1:11:20, 251.80s/it]"
     ]
    },
    {
     "name": "stdout",
     "output_type": "stream",
     "text": [
      "-18.460009\n"
     ]
    },
    {
     "name": "stderr",
     "output_type": "stream",
     "text": [
      "\r",
      " 16%|█▌        | 3/19 [12:34<1:07:06, 251.68s/it]"
     ]
    },
    {
     "name": "stdout",
     "output_type": "stream",
     "text": [
      "-18.452982\n"
     ]
    },
    {
     "name": "stderr",
     "output_type": "stream",
     "text": [
      "\r",
      " 21%|██        | 4/19 [16:45<1:02:49, 251.28s/it]"
     ]
    },
    {
     "name": "stdout",
     "output_type": "stream",
     "text": [
      "-18.395538\n"
     ]
    },
    {
     "name": "stderr",
     "output_type": "stream",
     "text": [
      "\r",
      " 26%|██▋       | 5/19 [20:53<58:25, 250.38s/it]  "
     ]
    },
    {
     "name": "stdout",
     "output_type": "stream",
     "text": [
      "-18.279366\n"
     ]
    },
    {
     "name": "stderr",
     "output_type": "stream",
     "text": [
      "\r",
      " 32%|███▏      | 6/19 [24:59<53:56, 248.99s/it]"
     ]
    },
    {
     "name": "stdout",
     "output_type": "stream",
     "text": [
      "-18.176325\n"
     ]
    },
    {
     "name": "stderr",
     "output_type": "stream",
     "text": [
      "\r",
      " 37%|███▋      | 7/19 [29:04<49:34, 247.85s/it]"
     ]
    },
    {
     "name": "stdout",
     "output_type": "stream",
     "text": [
      "-18.038925\n"
     ]
    },
    {
     "name": "stderr",
     "output_type": "stream",
     "text": [
      "\r",
      " 42%|████▏     | 8/19 [33:16<45:40, 249.12s/it]"
     ]
    },
    {
     "name": "stdout",
     "output_type": "stream",
     "text": [
      "-17.545832\n"
     ]
    },
    {
     "name": "stderr",
     "output_type": "stream",
     "text": [
      "\r",
      " 47%|████▋     | 9/19 [37:16<41:05, 246.50s/it]"
     ]
    },
    {
     "name": "stdout",
     "output_type": "stream",
     "text": [
      "-16.848072\n"
     ]
    },
    {
     "name": "stderr",
     "output_type": "stream",
     "text": [
      "\r",
      " 53%|█████▎    | 10/19 [40:36<34:50, 232.29s/it]"
     ]
    },
    {
     "name": "stdout",
     "output_type": "stream",
     "text": [
      "-14.613106\n"
     ]
    },
    {
     "name": "stderr",
     "output_type": "stream",
     "text": [
      "\r",
      " 58%|█████▊    | 11/19 [43:33<28:47, 215.97s/it]"
     ]
    },
    {
     "name": "stdout",
     "output_type": "stream",
     "text": [
      "-12.362521\n"
     ]
    },
    {
     "name": "stderr",
     "output_type": "stream",
     "text": [
      "\r",
      " 63%|██████▎   | 12/19 [46:27<23:42, 203.24s/it]"
     ]
    },
    {
     "name": "stdout",
     "output_type": "stream",
     "text": [
      "-12.036599\n"
     ]
    },
    {
     "name": "stderr",
     "output_type": "stream",
     "text": [
      "\r",
      " 68%|██████▊   | 13/19 [49:06<18:59, 189.94s/it]"
     ]
    },
    {
     "name": "stdout",
     "output_type": "stream",
     "text": [
      "-11.2977\n"
     ]
    },
    {
     "name": "stderr",
     "output_type": "stream",
     "text": [
      "\r",
      " 74%|███████▎  | 14/19 [51:43<15:00, 180.17s/it]"
     ]
    },
    {
     "name": "stdout",
     "output_type": "stream",
     "text": [
      "-11.063545\n"
     ]
    },
    {
     "name": "stderr",
     "output_type": "stream",
     "text": [
      "\r",
      " 79%|███████▉  | 15/19 [54:08<11:18, 169.69s/it]"
     ]
    },
    {
     "name": "stdout",
     "output_type": "stream",
     "text": [
      "-10.488927\n"
     ]
    },
    {
     "name": "stderr",
     "output_type": "stream",
     "text": [
      "\r",
      " 84%|████████▍ | 16/19 [56:33<08:06, 162.24s/it]"
     ]
    },
    {
     "name": "stdout",
     "output_type": "stream",
     "text": [
      "-9.67564\n"
     ]
    },
    {
     "name": "stderr",
     "output_type": "stream",
     "text": [
      "\r",
      " 89%|████████▉ | 17/19 [58:50<05:09, 154.65s/it]"
     ]
    },
    {
     "name": "stdout",
     "output_type": "stream",
     "text": [
      "-9.484858\n"
     ]
    },
    {
     "name": "stderr",
     "output_type": "stream",
     "text": [
      "\r",
      " 95%|█████████▍| 18/19 [1:01:05<02:28, 148.74s/it]"
     ]
    },
    {
     "name": "stdout",
     "output_type": "stream",
     "text": [
      "-8.976164\n"
     ]
    },
    {
     "name": "stderr",
     "output_type": "stream",
     "text": [
      "100%|██████████| 19/19 [1:01:09<00:00, 193.14s/it]"
     ]
    },
    {
     "name": "stdout",
     "output_type": "stream",
     "text": [
      "0.0\n"
     ]
    },
    {
     "name": "stderr",
     "output_type": "stream",
     "text": [
      "\n"
     ]
    }
   ],
   "source": [
    "H = []\n",
    "Ns = np.array([0,10,20,30,40,50,60,70,80,90,100,101,102,103,104,105,106,107,108])\n",
    "for n in tqdm.tqdm(Ns):\n",
    "    entropy = vine.truncate(n).entropy(sem_tol=0.1, mc_size=2000, v=False)\n",
    "    H.append(entropy.cpu().numpy())\n",
    "    print(H[-1].mean())\n",
    "with open(f\"{home}/results/HYgX_trunc_D1C.pkl\",\"wb\") as f:\n",
    "    pkl.dump([Ns,train_x.cpu().numpy(),H],f)"
   ]
  },
  {
   "cell_type": "code",
   "execution_count": null,
   "metadata": {},
   "outputs": [],
   "source": [
    "plt.plot(109-Ns[1:-1],[hh[0] for hh in h])"
   ]
  },
  {
   "cell_type": "code",
   "execution_count": 8,
   "metadata": {},
   "outputs": [
    {
     "name": "stderr",
     "output_type": "stream",
     "text": [
      "  5%|▌         | 1/19 [00:40<12:05, 40.30s/it]"
     ]
    },
    {
     "name": "stdout",
     "output_type": "stream",
     "text": [
      "[0.8957348327316541]\n"
     ]
    },
    {
     "name": "stderr",
     "output_type": "stream",
     "text": [
      "100%|██████████| 19/19 [11:28<00:00, 36.25s/it]\n"
     ]
    }
   ],
   "source": [
    "# now find MIs with MINE\n",
    "X,Y = utils.standard_loader(f\"{conf.path2data}/{exp_pref}_standard.pkl\")\n",
    "Ns = 109-np.array([0,10,20,30,40,50,60,70,80,90,100,101,102,103,104,105,106,107,108])\n",
    "I = []\n",
    "for n in tqdm.tqdm(Ns):\n",
    "    I.append(MI.train_MINE(Y[...,:n],x=torch.tensor(X).float(),H=100,lr=0.01,device=device).item()/np.log(2))\n",
    "    if n==Ns[0]:\n",
    "        print(I)\n",
    "with open(f\"{home}/results/MI_subpop_MINE_D3C.pkl\",\"wb\") as f:\n",
    "    pkl.dump([Ns,I],f)"
   ]
  },
  {
   "cell_type": "code",
   "execution_count": 34,
   "metadata": {},
   "outputs": [
    {
     "name": "stderr",
     "output_type": "stream",
     "text": [
      "\n",
      "  0%|          | 0/19 [00:00<?, ?it/s]\u001b[A\n",
      "  5%|▌         | 1/19 [05:43<1:43:04, 343.58s/it]\u001b[A"
     ]
    },
    {
     "name": "stdout",
     "output_type": "stream",
     "text": [
      "[(0.047278782656974314, 50.504160114699836)]\n"
     ]
    },
    {
     "name": "stderr",
     "output_type": "stream",
     "text": [
      "\n",
      " 11%|█         | 2/19 [10:36<1:33:04, 328.52s/it]\u001b[A\n",
      " 16%|█▌        | 3/19 [14:42<1:20:57, 303.57s/it]\u001b[A\n",
      " 21%|██        | 4/19 [18:09<1:08:40, 274.70s/it]\u001b[A\n",
      " 26%|██▋       | 5/19 [21:00<56:49, 243.56s/it]  \u001b[A\n",
      " 32%|███▏      | 6/19 [23:15<45:44, 211.09s/it]\u001b[A\n",
      " 37%|███▋      | 7/19 [24:57<35:39, 178.31s/it]\u001b[A\n",
      " 42%|████▏     | 8/19 [26:12<27:00, 147.29s/it]\u001b[A\n",
      " 47%|████▋     | 9/19 [27:00<19:35, 117.60s/it]\u001b[A\n",
      " 53%|█████▎    | 10/19 [27:29<13:37, 90.88s/it]\u001b[A\n",
      " 58%|█████▊    | 11/19 [27:40<08:55, 66.98s/it]\u001b[A\n",
      " 63%|██████▎   | 12/19 [27:50<05:49, 49.88s/it]\u001b[A\n",
      " 68%|██████▊   | 13/19 [27:59<03:45, 37.55s/it]\u001b[A\n",
      " 74%|███████▎  | 14/19 [28:07<02:23, 28.62s/it]\u001b[A\n",
      " 79%|███████▉  | 15/19 [28:13<01:28, 22.00s/it]\u001b[A\n",
      " 84%|████████▍ | 16/19 [28:19<00:51, 17.06s/it]\u001b[A\n",
      " 89%|████████▉ | 17/19 [28:23<00:26, 13.26s/it]\u001b[A\n",
      " 95%|█████████▍| 18/19 [28:27<00:10, 10.30s/it]\u001b[A\n",
      "100%|██████████| 19/19 [28:29<00:00, 89.99s/it]\u001b[A\n"
     ]
    }
   ],
   "source": [
    "# now find MIs with KSG\n",
    "X,Y = utils.standard_loader(f\"{conf.path2data}/{exp_pref}_unconditional.pkl\")\n",
    "Ns = 109-np.array([0,10,20,30,40,50,60,70,80,90,100,101,102,103,104,105,106,107,108])\n",
    "I = []\n",
    "for n in tqdm.tqdm(Ns):\n",
    "    I.append(MI.BI_KSG(X.reshape((*X.shape,1)),Y[...,:n]))\n",
    "    if n==Ns[0]:\n",
    "        print(I)\n",
    "with open(f\"{home}/results/MI_subpop_KSG_U.pkl\",\"wb\") as f:\n",
    "    pkl.dump([Ns,I],f)"
   ]
  },
  {
   "cell_type": "code",
   "execution_count": null,
   "metadata": {},
   "outputs": [],
   "source": [
    " \n",
    "    \n",
    "    \n",
    "    \n",
    "    \n",
    "    \n",
    "    \n",
    "    \n",
    "    \n",
    "    \n",
    "    \n",
    "    \n",
    "    "
   ]
  },
  {
   "cell_type": "code",
   "execution_count": null,
   "metadata": {},
   "outputs": [],
   "source": [
    "# vine_trained = CVine(copula_layers,torch.ones(1),device=device)\n",
    "# with open(f\"{home}/results/vine_unconditional.pkl\",\"wb\") as f:\n",
    "#     pkl.dump(vine_trained,f)\n",
    "with open(f\"{home}/results/vine_unconditional.pkl\",\"rb\") as f:\n",
    "    vine_trained = pkl.load(f)\n",
    "# %time Hr = vine_trained.entropy(sem_tol=.1, mc_size=4000, v=True)"
   ]
  },
  {
   "cell_type": "code",
   "execution_count": null,
   "metadata": {},
   "outputs": [],
   "source": [
    "# Hrs = []\n",
    "# Hr = []\n",
    "# uncond_layers = vine_trained.layers\n",
    "# for n in tqdm.tqdm(range(NN-1)):\n",
    "#     vine = CVine(copula_layers[n:],train_x,device=device)\n",
    "#     entropy = vine.entropy(sem_tol=0.1, mc_size=4000, v=False)\n",
    "#     Hrs.append(-entropy.mean().item())\n",
    "#     vine = CVine(uncond_layers[n:],torch.ones(1),device='cpu')\n",
    "#     entropy = vine.entropy(sem_tol=0.1, mc_size=4000, v=False)\n",
    "#     Hr.append(-entropy.mean().item())\n",
    "#     print(Hrs[-1]-Hr[-1])\n",
    "\n",
    "# Calculate MI(Y_i,X) with KSG\n",
    "# X,Y = utils.standard_loader(f\"{conf.path2data}/{exp_pref}_unconditional.pkl\")\n",
    "# singleH = np.empty((Y.shape[-1],2))\n",
    "# for i in range(Y.shape[-1]):\n",
    "#     singleH[i,:] = MI.BI_KSG(X.reshape((*X.shape,1)),Y[...,i].reshape((*X.shape,1)))\n",
    "#     print(singleH[i,:])\n",
    "# with open(f\"{home}/results/singleH.pkl\",\"wb\") as f: #single variable BI_KSG:(MI,H(Y|X)) from uncond. data\n",
    "#     pkl.dump(singleH,f)\n",
    "\n",
    "# Calculate MI(Y_i,X) with MINE\n",
    "# singleH = np.empty((Y.shape[-1]))\n",
    "# for i in range(Y.shape[-1]):\n",
    "#     singleH[i] = MI.train_MINE(Y[...,i].reshape((*X.shape,1)),x=torch.tensor(X).float(),\n",
    "#                                H=100,lr=0.01,device=device).item()/np.log(2)\n",
    "#     print(singleH[i])\n",
    "# with open(f\"{home}/results/singleMI.pkl\",\"wb\") as f: #single variable MINE MI from unconditional data\n",
    "#     pkl.dump(singleH,f)"
   ]
  },
  {
   "cell_type": "code",
   "execution_count": null,
   "metadata": {},
   "outputs": [],
   "source": [
    "# mem = (Hrs, Hr)\n",
    "# with open(f\"{home}/results/Hrs_and_Hr_experimental.pkl\",\"wb\") as f:\n",
    "#     pkl.dump((Hrs,Hr),f)\n"
   ]
  },
  {
   "cell_type": "code",
   "execution_count": null,
   "metadata": {},
   "outputs": [],
   "source": [
    "with open(f\"{home}/results/singleH.pkl\",\"rb\") as f: #single variable BI_KSG:(MI,H(Y|X)) from standard data\n",
    "    singleH = pkl.load(f)\n",
    "with open(f\"{home}/results/Hrs_and_Hr_top.pkl\",\"rb\") as f: # top layers of C-Vine\n",
    "    (Hrs,Hr) = pkl.load(f)\n",
    "np.array(Hrs)[0]"
   ]
  },
  {
   "cell_type": "code",
   "execution_count": null,
   "metadata": {},
   "outputs": [],
   "source": [
    "singleH[:,0].shape"
   ]
  },
  {
   "cell_type": "code",
   "execution_count": null,
   "metadata": {},
   "outputs": [],
   "source": [
    "n=3\n",
    "layers = [[copula_layers[i][j] for j in range(n-i)] for i in range(n)]\n",
    "layers"
   ]
  },
  {
   "cell_type": "code",
   "execution_count": null,
   "metadata": {},
   "outputs": [],
   "source": [
    "HRS = []\n",
    "for n in tqdm.tqdm(range(20)):\n",
    "    layers = [[copula_layers[i][j] for j in range(n-i)] for i in range(n)]\n",
    "    vine = CVine(layers,train_x,device=device)\n",
    "    entropy = vine.entropy(sem_tol=0.1, mc_size=4000, v=False)\n",
    "    HRS.append(-entropy.mean().item())"
   ]
  },
  {
   "cell_type": "code",
   "execution_count": null,
   "metadata": {},
   "outputs": [],
   "source": [
    "\n",
    "# %time KSG = MI.Mixed_KSG(X,Y)\n",
    "# KSG"
   ]
  },
  {
   "cell_type": "code",
   "execution_count": null,
   "metadata": {},
   "outputs": [],
   "source": []
  },
  {
   "cell_type": "code",
   "execution_count": null,
   "metadata": {},
   "outputs": [],
   "source": [
    "np.sum(singleH[:,0])-29.4+18.04\n",
    "# np.sum(allH)#np.sum(singleH)\n",
    "# HRS"
   ]
  },
  {
   "cell_type": "code",
   "execution_count": null,
   "metadata": {},
   "outputs": [],
   "source": [
    "allH = []\n",
    "for n in range(1,20):\n",
    "    allH.append(MI.BI_KSG(X.reshape((*X.shape,1)),Y[...,:n])[1])"
   ]
  },
  {
   "cell_type": "code",
   "execution_count": null,
   "metadata": {},
   "outputs": [],
   "source": [
    "plt.plot([-a for a in allH])\n",
    "plt.plot(HRS)"
   ]
  },
  {
   "cell_type": "code",
   "execution_count": null,
   "metadata": {},
   "outputs": [],
   "source": [
    "Hrs = np.array(Hrs)\n",
    "Hr = np.array(Hr)\n",
    "# plt.plot(Hr/Hr[0])\n",
    "plt.plot(Hrs, label=\"H(Y|X)\")\n",
    "plt.plot(Hr, label=\"MI(X,Y)\")\n",
    "# plt.axhline(0.01,c='black',linestyle='dashed')\n",
    "plt.axvline(3.5,c='grey',linestyle='dashed')\n",
    "plt.axvline(17,c='grey',linestyle='dashed')\n",
    "plt.axvline(29,c='grey',linestyle='dashed')\n",
    "plt.axvline(71,c='grey',linestyle='dashed')\n",
    "plt.text(3.8,1.0,'3.5')\n",
    "plt.text(17.5,1.0,'17')\n",
    "plt.text(29.5,1.0,'29')\n",
    "plt.text(71.5,1.0,'71');\n",
    "plt.text(3.8,0.5,'50%')\n",
    "plt.text(17.5,0.25,'75%')\n",
    "plt.text(29.5,0.11,'90%')\n",
    "plt.text(71.5,0.02,'99%');\n",
    "plt.xlabel('Correlation orders')\n",
    "plt.legend()"
   ]
  },
  {
   "cell_type": "code",
   "execution_count": null,
   "metadata": {},
   "outputs": [],
   "source": [
    "Hrs = []\n",
    "Hr = []\n",
    "uncond_layers = vine_trained.layers\n",
    "vineC = CVine(copula_layers,train_x,device=device)\n",
    "vineU = CVine(uncond_layers,torch.ones(1),device='cpu')\n",
    "for n in tqdm.tqdm([0,10,20,30,40,50,60,70,80,90,100,101,102,103,104,105,106,107,108]):\n",
    "    entropy = vineC.truncate(n).entropy(sem_tol=0.1, mc_size=4000, v=False)\n",
    "    Hrs.append(entropy.mean().item())\n",
    "    entropy = vineU.truncate(n).entropy(sem_tol=0.1, mc_size=4000, v=False)\n",
    "    Hr.append(entropy.mean().item())\n",
    "    print(Hrs[-1]-Hr[-1])"
   ]
  },
  {
   "cell_type": "code",
   "execution_count": null,
   "metadata": {},
   "outputs": [],
   "source": [
    "Hrs = np.array(Hrs)\n",
    "Hr = np.array(Hr)\n",
    "plt.figure(figsize=(4,1.5))\n",
    "ns = 109-np.array([0,10,20,30,40,50,60,70,80,90,100,101,102,103,104,105,106,107,108])\n",
    "plt.plot(ns,100*Hr/Hr[0], label='| H(Y|X) |')\n",
    "# plt.plot(ns,Hrs/Hrs[0])\n",
    "plt.plot(ns,100*(Hrs-Hr)/(Hrs[0]-Hr[0]),label='I(X,Y)')\n",
    "plt.xlabel('Order of correlation')\n",
    "plt.ylabel('%')\n",
    "plt.legend()\n",
    "# plt.axhline(0.01,c='black',linestyle='dashed')"
   ]
  },
  {
   "cell_type": "code",
   "execution_count": null,
   "metadata": {},
   "outputs": [],
   "source": [
    "conditional_model = copula_layers[0][31]\n",
    "theta0 = conditional_model.theta.mean(axis=-1)\n",
    "mix0 = conditional_model.mix.mean(axis=-1)\n",
    "copula = bvcopula.MixtureCopula(theta0,mix0,conditional_model.copulas,rotations=conditional_model.rotations)\n",
    "copula.entropy()"
   ]
  },
  {
   "cell_type": "code",
   "execution_count": null,
   "metadata": {},
   "outputs": [],
   "source": [
    "X,Y = utils.standard_loader(f\"{conf.path2data}/{exp_pref}_unconditional.pkl\")\n",
    "samples = torch.tensor(Y[:,[0,32]]).float().to(theta0.device)"
   ]
  },
  {
   "cell_type": "code",
   "execution_count": null,
   "metadata": {},
   "outputs": [],
   "source": [
    "plt.figure(figsize=(3,3))\n",
    "plt.scatter(*Y[:,[0,2]].T,alpha=0.005)"
   ]
  },
  {
   "cell_type": "code",
   "execution_count": null,
   "metadata": {},
   "outputs": [],
   "source": [
    "f0 = fs_layers[0][31].mean(axis=-1).unsqueeze(-1)\n",
    "likelihood = likelihood_layers[0][31]\n",
    "likelihood(f0).mix, mix0"
   ]
  },
  {
   "cell_type": "code",
   "execution_count": null,
   "metadata": {},
   "outputs": [],
   "source": [
    "samples = torch.tensor(Y[:,[0,33]]).float().to(device)\n",
    "f0 = fs_layers[0][32].mean(axis=-1).unsqueeze(-1)\n",
    "likelihood = likelihood_layers[0][32].to(device)\n",
    "%time copula = likelihood.fit(samples,f0)\n",
    "# %time copula, plot_loss = train(samples)"
   ]
  },
  {
   "cell_type": "code",
   "execution_count": null,
   "metadata": {},
   "outputs": [],
   "source": [
    "plt.figure(figsize=(3,3))\n",
    "plt.scatter(*copula.sample(torch.Size([20000])).cpu().numpy().T,alpha=0.005)"
   ]
  },
  {
   "cell_type": "code",
   "execution_count": null,
   "metadata": {},
   "outputs": [],
   "source": [
    "samples = vine.sample(torch.Size([100]))"
   ]
  },
  {
   "cell_type": "code",
   "execution_count": null,
   "metadata": {},
   "outputs": [],
   "source": [
    "indep = bvcopula.MixtureCopula(torch.empty(1,0,device=device),\n",
    "                    torch.ones(1,N_points,device=device),\n",
    "                    [bvcopula.IndependenceCopula])\n",
    "truncated_layers = [[model for model in layer] for layer in copula_layers]\n",
    "Ncut = (NN-3)-1\n",
    "for i in range(1,Ncut+1):\n",
    "    for j in range(i):\n",
    "        truncated_layers[-i][j] = indep\n",
    "vine = CVine(truncated_layers,train_x,device=device)"
   ]
  },
  {
   "cell_type": "code",
   "execution_count": null,
   "metadata": {},
   "outputs": [],
   "source": [
    "entropy2 = vine.entropy(sem_tol=0.1, mc_size=4000, v=True)"
   ]
  },
  {
   "cell_type": "code",
   "execution_count": null,
   "metadata": {},
   "outputs": [],
   "source": [
    "entropy2.mean()/entropy.mean()"
   ]
  },
  {
   "cell_type": "code",
   "execution_count": null,
   "metadata": {},
   "outputs": [],
   "source": [
    "x = np.linspace(0,160,N_points)\n",
    "plt.plot(x,-entropy.cpu().numpy(), label=\"All variables\")\n",
    "plt.plot(x,-entropy2.cpu().numpy(), label=\"up to 3rd order\")\n",
    "plt.plot(x,-entropy3.cpu().numpy(), label=\"1st order\")\n",
    "plt.ylim(0,23)\n",
    "plt.legend();"
   ]
  },
  {
   "cell_type": "code",
   "execution_count": null,
   "metadata": {},
   "outputs": [],
   "source": [
    "np_repeats = np.array(repeats)\n",
    "H_layers = np_repeats.mean(axis=0)[::-1]\n",
    "plt.plot(H_layers)\n",
    "plt.plot(H_layers.cumsum()/2)\n",
    "plt.axvline(3,color='grey',linestyle='dashed')\n",
    "plt.axvline(13,color='grey',linestyle='dashed')\n",
    "plt.axvline(25,color='grey',linestyle='dashed')\n",
    "plt.text(3.2,5,'50%')\n",
    "plt.text(13.2,5,'75%')\n",
    "plt.text(25.2,5,'90%')\n",
    "plt.xlabel('Vine layers (orders of statistics)')\n",
    "plt.ylabel('Entropy')"
   ]
  },
  {
   "cell_type": "code",
   "execution_count": null,
   "metadata": {},
   "outputs": [],
   "source": [
    "H_layers[0].sum()/H_layers.sum()"
   ]
  },
  {
   "cell_type": "code",
   "execution_count": null,
   "metadata": {},
   "outputs": [],
   "source": [
    "plt.figure(figsize=(2,2))\n",
    "layer0 = layers[-1]\n",
    "plt.scatter(layer0[0],layer0[3],alpha=0.01)"
   ]
  },
  {
   "cell_type": "code",
   "execution_count": null,
   "metadata": {},
   "outputs": [],
   "source": [
    "plt.figure(figsize=(2,2))\n",
    "plt.scatter(samples[...,0].cpu().numpy(),new_samples[...,-1].cpu().numpy(),alpha=0.01)"
   ]
  },
  {
   "cell_type": "code",
   "execution_count": null,
   "metadata": {},
   "outputs": [],
   "source": [
    "def generate_samples(samples,NN):\n",
    "    layers = []\n",
    "    for layer in torch.arange(NN-1,0):\n",
    "        # load models for a layer\n",
    "        with open(f\"{path_models}/models_layer{layer}.pkl\",\"rb\") as f:\n",
    "            results = pkl.load(f)\n",
    "        # assign memory for a new layer samples\n",
    "        new_layer_shape = torch.Size([N_points])+sample_size+torch.Size([NN-1-layer])\n",
    "        new_samples = torch.empty(size=new_layer_shape, device=device)\n",
    "        # transfrom samples\n",
    "        transform(X,layers[-1],new_samples,layer,results)\n",
    "        # store the result\n",
    "        layers.append(new_samples.clone())\n",
    "    return layers\n",
    "%time samples = generate_samples(samples,NN)"
   ]
  },
  {
   "cell_type": "code",
   "execution_count": null,
   "metadata": {},
   "outputs": [],
   "source": [
    "len(samples)"
   ]
  },
  {
   "cell_type": "code",
   "execution_count": null,
   "metadata": {},
   "outputs": [],
   "source": []
  }
 ],
 "metadata": {
  "kernelspec": {
   "display_name": "GPyTorch_new",
   "language": "python",
   "name": "gpytorch_new"
  },
  "language_info": {
   "codemirror_mode": {
    "name": "ipython",
    "version": 3
   },
   "file_extension": ".py",
   "mimetype": "text/x-python",
   "name": "python",
   "nbconvert_exporter": "python",
   "pygments_lexer": "ipython3",
   "version": "3.6.8"
  }
 },
 "nbformat": 4,
 "nbformat_minor": 2
}
