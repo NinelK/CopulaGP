{
 "cells": [
  {
   "cell_type": "code",
   "execution_count": 1,
   "metadata": {},
   "outputs": [],
   "source": [
    "import numpy as np\n",
    "import pickle as pkl\n",
    "import matplotlib.pyplot as plt\n",
    "import torch\n",
    "\n",
    "import bvcopula\n",
    "import utils\n",
    "\n",
    "%matplotlib inline\n",
    "%load_ext autoreload\n",
    "%autoreload 2"
   ]
  },
  {
   "cell_type": "code",
   "execution_count": 2,
   "metadata": {},
   "outputs": [],
   "source": [
    "path_models = '/home/nina/models'\n",
    "path_exp = '/home/nina/VRData/Processing/pkls'\n",
    "beh = 5"
   ]
  },
  {
   "cell_type": "code",
   "execution_count": 5,
   "metadata": {},
   "outputs": [],
   "source": [
    "animal = 'ST260'\n",
    "N_max = 104\n",
    "dayN = 2\n",
    "day_name = f\"Day{dayN}\"\n",
    "exp_pref = f\"{animal}_{day_name}\"\n",
    "device = torch.device('cuda:0')"
   ]
  },
  {
   "cell_type": "code",
   "execution_count": 6,
   "metadata": {},
   "outputs": [],
   "source": [
    "X,_ = utils.load_experimental_data(path_exp, animal, day_name, 0, 1)\n",
    "S = torch.tensor(X).float().squeeze().to(device)"
   ]
  },
  {
   "cell_type": "code",
   "execution_count": 7,
   "metadata": {
    "scrolled": true
   },
   "outputs": [],
   "source": [
    "# points = torch.linspace(0,1,20)\n",
    "# likelihoods = utils.get_likelihoods(f\"{path_models}/{exp_pref}/summary.pkl\",n1,n2)\n",
    "# weights_file = f\"{path_models}/{exp_pref}/model_{n1}-{n2}.pth\"\n",
    "# %time model = utils.get_model(weights_file, likelihoods, torch.device('cpu')) \n",
    "# %time (ym, y, dy) = model.MI(points)\n",
    "# plt.plot(np.linspace(0,160,len(y)),y)\n",
    "# plt.fill_between(np.linspace(0,160,len(y)),y-dy,y+dy, alpha=0.3)\n",
    "# plt.plot(np.linspace(0,160,len(ym)),ym)\n",
    "# plt.ylim(-.5,0)"
   ]
  },
  {
   "cell_type": "code",
   "execution_count": null,
   "metadata": {},
   "outputs": [],
   "source": [
    "import time\n",
    "\n",
    "f_mc_size = 5\n",
    "\n",
    "def get_MI(n1,n2):\n",
    "    likelihoods = utils.get_likelihoods(f\"{path_models}/{exp_pref}/summary.pkl\",n1,n2)\n",
    "    if (len(likelihoods)==1) & (likelihoods[0].name=='Independence'):\n",
    "        return (0,0)\n",
    "    else:\n",
    "        weights_file = f\"{path_models}/{exp_pref}/model_{n1}-{n2}.pth\"\n",
    "\n",
    "        model = utils.get_model(weights_file, likelihoods, device) \n",
    "        with torch.no_grad():\n",
    "            Fs = model(S).rsample(torch.Size([f_mc_size])) \n",
    "            #[samples_f, copulas, stimuli(positions)]\n",
    "            MI,sem=model.likelihood.stimMI(S,Fs,s_mc_size=200,r_mc_size=20,sR_mc_size=3000,sem_tol=5*1e-3)\n",
    "            #print(f\"{MI.mean().item():.3}±{MI.std().item():.3} -- {(sem.max()/(MI.max()-MI.min())).item():.3}\")\n",
    "\n",
    "        return (MI.mean(),MI.std())\n",
    "\n",
    "MI = np.zeros((N_max+beh,N_max+beh,2))\n",
    "\n",
    "start_time = time.time()\n",
    "for n1 in range(-5,N_max-1):\n",
    "    t1 = time.time()\n",
    "    k=0\n",
    "    for n2 in range(n1+1,N_max):\n",
    "        MI[n1+beh,n2+beh,:] = get_MI(n1,n2)\n",
    "        if MI[n1+beh,n2+beh,0]!=0:\n",
    "            k+=1\n",
    "    if k!=0:\n",
    "        print(n1,' ',(time.time()-t1)/k,' s')\n",
    "    \n",
    "total_time = (time.time() - start_time)/60\n",
    "print(f\"Took {total_time:.1f} min overall\")"
   ]
  },
  {
   "cell_type": "code",
   "execution_count": null,
   "metadata": {},
   "outputs": [],
   "source": [
    "with open(f\"{path_models}/MI_measures/{exp_pref}_copulaMI.pkl\",'wb') as f:\n",
    "    pkl.dump(MI,f)"
   ]
  },
  {
   "cell_type": "code",
   "execution_count": null,
   "metadata": {},
   "outputs": [],
   "source": []
  }
 ],
 "metadata": {
  "kernelspec": {
   "display_name": "GPyTorch_new",
   "language": "python",
   "name": "gpytorch_new"
  },
  "language_info": {
   "codemirror_mode": {
    "name": "ipython",
    "version": 3
   },
   "file_extension": ".py",
   "mimetype": "text/x-python",
   "name": "python",
   "nbconvert_exporter": "python",
   "pygments_lexer": "ipython3",
   "version": "3.6.8"
  }
 },
 "nbformat": 4,
 "nbformat_minor": 2
}
