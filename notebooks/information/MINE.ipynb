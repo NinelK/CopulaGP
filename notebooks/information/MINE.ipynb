{
 "cells": [
  {
   "cell_type": "code",
   "execution_count": 1,
   "metadata": {},
   "outputs": [],
   "source": [
    "import torch\n",
    "from torch.autograd import Variable\n",
    "import torch.nn as nn\n",
    "import torch.nn.functional as F\n",
    "from tqdm import tqdm\n",
    "# import holoviews as hv\n",
    "# import bokeh\n",
    "# hv.extension('bokeh')\n",
    "import pickle as pkl\n",
    "from scipy.stats import norm\n",
    "import numpy as np\n",
    "\n",
    "import sys\n",
    "home = '/home/nina/CopulaGP/'\n",
    "sys.path.insert(0, home)"
   ]
  },
  {
   "cell_type": "code",
   "execution_count": 2,
   "metadata": {},
   "outputs": [],
   "source": [
    "NSamp=10000\n",
    "device = torch.device('cuda:0')\n",
    "x = torch.linspace(0.,1.,NSamp).numpy()\n",
    "train_x = torch.tensor(x).float().to(device=device)"
   ]
  },
  {
   "cell_type": "code",
   "execution_count": 11,
   "metadata": {},
   "outputs": [
    {
     "data": {
      "text/plain": [
       "(10000, 1)"
      ]
     },
     "execution_count": 11,
     "metadata": {},
     "output_type": "execute_result"
    }
   ],
   "source": [
    "with open(f\"{home}vine.pkl\",\"rb\") as f:\n",
    "    [covariances,y0,_] = pkl.load(f)\n",
    "y = norm.cdf(y0)\n",
    "assert x.shape[0]==y.shape[0]\n",
    "x.reshape(NSamp,1).shape"
   ]
  },
  {
   "cell_type": "code",
   "execution_count": 29,
   "metadata": {},
   "outputs": [],
   "source": [
    "H=1000\n",
    "n_epoch = 3000\n",
    "data_size = NSamp\n",
    "\n",
    "class Net(nn.Module):\n",
    "    def __init__(self):\n",
    "        super(Net, self).__init__()\n",
    "        self.fc1 = nn.Linear(1, H)\n",
    "        self.fc2 = nn.Linear(y.shape[-1], H)\n",
    "        self.fc3 = nn.Linear(H, 1)\n",
    "\n",
    "    def forward(self, x, y):\n",
    "        h1 = F.relu(self.fc1(x)+self.fc2(y))\n",
    "        h2 = self.fc3(h1)\n",
    "        return h2    \n",
    "\n",
    "model = Net().to(device)\n",
    "optimizer = torch.optim.Adam(model.parameters(), lr=0.005)\n",
    "plot_loss = []\n",
    "for epoch in range(n_epoch):\n",
    "    x_sample=x.reshape(NSamp,1)\n",
    "    y_sample=y\n",
    "    y_shuffle=np.random.permutation(y_sample)\n",
    "    \n",
    "    x_sample = Variable(torch.from_numpy(x_sample).type(torch.FloatTensor).to(device), requires_grad = True)\n",
    "    y_sample = Variable(torch.from_numpy(y_sample).type(torch.FloatTensor).to(device), requires_grad = True)\n",
    "    y_shuffle = Variable(torch.from_numpy(y_shuffle).type(torch.FloatTensor).to(device), requires_grad = True)    \n",
    "    \n",
    "    pred_xy = model(x_sample, y_sample)\n",
    "    pred_x_y = model(x_sample, y_shuffle)\n",
    "\n",
    "    ret = torch.mean(pred_xy) - torch.log(torch.mean(torch.exp(pred_x_y)))\n",
    "    loss = - ret  # maximize\n",
    "    plot_loss.append(-loss.data.cpu().numpy())\n",
    "    model.zero_grad()\n",
    "    loss.backward()\n",
    "    optimizer.step()"
   ]
  },
  {
   "cell_type": "code",
   "execution_count": 30,
   "metadata": {},
   "outputs": [
    {
     "data": {
      "text/plain": [
       "[<matplotlib.lines.Line2D at 0x7f342b433a58>]"
      ]
     },
     "execution_count": 30,
     "metadata": {},
     "output_type": "execute_result"
    },
    {
     "data": {
      "image/png": "[encoded data removed]",
      "text/plain": [
       "<Figure size 432x288 with 1 Axes>"
      ]
     },
     "metadata": {
      "needs_background": "light"
     },
     "output_type": "display_data"
    }
   ],
   "source": [
    "import matplotlib.pyplot as plt\n",
    "plt.plot(plot_loss)"
   ]
  },
  {
   "cell_type": "code",
   "execution_count": 31,
   "metadata": {},
   "outputs": [
    {
     "data": {
      "text/plain": [
       "1.0391445"
      ]
     },
     "execution_count": 31,
     "metadata": {},
     "output_type": "execute_result"
    }
   ],
   "source": [
    "np.mean(plot_loss[-10:]/np.log(2))"
   ]
  },
  {
   "cell_type": "code",
   "execution_count": null,
   "metadata": {},
   "outputs": [],
   "source": []
  },
  {
   "cell_type": "code",
   "execution_count": null,
   "metadata": {},
   "outputs": [],
   "source": []
  }
 ],
 "metadata": {
  "kernelspec": {
   "display_name": "GPyTorch_new",
   "language": "python",
   "name": "gpytorch_new"
  },
  "language_info": {
   "codemirror_mode": {
    "name": "ipython",
    "version": 3
   },
   "file_extension": ".py",
   "mimetype": "text/x-python",
   "name": "python",
   "nbconvert_exporter": "python",
   "pygments_lexer": "ipython3",
   "version": "3.6.8"
  }
 },
 "nbformat": 4,
 "nbformat_minor": 2
}
