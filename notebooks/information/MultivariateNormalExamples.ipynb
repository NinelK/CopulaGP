{
 "cells": [
  {
   "cell_type": "code",
   "execution_count": 1,
   "metadata": {},
   "outputs": [],
   "source": [
    "import pickle as pkl\n",
    "import matplotlib.pyplot as plt\n",
    "import numpy as np\n",
    "\n",
    "import sys\n",
    "home = '/home/nina/CopulaGP/'\n",
    "sys.path.insert(0, home)\n",
    "\n",
    "import torch\n",
    "import bvcopula\n",
    "import marginal as mg\n",
    "from vine import CVine\n",
    "from scipy.stats import norm\n",
    "import MI"
   ]
  },
  {
   "cell_type": "code",
   "execution_count": 11,
   "metadata": {},
   "outputs": [],
   "source": [
    "NSamp=10000\n",
    "device = torch.device('cuda:1')\n",
    "x = torch.linspace(0.,1.,NSamp).numpy()\n",
    "train_x = torch.tensor(x).float().to(device=device)"
   ]
  },
  {
   "cell_type": "code",
   "execution_count": 3,
   "metadata": {},
   "outputs": [],
   "source": [
    "def constant_gauss(corr):\n",
    "    return bvcopula.MixtureCopula(torch.ones(1,NSamp,device=device)*corr,\n",
    "                    torch.ones(1,NSamp,device=device),\n",
    "                    [bvcopula.GaussianCopula_Likelihood().copula])\n",
    "# vine = CVine([[constant_gauss(0.9),constant_gauss(0.5)],[constant_gauss(0.7)]],train_x,device=device)"
   ]
  },
  {
   "cell_type": "code",
   "execution_count": 4,
   "metadata": {},
   "outputs": [],
   "source": [
    "def random_function(n=10,N=200):\n",
    "    a = np.random.rand(n)\n",
    "    b = np.exp(np.linspace(1.0-0.1*(n-1),1.,n))/10\n",
    "    c = np.random.rand(n)*2*np.pi\n",
    "    x = np.linspace(0,1,N)\n",
    "    y = np.sum([a[i]*np.sin(2*np.pi*b[i]*x+c[i]) for i in range(n)],axis=0)\n",
    "    r = np.sort(np.random.rand(2))\n",
    "    y = ((y - y.min())/(y.max()-y.min())*(r[1]-r[0])+r[0])*2-1\n",
    "#     plt.plot(x,y)\n",
    "#     return np.ones(N)*np.random.rand()\n",
    "    return y\n",
    "random_function();"
   ]
  },
  {
   "cell_type": "code",
   "execution_count": 5,
   "metadata": {},
   "outputs": [],
   "source": [
    "Nvar = 6\n",
    "# covariances = [[0.9,0.9,0.9,0.9],[0.9,0.9,0.9],[0.9,0.9],[0.9]]\n",
    "# layers = [[constant_gauss(j) for j in i] for i in covariances]\n",
    "# vine = CVine(layers,train_x,device=device)\n",
    "covariances = [[random_function(N=NSamp) for i in range(Nvar-1-j)] for j in range(Nvar-1)]\n",
    "def cov_matrix(covariances, Nvar):\n",
    "    assert Nvar == len(covariances)+1\n",
    "    cov = np.empty((Nvar,Nvar,len(covariances[-1][0])))\n",
    "    for i in range(Nvar):\n",
    "        cov[i,i] = 1\n",
    "        for j in range(i+1,Nvar):\n",
    "            cov[i,j] = covariances[i][j-i-1]\n",
    "            cov[j,i] = covariances[i][j-i-1]\n",
    "        cov[i,...] /= np.linalg.norm(cov[i,...],axis=0)\n",
    "    cov = np.einsum(\"ijk,ljk->kil\",cov,cov).clip(-1,1)\n",
    "    return cov\n",
    "\n",
    "def gauss_entropy(cov):\n",
    "    assert np.all(cov==cov.T)\n",
    "    return -0.5*np.log(np.linalg.det(cov))/np.log(2)\n",
    "\n",
    "covs = cov_matrix(covariances,Nvar)\n",
    "\n",
    "# data = vine.sample()\n",
    "\n",
    "y0 = np.array([np.random.multivariate_normal(np.zeros(Nvar),cov,1)[0] for cov in covs])\n",
    "y = norm.cdf(y0)"
   ]
  },
  {
   "cell_type": "code",
   "execution_count": 54,
   "metadata": {},
   "outputs": [],
   "source": [
    "# order = torch.argsort(data[:,0])\n",
    "# train_x = data[order,0]\n",
    "# train_y = data[order,1:]\n",
    "# x = train_x.cpu().numpy()\n",
    "# y = train_y.cpu().numpy()"
   ]
  },
  {
   "cell_type": "code",
   "execution_count": 55,
   "metadata": {},
   "outputs": [],
   "source": [
    "# order = mg.heuristic_element_order(y)\n",
    "# y = y[:,order]"
   ]
  },
  {
   "cell_type": "code",
   "execution_count": 56,
   "metadata": {},
   "outputs": [],
   "source": [
    "# plt.scatter(*np.random.multivariate_normal(np.zeros(Nvar),covs[1000],1000)[:,:2].T)\n",
    "# plt.scatter(*norm.ppf(y[:,[3,4]]).T)\n",
    "# plt.xlim(-5,5)\n",
    "# plt.ylim(-5,5)\n",
    "# y=vine.sample().cpu().numpy()\n",
    "# y.shape"
   ]
  },
  {
   "cell_type": "code",
   "execution_count": 57,
   "metadata": {},
   "outputs": [
    {
     "data": {
      "text/plain": [
       "(2.7782523647187665, 1.3153017614411604)"
      ]
     },
     "execution_count": 57,
     "metadata": {},
     "output_type": "execute_result"
    }
   ],
   "source": [
    "# MI & H(y)\n",
    "y0 = np.array([np.random.multivariate_normal(np.zeros(Nvar),cov,1)[0] for cov in covs])\n",
    "y = norm.cdf(y0)\n",
    "cov_all = np.corrcoef(norm.ppf(y).T)\n",
    "cov_all = 0.5*(cov_all+cov_all.T)\n",
    "analytical = (np.array([gauss_entropy(cov) for cov in covs]).mean()-gauss_entropy(cov_all), \n",
    " gauss_entropy(cov_all))\n",
    "analytical"
   ]
  },
  {
   "cell_type": "code",
   "execution_count": 58,
   "metadata": {},
   "outputs": [
    {
     "data": {
      "text/plain": [
       "0.8498378348029008"
      ]
     },
     "execution_count": 58,
     "metadata": {},
     "output_type": "execute_result"
    }
   ],
   "source": [
    "MI.Mixed_KSG(x,y)/np.log(2)"
   ]
  },
  {
   "cell_type": "code",
   "execution_count": 59,
   "metadata": {},
   "outputs": [
    {
     "data": {
      "text/plain": [
       "(10000, 6)"
      ]
     },
     "execution_count": 59,
     "metadata": {},
     "output_type": "execute_result"
    }
   ],
   "source": [
    "# MI.gao_MI(x.reshape((*x.shape,1)),y)\n",
    "y.shape"
   ]
  },
  {
   "cell_type": "code",
   "execution_count": 60,
   "metadata": {},
   "outputs": [
    {
     "data": {
      "text/plain": [
       "(0.7898398886846941, -0.9604221638666686)"
      ]
     },
     "execution_count": 60,
     "metadata": {},
     "output_type": "execute_result"
    }
   ],
   "source": [
    "mg.revised_mi(x.reshape((*x.shape,1)),y,k=5,)"
   ]
  },
  {
   "cell_type": "code",
   "execution_count": 61,
   "metadata": {},
   "outputs": [],
   "source": [
    "train_y = torch.tensor(y).float().to(device=device)"
   ]
  },
  {
   "cell_type": "code",
   "execution_count": 62,
   "metadata": {},
   "outputs": [
    {
     "name": "stdout",
     "output_type": "stream",
     "text": [
      "0 1\n",
      "0 2\n",
      "0 3\n",
      "0 4\n",
      "0 5\n",
      "1 2\n",
      "1 3\n",
      "1 4\n",
      "1 5\n",
      "2 3\n",
      "2 4\n",
      "2 5\n",
      "3 4\n",
      "3 5\n",
      "4 5\n"
     ]
    }
   ],
   "source": [
    "N = Nvar\n",
    "data_layers = [train_y]\n",
    "copula_layers = []\n",
    "for m in range(0,N-1):\n",
    "    copulas, layer = [], []\n",
    "    for n in range(1,N-m):\n",
    "        print(m,n+m)\n",
    "        samples = data_layers[-1][...,[n,0]]\n",
    "        waic, model = bvcopula.infer([bvcopula.GaussianCopula_Likelihood()],train_x,samples,device=device)\n",
    "        with torch.no_grad():\n",
    "            f = model(train_x).mean\n",
    "            copula = model.likelihood.get_copula(f)\n",
    "            copulas.append(copula)\n",
    "            layer.append(copula.ccdf(samples))\n",
    "    data_layers.append(torch.stack(layer,dim=-1))\n",
    "    copula_layers.append(copulas)"
   ]
  },
  {
   "cell_type": "code",
   "execution_count": 63,
   "metadata": {},
   "outputs": [],
   "source": [
    "vine_trained = CVine(copula_layers,train_x,device=device)\n",
    "with open(f\"{home}vine.pkl\",\"wb\") as f:\n",
    "    pkl.dump([covariances,y,vine_trained],f)"
   ]
  },
  {
   "cell_type": "code",
   "execution_count": 6,
   "metadata": {},
   "outputs": [],
   "source": [
    "with open(f\"{home}vine.pkl\",\"rb\") as f:\n",
    "    [covariances,y0,vine_trained] = pkl.load(f)\n",
    "covs = cov_matrix(covariances,y0.shape[-1])"
   ]
  },
  {
   "cell_type": "code",
   "execution_count": 7,
   "metadata": {},
   "outputs": [],
   "source": [
    "subvine = vine_trained.create_subvine(torch.arange(0,NSamp,50))"
   ]
  },
  {
   "cell_type": "code",
   "execution_count": 65,
   "metadata": {},
   "outputs": [
    {
     "name": "stdout",
     "output_type": "stream",
     "text": [
      "CPU times: user 13.5 s, sys: 1min 9s, total: 1min 22s\n",
      "Wall time: 1min 22s\n"
     ]
    },
    {
     "data": {
      "text/plain": [
       "(tensor([1.7016], device='cuda:1'),\n",
       " tensor(0.0095, device='cuda:1'),\n",
       " tensor([2.2415], device='cuda:1'),\n",
       " tensor(0.0061, device='cuda:1'))"
      ]
     },
     "execution_count": 65,
     "metadata": {},
     "output_type": "execute_result"
    }
   ],
   "source": [
    "%time CopulaGP = subvine.stimMI(sem_tol=0.01)\n",
    "CopulaGP"
   ]
  },
  {
   "cell_type": "code",
   "execution_count": 66,
   "metadata": {},
   "outputs": [
    {
     "data": {
      "text/plain": [
       "array([0.03676164], dtype=float32)"
      ]
     },
     "execution_count": 66,
     "metadata": {},
     "output_type": "execute_result"
    }
   ],
   "source": [
    "# conditional entropy missed (relative to analytical, which is exact)\n",
    "(np.sum(analytical)-(CopulaGP[0].cpu().numpy() + CopulaGP[2].cpu().numpy()))/np.sum(analytical)"
   ]
  },
  {
   "cell_type": "code",
   "execution_count": 36,
   "metadata": {},
   "outputs": [
    {
     "name": "stdout",
     "output_type": "stream",
     "text": [
      "0\n",
      "1000\n",
      "CPU times: user 21.2 s, sys: 9.64 s, total: 30.9 s\n",
      "Wall time: 30.7 s\n"
     ]
    }
   ],
   "source": [
    "from torch.autograd import Variable\n",
    "import torch.nn as nn\n",
    "import torch.nn.functional as F\n",
    "H=2000\n",
    "n_epoch = 2000\n",
    "data_size = NSamp\n",
    "\n",
    "class Net(nn.Module):\n",
    "    def __init__(self):\n",
    "        super(Net, self).__init__()\n",
    "        self.fc1 = nn.Linear(1, H)\n",
    "        self.fc2 = nn.Linear(y0.shape[-1], H)\n",
    "        self.fc3 = nn.Linear(H, 1)\n",
    "\n",
    "    def forward(self, x, y):\n",
    "        h1 = F.relu(self.fc1(x)+self.fc2(y))\n",
    "        h2 = self.fc3(h1)\n",
    "        return h2    \n",
    "def train():\n",
    "    device = torch.device(\"cuda:1\")\n",
    "    model = Net().to(device)\n",
    "    optimizer = torch.optim.Adam(model.parameters(), lr=0.01)\n",
    "    plot_loss = []\n",
    "    x_sample=x.reshape(NSamp,1)\n",
    "    x_sample = Variable(torch.from_numpy(x_sample).type(torch.FloatTensor).to(device), requires_grad = True)        \n",
    "    for epoch in range(n_epoch):\n",
    "        if epoch%1000 == 0:\n",
    "            print(epoch)\n",
    "            y_sample=np.array([np.random.multivariate_normal(np.zeros(Nvar),cov,1)[0] for cov in covs])\n",
    "            y_sample = Variable(torch.from_numpy(y_sample).type(torch.FloatTensor).to(device), requires_grad = True)\n",
    "        y_shuffle = y_sample[torch.randperm(y_sample.shape[0])]\n",
    "\n",
    "        pred_xy = model(x_sample, y_sample)\n",
    "        pred_x_y = model(x_sample, y_shuffle)\n",
    "\n",
    "        ret = torch.mean(pred_xy) - torch.log(torch.mean(torch.exp(pred_x_y)))\n",
    "        loss = - ret  # maximize\n",
    "        plot_loss.append(-loss.data.cpu().numpy())\n",
    "        model.zero_grad()\n",
    "        loss.backward()\n",
    "        optimizer.step()\n",
    "    return plot_loss\n",
    "%time plot_loss=train()"
   ]
  },
  {
   "cell_type": "code",
   "execution_count": 37,
   "metadata": {},
   "outputs": [
    {
     "data": {
      "text/plain": [
       "1.475694"
      ]
     },
     "execution_count": 37,
     "metadata": {},
     "output_type": "execute_result"
    },
    {
     "data": {
      "image/png": "[encoded data removed]",
      "text/plain": [
       "<Figure size 432x288 with 1 Axes>"
      ]
     },
     "metadata": {
      "needs_background": "light"
     },
     "output_type": "display_data"
    }
   ],
   "source": [
    "import matplotlib.pyplot as plt\n",
    "plt.plot(plot_loss)\n",
    "np.mean(plot_loss[-10:]/np.log(2))"
   ]
  },
  {
   "cell_type": "code",
   "execution_count": null,
   "metadata": {},
   "outputs": [],
   "source": []
  }
 ],
 "metadata": {
  "kernelspec": {
   "display_name": "GPyTorch_new",
   "language": "python",
   "name": "gpytorch_new"
  },
  "language_info": {
   "codemirror_mode": {
    "name": "ipython",
    "version": 3
   },
   "file_extension": ".py",
   "mimetype": "text/x-python",
   "name": "python",
   "nbconvert_exporter": "python",
   "pygments_lexer": "ipython3",
   "version": "3.6.8"
  }
 },
 "nbformat": 4,
 "nbformat_minor": 2
}
