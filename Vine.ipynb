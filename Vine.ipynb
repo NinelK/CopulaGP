{
 "cells": [
  {
   "cell_type": "code",
   "execution_count": 1,
   "metadata": {},
   "outputs": [],
   "source": [
    "from train import conf\n",
    "import glob\n",
    "import pickle as pkl\n",
    "import numpy as np\n",
    "import matplotlib.pyplot as plt"
   ]
  },
  {
   "cell_type": "code",
   "execution_count": 2,
   "metadata": {},
   "outputs": [],
   "source": [
    "animal = 'ST260'\n",
    "day_name = 'Day1'\n",
    "exp_pref = f'{animal}_{day_name}'\n",
    "path_models = f\"{conf.path2outputs}/{exp_pref}\""
   ]
  },
  {
   "cell_type": "code",
   "execution_count": 3,
   "metadata": {},
   "outputs": [],
   "source": [
    "list_files = glob.glob(f\"{path_models}/models_*.pkl\")"
   ]
  },
  {
   "cell_type": "code",
   "execution_count": 4,
   "metadata": {},
   "outputs": [],
   "source": [
    "with open(f\"{path_models}/models_layer0.pkl\",\"rb\") as f:\n",
    "    results = pkl.load(f)\n",
    "WAICs = np.zeros((len(results)+1,len(results)+1))\n",
    "WAICs[0,1:] = [a[3] for a in results]\n",
    "for layer in range(1,len(results)):\n",
    "    with open(f\"{path_models}/models_layer{layer}.pkl\",\"rb\") as f:\n",
    "        res = pkl.load(f)\n",
    "    WAICs[layer,(layer+1):] = [a[3] for a in res]"
   ]
  },
  {
   "cell_type": "code",
   "execution_count": 5,
   "metadata": {},
   "outputs": [
    {
     "data": {
      "text/plain": [
       "<matplotlib.image.AxesImage at 0x7fe91db7c518>"
      ]
     },
     "execution_count": 5,
     "metadata": {},
     "output_type": "execute_result"
    },
    {
     "data": {
      "image/png": "[encoded data removed]",
      "text/plain": [
       "<Figure size 432x288 with 1 Axes>"
      ]
     },
     "metadata": {
      "needs_background": "light"
     },
     "output_type": "display_data"
    }
   ],
   "source": [
    "plt.imshow(WAICs[:])"
   ]
  },
  {
   "cell_type": "code",
   "execution_count": 8,
   "metadata": {},
   "outputs": [
    {
     "data": {
      "text/plain": [
       "[GumbelCopula_Likelihood(\n",
       "   (quadrature): GaussHermiteQuadrature1D()\n",
       " ), GumbelCopula_Likelihood(\n",
       "   (quadrature): GaussHermiteQuadrature1D()\n",
       " )]"
      ]
     },
     "execution_count": 8,
     "metadata": {},
     "output_type": "execute_result"
    }
   ],
   "source": [
    "def transform(X,Y,model_list):\n",
    "    S = torch.tensor(X).float().squeeze().to(device)\n",
    "    next_layer = []\n",
    "    for n in range(1,Y.shape[-1]):\n",
    "        # load model\n",
    "        likelihoods = model_list[n-1]\n",
    "        if (len(likelihoods[0])==1) and (likelihoods[1]=='Independence'):\n",
    "            next_layer.append(Y[:,n])\n",
    "        else:\n",
    "            weights_file = f\"{path_models}/layer{layer}/model_{exp_pref}_0-{n}.pth\"\n",
    "            model = utils.get_model(weights_file, likelihoods[0], device) \n",
    "            # load data\n",
    "            samples = torch.tensor(Y[:,[n,0]]).float().squeeze().to(device) # order!\n",
    "\n",
    "            with torch.no_grad():\n",
    "                f_samples = model(S).rsample(torch.Size([10]))\n",
    "            f_samples.shape\n",
    "\n",
    "            copula = model.likelihood.get_copula(f_samples.mean(dim=0))\n",
    "\n",
    "            next_layer.append(copula.ccdf(samples).cpu().numpy())\n",
    "    return X,next_layer\n",
    "results[0][0]"
   ]
  },
  {
   "cell_type": "code",
   "execution_count": null,
   "metadata": {},
   "outputs": [],
   "source": []
  }
 ],
 "metadata": {
  "kernelspec": {
   "display_name": "GPyTorch",
   "language": "python",
   "name": "gpytorch"
  },
  "language_info": {
   "codemirror_mode": {
    "name": "ipython",
    "version": 3
   },
   "file_extension": ".py",
   "mimetype": "text/x-python",
   "name": "python",
   "nbconvert_exporter": "python",
   "pygments_lexer": "ipython3",
   "version": "3.6.8"
  }
 },
 "nbformat": 4,
 "nbformat_minor": 2
}
