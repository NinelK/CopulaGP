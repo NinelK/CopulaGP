{
 "cells": [
  {
   "cell_type": "code",
   "execution_count": 7,
   "metadata": {},
   "outputs": [],
   "source": [
    "import pickle as pkl\n",
    "import numpy as np"
   ]
  },
  {
   "cell_type": "code",
   "execution_count": 1,
   "metadata": {},
   "outputs": [],
   "source": [
    "animal = 'ST263'\n",
    "dayN = 5\n",
    "day_name = 'Day{}'.format(dayN)\n",
    "exp_pref = '{}_{}'.format(animal,day_name)\n",
    "out_dir = '../models/'+exp_pref\n",
    "with open(out_dir+'/summary.pkl','rb') as f:\n",
    "    data = pkl.load(f)"
   ]
  },
  {
   "cell_type": "code",
   "execution_count": 4,
   "metadata": {},
   "outputs": [],
   "source": [
    "copulas = {}\n",
    "for d in data.reshape(-1):\n",
    "    if d is not None:\n",
    "        try:\n",
    "            copulas[d[1]] += 1\n",
    "        except KeyError:\n",
    "            copulas[d[1]] = 1"
   ]
  },
  {
   "cell_type": "code",
   "execution_count": 5,
   "metadata": {},
   "outputs": [
    {
     "data": {
      "text/plain": [
       "[304, 13, 21]"
      ]
     },
     "execution_count": 5,
     "metadata": {},
     "output_type": "execute_result"
    }
   ],
   "source": [
    "[copulas['Independence'],copulas['Gaussian'],copulas['Frank']]"
   ]
  },
  {
   "cell_type": "code",
   "execution_count": 8,
   "metadata": {},
   "outputs": [],
   "source": [
    "import re\n",
    "\n",
    "copula_names = ['Independence','Gaussian','Frank','Clayton','Gumbel']\n",
    "new_dict = {}\n",
    "\n",
    "for key, value in copulas.items():\n",
    "    binary_key = np.zeros(len(copula_names)).astype(int) #4 types of copulas\n",
    "    for i, name in enumerate(copula_names):\n",
    "        if re.search(name,key):\n",
    "            binary_key[i]+=1\n",
    "    new_key = ''.join([str(b) for b in binary_key])\n",
    "    try:\n",
    "        new_dict[new_key] += value\n",
    "    except KeyError:\n",
    "        new_dict[new_key] = value"
   ]
  },
  {
   "cell_type": "code",
   "execution_count": 9,
   "metadata": {},
   "outputs": [
    {
     "data": {
      "text/plain": [
       "{'10000': 304,\n",
       " '01010': 2,\n",
       " '00110': 9,\n",
       " '00100': 21,\n",
       " '10010': 2,\n",
       " '01000': 13,\n",
       " '01100': 6,\n",
       " '10100': 9,\n",
       " '10110': 2,\n",
       " '00101': 1,\n",
       " '01110': 1,\n",
       " '01011': 1,\n",
       " '01001': 2,\n",
       " '00001': 2,\n",
       " '10001': 1,\n",
       " '11100': 1,\n",
       " '10101': 1}"
      ]
     },
     "execution_count": 9,
     "metadata": {},
     "output_type": "execute_result"
    }
   ],
   "source": [
    "new_dict"
   ]
  },
  {
   "cell_type": "code",
   "execution_count": 10,
   "metadata": {},
   "outputs": [
    {
     "data": {
      "text/plain": [
       "{'Independence': 304,\n",
       " 'GaussianClayton270°': 1,\n",
       " 'Clayton0°FrankClayton270°': 1,\n",
       " 'Clayton0°Frank': 4,\n",
       " 'Frank': 21,\n",
       " 'Clayton90°IndependenceClayton0°': 1,\n",
       " 'Gaussian': 13,\n",
       " 'FrankGaussian': 6,\n",
       " 'IndependenceFrank': 9,\n",
       " 'IndependenceClayton180°Frank': 1,\n",
       " 'Clayton270°Frank': 1,\n",
       " 'Gumbel0°Frank': 1,\n",
       " 'FrankClayton180°': 2,\n",
       " 'Clayton180°FrankGaussian': 1,\n",
       " 'GaussianClayton180°Gumbel0°': 1,\n",
       " 'GaussianGumbel0°': 2,\n",
       " 'Clayton180°IndependenceFrank': 1,\n",
       " 'Clayton90°Frank': 1,\n",
       " 'Gumbel0°': 2,\n",
       " 'Gumbel0°Independence': 1,\n",
       " 'Clayton180°Gaussian': 1,\n",
       " 'IndependenceFrankGaussian': 1,\n",
       " 'Gumbel0°IndependenceFrank': 1,\n",
       " 'IndependenceClayton180°': 1}"
      ]
     },
     "execution_count": 10,
     "metadata": {},
     "output_type": "execute_result"
    }
   ],
   "source": [
    "copulas"
   ]
  },
  {
   "cell_type": "code",
   "execution_count": 21,
   "metadata": {},
   "outputs": [
    {
     "data": {
      "text/plain": [
       "Text(0,0.5,'time, min')"
      ]
     },
     "execution_count": 21,
     "metadata": {},
     "output_type": "execute_result"
    },
    {
     "data": {
      "image/png": "[encoded data removed]",
      "text/plain": [
       "<matplotlib.figure.Figure at 0x7f3d26fbd710>"
      ]
     },
     "metadata": {
      "needs_background": "light"
     },
     "output_type": "display_data"
    }
   ],
   "source": [
    "import matplotlib.pyplot as plt\n",
    "waic, time = [], []\n",
    "for d in data.reshape(-1):\n",
    "    if d is not None:\n",
    "        if int(d[2])!=0:\n",
    "            waic.append(np.log(int(d[2])))\n",
    "            time.append(int(d[3])/60)\n",
    "plt.scatter(waic,time)\n",
    "plt.xlabel('log likelihood')\n",
    "plt.ylabel('time, min')"
   ]
  },
  {
   "cell_type": "code",
   "execution_count": null,
   "metadata": {},
   "outputs": [],
   "source": []
  }
 ],
 "metadata": {
  "kernelspec": {
   "display_name": "Python 3",
   "language": "python",
   "name": "python3"
  },
  "language_info": {
   "codemirror_mode": {
    "name": "ipython",
    "version": 3
   },
   "file_extension": ".py",
   "mimetype": "text/x-python",
   "name": "python",
   "nbconvert_exporter": "python",
   "pygments_lexer": "ipython3",
   "version": "3.6.8"
  }
 },
 "nbformat": 4,
 "nbformat_minor": 2
}
