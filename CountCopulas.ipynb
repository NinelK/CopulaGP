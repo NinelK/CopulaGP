{
 "cells": [
  {
   "cell_type": "code",
   "execution_count": 27,
   "metadata": {},
   "outputs": [],
   "source": [
    "import pickle as pkl\n",
    "import numpy as np"
   ]
  },
  {
   "cell_type": "code",
   "execution_count": 128,
   "metadata": {},
   "outputs": [],
   "source": [
    "animal = 'ST264'\n",
    "dayN = 4\n",
    "day_name = 'Day{}'.format(dayN)\n",
    "exp_pref = '{}_{}_2'.format(animal,day_name)\n",
    "out_dir = '../models/'+exp_pref\n",
    "with open(out_dir+'/summary.pkl','rb') as f:\n",
    "    data = pkl.load(f)"
   ]
  },
  {
   "cell_type": "code",
   "execution_count": 129,
   "metadata": {},
   "outputs": [],
   "source": [
    "def get_copulas(data):\n",
    "    copulas = {}\n",
    "    for d in data.reshape(-1):\n",
    "        if d is not None:\n",
    "            try:\n",
    "                copulas[d[1]] += 1\n",
    "            except KeyError:\n",
    "                copulas[d[1]] = 1\n",
    "    return copulas\n",
    "\n",
    "copulas = get_copulas(data)\n",
    "beh = 5\n",
    "copulas_behbeh = get_copulas(data[:beh,:beh])\n",
    "copulas_behneu = get_copulas(data[:beh,beh:])\n",
    "copulas_neuneu = get_copulas(data[beh:,beh:])"
   ]
  },
  {
   "cell_type": "code",
   "execution_count": 130,
   "metadata": {},
   "outputs": [
    {
     "name": "stdout",
     "output_type": "stream",
     "text": [
      "ST264_Day4_2: 34 neurons, 20.4% overall, 70.0% behbeh, 24.7% behneu, 18.2% neuneu\n"
     ]
    }
   ],
   "source": [
    "# how many dependancies (per cent)?\n",
    "def get_percent(copulas):\n",
    "    M = np.sum([v for v in copulas.values()])\n",
    "    return (1-copulas['Independence']/M)*100\n",
    "\n",
    "print('{}: {} neurons, {:.3}% overall, {:.3}% behbeh, {:.3}% behneu, {:.3}% neuneu'.format(\n",
    "    exp_pref, data.shape[0]-beh, \n",
    "    get_percent(copulas), get_percent(copulas_behbeh),\n",
    "    get_percent(copulas_behneu), get_percent(copulas_neuneu)))"
   ]
  },
  {
   "cell_type": "code",
   "execution_count": 131,
   "metadata": {},
   "outputs": [
    {
     "data": {
      "image/png": "[encoded data removed]",
      "text/plain": [
       "<matplotlib.figure.Figure at 0x7f3c906b7198>"
      ]
     },
     "metadata": {
      "needs_background": "light"
     },
     "output_type": "display_data"
    }
   ],
   "source": [
    "M = data.shape[0]\n",
    "waic_img = np.zeros((M,M))\n",
    "for i in range(M-1):\n",
    "    for j in range(i+1,M):\n",
    "        waic_img[i,j] = data[i,j][2]\n",
    "        waic_img[j,i] = data[i,j][2]\n",
    "plt.imshow(waic_img)\n",
    "plt.axhline(beh-0.5)\n",
    "plt.axvline(beh-0.5)\n",
    "plt.title('WAICs for '+exp_pref);"
   ]
  },
  {
   "cell_type": "code",
   "execution_count": 88,
   "metadata": {},
   "outputs": [
    {
     "data": {
      "text/plain": [
       "[308, 16, 15]"
      ]
     },
     "execution_count": 88,
     "metadata": {},
     "output_type": "execute_result"
    }
   ],
   "source": [
    "[copulas['Independence'],copulas['Gaussian'],copulas['Frank']]"
   ]
  },
  {
   "cell_type": "code",
   "execution_count": 89,
   "metadata": {},
   "outputs": [],
   "source": [
    "import re\n",
    "\n",
    "copula_names = ['Independence','Gaussian','Frank','Clayton','Gumbel']\n",
    "new_dict = {}\n",
    "\n",
    "for key, value in copulas.items():\n",
    "    binary_key = np.zeros(len(copula_names)).astype(int) #4 types of copulas\n",
    "    for i, name in enumerate(copula_names):\n",
    "        if re.search(name,key):\n",
    "            binary_key[i]+=1\n",
    "    new_key = ''.join([str(b) for b in binary_key])\n",
    "    try:\n",
    "        new_dict[new_key] += value\n",
    "    except KeyError:\n",
    "        new_dict[new_key] = value"
   ]
  },
  {
   "cell_type": "code",
   "execution_count": 90,
   "metadata": {},
   "outputs": [
    {
     "data": {
      "text/plain": [
       "{'00100': 15,\n",
       " '10000': 308,\n",
       " '00110': 4,\n",
       " '01000': 16,\n",
       " '10100': 7,\n",
       " '01010': 15,\n",
       " '01001': 2,\n",
       " '01100': 6,\n",
       " '10010': 1,\n",
       " '01110': 1,\n",
       " '00101': 1,\n",
       " '10101': 1,\n",
       " '11001': 1}"
      ]
     },
     "execution_count": 90,
     "metadata": {},
     "output_type": "execute_result"
    }
   ],
   "source": [
    "new_dict"
   ]
  },
  {
   "cell_type": "code",
   "execution_count": 91,
   "metadata": {},
   "outputs": [
    {
     "data": {
      "text/plain": [
       "{'Frank': 15,\n",
       " 'Independence': 308,\n",
       " 'Clayton0°Frank': 1,\n",
       " 'Gaussian': 16,\n",
       " 'IndependenceFrank': 7,\n",
       " 'Clayton270°Gaussian': 2,\n",
       " 'Clayton270°Frank': 1,\n",
       " 'Gumbel90°Gaussian': 1,\n",
       " 'Clayton0°Gaussian': 2,\n",
       " 'Clayton90°Gaussian': 3,\n",
       " 'Clayton180°Gaussian': 6,\n",
       " 'FrankGaussian': 6,\n",
       " 'GaussianClayton180°': 1,\n",
       " 'FrankClayton180°': 1,\n",
       " 'IndependenceClayton180°': 1,\n",
       " 'FrankClayton180°Gaussian': 1,\n",
       " 'FrankGumbel0°': 1,\n",
       " 'GaussianGumbel0°': 1,\n",
       " 'Clayton180°Frank': 1,\n",
       " 'FrankIndependenceGumbel0°': 1,\n",
       " 'Clayton90°Clayton270°Gaussian': 1,\n",
       " 'IndependenceGumbel0°Gaussian': 1}"
      ]
     },
     "execution_count": 91,
     "metadata": {},
     "output_type": "execute_result"
    }
   ],
   "source": [
    "copulas"
   ]
  },
  {
   "cell_type": "code",
   "execution_count": 92,
   "metadata": {},
   "outputs": [
    {
     "data": {
      "text/plain": [
       "Text(0,0.5,'time, min')"
      ]
     },
     "execution_count": 92,
     "metadata": {},
     "output_type": "execute_result"
    },
    {
     "data": {
      "image/png": "[encoded data removed]",
      "text/plain": [
       "<matplotlib.figure.Figure at 0x7f3d26e115f8>"
      ]
     },
     "metadata": {
      "needs_background": "light"
     },
     "output_type": "display_data"
    }
   ],
   "source": [
    "import matplotlib.pyplot as plt\n",
    "waic, time = [], []\n",
    "for d in data.reshape(-1):\n",
    "    if d is not None:\n",
    "        if int(d[2])!=0:\n",
    "            waic.append(np.log(int(d[2])))\n",
    "            time.append(int(d[3])/60)\n",
    "plt.scatter(waic,time)\n",
    "plt.xlabel('log likelihood')\n",
    "plt.ylabel('time, min')"
   ]
  },
  {
   "cell_type": "code",
   "execution_count": null,
   "metadata": {},
   "outputs": [],
   "source": []
  },
  {
   "cell_type": "code",
   "execution_count": null,
   "metadata": {},
   "outputs": [],
   "source": []
  }
 ],
 "metadata": {
  "kernelspec": {
   "display_name": "Python 3",
   "language": "python",
   "name": "python3"
  },
  "language_info": {
   "codemirror_mode": {
    "name": "ipython",
    "version": 3
   },
   "file_extension": ".py",
   "mimetype": "text/x-python",
   "name": "python",
   "nbconvert_exporter": "python",
   "pygments_lexer": "ipython3",
   "version": "3.6.8"
  }
 },
 "nbformat": 4,
 "nbformat_minor": 2
}
