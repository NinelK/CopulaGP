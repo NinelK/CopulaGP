{
 "cells": [
  {
   "cell_type": "code",
   "execution_count": 1,
   "metadata": {},
   "outputs": [],
   "source": [
    "import numpy as np\n",
    "import pickle as pkl\n",
    "import matplotlib.pyplot as plt\n",
    "import torch\n",
    "\n",
    "import bvcopula\n",
    "import utils\n",
    "\n",
    "%matplotlib inline\n",
    "%load_ext autoreload\n",
    "%autoreload 2"
   ]
  },
  {
   "cell_type": "code",
   "execution_count": 9,
   "metadata": {},
   "outputs": [],
   "source": [
    "path_models = '/home/nina/models'\n",
    "path_exp = '/home/nina/VRData/Processing/pkls'"
   ]
  },
  {
   "cell_type": "code",
   "execution_count": 2,
   "metadata": {},
   "outputs": [],
   "source": [
    "animal = 'ST263'\n",
    "dayN = 4\n",
    "day_name = f\"Day{dayN}\"\n",
    "exp_pref = f\"{animal}_{day_name}\"\n",
    "n1,n2 = 6,7"
   ]
  },
  {
   "cell_type": "code",
   "execution_count": 6,
   "metadata": {
    "scrolled": true
   },
   "outputs": [
    {
     "name": "stdout",
     "output_type": "stream",
     "text": [
      "['/home/nina/models/ST263_Day4/model_6-7.pth']\n",
      "CPU times: user 4.52 ms, sys: 564 µs, total: 5.09 ms\n",
      "Wall time: 4.77 ms\n",
      "CPU times: user 51.4 s, sys: 490 ms, total: 51.9 s\n",
      "Wall time: 1.75 s\n"
     ]
    }
   ],
   "source": [
    "points = torch.linspace(0,1,20)\n",
    "\n",
    "likelihoods = utils.get_likelihoods(f\"{path_models}/{exp_pref}/summary.pkl\",n1,n2)\n",
    "weights_file = f\"{path_models}/{exp_pref}/model_{n1}-{n2}.pth\"\n",
    "\n",
    "%time model = utils.get_model(weights_file, likelihoods, torch.device('cpu')) \n",
    "%time (ym, y, dy) = model.MI(points)"
   ]
  },
  {
   "cell_type": "code",
   "execution_count": 7,
   "metadata": {},
   "outputs": [
    {
     "data": {
      "text/plain": [
       "(-0.5, 0)"
      ]
     },
     "execution_count": 7,
     "metadata": {},
     "output_type": "execute_result"
    },
    {
     "data": {
      "image/png": "[encoded data removed]",
      "text/plain": [
       "<Figure size 432x288 with 1 Axes>"
      ]
     },
     "metadata": {
      "needs_background": "light"
     },
     "output_type": "display_data"
    }
   ],
   "source": [
    "plt.plot(np.linspace(0,160,len(y)),y)\n",
    "plt.fill_between(np.linspace(0,160,len(y)),y-dy,y+dy, alpha=0.3)\n",
    "plt.plot(np.linspace(0,160,len(ym)),ym)\n",
    "plt.ylim(-.5,0)"
   ]
  },
  {
   "cell_type": "code",
   "execution_count": 11,
   "metadata": {},
   "outputs": [],
   "source": [
    "X,_ = utils.load_experimental_data(path_exp, animal, day_name, 0, 1)"
   ]
  },
  {
   "cell_type": "code",
   "execution_count": 13,
   "metadata": {},
   "outputs": [
    {
     "name": "stdout",
     "output_type": "stream",
     "text": [
      "['/home/nina/models/ST263_Day4/model_6-7.pth']\n",
      "torch.Size([22384])\n"
     ]
    }
   ],
   "source": [
    "device = torch.device('cuda:0')\n",
    "f_mc_size = 5\n",
    "model = utils.get_model(weights_file, likelihoods, device) \n",
    "S = torch.tensor(X).float().squeeze().to(device)\n",
    "with torch.no_grad():\n",
    "    Fs = model(S).rsample(torch.Size([f_mc_size])) \n",
    "    #[samples_f, copulas, stimuli(positions)]\n",
    "print(S.shape)"
   ]
  },
  {
   "cell_type": "code",
   "execution_count": 15,
   "metadata": {},
   "outputs": [
    {
     "name": "stdout",
     "output_type": "stream",
     "text": [
      "Start calculating p(r) 0\n",
      "Finished in 10 steps\n",
      "0.00935,0.000215,0.00914,                    0.772,0.157\n",
      "CPU times: user 430 ms, sys: 92.5 ms, total: 522 ms\n",
      "Wall time: 520 ms\n",
      "0.00914±0.00191\n"
     ]
    }
   ],
   "source": [
    "%time MI,sem=model.likelihood.stimMI(S,Fs,s_mc_size=200,r_mc_size=20,sR_mc_size=1000,sem_tol=5*1e-3)\n",
    "#,sem_tol=1e-3,  \n",
    "print(f\"{MI.mean().item():.3}±{MI.std().item():.3}\")"
   ]
  },
  {
   "cell_type": "code",
   "execution_count": 16,
   "metadata": {},
   "outputs": [
    {
     "data": {
      "text/plain": [
       "tensor(0.8221, device='cuda:0')"
      ]
     },
     "execution_count": 16,
     "metadata": {},
     "output_type": "execute_result"
    }
   ],
   "source": [
    "sem.max()/(MI.max()-MI.min())"
   ]
  }
 ],
 "metadata": {
  "kernelspec": {
   "display_name": "GPyTorch_new",
   "language": "python",
   "name": "gpytorch_new"
  },
  "language_info": {
   "codemirror_mode": {
    "name": "ipython",
    "version": 3
   },
   "file_extension": ".py",
   "mimetype": "text/x-python",
   "name": "python",
   "nbconvert_exporter": "python",
   "pygments_lexer": "ipython3",
   "version": "3.6.8"
  }
 },
 "nbformat": 4,
 "nbformat_minor": 2
}
