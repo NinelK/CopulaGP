{
 "cells": [
  {
   "cell_type": "code",
   "execution_count": 1,
   "metadata": {},
   "outputs": [],
   "source": [
    "import numpy as np\n",
    "import pickle as pkl\n",
    "import matplotlib.pyplot as plt\n",
    "import torch\n",
    "import glob\n",
    "\n",
    "import bvcopula\n",
    "\n",
    "%matplotlib inline\n",
    "%load_ext autoreload\n",
    "%autoreload 2"
   ]
  },
  {
   "cell_type": "code",
   "execution_count": 2,
   "metadata": {},
   "outputs": [],
   "source": [
    "animal = 'ST263'\n",
    "dayN = 4\n",
    "day_name = 'Day{}'.format(dayN)\n",
    "exp_pref = '{}_{}'.format(animal,day_name)\n",
    "path = '/home/nina/models'"
   ]
  },
  {
   "cell_type": "code",
   "execution_count": 3,
   "metadata": {},
   "outputs": [
    {
     "data": {
      "text/plain": [
       "[FrankCopula_Likelihood(\n",
       "   (quadrature): GaussHermiteQuadrature1D()\n",
       " )]"
      ]
     },
     "execution_count": 3,
     "metadata": {},
     "output_type": "execute_result"
    }
   ],
   "source": [
    "out_dir = '../models/'+exp_pref\n",
    "with open(out_dir+'/summary.pkl','rb') as f:\n",
    "    data = pkl.load(f)\n",
    "n1=6\n",
    "n2=7\n",
    "data[n1+5,n2+5][0]"
   ]
  },
  {
   "cell_type": "code",
   "execution_count": 4,
   "metadata": {
    "scrolled": true
   },
   "outputs": [
    {
     "name": "stdout",
     "output_type": "stream",
     "text": [
      "Frank\n",
      "['/home/nina/models/ST263_Day4/model_6-7.pth']\n",
      "CPU times: user 5.63 ms, sys: 0 ns, total: 5.63 ms\n",
      "Wall time: 4.84 ms\n",
      "CPU times: user 46.2 s, sys: 726 ms, total: 47 s\n",
      "Wall time: 1.55 s\n"
     ]
    }
   ],
   "source": [
    "import warnings\n",
    "import sys\n",
    "import traceback\n",
    "from tqdm import tqdm\n",
    "    \n",
    "def warn_with_traceback(message, category, filename, lineno, file=None, line=None):\n",
    "    log = file if hasattr(file,'write') else sys.stderr\n",
    "    traceback.print_stack(file=log)\n",
    "    log.write(warnings.formatwarning(message, category, filename, lineno, line))\n",
    "    \n",
    "def get_model(n1,n2,likelihoods,device):\n",
    "    get_weights_filename = glob.glob('{}/{}/model_{}-{}.pth'.format(path,exp_pref,n1,n2))\n",
    "    print(get_weights_filename)\n",
    "    if len(get_weights_filename)>0:\n",
    "        if len(get_weights_filename)>1:\n",
    "            print('There is more then 1 file, taking the first one')\n",
    "            return 0\n",
    "        model = bvcopula.load_model(get_weights_filename[0], likelihoods, device)\n",
    "        return model\n",
    "    else:\n",
    "        print('Weights file {} not found.'.format(get_weights_filename))\n",
    "        return 0\n",
    "        \n",
    "def measure_MI(model,points,samp_mc_size=10000):\n",
    "    MIs = []\n",
    "    with torch.no_grad():\n",
    "        fs = model(points).rsample(torch.Size([5])) #[samples_f, copulas, positions]\n",
    "    f_mean = model(points).mean.unsqueeze(0)\n",
    "    # now add mean f to a set of f samples\n",
    "    fs = torch.cat((fs,f_mean),0) #[samples_f + 1, copulas, positions]\n",
    "\n",
    "    copula = model.likelihood(fs)\n",
    "    MIs = copula.entropy()\n",
    "    MI_mean = MIs[-1]\n",
    "    MIs = MIs[:-1]\n",
    "\n",
    "    return (MI_mean,MIs.mean(dim=0),MIs.std(dim=0))\n",
    "\n",
    "warnings.showwarning = warn_with_traceback\n",
    "\n",
    "points = torch.linspace(0,1,20)\n",
    "        \n",
    "print(data[n1+5,n2+5][1])\n",
    "\n",
    "%time model = get_model(n1, n2, data[n1+5,n2+5][0], torch.device('cpu')) \n",
    "%time (ym, y, dy) = measure_MI(model, points)"
   ]
  },
  {
   "cell_type": "code",
   "execution_count": 5,
   "metadata": {},
   "outputs": [
    {
     "data": {
      "text/plain": [
       "(-0.5, 0)"
      ]
     },
     "execution_count": 5,
     "metadata": {},
     "output_type": "execute_result"
    },
    {
     "data": {
      "image/png": "[encoded data removed]",
      "text/plain": [
       "<Figure size 432x288 with 1 Axes>"
      ]
     },
     "metadata": {
      "needs_background": "light"
     },
     "output_type": "display_data"
    }
   ],
   "source": [
    "plt.plot(np.linspace(0,160,len(y)),y)\n",
    "plt.fill_between(np.linspace(0,160,len(y)),y-dy,y+dy, alpha=0.3)\n",
    "plt.plot(np.linspace(0,160,len(ym)),ym)\n",
    "plt.ylim(-.5,0)"
   ]
  },
  {
   "cell_type": "code",
   "execution_count": 6,
   "metadata": {},
   "outputs": [],
   "source": [
    "import utils\n",
    "path_exp = '/home/nina/VRData/Processing/pkls'\n",
    "X,_ = utils.load_experimental_data(path_exp, animal, day_name, 0, 1)"
   ]
  },
  {
   "cell_type": "code",
   "execution_count": 7,
   "metadata": {},
   "outputs": [
    {
     "data": {
      "text/plain": [
       "(array([1.24099761, 0.78062753, 0.78062753, 0.78062753, 0.66053099,\n",
       "        0.86069189, 0.70056317, 1.00080453, 1.46117461, 1.74139988]),\n",
       " array([0.        , 0.09991961, 0.19983922, 0.29975884, 0.39967845,\n",
       "        0.49959806, 0.59951767, 0.69943728, 0.7993569 , 0.89927651,\n",
       "        0.99919612]),\n",
       " <a list of 10 Patch objects>)"
      ]
     },
     "execution_count": 7,
     "metadata": {},
     "output_type": "execute_result"
    },
    {
     "data": {
      "image/png": "[encoded data removed]",
      "text/plain": [
       "<Figure size 432x288 with 1 Axes>"
      ]
     },
     "metadata": {
      "needs_background": "light"
     },
     "output_type": "display_data"
    }
   ],
   "source": [
    "plt.hist(X,density=True,alpha=0.3)\n",
    "plt.hist(np.random.choice(X.flatten(),500),density=True,alpha=0.3)"
   ]
  },
  {
   "cell_type": "code",
   "execution_count": 10,
   "metadata": {},
   "outputs": [
    {
     "name": "stdout",
     "output_type": "stream",
     "text": [
      "['/home/nina/models/ST263_Day4/model_6-7.pth']\n",
      "torch.Size([22384])\n"
     ]
    }
   ],
   "source": [
    "device = torch.device('cuda:0')\n",
    "f_mc_size = 5\n",
    "model = get_model(n1, n2, data[n1+5,n2+5][0], device) \n",
    "S = torch.tensor(X).float().squeeze().to(device)\n",
    "with torch.no_grad():\n",
    "    Fs = model(S).rsample(torch.Size([f_mc_size])) \n",
    "    #[samples_f, copulas, stimuli(positions)]\n",
    "print(S.shape)"
   ]
  },
  {
   "cell_type": "code",
   "execution_count": 11,
   "metadata": {},
   "outputs": [
    {
     "name": "stdout",
     "output_type": "stream",
     "text": [
      "Start calculating p(r) 0\n",
      "Finished in 2 steps\n",
      "0.00814,0.000681,0.00746,                    0.804,0.17\n",
      "CPU times: user 318 ms, sys: 116 ms, total: 434 ms\n",
      "Wall time: 431 ms\n",
      "0.00746±0.00432\n"
     ]
    }
   ],
   "source": [
    "%time MI,sem=model.likelihood.stimMI(S,Fs,s_mc_size=200,r_mc_size=20,sR_mc_size=5000,sem_tol=5*1e-3)\n",
    "#,sem_tol=1e-3,  \n",
    "print(f\"{MI.mean().item():.3}±{MI.std().item():.3}\")"
   ]
  },
  {
   "cell_type": "code",
   "execution_count": 16,
   "metadata": {},
   "outputs": [
    {
     "data": {
      "text/plain": [
       "tensor(0.3659, device='cuda:0')"
      ]
     },
     "execution_count": 16,
     "metadata": {},
     "output_type": "execute_result"
    }
   ],
   "source": [
    "sem.max()/(MI.max()-MI.min())"
   ]
  },
  {
   "cell_type": "code",
   "execution_count": null,
   "metadata": {},
   "outputs": [],
   "source": []
  }
 ],
 "metadata": {
  "kernelspec": {
   "display_name": "GPyTorch_new",
   "language": "python",
   "name": "gpytorch_new"
  },
  "language_info": {
   "codemirror_mode": {
    "name": "ipython",
    "version": 3
   },
   "file_extension": ".py",
   "mimetype": "text/x-python",
   "name": "python",
   "nbconvert_exporter": "python",
   "pygments_lexer": "ipython3",
   "version": "3.6.8"
  }
 },
 "nbformat": 4,
 "nbformat_minor": 2
}
