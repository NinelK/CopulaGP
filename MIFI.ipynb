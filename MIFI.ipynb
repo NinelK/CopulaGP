{
 "cells": [
  {
   "cell_type": "code",
   "execution_count": 1,
   "metadata": {},
   "outputs": [],
   "source": [
    "import numpy as np\n",
    "import pickle as pkl\n",
    "import matplotlib.pyplot as plt\n",
    "import torch\n",
    "import glob\n",
    "\n",
    "import bvcopula\n",
    "\n",
    "%matplotlib inline\n",
    "%load_ext autoreload\n",
    "%autoreload 2"
   ]
  },
  {
   "cell_type": "code",
   "execution_count": 2,
   "metadata": {},
   "outputs": [],
   "source": [
    "animal = 'ST263'\n",
    "dayN = 4\n",
    "day_name = 'Day{}'.format(dayN)\n",
    "exp_pref = '{}_{}'.format(animal,day_name)\n",
    "path = '/home/nina/models'"
   ]
  },
  {
   "cell_type": "code",
   "execution_count": 17,
   "metadata": {},
   "outputs": [
    {
     "data": {
      "text/plain": [
       "[FrankCopula_Likelihood(\n",
       "   (quadrature): GaussHermiteQuadrature1D()\n",
       " ), IndependenceCopula_Likelihood(\n",
       "   (quadrature): GaussHermiteQuadrature1D()\n",
       " ), GumbelCopula_Likelihood(\n",
       "   (quadrature): GaussHermiteQuadrature1D()\n",
       " )]"
      ]
     },
     "execution_count": 17,
     "metadata": {},
     "output_type": "execute_result"
    }
   ],
   "source": [
    "out_dir = '../models/'+exp_pref\n",
    "with open(out_dir+'/summary.pkl','rb') as f:\n",
    "    data = pkl.load(f)\n",
    "n1=2\n",
    "n2=20\n",
    "data[n1+5,n2+5][0]"
   ]
  },
  {
   "cell_type": "code",
   "execution_count": 46,
   "metadata": {
    "scrolled": true
   },
   "outputs": [
    {
     "name": "stdout",
     "output_type": "stream",
     "text": [
      "['/home/nina/models/ST263_Day4/model_1-12.pth']\n",
      "CPU times: user 44min 50s, sys: 4min 36s, total: 49min 27s\n",
      "Wall time: 4min 13s\n"
     ]
    }
   ],
   "source": [
    "import warnings\n",
    "import sys\n",
    "import traceback\n",
    "from tqdm import tqdm\n",
    "\n",
    "def _get_copula(likelihood, f, sample_size): #likelihood method\n",
    "    thetas, mixes = likelihood.gplink_function(f)\n",
    "    thetas = thetas.expand(sample_size+thetas.shape)\n",
    "    mixes = mixes.expand(sample_size+mixes.shape)\n",
    "    thetas = torch.einsum('ijk->jki', thetas) # now: [copulas, positions, samples]\n",
    "    mixes = torch.einsum('ijk->jki', mixes)\n",
    "    copulas = [lik.copula for lik in likelihood.likelihoods]\n",
    "    rotations = [lik.rotation for lik in likelihood.likelihoods]\n",
    "    return likelihood.copula(thetas,mixes,copulas,rotations=rotations)\n",
    "    \n",
    "def _entropy_given_params(copula, alpha=0.05, sem_tol=1e-3): #copula_method\n",
    "        # Gaussian confidence interval for sem_tol and level alpha\n",
    "        conf = torch.erfinv(torch.tensor([1. - alpha]))\n",
    "        sem = torch.ones(copula.theta.shape[1])*float('inf')\n",
    "        ent = torch.zeros(copula.theta.shape[1])\n",
    "        var_sum = torch.zeros(copula.theta.shape[1])\n",
    "        log2 = torch.tensor([2.]).log()\n",
    "        k = 0\n",
    "        mc_size = copula.theta.shape[-1]\n",
    "        with torch.no_grad():\n",
    "            while torch.all(sem >= sem_tol):\n",
    "                # Generate samples\n",
    "                samples = copula.rsample()\n",
    "                assert samples.dim()==3 # [conditioning_variable, samples, 2]\n",
    "                logp = copula.log_prob(samples)\n",
    "                assert torch.all(logp==logp)\n",
    "                assert torch.all(logp.abs()!=float(\"inf\")) #otherwise make masked tensor below\n",
    "                log2p = logp / log2 #maybe should check for inf 2 lines earlier\n",
    "                k += 1\n",
    "                # Monte-Carlo estimate of entropy\n",
    "                ent += (-log2p.mean(dim=(-1)) - ent) / k\n",
    "                # Estimate standard error\n",
    "                var_sum += ((-log2p.t() - ent) ** 2).sum(dim=0)\n",
    "                sem = conf * (var_sum / (k * mc_size * (k * mc_size - 1))).pow(.5)\n",
    "        return ent#, sem\n",
    "    \n",
    "def warn_with_traceback(message, category, filename, lineno, file=None, line=None):\n",
    "    log = file if hasattr(file,'write') else sys.stderr\n",
    "    traceback.print_stack(file=log)\n",
    "    log.write(warnings.formatwarning(message, category, filename, lineno, line))\n",
    "        \n",
    "def measure_MI(n1,n2,likelihoods,points,device,samp_mc_size=10000):\n",
    "    get_weights_filename = glob.glob('{}/{}/model_{}-{}.pth'.format(path,exp_pref,n1,n2))\n",
    "    print(get_weights_filename)\n",
    "    if len(get_weights_filename)>0:\n",
    "        if len(get_weights_filename)>1:\n",
    "            print('There is more then 1 file, taking the first one')\n",
    "        model = bvcopula.load_model(get_weights_filename[0], likelihoods, device)\n",
    "        MIs = []\n",
    "        with torch.no_grad():\n",
    "            fs = model(points).rsample(torch.Size([20])) #[samples_f, copulas, positions]\n",
    "        fs = torch.einsum('ijk->jik', fs) #[copulas, samples_f, positions] \n",
    "        f = fs.reshape((fs.shape[0],-1)) #[copulas, (samples_f x positions)]\n",
    "        \n",
    "        copula = _get_copula(model.likelihood, f, sample_size = torch.Size([samp_mc_size]))\n",
    "        MI = _entropy_given_params(copula)\n",
    "        MIs = MI.reshape(fs.shape[1:]) #[samples_f, positions]\n",
    "        \n",
    "        # MI for mean\n",
    "        f = model(points).mean\n",
    "        copula = _get_copula(model.likelihood, f, sample_size = torch.Size([samp_mc_size]))\n",
    "        MI_mean = _entropy_given_params(copula)\n",
    "        \n",
    "        return (MI_mean,MIs.mean(dim=0),MIs.std(dim=0))\n",
    "    else:\n",
    "        print('Weights file {} not found.'.format(get_weights_filename))\n",
    "\n",
    "warnings.showwarning = warn_with_traceback\n",
    "\n",
    "points = torch.linspace(0,1,50)\n",
    "        \n",
    "n1=1\n",
    "n2=12\n",
    "%time (ym, y, dy) = measure_MI(n1, n2, data[n1+5,n2+5][0], points, torch.device('cpu'))"
   ]
  },
  {
   "cell_type": "code",
   "execution_count": 48,
   "metadata": {},
   "outputs": [
    {
     "data": {
      "text/plain": [
       "(-0.5, 0)"
      ]
     },
     "execution_count": 48,
     "metadata": {},
     "output_type": "execute_result"
    },
    {
     "data": {
      "image/png": "[encoded data removed]",
      "text/plain": [
       "<Figure size 432x288 with 1 Axes>"
      ]
     },
     "metadata": {
      "needs_background": "light"
     },
     "output_type": "display_data"
    }
   ],
   "source": [
    "plt.plot(np.linspace(0,160,len(y)),y)\n",
    "plt.fill_between(np.linspace(0,160,len(y)),y-dy,y+dy, alpha=0.3)\n",
    "plt.plot(np.linspace(0,160,len(ym)),ym)\n",
    "plt.ylim(-.5,0)"
   ]
  },
  {
   "cell_type": "code",
   "execution_count": null,
   "metadata": {},
   "outputs": [],
   "source": []
  }
 ],
 "metadata": {
  "kernelspec": {
   "display_name": "GPyTorch_new",
   "language": "python",
   "name": "gpytorch_new"
  },
  "language_info": {
   "codemirror_mode": {
    "name": "ipython",
    "version": 3
   },
   "file_extension": ".py",
   "mimetype": "text/x-python",
   "name": "python",
   "nbconvert_exporter": "python",
   "pygments_lexer": "ipython3",
   "version": "3.6.8"
  }
 },
 "nbformat": 4,
 "nbformat_minor": 2
}
