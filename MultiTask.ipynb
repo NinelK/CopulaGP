{
 "cells": [
  {
   "cell_type": "markdown",
   "metadata": {},
   "source": [
    "#  GP latent function inference"
   ]
  },
  {
   "cell_type": "markdown",
   "metadata": {},
   "source": [
    "This notebook uses GP to infer a latent function $\\lambda(x)$, which parameterises the exponential distribution:\n",
    "$$(y_1, y_2) \\sim SomeCopula(\\lambda),$$\n",
    "where:\n",
    "$$\\lambda = (2 \\cdot \\Phi(f) - 1) \\in (-1,+1)$$\n",
    "is a GP link function, which transforms the latent gaussian process variable:\n",
    "$$f \\sim GP \\in (-\\infty,+\\infty).$$"
   ]
  },
  {
   "cell_type": "code",
   "execution_count": 1,
   "metadata": {},
   "outputs": [],
   "source": [
    "import math\n",
    "import torch\n",
    "import gpytorch\n",
    "from matplotlib import pyplot as plt\n",
    "import numpy as np\n",
    "\n",
    "import bvcopula\n",
    "import utils\n",
    "\n",
    "%matplotlib inline\n",
    "%load_ext autoreload\n",
    "%autoreload 2"
   ]
  },
  {
   "cell_type": "code",
   "execution_count": 2,
   "metadata": {},
   "outputs": [],
   "source": [
    "#here we specify a 'true' latent function lambda\n",
    "theta1 = lambda x: x*0. + 1.\n",
    "theta2 = lambda x: x*0. + 1.\n",
    "con = lambda x: 0.+1.*x #np.clip(np.cos(2*np.pi*0.5*x)**5*0.5+0.5+0.8*(np.random.rand()-0.5),0,1) #*np.sin(2*np.pi*3*x+.6)"
   ]
  },
  {
   "cell_type": "code",
   "execution_count": 3,
   "metadata": {},
   "outputs": [
    {
     "data": {
      "image/png": "[encoded data removed]",
      "text/plain": [
       "<Figure size 720x288 with 2 Axes>"
      ]
     },
     "metadata": {
      "needs_background": "light"
     },
     "output_type": "display_data"
    }
   ],
   "source": [
    "import matplotlib.cm as cm\n",
    "\n",
    "#x_space setup\n",
    "NSamp = int(1e4)\n",
    "X = np.linspace(0.,1.,NSamp) \n",
    "\n",
    "# model setup\n",
    "# theta = torch.stack([torch.tensor([theta1(x) for x in X]),\n",
    "#                      torch.tensor([theta2(x) for x in X])]).float()\n",
    "# mix = torch.stack([torch.tensor([con(x) for x in X]),\n",
    "#                   torch.tensor([1-con(x) for x in X])]).float()\n",
    "#mix[1] = 1.-mix[0]\n",
    "theta = torch.tensor([theta1(x) for x in X]).unsqueeze(0)\n",
    "mix = torch.ones(len(X)).unsqueeze(0)\n",
    "likelihoods = [#bvcopula.IndependenceCopula_Likelihood(),#(rotation='0°'),\n",
    "               bvcopula.GaussianCopula_Likelihood()#(rotation='180°')\n",
    "              ]\n",
    "copulas = [lik.copula for lik in likelihoods]\n",
    "rotations = [lik.rotation for lik in likelihoods]\n",
    "copula_model = bvcopula.MixtureCopula(theta,mix,copulas,rotations=rotations)\n",
    "\n",
    "#generate samples\n",
    "Y = copula_model.sample().numpy().squeeze()\n",
    "colors = cm.rainbow(np.linspace(0., 1., Y.shape[0]))\n",
    "\n",
    "#plot model parameters and samples\n",
    "fig, (lambdaf, samples) = plt.subplots(1,2,figsize=(10,4))\n",
    "\n",
    "fp = utils.LatentSpacePlot('Latent functions','x','$\\lambda$',lambdaf)\n",
    "fp.plot(X,copula_model, colors=colors)\n",
    "\n",
    "sp = utils.PlotSamples('Samples from copula','$y_1$','$y_2$',samples)\n",
    "sp.plot(copula_model, Y[::10], colors[::10])\n",
    "\n",
    "fig.show()"
   ]
  },
  {
   "cell_type": "code",
   "execution_count": 4,
   "metadata": {},
   "outputs": [
    {
     "data": {
      "text/plain": [
       "array([], dtype=float32)"
      ]
     },
     "execution_count": 4,
     "metadata": {},
     "output_type": "execute_result"
    }
   ],
   "source": [
    "Y[(Y!=Y)==True]"
   ]
  },
  {
   "cell_type": "code",
   "execution_count": 5,
   "metadata": {},
   "outputs": [],
   "source": [
    "# formulate hypothesis\n",
    "likelihoods = [\n",
    "                #bvcopula.GumbelCopula_Likelihood(rotation='0°'),\n",
    "                #bvcopula.GumbelCopula_Likelihood(rotation='180°'),\n",
    "                #bvcopula.GumbelCopula_Likelihood(rotation='90°'),\n",
    "               # bvcopula.GumbelCopula_Likelihood(rotation='270°'),\n",
    "                 #bvcopula.ClaytonCopula_Likelihood(rotation='180°'),\n",
    "                 #bvcopula.ClaytonCopula_Likelihood(rotation='0°'),\n",
    "#                bvcopula.ClaytonCopula_Likelihood(rotation='90°'),\n",
    "#                 bvcopula.ClaytonCopula_Likelihood(rotation='270°')\n",
    "              ]\n",
    "likelihoods = [bvcopula.GaussianCopula_Likelihood(),\n",
    "               bvcopula.IndependenceCopula_Likelihood(),]"
   ]
  },
  {
   "cell_type": "code",
   "execution_count": 6,
   "metadata": {},
   "outputs": [],
   "source": [
    "#convert numpy data to tensors (optionally on GPU)\n",
    "train_x = torch.tensor(X).float().cuda(device=0)\n",
    "train_y = torch.tensor(Y).float().cuda(device=0)"
   ]
  },
  {
   "cell_type": "code",
   "execution_count": 7,
   "metadata": {},
   "outputs": [
    {
     "name": "stdout",
     "output_type": "stream",
     "text": [
      "3\n"
     ]
    }
   ],
   "source": [
    "# define the model (optionally on GPU)\n",
    "grid_size = 128#train_x.shape[0]\n",
    "thetas_sharing = torch.tensor([1,1]) \n",
    "if thetas_sharing is not None:\n",
    "    num_fs = len(likelihoods)+thetas_sharing.max().numpy() # indep_thetas + num_copulas - 1\n",
    "else:\n",
    "    num_fs = 2*len(likelihoods)-1\n",
    "print(num_fs)\n",
    "model = bvcopula.Mixed_GPInferenceModel(bvcopula.MixtureCopula_Likelihood(likelihoods, theta_sharing=thetas_sharing), \n",
    "                                        num_fs,\n",
    "                                        prior_rbf_length=0.5, \n",
    "                                        grid_size=grid_size).cuda(device=0)"
   ]
  },
  {
   "cell_type": "code",
   "execution_count": null,
   "metadata": {},
   "outputs": [
    {
     "name": "stdout",
     "output_type": "stream",
     "text": [
      "Basic lr for most of parameters: 0.01\n",
      "Iter 100/2000 - Loss: -1.24   lengthscale: [0.4992324  0.44854647 0.48124307], dLoss: 0.0\n",
      "Iter 200/2000 - Loss: -1.84   lengthscale: [0.49964938 0.4070888  0.50625217], dLoss: 0.434\n",
      "Iter 300/2000 - Loss: -2.41   lengthscale: [0.49979088 0.3809257  0.4823206 ], dLoss: 0.223\n",
      "Iter 400/2000 - Loss: -3.76   lengthscale: [0.4998629  0.34257483 0.4190603 ], dLoss: 0.516\n"
     ]
    }
   ],
   "source": [
    "# train the model\n",
    "\n",
    "base_lr = 1e-2\n",
    "iter_print = 100\n",
    "print('Basic lr for most of parameters: {}'.format(base_lr))\n",
    "\n",
    "optimizer = torch.optim.Adam([\n",
    "    {'params': model.mean_module.parameters()},\n",
    "    {'params': model.variational_strategy.parameters()},\n",
    "    {'params': model.covar_module.parameters(), 'lr': .001}, #hyperparameters\n",
    "], lr=base_lr)\n",
    "\n",
    "mll = utils.VariationalELBO(model.likelihood, model, torch.ones_like(train_x), \n",
    "                            num_data=train_y.size(0), particles=torch.Size([0]), combine_terms=True)\n",
    "\n",
    "losses, rbf, means = [], [], []\n",
    "\n",
    "def train(train_x, train_y, num_iter=2000):\n",
    "    model.train()\n",
    "\n",
    "    p = 0.\n",
    "    nans = 0\n",
    "    for i in range(num_iter):\n",
    "        optimizer.zero_grad()\n",
    "        output = model(train_x)\n",
    "        with gpytorch.settings.num_gauss_hermite_locs(5000):\n",
    "            loss = -mll(output, train_y)  \n",
    "        if len(losses)>100: \n",
    "            p += np.abs(np.mean(losses[-50:]) - np.mean(losses[-100:-50]))\n",
    "        losses.append(loss.detach().cpu().numpy())\n",
    "        rbf.append(model.covar_module.base_kernel.lengthscale.detach().cpu().numpy().squeeze())\n",
    "        means.append(model.variational_strategy.variational_distribution.variational_mean.detach().cpu().numpy())\n",
    "        if not (i + 1) % iter_print:\n",
    "            \n",
    "            mean_p = p/100\n",
    "            print('Iter {}/{} - Loss: {:.3}   lengthscale: {}, dLoss: {:.3}'.format(\n",
    "                i + 1, num_iter, loss,\n",
    "                model.covar_module.base_kernel.lengthscale.detach().cpu().numpy().squeeze(), \n",
    "                mean_p\n",
    "            ))\n",
    "            \n",
    "            if (0 < mean_p < 0.0001):\n",
    "                print(\"Converged!\")\n",
    "                break\n",
    "            p = 0.\n",
    "\n",
    "        # The actual optimization step\n",
    "        loss.backward()\n",
    "        covar_grad = model.variational_strategy.variational_distribution.chol_variational_covar.grad\n",
    "#         # strict\n",
    "        #assert torch.all(covar_grad==covar_grad)\n",
    "        #light\n",
    "        if torch.any(covar_grad!=covar_grad):\n",
    "            for n, par in model.named_parameters():\n",
    "                grad = par.grad.data\n",
    "                if torch.nonzero(grad!=grad).shape[0]!=0:\n",
    "                    print('NaN grad in {}'.format(n))\n",
    "                nans+=torch.nonzero(grad!=grad).shape[0]\n",
    "                if torch.any(grad.abs()==float('inf')):\n",
    "                    print(\"Grad inf... fixing...\")\n",
    "                    grad = torch.clamp(grad,-1.,1.)\n",
    "                grad[grad!=grad] = 0.0\n",
    "                par.grad.data = grad\n",
    "        optimizer.step()\n",
    "        \n",
    "%time train(train_x,train_y)"
   ]
  },
  {
   "cell_type": "code",
   "execution_count": null,
   "metadata": {},
   "outputs": [],
   "source": [
    "# prot loss function and kernel length\n",
    "labels = [\"Loss\", \"Kernel scale parameter\", \"Mean f\"]\n",
    "fig, ax = plt.subplots(1,3,figsize=(15,2))\n",
    "plot = utils.PlotTraining(fig,ax,labels)#y_lims)\n",
    "plot.plot([losses,rbf,[np.mean(x,axis=1) for x in means]])"
   ]
  },
  {
   "cell_type": "code",
   "execution_count": null,
   "metadata": {},
   "outputs": [],
   "source": [
    "# define test set (optionally on GPU)\n",
    "denser = 2 # make test set 2 times denser then the training set\n",
    "testX = np.linspace(0,1,denser*NSamp)\n",
    "test_x = torch.tensor(testX).float().cuda(device=0)"
   ]
  },
  {
   "cell_type": "code",
   "execution_count": null,
   "metadata": {},
   "outputs": [],
   "source": [
    "# visualize the result\n",
    "fig, ax = plt.subplots(2,2,figsize=(13, 8))\n",
    "\n",
    "model.eval()\n",
    "with torch.no_grad():\n",
    "    output = model(test_x)\n",
    "    \n",
    "gplink = model.likelihood.gplink_function\n",
    "\n",
    "thetas, mixes = gplink(output.mean)\n",
    "lower, upper = output.confidence_region() #thetas & mix together\n",
    "thetas_low, mixes_low = gplink(lower)\n",
    "thetas_upp, mixes_upp = gplink(upper)\n",
    " \n",
    "for t,l,u,c in zip(thetas,thetas_low,thetas_upp,[lik.name for lik in likelihoods]):\n",
    "    F_mean = t.detach().cpu().numpy()\n",
    "    if c=='Independence':\n",
    "        ax[0,0].plot([],[])\n",
    "    else:\n",
    "        line, = ax[0,0].plot(testX, F_mean, label = 'GP prediction')\n",
    "        ax[0,0].fill_between(testX, l.detach().cpu().numpy(),\n",
    "                    u.detach().cpu().numpy(), color=line.get_color(), alpha=0.5)\n",
    "\n",
    "ax[0,0].plot(testX,theta1(testX), label = 'True latent function')\n",
    "ax[0,0].plot(testX,theta2(testX), label = 'True latent function')\n",
    "ax[0,0].scatter(X,np.zeros_like(X)-0.1,color=colors)\n",
    "ax[0,0].set_xlabel('x')\n",
    "ax[0,0].set_ylabel('gp_link(f)')\n",
    "ax[0,0].set_title('Latent function')\n",
    "ax[0,0].legend()\n",
    "\n",
    "for t,l,u in zip(mixes[:-1],mixes_low[:-1],mixes_upp[:-1]):\n",
    "    F_mean = t.detach().cpu().numpy()\n",
    "    line, = ax[0,1].plot(testX, F_mean, label = 'GP prediction')\n",
    "    ax[0,1].fill_between(testX, l.detach().cpu().numpy(),\n",
    "                    u.detach().cpu().numpy(), color=line.get_color(), alpha=0.5)\n",
    "\n",
    "ax[0,1].plot(testX,con(testX), label = 'True latent function')\n",
    "ax[0,1].scatter(X,np.zeros_like(X),color=colors)\n",
    "ax[0,1].set_xlabel('x')\n",
    "ax[0,1].set_ylabel('gp_link(f)')\n",
    "ax[0,1].set_title('Latent function')\n",
    "ax[0,1].legend()\n",
    "\n",
    "# sample from p(y|D,x) = \\int p(y|f) p(f|D,x) (doubly stochastic)\n",
    "with gpytorch.settings.num_likelihood_samples(1):\n",
    "    test_y = model.likelihood(model(train_x)).rsample()\n",
    "    Y_sim = test_y.cpu().detach().numpy().squeeze()\n",
    "skip = 1\n",
    "ax[1,0].scatter(*Y[::skip].T, label = 'True train data', color=colors[::skip])\n",
    "ax[1,1].scatter(*Y_sim[::skip].T, label = 'Sample from the model', color=colors[::skip])\n",
    "for c in [0,1]:\n",
    "    ax[1,c].set_xlabel('$y_1$')\n",
    "    ax[1,c].set_ylabel('$y_2$')\n",
    "ax[1,0].set_title('True data samples')\n",
    "ax[1,1].set_title('Samples from copula with theta=gplink(f(x))')\n",
    "# samp.legend()\n",
    "\n",
    "\n",
    "\n",
    "fig.show()"
   ]
  },
  {
   "cell_type": "code",
   "execution_count": null,
   "metadata": {},
   "outputs": [],
   "source": [
    "WAIC = model.likelihood.WAIC(model(train_x), train_y)\n",
    "WAIC"
   ]
  },
  {
   "cell_type": "code",
   "execution_count": null,
   "metadata": {},
   "outputs": [],
   "source": [
    "model.entropy()"
   ]
  },
  {
   "cell_type": "code",
   "execution_count": null,
   "metadata": {},
   "outputs": [],
   "source": [
    "n=80\n",
    "ds =160./n\n",
    "FI, MI = model.likelihood.input_information(model,train_y,n,160.)\n",
    "FI_s, MI_s = model.likelihood.input_information(model,train_y,n,160., ignore_GP_uncertainty=True)"
   ]
  },
  {
   "cell_type": "code",
   "execution_count": null,
   "metadata": {},
   "outputs": [],
   "source": [
    "plt.plot(np.arange(n+1)*ds,FI_s.cpu().numpy(),label='Mean-GP Fisher information')\n",
    "plt.plot(np.arange(n+1)*ds,FI.cpu().numpy(),label='Doubly-stoch. Fisher information')\n",
    "plt.plot(0,0,color='white',label='MI1 = {:.1f} nats'.format(MI_s))\n",
    "plt.plot(0,0,color='white',label='MI2 = {:.1f} nats'.format(MI))\n",
    "plt.title(\"Fisher information\")\n",
    "plt.xlabel('Position, [cm]')\n",
    "plt.ylabel('FI, nat')\n",
    "plt.legend()"
   ]
  },
  {
   "cell_type": "code",
   "execution_count": null,
   "metadata": {},
   "outputs": [],
   "source": [
    "FI_gumbel = FI.cpu().numpy()\n",
    "MI_gumbel = MI.cpu().numpy()\n",
    "WAIC_gumbel = WAIC.cpu().numpy()"
   ]
  },
  {
   "cell_type": "code",
   "execution_count": null,
   "metadata": {},
   "outputs": [],
   "source": [
    "# plt.plot(np.arange(n+1)*ds,FI_true,label='True Fisher information (Gaussian)',color='black')\n",
    "# plt.plot(np.arange(n+1)*ds,FI_frank,label='Frank')\n",
    "# plt.plot(np.arange(n+1)*ds,FI_clay,label='Clayton (all 4)')\n",
    "plt.plot(np.arange(n+1)*ds,FI_gumbel,label='Gumbel (all 4)')\n",
    "#plt.plot(np.arange(n+1)*ds,FI_base,label='Baseline (gaussian)', color='grey', alpha=0.5)\n",
    "# plt.plot(0,0,color='white',label='MI_true = {:.0f} nats\\t   WAIC: {:.0f}'.format(MI_true,WAIC_true).expandtabs())\n",
    "# plt.plot(0,0,color='white',label=\"MI_frank = {:.0f} nats\\t    WAIC: {:.0f}\".format(MI_frank,WAIC_frank).expandtabs())\n",
    "# plt.plot(0,0,color='white',label='MI_clayton = {:.0f} nats\\tWAIC: {:.0f}'.format(MI_clay,WAIC_clay).expandtabs())\n",
    "plt.plot(0,0,color='white',label=\"MI_gumbel = {:.0f} nats\\tWAIC: {:.0f}\".format(MI_gumbel,WAIC_gumbel).expandtabs())\n",
    "#plt.plot(0,0,color='white',label='MI_gauss = {:.0f} nats\\t  WAIC: {:.0f}'.format(MI_base,WAIC_base).expandtabs())\n",
    "plt.title(\"Fisher information\")\n",
    "plt.xlabel('Position, [cm]')\n",
    "plt.ylabel('FI, nat')\n",
    "plt.ylim(0,10)\n",
    "plt.legend(loc=(1.05,0))"
   ]
  },
  {
   "cell_type": "code",
   "execution_count": null,
   "metadata": {},
   "outputs": [],
   "source": []
  }
 ],
 "metadata": {
  "kernelspec": {
   "display_name": "GPyTorch_new",
   "language": "python",
   "name": "gpytorch_new"
  },
  "language_info": {
   "codemirror_mode": {
    "name": "ipython",
    "version": 3
   },
   "file_extension": ".py",
   "mimetype": "text/x-python",
   "name": "python",
   "nbconvert_exporter": "python",
   "pygments_lexer": "ipython3",
   "version": "3.6.8"
  }
 },
 "nbformat": 4,
 "nbformat_minor": 2
}
