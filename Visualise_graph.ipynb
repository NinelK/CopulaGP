{
 "cells": [
  {
   "cell_type": "code",
   "execution_count": 1,
   "metadata": {},
   "outputs": [],
   "source": [
    "import pickle as pkl\n",
    "from glob import glob\n",
    "#import networkx as nx\n",
    "import numpy as np\n",
    "import matplotlib.pyplot as plt \n",
    "list_files = glob(\"../models/MI_measures/*copulaMI.pkl\")"
   ]
  },
  {
   "cell_type": "code",
   "execution_count": 814,
   "metadata": {},
   "outputs": [],
   "source": [
    "def marginal_file_name(string):\n",
    "    arr = str.split(string,sep='_')\n",
    "    return f\"{arr[0]}_{arr[1]}_{arr[2]}_marginalMI.pkl\"\n",
    "def linear_file_name(string):\n",
    "    arr = str.split(string,sep='_')\n",
    "    return f\"{arr[0]}_{arr[1]}_{arr[2]}_linearMI.pkl\"\n",
    "def load_data(string):\n",
    "    with open(string,\"rb\") as f:\n",
    "        copula = pkl.load(f)\n",
    "    with open(marginal_file_name(string),\"rb\") as f:\n",
    "        marginal = pkl.load(f)\n",
    "    with open(linear_file_name(string),\"rb\") as f:\n",
    "        linear = pkl.load(f)\n",
    "    return (linear,marginal,copula)\n",
    "def name(i):\n",
    "    if i>1:\n",
    "        return i\n",
    "    elif i==1:\n",
    "        return 'average'\n",
    "    elif i==0:\n",
    "        return 'bg'\n",
    "    elif i==-1:\n",
    "        return 'V'\n",
    "    elif i==-2:\n",
    "        return 'licks'\n",
    "    elif i==-3:\n",
    "        return 'reward'\n",
    "    elif i==-4:\n",
    "        return 'ER'\n",
    "    elif i==-5:\n",
    "        return 'LR'\n",
    "def make_node_list(N):\n",
    "    l = [name(i-5) for i in range(N)] #5 behavioural variables\n",
    "    return l"
   ]
  },
  {
   "cell_type": "code",
   "execution_count": 815,
   "metadata": {},
   "outputs": [
    {
     "data": {
      "text/plain": [
       "['../models/MI_measures/ST260_Day1_copulaMI.pkl',\n",
       " '../models/MI_measures/ST264_Day4_copulaMI.pkl',\n",
       " '../models/MI_measures/ST262_Day2_copulaMI.pkl',\n",
       " '../models/MI_measures/ST260_Day3_copulaMI.pkl',\n",
       " '../models/MI_measures/ST262_Day4_copulaMI.pkl',\n",
       " '../models/MI_measures/ST264_Day3_copulaMI.pkl',\n",
       " '../models/MI_measures/ST260_Day4_copulaMI.pkl',\n",
       " '../models/MI_measures/ST263_Day1_copulaMI.pkl',\n",
       " '../models/MI_measures/ST263_Day4_copulaMI.pkl',\n",
       " '../models/MI_measures/ST264_Day1_copulaMI.pkl']"
      ]
     },
     "execution_count": 815,
     "metadata": {},
     "output_type": "execute_result"
    }
   ],
   "source": [
    "list_files"
   ]
  },
  {
   "cell_type": "code",
   "execution_count": 2148,
   "metadata": {},
   "outputs": [],
   "source": [
    "dayname = 'ST263_Day2'\n",
    "filename = f\"../models/{dayname}/summary.pkl\"\n",
    "with open(filename,'rb') as f:\n",
    "    summary = pkl.load(f)\n",
    "filename = f\"../models/MI_measures/{dayname}_copulaMI.pkl\"\n",
    "linear0, marginal0, copula0 = load_data(filename)\n",
    "marginal0[2,4] /= 2\n",
    "# copula0[...,2] = -copula0[...,2] #messed up with entropy sign\n",
    "# copula0[...,3] = -copula0[...,3] #messed up with entropy sign\n",
    "t = str.split(filename,'_')[1:3]\n",
    "title = str.split(t[0],'/')[-1]+' '+t[1]"
   ]
  },
  {
   "cell_type": "code",
   "execution_count": 2149,
   "metadata": {},
   "outputs": [
    {
     "data": {
      "text/plain": [
       "<matplotlib.image.AxesImage at 0x7fe26309b320>"
      ]
     },
     "execution_count": 2149,
     "metadata": {},
     "output_type": "execute_result"
    },
    {
     "data": {
      "image/png": "[encoded data removed]",
      "text/plain": [
       "<Figure size 432x288 with 1 Axes>"
      ]
     },
     "metadata": {
      "needs_background": "light"
     },
     "output_type": "display_data"
    }
   ],
   "source": [
    "plt.imshow(-linear0)"
   ]
  },
  {
   "cell_type": "code",
   "execution_count": 2150,
   "metadata": {},
   "outputs": [],
   "source": [
    "k,b = np.polyfit(-linear0[7:,7:].flatten(),copula0[7:,7:,0].flatten(),1)"
   ]
  },
  {
   "cell_type": "code",
   "execution_count": 2151,
   "metadata": {},
   "outputs": [
    {
     "name": "stdout",
     "output_type": "stream",
     "text": [
      "2 21\n"
     ]
    },
    {
     "data": {
      "image/png": "[encoded data removed]",
      "text/plain": [
       "<Figure size 360x367.2 with 1 Axes>"
      ]
     },
     "metadata": {
      "needs_background": "light"
     },
     "output_type": "display_data"
    }
   ],
   "source": [
    "# from matplotlib.transforms import Affine2D\n",
    "# import mpl_toolkits.axisartist.floating_axes as floating_axes\n",
    "\n",
    "marginal = marginal0\n",
    "sumH = np.empty_like(marginal[0])\n",
    "Nv = copula0.shape[0]\n",
    "for i in range(Nv):\n",
    "    s = 0\n",
    "    for j in range(Nv):\n",
    "        s+=copula0[min(i,j),max(i,j),0]\n",
    "    sumH[i] = s/(Nv/30)\n",
    "fig = plt.figure(figsize=(5,5.1))\n",
    "mask = marginal[0]>0\n",
    "plt.scatter(marginal[0][7:][mask[7:]],sumH[7:][mask[7:]], label='Single neurons')\n",
    "plt.scatter(marginal[0][:7][mask[:7]],sumH[:7][mask[:7]], label='Other variables')\n",
    "x = np.linspace(0,1,100) #np.max(marginal[0])\n",
    "plt.plot(x,x)\n",
    "plt.xlabel('Variable\\'s MI with position', fontsize=16)\n",
    "plt.ylabel('Sum of pair\\'s MI with position', fontsize=16)\n",
    "#plt.ylim(-0.01,np.max(sumH)+0.01)\n",
    "plt.xlim(-0.01,1.001)\n",
    "plt.ylim(-0.01,1.001)\n",
    "plt.title(title[6:], fontsize=20) #title\n",
    "plt.legend(loc=(0.3,0.87))\n",
    "\n",
    "nodelist = np.array(make_node_list(Nv))\n",
    "#labels = nodelist[sumH>marginal[0]]\n",
    "labels = []\n",
    "for x,y,t in zip (marginal[0][:7][mask[:7]],sumH[:7][mask[:7]],nodelist[:7][mask[:7]]):\n",
    "    if (y>x) & ((y>0.02) | (x>0.02)):\n",
    "        plt.text(x-0.01,y+0.01,t)\n",
    "        labels.append(t)\n",
    "np.array(labels)\n",
    "\n",
    "print(np.sum(sumH[7:][mask[7:]]>=marginal[0][7:][mask[7:]]),len(marginal[0][7:][mask[7:]]))\n",
    "\n",
    "# plot_extents = -0.25, 0.25, 0.5, 0.55\n",
    "# transform = Affine2D().rotate_deg(-45)\n",
    "# helper = floating_axes.GridHelperCurveLinear(transform, plot_extents)\n",
    "# ax = floating_axes.FloatingSubplot(fig, 111, grid_helper=helper)\n",
    "\n",
    "# fig.add_subplot(ax)\n",
    "\n",
    "fig.savefig(f\"SP_{title}.pdf\")"
   ]
  },
  {
   "cell_type": "code",
   "execution_count": 2152,
   "metadata": {},
   "outputs": [
    {
     "data": {
      "image/png": "[encoded data removed]",
      "text/plain": [
       "<Figure size 504x144 with 1 Axes>"
      ]
     },
     "metadata": {
      "needs_background": "light"
     },
     "output_type": "display_data"
    }
   ],
   "source": [
    "fig = plt.figure(figsize=(7,2))\n",
    "plt.hist(sumH[7:][mask[7:]]-marginal[0][7:][mask[7:]],bins=20)\n",
    "plt.hist(sumH[:7][mask[:7]]-marginal[0][:7][mask[:7]],bins=20)\n",
    "plt.xlim(1,-1)\n",
    "fig.savefig(f\"hist_{title}.pdf\")"
   ]
  },
  {
   "cell_type": "code",
   "execution_count": 2153,
   "metadata": {},
   "outputs": [],
   "source": [
    "model_type = np.zeros_like(summary).astype('int')\n",
    "for i in range(summary.shape[0]):\n",
    "    for j in range(summary.shape[1]):\n",
    "        if summary[i,j]!=None:\n",
    "            if summary[i,j][1]=='Independence':\n",
    "                model_type[i,j] = 0\n",
    "            elif (summary[i,j][1]=='Gaussian') | (summary[i,j][1]=='IndependenceGaussian') | \\\n",
    "                (summary[i,j][1]=='Frank') | (summary[i,j][1]=='IndependenceFrank'):\n",
    "                model_type[i,j] = 1\n",
    "            else:\n",
    "                model_type[i,j] = 2"
   ]
  },
  {
   "cell_type": "code",
   "execution_count": 2154,
   "metadata": {},
   "outputs": [],
   "source": [
    "# xy[0,:] = np.array([-1/2,-(3/4)**(1/2)])*small_r #LR\n",
    "# xy[1,:] = np.array([+1/2,-(3/4)**(1/2)])*small_r #ER\n",
    "# xy[2,:] = np.array([+1,0])*small_r #rew\n",
    "# xy[3,:] = np.array([-1,0])*small_r #lick\n",
    "# xy[4,:] = [0,0] #vel\n",
    "# xy[5,:] = np.array([+1/2,+(3/4)**(1/2)])*small_r #bg\n",
    "# xy[6,:] = np.array([-1/2,+(3/4)**(1/2)])*small_r #neuropil"
   ]
  },
  {
   "cell_type": "code",
   "execution_count": 2166,
   "metadata": {},
   "outputs": [],
   "source": [
    "def get_important_variables(Nv,marginal0,copula0,thr=0.001):\n",
    "    variables = np.zeros(Nv)\n",
    "    for i in range(7,len(variables)):\n",
    "        if marginal0[0,i]>thr:\n",
    "            variables[i] = 1\n",
    "        else:\n",
    "            s = 0\n",
    "            for j in range(Nv):\n",
    "                s+=np.clip(copula0[min(i,j),max(i,j),0],1e-2,float(\"inf\"))-1e-2\n",
    "            if s>thr:\n",
    "                variables[i] = 1\n",
    "    variables[:7] = 0\n",
    "    variables[0] = 0 #no LR\n",
    "    variables[5] = 0 #no background\n",
    "    return variables\n",
    "\n",
    "variables = get_important_variables(copula0.shape[0],marginal0,copula0)"
   ]
  },
  {
   "cell_type": "code",
   "execution_count": 2167,
   "metadata": {},
   "outputs": [],
   "source": [
    "#var1 = variables\n",
    "#variables = (var1 >= 1.0) * 1\n",
    "#variables = ((var1 + var2 + var3)>=1.0)*1\n",
    "#np.sum(variables)/len(variables)"
   ]
  },
  {
   "cell_type": "code",
   "execution_count": 2168,
   "metadata": {},
   "outputs": [],
   "source": [
    "import cmocean\n",
    "cmap = cmocean.tools.crop_by_percent(cmocean.tools.crop_by_percent(cmocean.cm.phase, 10, which='min', N=None), 40, which='max', N=None)\n",
    "#cmap = matplotlib.cm.get_cmap('viridis')"
   ]
  },
  {
   "cell_type": "code",
   "execution_count": 2169,
   "metadata": {},
   "outputs": [],
   "source": [
    "def _is_outlier(thr,l,c):\n",
    "    first = np.sum(thr[0]<l)\n",
    "    if first==0:\n",
    "        d_min = thr[1,0]\n",
    "    elif first == len(thr[0]):\n",
    "        d_min = thr[1,-1]\n",
    "    else:\n",
    "        d_min = (thr[1,first-1]+thr[1,first])/2\n",
    "    if c>=k*l+b+d_min:\n",
    "        return 1\n",
    "    else:\n",
    "        return 0"
   ]
  },
  {
   "cell_type": "code",
   "execution_count": 2180,
   "metadata": {},
   "outputs": [
    {
     "name": "stderr",
     "output_type": "stream",
     "text": [
      "/home/nina/.envs/GPyTorch_new/lib/python3.6/site-packages/IPython/core/interactiveshell.py:3326: RankWarning: Polyfit may be poorly conditioned\n",
      "  exec(code_obj, self.user_global_ns, self.user_ns)\n"
     ]
    },
    {
     "data": {
      "image/png": "[encoded data removed]",
      "text/plain": [
       "<Figure size 360x360 with 1 Axes>"
      ]
     },
     "metadata": {
      "needs_background": "light"
     },
     "output_type": "display_data"
    }
   ],
   "source": [
    "import matplotlib\n",
    "\n",
    "Nv0 = copula0.shape[0] #total number of variables \n",
    "assert Nv0==copula0.shape[1]\n",
    "assert Nv0==marginal0.shape[1]\n",
    "\n",
    "sc = Nv0/5 #scale\n",
    "nodelist = make_node_list(Nv0)\n",
    "nodelist = np.array(nodelist)[variables==1]\n",
    "\n",
    "marginal = marginal0.T[variables==1].T\n",
    "copula = copula0[variables==1][:,variables==1]\n",
    "linear = -linear0[variables==1][:,variables==1] #SIGN!\n",
    "models = model_type[variables==1][:,variables==1]\n",
    "Nv = copula.shape[0]\n",
    "\n",
    "mark = np.zeros_like(copula0[...,0])\n",
    "mN = 5\n",
    "mark[mN+5,:] = 1\n",
    "mark[:,mN+5] = 1\n",
    "mark = (mark[variables==1][:,variables==1])[5:,5:].flatten()\n",
    "\n",
    "fig = plt.figure(figsize=(5,5))\n",
    "l,c,t=linear[5:,5:].flatten(),copula[5:,5:,0].flatten(),models[5:,5:].flatten()\n",
    "#c[t==1] = l[t==1]\n",
    "#mask = (c>1e-2) & ((c>1e-2) | (l>1e-2))\n",
    "mask = (c>0) & (t==1)\n",
    "plt.scatter(l[mask],c[mask],alpha=0.7,s=10,color='grey',label='Linear (gaussian)')\n",
    "(k,b) = np.polyfit(l[mask],c[mask],1)\n",
    "mask = (c>0) & (t==2)\n",
    "plt.scatter(l[mask],c[mask],alpha=0.7,s=10, color='C1', label='Nonlinear')\n",
    "x = np.linspace(0,np.max(l[mask]),100)\n",
    "plt.plot(x,x*k+b,c='black',linestyle='dashed')\n",
    "\n",
    "mask = (c>0) & (t==1)\n",
    "order = np.argsort(l[mask])\n",
    "hb = 1 #half-batch 10\n",
    "n = len(l[mask])-2*hb\n",
    "thr = np.zeros((2,n+2))\n",
    "X = l[mask][order]\n",
    "Y = c[mask][order]\n",
    "for i in range(hb,n+hb):\n",
    "    thr[0,i-hb+1] = X[i-hb:i+hb].mean()\n",
    "    thr[1,i-hb+1] = (Y[i-hb:i+hb]-k*X[i-hb:i+hb]-b).std()\n",
    "thr_orig = thr\n",
    "thr[1][2:-2] = (4*thr[1][2:-2] + 2*np.roll(thr[1][2:-2],1) + 2 *np.roll(thr[1][2:-2],-1) \\\n",
    "                + np.roll(thr[1][2:-2],1)+ np.roll(thr[1][2:-2],-1))/10\n",
    "thr[0,0]=-0.002\n",
    "thr[1,0]=thr[1,1]\n",
    "thr[0,-1] = 0.06\n",
    "thr[1,-1] = thr[1,-2]\n",
    "plt.fill_between(thr[0],k*thr[0]+b+thr[1],np.clip(k*thr[0]+b-thr[1],-0.002,1),color='grey',alpha=0.3)\n",
    "plt.fill_between(thr[0],k*thr[0]+b+2*thr[1],np.clip(k*thr[0]+b-2*thr[1],-0.002,1),color='grey',alpha=0.3)\n",
    "plt.fill_between(thr[0],k*thr[0]+b+4*thr[1],np.clip(k*thr[0]+b-4*thr[1],-0.002,1),color='grey',alpha=0.3)\n",
    "thr = thr_orig\n",
    "\n",
    "# find outliers\n",
    "mask = (t>0) & (c>1e-3)\n",
    "c =c[mask]\n",
    "out = np.empty_like(c)\n",
    "for i in range(len(c)):\n",
    "    out[i] = _is_outlier(thr,l[mask][i],c[i])\n",
    "N_out = np.sum(out).astype('int')\n",
    "MIp = np.sum(c[out==1])/np.sum(c)*100\n",
    "plt.text(0,0.057*k,f\">$\\sigma$: {N_out} outliers, {MIp:.0f}% MI\")\n",
    "out = np.empty_like(c)\n",
    "for i in range(len(c)):\n",
    "    out[i] = _is_outlier(2*thr,l[mask][i],c[i])\n",
    "N_out = np.sum(out).astype('int')\n",
    "MIp = np.sum(c[out==1])/np.sum(c)*100\n",
    "plt.text(0,0.054*k,f\">2$\\sigma$: {N_out} outliers, {MIp:.0f}% MI\")\n",
    "out = np.empty_like(c)\n",
    "for i in range(len(c)):\n",
    "    out[i] = _is_outlier(4*thr,l[mask][i],c[i])\n",
    "N_out = np.sum(out).astype('int')\n",
    "MIp = np.sum(c[out==1])/np.sum(c)*100\n",
    "plt.text(0,0.051*k,f\">4$\\sigma$: {N_out} outliers, {MIp:.0f}% MI\")\n",
    "\n",
    "plt.xlabel('Linear MI', fontsize = 16)\n",
    "plt.ylabel('NonLinear MI', fontsize = 16)\n",
    "plt.title(title[6:], fontsize=20) #title\n",
    "plt.legend(loc=4)\n",
    "\n",
    "# plt.scatter(l[mask],c[mask]/l[mask]-1,alpha=0.3,s=3)\n",
    "# #plt.scatter(l[mask & (mark==1)],c[mask& (mark==1)]-l[mask & (mark==1)],alpha=0.5)\n",
    "# x = np.linspace(0,np.max(l[mask]),100)\n",
    "# plt.xlabel('Linear MI')\n",
    "# plt.ylabel('NonLinear MI/Linear MI - 1')\n",
    "# perc = lambda x: np.sum(c[mask]>x*(l[mask]+bias))/len(c[mask])*100 \n",
    "plt.xlim(-0.002,0.06)\n",
    "plt.ylim(-0.002,0.06*k)\n",
    "fig.savefig(f\"LNL_{title}.pdf\")\n",
    "# plt.axhline(0,color='black')\n",
    "# plt.axvline(0.01,color='black',linestyle='dashed',linewidth=0.5)\n",
    "# print(perc(1),perc(1.1),perc(1.2))"
   ]
  },
  {
   "cell_type": "code",
   "execution_count": 2181,
   "metadata": {},
   "outputs": [
    {
     "data": {
      "text/plain": [
       "(1.0, 1.0)"
      ]
     },
     "execution_count": 2181,
     "metadata": {},
     "output_type": "execute_result"
    }
   ],
   "source": [
    "out = np.empty_like(c)\n",
    "for i in range(len(c)):\n",
    "    out[i] = _is_outlier(thr,l[i],c[i])\n",
    "(np.sum(c[out==1])/np.sum(c), np.sum(c[(out==1) & (c>1e-2)])/np.sum(c[c>1e-2]))"
   ]
  },
  {
   "cell_type": "code",
   "execution_count": 2184,
   "metadata": {},
   "outputs": [
    {
     "name": "stdout",
     "output_type": "stream",
     "text": [
      "0.002097374941856755 0.0\n",
      "2\n"
     ]
    },
    {
     "name": "stderr",
     "output_type": "stream",
     "text": [
      "/home/nina/.envs/GPyTorch_new/lib/python3.6/site-packages/scipy/stats/_distn_infrastructure.py:1720: RuntimeWarning: divide by zero encountered in true_divide\n",
      "  x = np.asarray((x - loc)/scale, dtype=dtyp)\n"
     ]
    },
    {
     "data": {
      "image/png": "[encoded data removed]",
      "text/plain": [
       "<Figure size 432x288 with 1 Axes>"
      ]
     },
     "metadata": {
      "needs_background": "light"
     },
     "output_type": "display_data"
    }
   ],
   "source": [
    "import scipy.stats as stats\n",
    "\n",
    "fig = plt.figure()\n",
    "l,c,t=linear[5:,5:].flatten(),copula[5:,5:,0].flatten(),models[5:,5:].flatten()\n",
    "mask = (c>0.01) & (t==1)\n",
    "lin = c[mask]-l[mask]\n",
    "mask = (c>0.01) & (t==2)\n",
    "nonlin = c[mask]-l[mask]\n",
    "print(lin.mean(),lin.std())\n",
    "thr0 = lin.mean() + 2*lin.std()\n",
    "plt.hist((lin,nonlin[nonlin<=thr0],nonlin[nonlin>thr0]), stacked=True, bins=20,\n",
    "         label = (f\"Linear models ({100*len(lin)/(len(lin)+len(nonlin)):.0f}%)\",\n",
    "                  'Nonlinear models',\n",
    "                  f\"... with extra information\"),\n",
    "         color = ('grey','C1','C3')\n",
    "        )\n",
    "#plt.xlim(np.min(lin)*1.1,np.max(nonlin)*1.3)\n",
    "plt.xlim(-0.03,0.03)\n",
    "plt.ylim(0,8) #112/2\n",
    "x = np.linspace(-0.03,0.07, 100) #np.max(nonlin)\n",
    "plt.plot(x, stats.norm.pdf(x, lin.mean(), lin.std())/70,color='black')\n",
    "plt.axvline(thr0,color='black',linestyle='dashed')\n",
    "plt.text(lin.mean()+2*lin.std()+0.007,3,f\"{100*np.sum(nonlin>thr0)/(len(nonlin)+len(lin)):.0f}%: {np.sum(nonlin>thr0)}\",fontsize=20)\n",
    "plt.text(lin.mean()+2*lin.std()+0.001,4.5,\"$\\mu+2\\cdot\\sigma$\",fontsize=10)\n",
    "plt.xlabel('Extra information: nonlinear MI - linear MI',fontsize=16)\n",
    "plt.ylabel('# pairs',fontsize=16)\n",
    "plt.legend(loc=2)\n",
    "plt.title(title[6:], fontsize=20) #title\n",
    "fig.savefig(f\"LNLhist_{title}.pdf\")\n",
    "print(len(lin) + len(nonlin))"
   ]
  },
  {
   "cell_type": "code",
   "execution_count": 2114,
   "metadata": {},
   "outputs": [
    {
     "data": {
      "text/plain": [
       "array([[ 0, 11]])"
      ]
     },
     "execution_count": 2114,
     "metadata": {},
     "output_type": "execute_result"
    }
   ],
   "source": [
    "#find those above threshold\n",
    "sh = copula0[5:].shape[0]\n",
    "gr = np.mgrid[0:sh,0:sh]\n",
    "mask = (copula0[5:,5:,0]-linear0[5:,5:]>-0.0025) & (linear0[5:,5:]>0.01)\n",
    "np.array([gr[0][mask],gr[1][mask]]).T\n",
    "#copula[5:,5:,0]-linear[5:,5:]>thr0"
   ]
  },
  {
   "cell_type": "code",
   "execution_count": 2054,
   "metadata": {},
   "outputs": [
    {
     "data": {
      "text/plain": [
       "array([[[0.        , 0.        , 0.        , 0.        ],\n",
       "        [0.03176103, 0.00190719, 0.08559769, 0.00724553],\n",
       "        [0.02348499, 0.00104394, 0.26082206, 0.00792549],\n",
       "        ...,\n",
       "        [0.        , 0.        , 0.        , 0.        ],\n",
       "        [0.        , 0.        , 0.        , 0.        ],\n",
       "        [0.        , 0.        , 0.        , 0.        ]],\n",
       "\n",
       "       [[0.        , 0.        , 0.        , 0.        ],\n",
       "        [0.        , 0.        , 0.        , 0.        ],\n",
       "        [0.04109189, 0.00232873, 0.20343423, 0.00816729],\n",
       "        ...,\n",
       "        [0.        , 0.        , 0.        , 0.        ],\n",
       "        [0.        , 0.        , 0.        , 0.        ],\n",
       "        [0.        , 0.        , 0.        , 0.        ]],\n",
       "\n",
       "       [[0.        , 0.        , 0.        , 0.        ],\n",
       "        [0.        , 0.        , 0.        , 0.        ],\n",
       "        [0.        , 0.        , 0.        , 0.        ],\n",
       "        ...,\n",
       "        [0.        , 0.        , 0.        , 0.        ],\n",
       "        [0.00811588, 0.00214462, 0.03159028, 0.00452227],\n",
       "        [0.02712897, 0.00579273, 0.00768249, 0.00187277]],\n",
       "\n",
       "       ...,\n",
       "\n",
       "       [[0.        , 0.        , 0.        , 0.        ],\n",
       "        [0.        , 0.        , 0.        , 0.        ],\n",
       "        [0.        , 0.        , 0.        , 0.        ],\n",
       "        ...,\n",
       "        [0.        , 0.        , 0.        , 0.        ],\n",
       "        [0.        , 0.        , 0.        , 0.        ],\n",
       "        [0.        , 0.        , 0.        , 0.        ]],\n",
       "\n",
       "       [[0.        , 0.        , 0.        , 0.        ],\n",
       "        [0.        , 0.        , 0.        , 0.        ],\n",
       "        [0.        , 0.        , 0.        , 0.        ],\n",
       "        ...,\n",
       "        [0.        , 0.        , 0.        , 0.        ],\n",
       "        [0.        , 0.        , 0.        , 0.        ],\n",
       "        [0.01099547, 0.00266842, 0.04599785, 0.01523948]],\n",
       "\n",
       "       [[0.        , 0.        , 0.        , 0.        ],\n",
       "        [0.        , 0.        , 0.        , 0.        ],\n",
       "        [0.        , 0.        , 0.        , 0.        ],\n",
       "        ...,\n",
       "        [0.        , 0.        , 0.        , 0.        ],\n",
       "        [0.        , 0.        , 0.        , 0.        ],\n",
       "        [0.        , 0.        , 0.        , 0.        ]]])"
      ]
     },
     "execution_count": 2054,
     "metadata": {},
     "output_type": "execute_result"
    }
   ],
   "source": [
    "copula0"
   ]
  },
  {
   "cell_type": "code",
   "execution_count": 2006,
   "metadata": {},
   "outputs": [
    {
     "name": "stdout",
     "output_type": "stream",
     "text": [
      "7 26 -0.012743230382668282 34.5\n",
      "9 21 -0.022337321653266073 47.3\n",
      "21 33 -0.015800531335801348 29.4\n"
     ]
    },
    {
     "data": {
      "image/png": "[encoded data removed]",
      "text/plain": [
       "<Figure size 842.4x561.6 with 3 Axes>"
      ]
     },
     "metadata": {
      "needs_background": "light"
     },
     "output_type": "display_data"
    }
   ],
   "source": [
    "sizes = np.clip(marginal[0][5:],0.01,2.)*10\n",
    "dsizes = marginal[1][5:]*sc/5\n",
    "#sizes = marginal[1]*500\n",
    "#dsizes = np.zeros_like(marginal[1])\n",
    "angles = 2*np.pi*(np.arange(Nv)-5)/(Nv-5)\n",
    "big_R = sc*5\n",
    "xy = np.stack([np.cos(angles),np.sin(angles)]).T*big_R\n",
    "small_r = big_R/2\n",
    "for i in range(5):\n",
    "    angle = 2*np.pi*i/5\n",
    "    xy[i,:] = np.array([np.cos(angle),np.sin(angle)])*small_r #LR\n",
    "\n",
    "dHm = np.max(marginal[2]-np.min(marginal[2]))#-np.min(marginal[2])\n",
    "Hs = copula[...,2].flatten()[copula[...,0].flatten()>1e-2]\n",
    "#Hs = copula[...,3].flatten()[copula[...,1].flatten()>0.5*1e-2]\n",
    "H_max = np.max(Hs)\n",
    "#H_max=0.07\n",
    "dH = H_max - 0.0\n",
    "bias = 0\n",
    "colors = cmap(1-(marginal[2]-np.min(marginal[2]))/dHm)\n",
    "\n",
    "fig, ax = plt.subplots(figsize=(1.5*sc,sc))\n",
    "\n",
    "def draw_lines(Is,zorder):\n",
    "    linewidth, segs, line_colors, line_styles = [], [], [], []\n",
    "    for i in Is:\n",
    "        for j in range(i+1,Nv):\n",
    "            if copula[i,j,0]>1e-2:\n",
    "            #if copula[i,j,1]>5*1e-3:\n",
    "                segs.append([xy[i],xy[j]])\n",
    "                linewidth.append((copula[i,j,0]*100))\n",
    "                line_colors.append(cmap((H_max-copula[i,j,2])/dH))\n",
    "                if _is_outlier(thr,linear[i,j],copula[i,j,0]):\n",
    "                    line_styles.append('dashed')\n",
    "                    if _is_outlier(4*thr,linear[i,j],copula[i,j,0]):\n",
    "                        print(nodelist[i],nodelist[j],linear[i,j],\n",
    "                          f\"{(copula[i,j,0]-linear[i,j])*1e3:.1f}\")\n",
    "                else:\n",
    "                    line_styles.append('solid')\n",
    "#                     if linear[i,j]>0.05:\n",
    "#                         print(nodelist[i],nodelist[j],linear[i,j],\n",
    "#                           f\"{(copula[i,j,0]-linear[i,j])*1e3:.1f}\")\n",
    "            elif copula[i,j,0]==0:\n",
    "                if (linear[i,j]>0.03):\n",
    "                    pass\n",
    "#                     print(nodelist[i],nodelist[j],linear[i,j],\n",
    "#                           f\"{(linear[i,j])*100:.1f}\")\n",
    "                \n",
    "    line_segments = matplotlib.collections.LineCollection(segs, linewidths=linewidth,\n",
    "                                   colors=line_colors, linestyles=line_styles,zorder=zorder, alpha=0.5)\n",
    "    return line_segments\n",
    "# lines = draw_lines(range(0,5),2)\n",
    "# ax.add_collection(lines)\n",
    "lines = draw_lines(range(5,Nv-1),0)\n",
    "ax.add_collection(lines)\n",
    "\n",
    "# circle = plt.Circle([0,0],small_r*1.2,zorder=1,linewidth=1,edgecolor='black',facecolor='white',alpha=0.8)\n",
    "# ax.add_patch(circle)\n",
    "\n",
    "s = 1.0\n",
    "out_space = 3\n",
    "for text, c in zip(nodelist[5:],xy[5:]):\n",
    "    if c[0]**2+c[1]**2 <= small_r**2:\n",
    "        ax.text(c[0]-s+np.sign(c[0])*out_space,\n",
    "            c[1]-s+np.sign(c[1])*out_space,text,bbox=dict(facecolor='white', alpha=0.8, linewidth=0),zorder=10)\n",
    "    else:\n",
    "        ax.text(c[0]-s,c[1]-s,text,zorder=10)\n",
    "\n",
    "# Note that the patches won't be added to the axes, instead a collection will\n",
    "patches_min = [plt.Circle(center, size) for center, size in zip(xy[5:], sizes-dsizes)]\n",
    "patches_max = [plt.Circle(center, size) for center, size in zip(xy[5:], sizes+dsizes)]\n",
    "\n",
    "coll = matplotlib.collections.PatchCollection(patches_min, facecolors=colors, alpha=0.2,zorder=10)\n",
    "ax.add_collection(coll)\n",
    "coll = matplotlib.collections.PatchCollection(patches_max, facecolors=colors, edgecolors='white', linewidth=2,zorder=10)\n",
    "ax.add_collection(coll)\n",
    "\n",
    "ax.margins(0.05)\n",
    "\n",
    "Hm_max = np.max(marginal[2])\n",
    "#Hm_max=0.07\n",
    "\n",
    "axcbC = fig.colorbar(matplotlib.cm.ScalarMappable(cmap=cmap), ax=ax, ticks=np.linspace(0,1,6))\n",
    "axcbC.ax.invert_yaxis()\n",
    "axcbC.ax.set_yticklabels([f\"{i:.2f}\" for i in np.flip(np.linspace(0,H_max,6))])\n",
    "axcbC.set_label('Copula Entropy (negative)')\n",
    "\n",
    "axcbM = fig.colorbar(matplotlib.cm.ScalarMappable(cmap=cmap), ax=ax, ticks=np.linspace(0,1,6))\n",
    "axcbM.ax.invert_yaxis()\n",
    "axcbM.ax.set_yticklabels([f\"{i:.1f}\" for i in np.flip(np.linspace(0.0,Hm_max,6))])\n",
    "axcbM.set_label('Marginal Entropy')\n",
    "\n",
    "plt.title(title)\n",
    "ax.set_xticks([])\n",
    "ax.set_yticks([])\n",
    "plt.show()\n",
    "# g = nx.Graph() \n",
    "# g.add_nodes_from(nodelist)\n",
    "# weights = []\n",
    "# for i in range(0,Nv-1):\n",
    "#     for j in range(i+1,Nv):\n",
    "#         if copula[i,j,0]>1e-2:\n",
    "#             g.add_edge(name(i-5),name(j-5)) \n",
    "#             weights.append((copula[i,j,0]*20))\n",
    "# plt.figure(figsize=(int(Nv/7),int(Nv/7)))\n",
    "# plt.title(str.split(filename,'_')[:2])\n",
    "# nx.draw_circular(g, with_labels = True,node_size=sizes, width=weights)"
   ]
  },
  {
   "cell_type": "code",
   "execution_count": 1758,
   "metadata": {},
   "outputs": [
    {
     "data": {
      "text/plain": [
       "<matplotlib.collections.PathCollection at 0x7fe263c53ef0>"
      ]
     },
     "execution_count": 1758,
     "metadata": {},
     "output_type": "execute_result"
    },
    {
     "data": {
      "image/png": "[encoded data removed]",
      "text/plain": [
       "<Figure size 360x360 with 1 Axes>"
      ]
     },
     "metadata": {
      "needs_background": "light"
     },
     "output_type": "display_data"
    }
   ],
   "source": [
    "plt.figure(figsize=(5,5))\n",
    "plt.scatter(copula[...,0],copula[...,2])"
   ]
  },
  {
   "cell_type": "code",
   "execution_count": 1759,
   "metadata": {},
   "outputs": [
    {
     "data": {
      "text/plain": [
       "<matplotlib.collections.PathCollection at 0x7fe253f16a20>"
      ]
     },
     "execution_count": 1759,
     "metadata": {},
     "output_type": "execute_result"
    },
    {
     "data": {
      "image/png": "[encoded data removed]",
      "text/plain": [
       "<Figure size 360x360 with 1 Axes>"
      ]
     },
     "metadata": {
      "needs_background": "light"
     },
     "output_type": "display_data"
    }
   ],
   "source": [
    "plt.figure(figsize=(5,5))\n",
    "plt.scatter(marginal[0,3:],marginal[2,3:])"
   ]
  },
  {
   "cell_type": "code",
   "execution_count": 1760,
   "metadata": {},
   "outputs": [
    {
     "data": {
      "text/plain": [
       "<matplotlib.image.AxesImage at 0x7fe25d523b38>"
      ]
     },
     "execution_count": 1760,
     "metadata": {},
     "output_type": "execute_result"
    },
    {
     "data": {
      "image/png": "[encoded data removed]",
      "text/plain": [
       "<Figure size 432x288 with 1 Axes>"
      ]
     },
     "metadata": {
      "needs_background": "light"
     },
     "output_type": "display_data"
    }
   ],
   "source": [
    "plt.imshow(copula[...,0]+(copula[...,2]/10).T)"
   ]
  },
  {
   "cell_type": "code",
   "execution_count": 1761,
   "metadata": {},
   "outputs": [
    {
     "data": {
      "text/plain": [
       "['../models/MI_measures/ST260_Day1_copulaMI.pkl',\n",
       " '../models/MI_measures/ST264_Day4_copulaMI.pkl',\n",
       " '../models/MI_measures/ST262_Day2_copulaMI.pkl',\n",
       " '../models/MI_measures/ST260_Day3_copulaMI.pkl',\n",
       " '../models/MI_measures/ST262_Day4_copulaMI.pkl',\n",
       " '../models/MI_measures/ST264_Day3_copulaMI.pkl',\n",
       " '../models/MI_measures/ST260_Day4_copulaMI.pkl',\n",
       " '../models/MI_measures/ST263_Day1_copulaMI.pkl',\n",
       " '../models/MI_measures/ST263_Day4_copulaMI.pkl',\n",
       " '../models/MI_measures/ST264_Day1_copulaMI.pkl']"
      ]
     },
     "execution_count": 1761,
     "metadata": {},
     "output_type": "execute_result"
    }
   ],
   "source": [
    "list_files"
   ]
  },
  {
   "cell_type": "code",
   "execution_count": 1762,
   "metadata": {},
   "outputs": [
    {
     "ename": "ValueError",
     "evalue": "too many values to unpack (expected 2)",
     "output_type": "error",
     "traceback": [
      "\u001b[0;31m---------------------------------------------------------------------------\u001b[0m",
      "\u001b[0;31mValueError\u001b[0m                                Traceback (most recent call last)",
      "\u001b[0;32m<ipython-input-1762-e285c83ba461>\u001b[0m in \u001b[0;36m<module>\u001b[0;34m\u001b[0m\n\u001b[1;32m     15\u001b[0m \u001b[0;34m\u001b[0m\u001b[0m\n\u001b[1;32m     16\u001b[0m \u001b[0mfilenames\u001b[0m \u001b[0;34m=\u001b[0m \u001b[0;34m[\u001b[0m\u001b[0;34mf\"../models/MI_measures/ST260_Day{d}_copulaMI.pkl\"\u001b[0m \u001b[0;32mfor\u001b[0m \u001b[0md\u001b[0m \u001b[0;32min\u001b[0m \u001b[0;34m[\u001b[0m\u001b[0;36m1\u001b[0m\u001b[0;34m,\u001b[0m\u001b[0;36m3\u001b[0m\u001b[0;34m,\u001b[0m\u001b[0;36m4\u001b[0m\u001b[0;34m]\u001b[0m\u001b[0;34m]\u001b[0m\u001b[0;34m\u001b[0m\u001b[0;34m\u001b[0m\u001b[0m\n\u001b[0;32m---> 17\u001b[0;31m \u001b[0mplt\u001b[0m\u001b[0;34m.\u001b[0m\u001b[0mplot\u001b[0m\u001b[0;34m(\u001b[0m\u001b[0;34m*\u001b[0m\u001b[0mpoints\u001b[0m\u001b[0;34m(\u001b[0m\u001b[0mfilenames\u001b[0m\u001b[0;34m)\u001b[0m\u001b[0;34m)\u001b[0m\u001b[0;34m\u001b[0m\u001b[0;34m\u001b[0m\u001b[0m\n\u001b[0m\u001b[1;32m     18\u001b[0m \u001b[0mplt\u001b[0m\u001b[0;34m.\u001b[0m\u001b[0mscatter\u001b[0m\u001b[0;34m(\u001b[0m\u001b[0;34m*\u001b[0m\u001b[0mpoints\u001b[0m\u001b[0;34m(\u001b[0m\u001b[0mfilenames\u001b[0m\u001b[0;34m)\u001b[0m\u001b[0;34m[\u001b[0m\u001b[0;34m:\u001b[0m\u001b[0;34m,\u001b[0m\u001b[0;34m-\u001b[0m\u001b[0;36m1\u001b[0m\u001b[0;34m]\u001b[0m\u001b[0;34m)\u001b[0m\u001b[0;34m\u001b[0m\u001b[0;34m\u001b[0m\u001b[0m\n\u001b[1;32m     19\u001b[0m \u001b[0mfilenames\u001b[0m \u001b[0;34m=\u001b[0m \u001b[0;34m[\u001b[0m\u001b[0;34mf\"../models/MI_measures/ST262_Day{d}_copulaMI.pkl\"\u001b[0m \u001b[0;32mfor\u001b[0m \u001b[0md\u001b[0m \u001b[0;32min\u001b[0m \u001b[0;34m[\u001b[0m\u001b[0;36m2\u001b[0m\u001b[0;34m,\u001b[0m\u001b[0;36m4\u001b[0m\u001b[0;34m]\u001b[0m\u001b[0;34m]\u001b[0m\u001b[0;34m\u001b[0m\u001b[0;34m\u001b[0m\u001b[0m\n",
      "\u001b[0;32m<ipython-input-1762-e285c83ba461>\u001b[0m in \u001b[0;36mpoints\u001b[0;34m(filenames)\u001b[0m\n\u001b[1;32m      8\u001b[0m     \u001b[0ml\u001b[0m \u001b[0;34m=\u001b[0m \u001b[0;34m[\u001b[0m\u001b[0;34m]\u001b[0m\u001b[0;34m\u001b[0m\u001b[0;34m\u001b[0m\u001b[0m\n\u001b[1;32m      9\u001b[0m     \u001b[0;32mfor\u001b[0m \u001b[0mfilename\u001b[0m \u001b[0;32min\u001b[0m \u001b[0mfilenames\u001b[0m\u001b[0;34m:\u001b[0m\u001b[0;34m\u001b[0m\u001b[0;34m\u001b[0m\u001b[0m\n\u001b[0;32m---> 10\u001b[0;31m         \u001b[0mmarginal0\u001b[0m\u001b[0;34m,\u001b[0m \u001b[0mcopula0\u001b[0m \u001b[0;34m=\u001b[0m \u001b[0mload_data\u001b[0m\u001b[0;34m(\u001b[0m\u001b[0mfilename\u001b[0m\u001b[0;34m)\u001b[0m\u001b[0;34m\u001b[0m\u001b[0;34m\u001b[0m\u001b[0m\n\u001b[0m\u001b[1;32m     11\u001b[0m         \u001b[0mH1\u001b[0m \u001b[0;34m=\u001b[0m \u001b[0mcopula0\u001b[0m\u001b[0;34m[\u001b[0m\u001b[0;36m7\u001b[0m\u001b[0;34m:\u001b[0m\u001b[0;34m,\u001b[0m\u001b[0;36m7\u001b[0m\u001b[0;34m:\u001b[0m\u001b[0;34m,\u001b[0m\u001b[0;36m0\u001b[0m\u001b[0;34m]\u001b[0m\u001b[0;34m.\u001b[0m\u001b[0mflatten\u001b[0m\u001b[0;34m(\u001b[0m\u001b[0;34m)\u001b[0m\u001b[0;34m\u001b[0m\u001b[0;34m\u001b[0m\u001b[0m\n\u001b[1;32m     12\u001b[0m         \u001b[0mH2\u001b[0m \u001b[0;34m=\u001b[0m \u001b[0mcopula0\u001b[0m\u001b[0;34m[\u001b[0m\u001b[0;36m7\u001b[0m\u001b[0;34m:\u001b[0m\u001b[0;34m,\u001b[0m\u001b[0;36m7\u001b[0m\u001b[0;34m:\u001b[0m\u001b[0;34m,\u001b[0m\u001b[0;36m2\u001b[0m\u001b[0;34m]\u001b[0m\u001b[0;34m.\u001b[0m\u001b[0mflatten\u001b[0m\u001b[0;34m(\u001b[0m\u001b[0;34m)\u001b[0m\u001b[0;34m\u001b[0m\u001b[0;34m\u001b[0m\u001b[0m\n",
      "\u001b[0;31mValueError\u001b[0m: too many values to unpack (expected 2)"
     ]
    }
   ],
   "source": [
    "#copula0[...,2] = -copula0[...,2] #messed up with entropy sign\n",
    "#copula0[...,3] = -copula0[...,3] #messed up with entropy signHc = copula[...,2].flatten()\n",
    "#Hc = copula0[7:,7:,0].flatten()\n",
    "#print(np.sum(Hc==0))\n",
    "#print(np.median(Hc[Hc>np.median(Hc[Hc>0])]),np.std(Hc[Hc>0]))\n",
    "#plt.hist(Hc[Hc>0], density=True, alpha=0.3)\n",
    "def points(filenames):\n",
    "    l = []\n",
    "    for filename in filenames:\n",
    "        marginal0, copula0 = load_data(filename)\n",
    "        H1 = copula0[7:,7:,0].flatten()\n",
    "        H2 = copula0[7:,7:,2].flatten()\n",
    "        l.append([H1[H1>1e-3].mean(),H2[H2>1e-3].mean()])\n",
    "    return np.array(l).T\n",
    "\n",
    "filenames = [f\"../models/MI_measures/ST260_Day{d}_copulaMI.pkl\" for d in [1,3,4]]\n",
    "plt.plot(*points(filenames))\n",
    "plt.scatter(*points(filenames)[:,-1])\n",
    "filenames = [f\"../models/MI_measures/ST262_Day{d}_copulaMI.pkl\" for d in [2,4]]\n",
    "plt.plot(*points(filenames))\n",
    "plt.scatter(*points(filenames)[:,-1])\n",
    "filenames = [f\"../models/MI_measures/ST263_Day{d}_copulaMI.pkl\" for d in [1,4]]\n",
    "plt.plot(*points(filenames))\n",
    "plt.scatter(*points(filenames)[:,-1])\n",
    "filenames = [f\"../models/MI_measures/ST264_Day{d}_copulaMI.pkl\" for d in [1,3,4]]\n",
    "plt.plot(*points(filenames))\n",
    "plt.scatter(*points(filenames)[:,-1])\n",
    "plt.xlabel('MI vs pos')\n",
    "plt.ylabel('H')"
   ]
  },
  {
   "cell_type": "code",
   "execution_count": 1763,
   "metadata": {},
   "outputs": [
    {
     "name": "stderr",
     "output_type": "stream",
     "text": [
      "/home/nina/.envs/GPyTorch_new/lib/python3.6/site-packages/ipykernel_launcher.py:2: RuntimeWarning: invalid value encountered in true_divide\n",
      "  \n"
     ]
    },
    {
     "data": {
      "text/plain": [
       "0.9036106544082378"
      ]
     },
     "execution_count": 1763,
     "metadata": {},
     "output_type": "execute_result"
    }
   ],
   "source": [
    "import numpy as np\n",
    "rel = copula[...,1]/copula[...,0]\n",
    "np.max(rel[rel==rel])"
   ]
  },
  {
   "cell_type": "code",
   "execution_count": null,
   "metadata": {},
   "outputs": [],
   "source": []
  }
 ],
 "metadata": {
  "kernelspec": {
   "display_name": "GPyTorch_new",
   "language": "python",
   "name": "gpytorch_new"
  },
  "language_info": {
   "codemirror_mode": {
    "name": "ipython",
    "version": 3
   },
   "file_extension": ".py",
   "mimetype": "text/x-python",
   "name": "python",
   "nbconvert_exporter": "python",
   "pygments_lexer": "ipython3",
   "version": "3.6.8"
  }
 },
 "nbformat": 4,
 "nbformat_minor": 2
}
