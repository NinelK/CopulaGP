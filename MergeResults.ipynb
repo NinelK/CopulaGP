{
 "cells": [
  {
   "cell_type": "code",
   "execution_count": 1,
   "metadata": {},
   "outputs": [],
   "source": [
    "import numpy as np\n",
    "import pickle as pkl\n",
    "import glob\n",
    "import torch\n",
    "import matplotlib.pyplot as plt\n",
    "\n",
    "import bvcopula"
   ]
  },
  {
   "cell_type": "code",
   "execution_count": 2,
   "metadata": {},
   "outputs": [
    {
     "name": "stdout",
     "output_type": "stream",
     "text": [
      "['./out/ST263_Day4_8108_models.pkl', './out/ST263_Day4_9704_models.pkl', './out/ST263_Day4_2163_models.pkl']\n"
     ]
    }
   ],
   "source": [
    "path = './out/'\n",
    "animal = 'ST263'\n",
    "dayN = 4\n",
    "day_name = 'Day{}'.format(dayN)\n",
    "exp_pref = '{}_{}'.format(animal,day_name)\n",
    "print(glob.glob(path+exp_pref+\"*.pkl\"))"
   ]
  },
  {
   "cell_type": "code",
   "execution_count": 3,
   "metadata": {},
   "outputs": [],
   "source": [
    "with open('./out/ST263_Day4_9704_models.pkl','rb') as f:\n",
    "    new_data = pkl.load(f)"
   ]
  },
  {
   "cell_type": "code",
   "execution_count": 4,
   "metadata": {},
   "outputs": [],
   "source": [
    "data = np.empty((28,28),dtype=object)\n",
    "with open('./out/ST263_Day4_2163_models.pkl','rb') as f:\n",
    "    new_data = pkl.load(f)\n",
    "for i in range(-5,5):\n",
    "    for j in range(i+1,23):\n",
    "        if new_data[i,j]!=None:\n",
    "            assert data[i+5,j+5]==None\n",
    "            data[i+5,j+5] = new_data[i,j]\n",
    "with open('./out/ST263_Day4_9704_models.pkl','rb') as f:\n",
    "    new_data = pkl.load(f)\n",
    "for i in range(4,8):\n",
    "    for j in range(i+1,23):\n",
    "        if (new_data[i,j]!=None) & ((i<7) | (j<15)):\n",
    "            assert (data[i+5,j+5]==None)\n",
    "            data[i+5,j+5] = new_data[i,j]\n",
    "with open('./out/ST263_Day4_8108_models.pkl','rb') as f:\n",
    "    new_data = pkl.load(f)\n",
    "for i in range(0,22):\n",
    "    for j in range(i+1,23):\n",
    "        if new_data[i,j]!=None:\n",
    "            assert data[i+5,j+5]==None\n",
    "            data[i+5,j+5] = new_data[i,j]"
   ]
  },
  {
   "cell_type": "code",
   "execution_count": 5,
   "metadata": {},
   "outputs": [
    {
     "data": {
      "text/plain": [
       "<matplotlib.image.AxesImage at 0x7f551c3adcc0>"
      ]
     },
     "execution_count": 5,
     "metadata": {},
     "output_type": "execute_result"
    },
    {
     "data": {
      "image/png": "[encoded data removed]",
      "text/plain": [
       "<Figure size 432x288 with 1 Axes>"
      ]
     },
     "metadata": {
      "needs_background": "light"
     },
     "output_type": "display_data"
    }
   ],
   "source": [
    "plt.imshow((data!=None)*1.0)"
   ]
  },
  {
   "cell_type": "code",
   "execution_count": 6,
   "metadata": {},
   "outputs": [],
   "source": [
    "#parse text results\n",
    "\n",
    "def neuron_ids(string):\n",
    "    arr = str.split(string,sep='-')\n",
    "    n1,n2 = 1,1\n",
    "    which = 0\n",
    "    for a in arr:\n",
    "        try:\n",
    "            n = int(a)\n",
    "            if which:\n",
    "                n2*=n\n",
    "            else:\n",
    "                n1*=n\n",
    "                which=1\n",
    "        except ValueError:\n",
    "            if which:\n",
    "                n2 = -1\n",
    "            else:\n",
    "                n1 = -1\n",
    "    return n1,n2\n",
    "\n",
    "import csv\n",
    "\n",
    "NN = 23\n",
    "beh = 5\n",
    "data = np.empty((NN+beh,NN+beh),dtype=object)\n",
    "\n",
    "with open(path+'ST263_Day4_model_list.txt','r') as f:\n",
    "    next(f) # skip headings\n",
    "    reader=csv.reader(f,delimiter='\\t')\n",
    "    for res,waic,time in reader:\n",
    "        neuron, copula = str.split(res)\n",
    "        n1,n2 = neuron_ids(neuron)\n",
    "        data[n1+beh,n2+beh] = [copula,waic,time,n1,n2]"
   ]
  },
  {
   "cell_type": "code",
   "execution_count": 7,
   "metadata": {},
   "outputs": [
    {
     "data": {
      "text/plain": [
       "<matplotlib.image.AxesImage at 0x7f5519ceb940>"
      ]
     },
     "execution_count": 7,
     "metadata": {},
     "output_type": "execute_result"
    },
    {
     "data": {
      "image/png": "[encoded data removed]",
      "text/plain": [
       "<Figure size 432x288 with 1 Axes>"
      ]
     },
     "metadata": {
      "needs_background": "light"
     },
     "output_type": "display_data"
    }
   ],
   "source": [
    "plt.imshow((data!=None)*1.0)"
   ]
  },
  {
   "cell_type": "code",
   "execution_count": 8,
   "metadata": {},
   "outputs": [],
   "source": [
    "copulas = {}\n",
    "for d in data.reshape(-1):\n",
    "    if d is not None:\n",
    "        try:\n",
    "            copulas[d[0]] += 1\n",
    "        except KeyError:\n",
    "            copulas[d[0]] = 1"
   ]
  },
  {
   "cell_type": "code",
   "execution_count": 9,
   "metadata": {},
   "outputs": [
    {
     "data": {
      "text/plain": [
       "[309, 16, 13]"
      ]
     },
     "execution_count": 9,
     "metadata": {},
     "output_type": "execute_result"
    }
   ],
   "source": [
    "[copulas['Independence'],copulas['Gaussian'],copulas['Frank']]"
   ]
  },
  {
   "cell_type": "code",
   "execution_count": 10,
   "metadata": {},
   "outputs": [],
   "source": [
    "import re\n",
    "\n",
    "copula_names = ['Independence','Gaussian','Frank','Clayton','Gumbel']\n",
    "new_dict = {}\n",
    "\n",
    "for key, value in copulas.items():\n",
    "    binary_key = np.zeros(len(copula_names)).astype(int) #4 types of copulas\n",
    "    for i, name in enumerate(copula_names):\n",
    "        if re.search(name,key):\n",
    "            binary_key[i]+=1\n",
    "    new_key = ''.join([str(b) for b in binary_key])\n",
    "    try:\n",
    "        new_dict[new_key] += value\n",
    "    except KeyError:\n",
    "        new_dict[new_key] = value"
   ]
  },
  {
   "cell_type": "code",
   "execution_count": 11,
   "metadata": {},
   "outputs": [
    {
     "data": {
      "text/plain": [
       "{'00100': 13,\n",
       " '00110': 3,\n",
       " '10000': 309,\n",
       " '01000': 16,\n",
       " '10100': 7,\n",
       " '01010': 14,\n",
       " '11001': 2,\n",
       " '01100': 7,\n",
       " '10010': 1,\n",
       " '01110': 1,\n",
       " '00101': 1,\n",
       " '01001': 1,\n",
       " '10110': 1,\n",
       " '11000': 1,\n",
       " '10101': 1}"
      ]
     },
     "execution_count": 11,
     "metadata": {},
     "output_type": "execute_result"
    }
   ],
   "source": [
    "new_dict"
   ]
  },
  {
   "cell_type": "code",
   "execution_count": 12,
   "metadata": {},
   "outputs": [
    {
     "data": {
      "text/plain": [
       "{'Frank': 13,\n",
       " 'FrankClayton270°': 1,\n",
       " 'Independence': 309,\n",
       " 'Clayton270°Frank': 1,\n",
       " 'Gaussian': 16,\n",
       " 'IndependenceFrank': 7,\n",
       " 'Clayton90°Gaussian': 4,\n",
       " 'IndependenceGumbel90°Gaussian': 1,\n",
       " 'Clayton0°Gaussian': 2,\n",
       " 'Clayton180°Gaussian': 5,\n",
       " 'FrankGaussian': 6,\n",
       " 'GaussianClayton180°': 1,\n",
       " 'FrankClayton180°': 1,\n",
       " 'IndependenceClayton180°': 1,\n",
       " 'FrankClayton180°Gaussian': 1,\n",
       " 'FrankGumbel0°': 1,\n",
       " 'GaussianGumbel0°': 1,\n",
       " 'GaussianFrank': 1,\n",
       " 'Clayton180°IndependenceFrank': 1,\n",
       " 'IndependenceGaussian': 1,\n",
       " 'FrankIndependenceGumbel0°': 1,\n",
       " 'Clayton270°Gaussian': 2,\n",
       " 'IndependenceGumbel0°Gaussian': 1}"
      ]
     },
     "execution_count": 12,
     "metadata": {},
     "output_type": "execute_result"
    }
   ],
   "source": [
    "copulas"
   ]
  },
  {
   "cell_type": "code",
   "execution_count": 13,
   "metadata": {},
   "outputs": [
    {
     "data": {
      "text/plain": [
       "<matplotlib.collections.PathCollection at 0x7f551c51b828>"
      ]
     },
     "execution_count": 13,
     "metadata": {},
     "output_type": "execute_result"
    },
    {
     "data": {
      "image/png": "[encoded data removed]",
      "text/plain": [
       "<Figure size 432x288 with 1 Axes>"
      ]
     },
     "metadata": {
      "needs_background": "light"
     },
     "output_type": "display_data"
    }
   ],
   "source": [
    "x, y = [], []\n",
    "n1, n2 = [], []\n",
    "for d in data.reshape(-1):\n",
    "    if d is not None:\n",
    "        x.append(int(d[1]))\n",
    "        y.append(int(d[2])/60)\n",
    "        n1.append(int(d[3]))\n",
    "        n2.append(int(d[4]))\n",
    "plt.scatter(x,y)"
   ]
  },
  {
   "cell_type": "code",
   "execution_count": 14,
   "metadata": {},
   "outputs": [],
   "source": [
    "for n1 in range(-5,-3):\n",
    "    for n2 in range(n1+1,NN):\n",
    "        pass\n",
    "       # print(data[n1+beh,n2+beh])"
   ]
  },
  {
   "cell_type": "code",
   "execution_count": 16,
   "metadata": {},
   "outputs": [
    {
     "name": "stdout",
     "output_type": "stream",
     "text": [
      "torch.Size([100000, 1, 10, 10])\n",
      "tensor([0., 0., 0., 0., 0., 0., 0., 0., 0., 0.])\n",
      "tensor([0., 0., 0., 0., 0., 0., 0., 0., 0., 0.])\n",
      "tensor(-0.0637) tensor(0.0025)\n",
      "CPU times: user 15.4 s, sys: 2.52 s, total: 17.9 s\n",
      "Wall time: 6.12 s\n"
     ]
    }
   ],
   "source": [
    "def _get_copula(likelihood, f, sample_size): #likelihood method\n",
    "    thetas, mixes = likelihood.gplink_function(f)\n",
    "    thetas = thetas.expand(sample_size+thetas.shape)\n",
    "    mixes = mixes.expand(sample_size+mixes.shape)\n",
    "    print(thetas.shape)\n",
    "    thetas = torch.einsum('ijkl->jkli', thetas) # now: [copulas, positions, samples]\n",
    "    mixes = torch.einsum('ijkl->jkli', mixes)\n",
    "    copulas = [lik.copula for lik in likelihood.likelihoods]\n",
    "    rotations = [lik.rotation for lik in likelihood.likelihoods]\n",
    "    return likelihood.copula(thetas,mixes,copulas,rotations=rotations)\n",
    "    \n",
    "def _entropy_given_params(copula, alpha=0.05, sem_tol=1e-3): #copula_method\n",
    "        # Gaussian confidence interval for sem_tol and level alpha\n",
    "        conf = torch.erfinv(torch.tensor([1. - alpha]))\n",
    "        sem = torch.ones(copula.theta.shape[1])*float('inf')\n",
    "        ent = torch.zeros(copula.theta.shape[1])\n",
    "        var_sum = torch.zeros(copula.theta.shape[1])\n",
    "        log2 = torch.tensor([2.]).log()\n",
    "        k = 0\n",
    "        mc_size = copula.theta.shape[-1]\n",
    "        with torch.no_grad():\n",
    "            while torch.all(sem >= sem_tol):\n",
    "                # Generate samples\n",
    "                samples = copula.rsample()\n",
    "                logp = copula.log_prob(samples)\n",
    "                assert torch.all(logp==logp)\n",
    "                logp = logp.mean(dim=(-1,-2)) # collapse sample and conditional dimensions\n",
    "                log2p = logp[logp.abs()!=float(\"inf\")] / log2 #maybe should check for inf 2 lines earlier\n",
    "                k += 1\n",
    "                # Monte-Carlo estimate of entropy\n",
    "                ent += (-log2p - ent) / k\n",
    "                # Estimate standard error\n",
    "                var_sum += ((-log2p - ent) ** 2).sum()\n",
    "                print(var_sum)\n",
    "                sem = conf * (var_sum / (k * mc_size * (k * mc_size - 1))).pow(.5)\n",
    "        return ent, sem\n",
    "    \n",
    "def measure_MI(n1,n2,likelihoods,device,cond_mc_size=10,samp_mc_size=100000):\n",
    "    get_weights_filename = glob.glob('{}{}/model__cuda:?_{}-{}.pth'.format(path,exp_pref,n1,n2))\n",
    "    if len(get_weights_filename)>0:\n",
    "        if len(get_weights_filename)>1:\n",
    "            print('There is more then 1 file, taking the first one')\n",
    "        interv=torch.tensor([0.,1.])\n",
    "        points = torch.empty(size=torch.Size([cond_mc_size])).to(device=device)\n",
    "        points = points.uniform_(*interv)\n",
    "        model = bvcopula.load_model(get_weights_filename[0], likelihoods, device)\n",
    "        with torch.no_grad():\n",
    "            fs = model(points).rsample(torch.Size([10]))\n",
    "        copula = _get_copula(model.likelihood, fs, sample_size = torch.Size([samp_mc_size]))\n",
    "        MI, sem = _entropy_given_params(copula)\n",
    "        print(sem)\n",
    "#         MIs = []\n",
    "#         for f in fs:\n",
    "#             copula = _get_copula(model.likelihood, f, sample_size = torch.Size([samp_mc_size]))\n",
    "#             MI, _ = _entropy_given_params(copula)\n",
    "#             MIs.append(MI)\n",
    "        print(MI.mean(),MI.std())\n",
    "    else:\n",
    "        print('Weights file not found.')\n",
    "%time measure_MI(-5, -4, [bvcopula.FrankCopula_Likelihood()], torch.device('cpu'))"
   ]
  },
  {
   "cell_type": "code",
   "execution_count": 18,
   "metadata": {},
   "outputs": [
    {
     "ename": "NameError",
     "evalue": "name 'model' is not defined",
     "output_type": "error",
     "traceback": [
      "\u001b[0;31m---------------------------------------------------------------------------\u001b[0m",
      "\u001b[0;31mNameError\u001b[0m                                 Traceback (most recent call last)",
      "\u001b[0;32m<ipython-input-18-87d7c1fe5654>\u001b[0m in \u001b[0;36m<module>\u001b[0;34m\u001b[0m\n\u001b[0;32m----> 1\u001b[0;31m \u001b[0mmodel\u001b[0m\u001b[0;34m.\u001b[0m\u001b[0mlikelihood\u001b[0m\u001b[0;34m\u001b[0m\u001b[0;34m\u001b[0m\u001b[0m\n\u001b[0m",
      "\u001b[0;31mNameError\u001b[0m: name 'model' is not defined"
     ]
    }
   ],
   "source": [
    "model.likelihood"
   ]
  },
  {
   "cell_type": "code",
   "execution_count": 17,
   "metadata": {},
   "outputs": [
    {
     "ename": "NameError",
     "evalue": "name 'model' is not defined",
     "output_type": "error",
     "traceback": [
      "\u001b[0;31m---------------------------------------------------------------------------\u001b[0m",
      "\u001b[0;31mNameError\u001b[0m                                 Traceback (most recent call last)",
      "\u001b[0;32m<ipython-input-17-dad3fc455135>\u001b[0m in \u001b[0;36m<module>\u001b[0;34m\u001b[0m\n\u001b[0;32m----> 1\u001b[0;31m \u001b[0m_get_copula\u001b[0m\u001b[0;34m(\u001b[0m\u001b[0mmodel\u001b[0m\u001b[0;34m.\u001b[0m\u001b[0mlikelihood\u001b[0m\u001b[0;34m,\u001b[0m \u001b[0mf\u001b[0m\u001b[0;34m,\u001b[0m \u001b[0msample_size\u001b[0m \u001b[0;34m=\u001b[0m \u001b[0mtorch\u001b[0m\u001b[0;34m.\u001b[0m\u001b[0mSize\u001b[0m\u001b[0;34m(\u001b[0m\u001b[0;34m[\u001b[0m\u001b[0mmc_size\u001b[0m\u001b[0;34m]\u001b[0m\u001b[0;34m)\u001b[0m\u001b[0;34m)\u001b[0m\u001b[0;34m\u001b[0m\u001b[0;34m\u001b[0m\u001b[0m\n\u001b[0m",
      "\u001b[0;31mNameError\u001b[0m: name 'model' is not defined"
     ]
    }
   ],
   "source": [
    "_get_copula(model.likelihood, f, sample_size = torch.Size([mc_size]))"
   ]
  },
  {
   "cell_type": "code",
   "execution_count": 19,
   "metadata": {},
   "outputs": [
    {
     "name": "stdout",
     "output_type": "stream",
     "text": [
      "0.06334679573774338\n"
     ]
    }
   ],
   "source": [
    "import bvcopula\n",
    "\n",
    "def measure_MI(n1,n2,likelihoods,device):\n",
    "    get_weights_filename = glob.glob('{}{}/model__cuda:?_{}-{}.pth'.format(path,exp_pref,n1,n2))\n",
    "    if len(get_weights_filename)>0:\n",
    "        if len(get_weights_filename)>1:\n",
    "            print('There is more then 1 file, taking the first one')\n",
    "        model = bvcopula.load_model(get_weights_filename[0], likelihoods, device)\n",
    "        MI, dMI = [-el.cpu().item() for el in model.entropy(sem_tol=1e-3)] #FIX ME\n",
    "        print(MI)\n",
    "    else:\n",
    "        print('Weights file not found.')\n",
    "measure_MI(-5, -4, [bvcopula.FrankCopula_Likelihood()], torch.device('cuda:0'))"
   ]
  },
  {
   "cell_type": "code",
   "execution_count": null,
   "metadata": {},
   "outputs": [],
   "source": []
  }
 ],
 "metadata": {
  "kernelspec": {
   "display_name": "GPyTorch_new",
   "language": "python",
   "name": "gpytorch_new"
  },
  "language_info": {
   "codemirror_mode": {
    "name": "ipython",
    "version": 3
   },
   "file_extension": ".py",
   "mimetype": "text/x-python",
   "name": "python",
   "nbconvert_exporter": "python",
   "pygments_lexer": "ipython3",
   "version": "3.6.8"
  }
 },
 "nbformat": 4,
 "nbformat_minor": 2
}
