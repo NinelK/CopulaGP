{
 "cells": [
  {
   "cell_type": "code",
   "execution_count": 320,
   "metadata": {},
   "outputs": [],
   "source": [
    "import numpy as np\n",
    "import pickle as pkl\n",
    "import glob\n",
    "import matplotlib.pyplot as plt"
   ]
  },
  {
   "cell_type": "code",
   "execution_count": 249,
   "metadata": {},
   "outputs": [],
   "source": [
    "path = './out/'\n",
    "animal = 'ST263'\n",
    "dayN = 5\n",
    "day_name = 'Day{}'.format(dayN)\n",
    "exp_pref = '{}_{}'.format(animal,day_name)\n",
    "beh = 5 #number of behavioural variables\n",
    "list_files = glob.glob(path+exp_pref+\"*.pkl\")"
   ]
  },
  {
   "cell_type": "code",
   "execution_count": 250,
   "metadata": {},
   "outputs": [
    {
     "data": {
      "text/plain": [
       "['./out/ST263_Day5_6099_models.pkl',\n",
       " './out/ST263_Day5_8735_models.pkl',\n",
       " './out/ST263_Day5_7318_models.pkl',\n",
       " './out/ST263_Day5_3635_models.pkl',\n",
       " './out/ST263_Day5_164_models.pkl',\n",
       " './out/ST263_Day5_6672_models.pkl']"
      ]
     },
     "execution_count": 250,
     "metadata": {},
     "output_type": "execute_result"
    }
   ],
   "source": [
    "list_files"
   ]
  },
  {
   "cell_type": "markdown",
   "metadata": {},
   "source": [
    "### First merge pkls"
   ]
  },
  {
   "cell_type": "code",
   "execution_count": 254,
   "metadata": {},
   "outputs": [
    {
     "name": "stdout",
     "output_type": "stream",
     "text": [
      "Overwrite Independence(0) with Independence(0) at -5--4\n",
      "202\n",
      "Overwrite Independence(0) with Independence(0) at -5--2\n",
      "-527\n"
     ]
    }
   ],
   "source": [
    "#del(data)\n",
    "def fix_zero_times(entry):\n",
    "    # this function deletes stopped or broken runs\n",
    "    if (entry!=None):\n",
    "        if (entry[-1]==0):# & (entry[1]!='Independence'):\n",
    "            return None\n",
    "        else:\n",
    "            return entry\n",
    "    else:\n",
    "        return None\n",
    "\n",
    "with open(list_files[0],'rb') as f:\n",
    "    new_data = pkl.load(f)\n",
    "data_pkls = np.empty_like(new_data) #create an empty list\n",
    "for file in list_files:\n",
    "    with open(file,'rb') as f:\n",
    "        new_data = pkl.load(f)\n",
    "        new_data = np.array([[fix_zero_times(j) for j in i] for i in new_data])\n",
    "        # it is important to fix the data(above) before adding to the results\n",
    "        #check rewrites\n",
    "        rewrite_rule = (new_data!=None) & (data_pkls!=None)\n",
    "        rewrite_new = new_data[rewrite_rule]\n",
    "        if len(rewrite_new)>0:\n",
    "            overwrite = data_pkls[rewrite_rule]\n",
    "            X,Y = np.mgrid[0:new_data.shape[0],0:new_data.shape[1]]\n",
    "            for old_el,new_el,x,y in zip(overwrite,rewrite_new,X[rewrite_rule],Y[rewrite_rule]):\n",
    "                print('Overwrite {}({}) with {}({}) at {}-{}'.format(\n",
    "                    old_el[1],old_el[2],\n",
    "                    new_el[1],new_el[2],\n",
    "                    x-beh,y-beh\n",
    "                    ))\n",
    "                print(new_el[-1])\n",
    "        #add results\n",
    "        data_pkls[new_data!=None] = new_data[new_data!=None]"
   ]
  },
  {
   "cell_type": "code",
   "execution_count": 255,
   "metadata": {},
   "outputs": [
    {
     "data": {
      "text/plain": [
       "<matplotlib.image.AxesImage at 0x7f54b029def0>"
      ]
     },
     "execution_count": 255,
     "metadata": {},
     "output_type": "execute_result"
    },
    {
     "data": {
      "image/png": "[encoded data removed]",
      "text/plain": [
       "<Figure size 432x288 with 1 Axes>"
      ]
     },
     "metadata": {
      "needs_background": "light"
     },
     "output_type": "display_data"
    }
   ],
   "source": [
    "plt.imshow((data_pkls!=None)*1.0)"
   ]
  },
  {
   "cell_type": "markdown",
   "metadata": {},
   "source": [
    "### Next check last records on a model list"
   ]
  },
  {
   "cell_type": "code",
   "execution_count": 256,
   "metadata": {},
   "outputs": [],
   "source": [
    "#parse text results\n",
    "\n",
    "def neuron_ids(string):\n",
    "    arr = str.split(string,sep='-')\n",
    "    n1,n2 = 1,1\n",
    "    which = 0\n",
    "    for a in arr:\n",
    "        try:\n",
    "            n = int(a)\n",
    "            if which:\n",
    "                n2*=n\n",
    "            else:\n",
    "                n1*=n\n",
    "                which=1\n",
    "        except ValueError:\n",
    "            if which:\n",
    "                n2 = -1\n",
    "            else:\n",
    "                n1 = -1\n",
    "    return n1,n2\n",
    "\n",
    "import csv\n",
    "\n",
    "NN = 23\n",
    "beh = 5\n",
    "data_txt = np.empty((NN+beh,NN+beh),dtype=object)\n",
    "\n",
    "with open(path+animal+'_'+day_name+'_model_list.txt','r') as f:\n",
    "    next(f) # skip headings\n",
    "    reader=csv.reader(f,delimiter='\\t')\n",
    "    for res,waic,time in reader:\n",
    "        neuron, copula = str.split(res)\n",
    "        n1,n2 = neuron_ids(neuron)\n",
    "        if time!=0:\n",
    "            data_txt[n1+beh,n2+beh] = [copula,waic,time,n1,n2]"
   ]
  },
  {
   "cell_type": "code",
   "execution_count": 258,
   "metadata": {},
   "outputs": [
    {
     "data": {
      "text/plain": [
       "<matplotlib.image.AxesImage at 0x7f54b0cbf3c8>"
      ]
     },
     "execution_count": 258,
     "metadata": {},
     "output_type": "execute_result"
    },
    {
     "data": {
      "image/png": "[encoded data removed]",
      "text/plain": [
       "<Figure size 432x288 with 1 Axes>"
      ]
     },
     "metadata": {
      "needs_background": "light"
     },
     "output_type": "display_data"
    }
   ],
   "source": [
    "plt.imshow((data_txt!=None)*1.0)"
   ]
  },
  {
   "cell_type": "markdown",
   "metadata": {},
   "source": [
    "### Now check that everything is merged correctly and save"
   ]
  },
  {
   "cell_type": "code",
   "execution_count": 319,
   "metadata": {},
   "outputs": [],
   "source": [
    "def check_data_merge(data_pkls, data_txt):\n",
    "    err = 0\n",
    "    for pkls,txt in zip(data_pkls.flatten(), data_txt.flatten()):\n",
    "        if pkls!=None:\n",
    "            assert txt!=None\n",
    "            if pkls[1]!=txt[0]:\n",
    "                err = 1\n",
    "        #    print(pkl[1],txt[0],pkl[2],txt[1],txt[-2],txt[-1])\n",
    "    return err"
   ]
  },
  {
   "cell_type": "code",
   "execution_count": 330,
   "metadata": {},
   "outputs": [],
   "source": [
    "def try_copy(source,target):\n",
    "    try:\n",
    "        os.path.exists(source)\n",
    "    except FileExistsError as error:\n",
    "        print(error)\n",
    "        return 0\n",
    "    finally:\n",
    "        os.popen('cp {} {}'.format(source,target)) \n",
    "        return 1\n",
    "        \n",
    "def copy_all_weights(data,in_dir,out_dir):\n",
    "    for i in range(data.shape[0]):\n",
    "        for j in range(i+1,data.shape[1]):\n",
    "            if data[i,j]!=None:\n",
    "                if data[i,j][1]!='Independence':\n",
    "                    name = '{}-{}'.format(i-beh,j-beh)\n",
    "                    source = '{}/model__{}.pth'.format(in_dir,name)\n",
    "                    target = '{}/model_{}.pth'.format(out_dir,name)\n",
    "                    assert try_copy(source,target)\n",
    "                    source = '{}/best__{}.png'.format(in_dir,name)\n",
    "                    target = '{}/figs/best_{}.png'.format(out_dir,name)\n",
    "                    assert try_copy(source,target)\n",
    "    with open(out_dir+'/summary.pkl','wb') as f:\n",
    "        pkl.dump(data,f)"
   ]
  },
  {
   "cell_type": "code",
   "execution_count": 331,
   "metadata": {},
   "outputs": [],
   "source": [
    "import os\n",
    "\n",
    "upper_ones = np.triu(np.ones(data_pkls.shape[0]))-np.diag(np.ones(data_pkls.shape[0]))\n",
    "\n",
    "out_dir = '../models/'+exp_pref\n",
    "try:\n",
    "    os.mkdir(out_dir)\n",
    "    os.mkdir(out_dir+'/figs/')\n",
    "except FileExistsError as error:\n",
    "    list_files = glob.glob(out_dir+\"*.p*\")\n",
    "    if len(list_files):\n",
    "        raise Exception(\"Folder not empty, save nothing\")\n",
    "    else:\n",
    "        assert check_data_merge(data_pkls, data_txt)==0\n",
    "        assert np.all(1*(data_pkls!=None) == upper_ones) #check that all results exist\n",
    "        # if folder is empty and all merged well -- save\n",
    "        copy_all_weights(data_pkls,path+exp_pref,out_dir)"
   ]
  },
  {
   "cell_type": "code",
   "execution_count": null,
   "metadata": {},
   "outputs": [],
   "source": []
  }
 ],
 "metadata": {
  "kernelspec": {
   "display_name": "GPyTorch_new",
   "language": "python",
   "name": "gpytorch_new"
  },
  "language_info": {
   "codemirror_mode": {
    "name": "ipython",
    "version": 3
   },
   "file_extension": ".py",
   "mimetype": "text/x-python",
   "name": "python",
   "nbconvert_exporter": "python",
   "pygments_lexer": "ipython3",
   "version": "3.6.8"
  }
 },
 "nbformat": 4,
 "nbformat_minor": 2
}
