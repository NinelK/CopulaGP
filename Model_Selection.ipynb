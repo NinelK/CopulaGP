{
 "cells": [
  {
   "cell_type": "code",
   "execution_count": 1,
   "metadata": {},
   "outputs": [],
   "source": [
    "import math\n",
    "import torch\n",
    "import gpytorch\n",
    "from matplotlib import pyplot as plt\n",
    "import numpy as np\n",
    "\n",
    "import bvcopula\n",
    "import utils\n",
    "import select_copula\n",
    "\n",
    "%matplotlib inline\n",
    "%load_ext autoreload\n",
    "%autoreload 2"
   ]
  },
  {
   "cell_type": "code",
   "execution_count": 2,
   "metadata": {},
   "outputs": [],
   "source": [
    "animal = 'ST263'\n",
    "dayN = 4\n",
    "day_name = 'Day{}'.format(dayN)\n",
    "path = '/home/nina/VRData/Processing/pkls'\n",
    "\n",
    "n1 = 1\n",
    "n2 = 12\n",
    "\n",
    "X,Y = utils.load_experimental_data(path, animal, day_name, n1, n2)\n",
    "exp_pref = '{}_{}'.format(animal,day_name)"
   ]
  },
  {
   "cell_type": "code",
   "execution_count": null,
   "metadata": {},
   "outputs": [
    {
     "name": "stdout",
     "output_type": "stream",
     "text": [
      "Trying  Gaussian \n",
      "Converged in 400 steps!\n",
      "Gaussian  took  15  sec\n",
      "WAIC=2.67e+03\n",
      "Trying  Frank \n",
      "Converged in 300 steps!\n",
      "Frank  took  9  sec\n",
      "WAIC=2.73e+03\n",
      "Trying  Clayton 0°\n"
     ]
    }
   ],
   "source": [
    "select_copula.select_copula_model(X,Y,0,exp_pref,'./imgs',n1,n2)"
   ]
  },
  {
   "cell_type": "code",
   "execution_count": null,
   "metadata": {},
   "outputs": [],
   "source": [
    "Y.shape"
   ]
  },
  {
   "cell_type": "code",
   "execution_count": null,
   "metadata": {},
   "outputs": [],
   "source": []
  }
 ],
 "metadata": {
  "kernelspec": {
   "display_name": "GPyTorch_new",
   "language": "python",
   "name": "gpytorch_new"
  },
  "language_info": {
   "codemirror_mode": {
    "name": "ipython",
    "version": 3
   },
   "file_extension": ".py",
   "mimetype": "text/x-python",
   "name": "python",
   "nbconvert_exporter": "python",
   "pygments_lexer": "ipython3",
   "version": "3.6.8"
  }
 },
 "nbformat": 4,
 "nbformat_minor": 2
}
